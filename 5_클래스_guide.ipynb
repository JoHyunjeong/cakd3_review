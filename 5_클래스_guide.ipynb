{
 "cells": [
  {
   "cell_type": "markdown",
   "id": "23c0e153",
   "metadata": {},
   "source": [
    "# 6/28"
   ]
  },
  {
   "cell_type": "markdown",
   "id": "90a0b14f",
   "metadata": {},
   "source": [
    "클래스  \n",
    "  \n",
    "class : 함수 + 변수 모아놓은 것  \n",
    "\n",
    "오브젝트(object) : 클래스를 써서 만든 것  \n",
    "\n",
    "오브젝트(object) == 인스턴스(instance)  \n",
    "\n",
    "클래스를 정의한 후, 그 클래스를 사용해서 데이터 객체(인스턴스)를 만들 수 있다.  \n",
    "\n",
    "동일한 클래스에 의해 만들어진 각 객체들은 유사한 특징을 공유한다.  \n",
    "\n",
    "모든 인스턴스에서 메서드(=코드)는 동일하지만, 속성(데이터)는 다르다.  \n",
    "\n",
    "- 메서드 : 코드\n",
    "- 속성 : 데이터\n",
    "- 인스턴스 : 클래스에 의해 만들어진 데이터 객체"
   ]
  },
  {
   "cell_type": "code",
   "execution_count": 1,
   "id": "03ec0169",
   "metadata": {},
   "outputs": [
    {
     "name": "stdout",
     "output_type": "stream",
     "text": [
      "안녕하세요\n",
      "안녕하세요\n"
     ]
    }
   ],
   "source": [
    "# 클래스 멤버, 클래스 메소드\n",
    "# 클래스를 구성하는 주요 요소는 멤버(변수)와 메소드(함수)로 클래스 공간내에서 정의\n",
    "# 클래스 메소드는 첫 번째 인자가 반드시 self로 시작\n",
    "# self는 이 클래스의 인스턴스 객체를 가리키는 참조자\n",
    "# 인스턴스 객체에서 클래스 메소드를 호출 시 첫 번째 인자인 self 생략\n",
    "\n",
    "### 클래스 이름은 대문자로 시작(카멜케이스)! 이렇게 안 쓰면 에러남.\n",
    "\n",
    "class MyClass:\n",
    "    var = '안녕하세요' # 클래스 멤버(변수)\n",
    "    def sayHello(self): # 클래스 메소드(함수)\n",
    "        return self.var\n",
    "\n",
    "obj = MyClass() ### obj는 MyClass의 인스턴스/ 여기서 self는 obj\n",
    "print(obj.var)\n",
    "print(obj.sayHello())\n",
    "\n",
    "### 객체 없이 클래스 쓸 수 없음.\n",
    "### print(obj) 하면 <__main__.MyClass object at 0x000002236FBFD4F0> 나오는데,\n",
    "### 여기서 __main__은 현재 실행공간. "
   ]
  },
  {
   "cell_type": "code",
   "execution_count": 2,
   "id": "393de0fa",
   "metadata": {},
   "outputs": [
    {
     "name": "stdout",
     "output_type": "stream",
     "text": [
      "안녕하세요\n",
      "안녕\n",
      "안녕하세요\n",
      "하이\n"
     ]
    }
   ],
   "source": [
    "# 클래스 멤버와 인스턴스 멤버\n",
    "# 클래스 멤버는 클래스 메소드 바깥에서 선언되고 인스턴스 멤버는 클래스 메소드 안에서\n",
    "# self와 함께 선언\n",
    "\n",
    "class MyClass:\n",
    "    var = '안녕하세요' # 클래스 멤버\n",
    "    def sayHello(self): # 클래스 메소드\n",
    "        param1 = '안녕' # 지역 변수\n",
    "        self.param2 = '하이' # 인스턴스 멤버\n",
    "        print(param1)\n",
    "        print(self.var)\n",
    "        print(self.param2)\n",
    "        \n",
    "        \n",
    "obj = MyClass()\n",
    "print(obj.var)\n",
    "obj.sayHello()\n",
    "# obj.param1\n",
    "        \n",
    "        ### 클래스 메소드 밖에 있으면 클래스 멤버, 클래스 메소드 안에있으면 인스턴스 멤버    \n",
    "        "
   ]
  },
  {
   "cell_type": "code",
   "execution_count": 3,
   "id": "d2d72be4",
   "metadata": {},
   "outputs": [
    {
     "name": "stdout",
     "output_type": "stream",
     "text": [
      "안녕하세요\n",
      "Kevin! 다음에 또 보자\n"
     ]
    }
   ],
   "source": [
    "# 클래스 메소드\n",
    "# 클래스 내에서 정의되는 클래스 메소드는 첫 번째 인자가 반드시 self여야 한다.\n",
    "\n",
    "class MyClass:\n",
    "    def sayHello(self):\n",
    "        print('안녕하세요')\n",
    "    def sayBye(self,name):\n",
    "        print('%s! 다음에 또 보자'%name)\n",
    "        \n",
    "obj1=MyClass()\n",
    "obj1.sayHello()\n",
    "obj1.sayBye('Kevin')"
   ]
  },
  {
   "cell_type": "code",
   "execution_count": 4,
   "id": "d3485a29",
   "metadata": {},
   "outputs": [
    {
     "name": "stdout",
     "output_type": "stream",
     "text": [
      "MyClass 인스턴스 객체가 생성되었습니다.\n"
     ]
    }
   ],
   "source": [
    "# 클래스 생성자(인자가 없는 경우)\n",
    "# 클래스 생성자는 클래스의 인스턴스 객체가 생성될 때 자동적으로 호출되는 메소드\n",
    "class MyClass:\n",
    "    def __init__(self):   # __init__은 생성자 / init은 initial에서 나옴. \n",
    "        self.var = '안녕하세요' # 인스턴스 멤버\n",
    "        print(\"MyClass 인스턴스 객체가 생성되었습니다.\") # 객체 생성하면 나옴.\n",
    "obj=MyClass()"
   ]
  },
  {
   "cell_type": "code",
   "execution_count": 5,
   "id": "b84cffa6",
   "metadata": {},
   "outputs": [
    {
     "name": "stdout",
     "output_type": "stream",
     "text": [
      "MyClass 인스턴스 객체가 생성되었습니다.\n",
      "안녕하세요\n"
     ]
    }
   ],
   "source": [
    "obj=MyClass()\n",
    "print(obj.var)"
   ]
  },
  {
   "cell_type": "markdown",
   "id": "69751c89",
   "metadata": {},
   "source": [
    "생성자가 없으면 메소드를 불러서 사용.   \n",
    "생성자가 있으면 클래스의 인스턴스 객체를 생성하자마자 나옴.  \n",
    "(생성자는 반드시 만들 필요는 없음. 필요할 때만 만들기)"
   ]
  },
  {
   "cell_type": "code",
   "execution_count": 6,
   "id": "7263dc6d",
   "metadata": {},
   "outputs": [
    {
     "name": "stdout",
     "output_type": "stream",
     "text": [
      "생성자 인자로 전달받은 값은 <kevin>입니다.\n",
      "kevin\n"
     ]
    }
   ],
   "source": [
    "# 클래스 생성자(인자가 있는 경우)\n",
    "class MyClass:\n",
    "    def __init__(self,txt):\n",
    "        self.var = txt # 인스턴스 멤버\n",
    "        print('생성자 인자로 전달받은 값은 <'+self.var+'>입니다.')\n",
    "\n",
    "obj = MyClass('kevin')\n",
    "print(obj.var)"
   ]
  },
  {
   "cell_type": "code",
   "execution_count": 7,
   "id": "dc994ec6",
   "metadata": {
    "scrolled": true
   },
   "outputs": [
    {
     "name": "stdout",
     "output_type": "stream",
     "text": [
      "<class '__main__.MyClass'>\n",
      "MyClass 인스턴스 객체가 메모리에서 제거됩니다.\n"
     ]
    },
    {
     "ename": "NameError",
     "evalue": "name 'obj' is not defined",
     "output_type": "error",
     "traceback": [
      "\u001b[0;31m---------------------------------------------------------------------------\u001b[0m",
      "\u001b[0;31mNameError\u001b[0m                                 Traceback (most recent call last)",
      "\u001b[0;32m/var/folders/gs/xm5833ws6f7361xlj18d2j140000gn/T/ipykernel_4056/371080234.py\u001b[0m in \u001b[0;36m<module>\u001b[0;34m\u001b[0m\n\u001b[1;32m      8\u001b[0m \u001b[0mprint\u001b[0m\u001b[0;34m(\u001b[0m\u001b[0mtype\u001b[0m\u001b[0;34m(\u001b[0m\u001b[0mobj\u001b[0m\u001b[0;34m)\u001b[0m\u001b[0;34m)\u001b[0m\u001b[0;34m\u001b[0m\u001b[0;34m\u001b[0m\u001b[0m\n\u001b[1;32m      9\u001b[0m \u001b[0;32mdel\u001b[0m \u001b[0mobj\u001b[0m\u001b[0;34m\u001b[0m\u001b[0;34m\u001b[0m\u001b[0m\n\u001b[0;32m---> 10\u001b[0;31m \u001b[0mprint\u001b[0m\u001b[0;34m(\u001b[0m\u001b[0mtype\u001b[0m\u001b[0;34m(\u001b[0m\u001b[0mobj\u001b[0m\u001b[0;34m)\u001b[0m\u001b[0;34m)\u001b[0m\u001b[0;34m\u001b[0m\u001b[0;34m\u001b[0m\u001b[0m\n\u001b[0m\u001b[1;32m     11\u001b[0m \u001b[0;31m### 이런게 있다는 것만 알아두기\u001b[0m\u001b[0;34m\u001b[0m\u001b[0;34m\u001b[0m\u001b[0;34m\u001b[0m\u001b[0m\n",
      "\u001b[0;31mNameError\u001b[0m: name 'obj' is not defined"
     ]
    }
   ],
   "source": [
    "# 클래스 소멸자\n",
    "# 클래스 인스턴스 객체가 메모리에서 제거될 때 자동으로 호출되는 클래스 메소드\n",
    "class MyClass:\n",
    "    def __del__(self):\n",
    "        print(\"MyClass 인스턴스 객체가 메모리에서 제거됩니다.\")\n",
    "        \n",
    "obj = MyClass()\n",
    "print(type(obj))\n",
    "del obj\n",
    "print(type(obj))\n",
    "### 이런게 있다는 것만 알아두기"
   ]
  },
  {
   "cell_type": "markdown",
   "id": "f606ae38",
   "metadata": {},
   "source": [
    "클래스 상속 : class 자식클래스(부모클래스)  \n",
    "어떤 클래스(부모)가 가지고 있는 모든 멤버나 메소드를 상속받는 클래스(자식)가 모두 사용할 수 있도록 해주는 것.  \n",
    "자식 클래스는 여러 부모 클래스로부터 상속받을 수 있으며 다중상속이라 함  \n",
    "(자바에서는 다중상속 허용 안 함)  \n",
    "class 자식클래스(부모클래스1,부모클래스2,...)"
   ]
  },
  {
   "cell_type": "code",
   "execution_count": 13,
   "id": "dc0dc0d0",
   "metadata": {},
   "outputs": [
    {
     "name": "stdout",
     "output_type": "stream",
     "text": [
      "3\n",
      "2\n",
      "2\n"
     ]
    }
   ],
   "source": [
    "# Q.더하기 Sum, 곱하기 Mul 클래스를 작성하고 \n",
    "# 상속을 받은 자식 클래스 Cal을 작성하여 (빼기 메서드를 추가)\n",
    "# 덧셈과 곱셈을 수행하세요.\n",
    "\n",
    "class Sum:\n",
    "    def sum(self,n1,n2):\n",
    "        return n1+n2\n",
    "\n",
    "class Mul:\n",
    "    def mul(self,n1,n2):\n",
    "        return n1*n2\n",
    "    \n",
    "class Cal(Sum,Mul):\n",
    "    def sub(self,n1,n2):\n",
    "        return n1-n2\n",
    "\n",
    "obj = Cal()\n",
    "print(obj.sum(1,2))\n",
    "print(obj.mul(1,2))\n",
    "print(obj.sub(5,3))"
   ]
  },
  {
   "cell_type": "code",
   "execution_count": 14,
   "id": "1b461021",
   "metadata": {},
   "outputs": [
    {
     "name": "stdout",
     "output_type": "stream",
     "text": [
      "Cal 인스턴스 객체가 생성되었습니다.\n",
      "15\n",
      "120\n"
     ]
    }
   ],
   "source": [
    "# Q.더하기 Sum, 곱하기 Mul 클래스를 작성하고 상속을 받은 자식 클래스 Cal을 작성하여\n",
    "# 덧셈과 곱셈을 수행하세요.\n",
    "\n",
    "class Sum:\n",
    "    def sum(self,*args):\n",
    "        result = 0\n",
    "        for i in args:\n",
    "            result+=i\n",
    "        return result\n",
    "    \n",
    "class Mul:\n",
    "    def mul(self,*args):\n",
    "        result = 1\n",
    "        for i in args:\n",
    "            result*=i\n",
    "        return result\n",
    "    \n",
    "class Cal(Sum,Mul):\n",
    "    def __init__(self):\n",
    "        print(\"Cal 인스턴스 객체가 생성되었습니다.\")\n",
    "\n",
    "A=Cal()\n",
    "\n",
    "print(A.sum(1,2,3,4,5))\n",
    "print(A.mul(1,2,3,4,5))"
   ]
  },
  {
   "cell_type": "code",
   "execution_count": 15,
   "id": "0543cdad",
   "metadata": {},
   "outputs": [
    {
     "name": "stdout",
     "output_type": "stream",
     "text": [
      "kevin, 안녕하세요\n",
      "kevin! 다음에 보자\n"
     ]
    }
   ],
   "source": [
    "# Q. 클래스 MyClass를 작성하고 객체를 생성하여 아래와 같이 출력하세요(생성자 사용)\n",
    "# Kevin, 안녕하세요\n",
    "# Kevin! 다음에 보자\n",
    "\n",
    "class MyClass:\n",
    "    def __init__(self,name):\n",
    "        self.name = name\n",
    "        \n",
    "    def say_Hello(self):\n",
    "        print(\"{}, 안녕하세요\".format(self.name))\n",
    "    \n",
    "    def say_Bye(self):\n",
    "        print(\"{}! 다음에 보자\".format(self.name))\n",
    "        \n",
    "Hi = MyClass('kevin')\n",
    "Hi.say_Hello()\n",
    "Hi.say_Bye()"
   ]
  },
  {
   "cell_type": "code",
   "execution_count": 16,
   "id": "4ed53554",
   "metadata": {},
   "outputs": [
    {
     "name": "stdout",
     "output_type": "stream",
     "text": [
      "kevin, 안녕하세요\n",
      "kevin! 다음에 보자\n"
     ]
    }
   ],
   "source": [
    "# 다른 풀이(생성자 사용 안한 경우)\n",
    "\n",
    "class MyClass:\n",
    "    def say_Hello(self,name):\n",
    "        print(\"{}, 안녕하세요\".format(name))\n",
    "    \n",
    "    def say_Bye(self,name):\n",
    "        print(\"{}! 다음에 보자\".format(name))\n",
    "        \n",
    "Hi = MyClass()\n",
    "Hi.say_Hello('kevin')\n",
    "Hi.say_Bye('kevin')"
   ]
  },
  {
   "cell_type": "code",
   "execution_count": 19,
   "id": "531b8e87",
   "metadata": {},
   "outputs": [
    {
     "name": "stdout",
     "output_type": "stream",
     "text": [
      "돈을 넣으세요: 1000\n",
      "가격: 2000원\n",
      "추가 가격을 입력해주세요> 1000\n",
      "가격: 2000원\n"
     ]
    }
   ],
   "source": [
    "# Q. 사용자 함수를 작성하여 \n",
    "# 기본가격 1000원에 입력 받은 값을 추가한 가격을 산출하세요.\n",
    "# (지역변수, 전역변수 2가지 방법)\n",
    "\n",
    "# 지역변수\n",
    "def add1():\n",
    "    result = int(input(\"돈을 넣으세요: \"))\n",
    "    return \"가격: {}원\".format(1000+result)\n",
    "print(add1())\n",
    "\n",
    "\n",
    "p = int(input('추가 가격을 입력해주세요> '))\n",
    "def price(p):\n",
    "    b = 1000\n",
    "    b += p\n",
    "    return b\n",
    "print('가격: {}원'.format(price(p)))"
   ]
  },
  {
   "cell_type": "code",
   "execution_count": 20,
   "id": "cc747453",
   "metadata": {},
   "outputs": [
    {
     "name": "stdout",
     "output_type": "stream",
     "text": [
      "돈을 넣으세요: 1500\n",
      "가격: 2500원\n",
      "추가 가격을 입력해주세요> 1500\n",
      "가격: 2500원\n"
     ]
    }
   ],
   "source": [
    "# 전역변수\n",
    "result = int(input(\"돈을 넣으세요: \"))\n",
    "def add2():\n",
    "    global result\n",
    "    return \"가격: {}원\".format(1000+result)\n",
    "print(add2())\n",
    "\n",
    "\n",
    "b = 1000\n",
    "def price():\n",
    "    global b\n",
    "    p = int(input(\"추가 가격을 입력해주세요> \"))\n",
    "    b += p\n",
    "    return b\n",
    "print(\"가격: {}원\".format(price()))"
   ]
  }
 ],
 "metadata": {
  "kernelspec": {
   "display_name": "Python 3 (ipykernel)",
   "language": "python",
   "name": "python3"
  },
  "language_info": {
   "codemirror_mode": {
    "name": "ipython",
    "version": 3
   },
   "file_extension": ".py",
   "mimetype": "text/x-python",
   "name": "python",
   "nbconvert_exporter": "python",
   "pygments_lexer": "ipython3",
   "version": "3.8.8"
  }
 },
 "nbformat": 4,
 "nbformat_minor": 5
}
