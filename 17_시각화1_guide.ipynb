{
 "cells": [
  {
   "cell_type": "markdown",
   "id": "6cdd8913",
   "metadata": {},
   "source": [
    "# 7/26"
   ]
  },
  {
   "cell_type": "markdown",
   "id": "203236e7",
   "metadata": {},
   "source": [
    "### 판다스 내장 그래프 도구\n",
    "- 판다스는 Matplotlib 라이브러리의 기능을 일부 내장하고 있어서 별도로 임포트하지 않고 간단히 그래프를 그릴 수 있음  \n",
    "- 선그래프 : df.plot() 메소드 적용시 다른 옵션을 추가하지 않으면 가장 기본적인 선 그래프를 그림.\n",
    "- 막대 그래프 : df.plot(kind='bar), df.plot(kind='barh', stacked=True, alpha=0.8) / barh 는 수평\n",
    "- 히스토그램 : df.plot(kind='hist') / 확률변수의 분포!\n",
    "- 산점도 : df.plot(x='', y='', kind='scatter'), 상관관계를 볼 수 있음. / x,y 값을 점으로 찍음!\n",
    "- 박스플롯 : df.plot(kind='box'), df.boxplot(column=['feature']) 특정 변수의 데이터 분포와 분산 정도에 대한 정보를 제공 / 이상치를 알 수 있음(IQR X 1.5 밖은 이상치)\n",
    "  \n",
    "### matplotlib  \n",
    "import matplotlib.pyplot as plt\n",
    "- histogram : plt.hist(x, bins= ) / bins : 몇 개로 나눌지\n",
    "- line plot : plt.plot(x,y)\n",
    "- plt.bar(x,y,width= ,color='')\n",
    "- scatter plot : plt.scatter(x,y):\n",
    "  \n",
    "### seaborn\n",
    "import seaborn as sns\n",
    "- sns.distplot(data, bins=, color=, kde=), histplot, displot으로 변경\n",
    "- sns.boxplot(x,y,data,color)\n",
    "- sns.violinplot(x,y,data,color) \n",
    "- sns.barplot(x,y,data,color)\n",
    "- sns.jointplot(x,y,data,color) / scatter, histo 등 종합\n",
    "- sns.pairplot(data,hue,palette) / 여러 산점도 동시에 나옴\n",
    "- sns.lmplot(x,y,data,color) / 회귀\n",
    "- sns.regplot(x,y,data,fig_reg=False) / 회귀"
   ]
  },
  {
   "cell_type": "markdown",
   "id": "b71bdacb",
   "metadata": {},
   "source": [
    "데이터 분석을 위한 시각화"
   ]
  },
  {
   "cell_type": "code",
   "execution_count": 1,
   "id": "82739756",
   "metadata": {},
   "outputs": [
    {
     "data": {
      "text/html": [
       "<div>\n",
       "<style scoped>\n",
       "    .dataframe tbody tr th:only-of-type {\n",
       "        vertical-align: middle;\n",
       "    }\n",
       "\n",
       "    .dataframe tbody tr th {\n",
       "        vertical-align: top;\n",
       "    }\n",
       "\n",
       "    .dataframe thead th {\n",
       "        text-align: right;\n",
       "    }\n",
       "</style>\n",
       "<table border=\"1\" class=\"dataframe\">\n",
       "  <thead>\n",
       "    <tr style=\"text-align: right;\">\n",
       "      <th></th>\n",
       "      <th>Date</th>\n",
       "      <th>Close</th>\n",
       "      <th>Start</th>\n",
       "      <th>High</th>\n",
       "      <th>Low</th>\n",
       "      <th>Volume</th>\n",
       "    </tr>\n",
       "  </thead>\n",
       "  <tbody>\n",
       "    <tr>\n",
       "      <th>0</th>\n",
       "      <td>2018-07-02</td>\n",
       "      <td>10100</td>\n",
       "      <td>10850</td>\n",
       "      <td>10900</td>\n",
       "      <td>10000</td>\n",
       "      <td>137977</td>\n",
       "    </tr>\n",
       "    <tr>\n",
       "      <th>1</th>\n",
       "      <td>2018-06-29</td>\n",
       "      <td>10700</td>\n",
       "      <td>10550</td>\n",
       "      <td>10900</td>\n",
       "      <td>9990</td>\n",
       "      <td>170253</td>\n",
       "    </tr>\n",
       "    <tr>\n",
       "      <th>2</th>\n",
       "      <td>2018-06-28</td>\n",
       "      <td>10400</td>\n",
       "      <td>10900</td>\n",
       "      <td>10950</td>\n",
       "      <td>10150</td>\n",
       "      <td>155769</td>\n",
       "    </tr>\n",
       "    <tr>\n",
       "      <th>3</th>\n",
       "      <td>2018-06-27</td>\n",
       "      <td>10900</td>\n",
       "      <td>10800</td>\n",
       "      <td>11050</td>\n",
       "      <td>10500</td>\n",
       "      <td>133548</td>\n",
       "    </tr>\n",
       "    <tr>\n",
       "      <th>4</th>\n",
       "      <td>2018-06-26</td>\n",
       "      <td>10800</td>\n",
       "      <td>10900</td>\n",
       "      <td>11000</td>\n",
       "      <td>10700</td>\n",
       "      <td>63039</td>\n",
       "    </tr>\n",
       "  </tbody>\n",
       "</table>\n",
       "</div>"
      ],
      "text/plain": [
       "         Date  Close  Start   High    Low  Volume\n",
       "0  2018-07-02  10100  10850  10900  10000  137977\n",
       "1  2018-06-29  10700  10550  10900   9990  170253\n",
       "2  2018-06-28  10400  10900  10950  10150  155769\n",
       "3  2018-06-27  10900  10800  11050  10500  133548\n",
       "4  2018-06-26  10800  10900  11000  10700   63039"
      ]
     },
     "execution_count": 1,
     "metadata": {},
     "output_type": "execute_result"
    }
   ],
   "source": [
    "import pandas as pd\n",
    "import numpy as np\n",
    "\n",
    "df = pd.read_csv('dataset/주가데이터.csv')\n",
    "df.head()"
   ]
  },
  {
   "cell_type": "code",
   "execution_count": 2,
   "id": "105ab6ad",
   "metadata": {},
   "outputs": [
    {
     "name": "stdout",
     "output_type": "stream",
     "text": [
      "<class 'pandas.core.frame.DataFrame'>\n",
      "RangeIndex: 20 entries, 0 to 19\n",
      "Data columns (total 6 columns):\n",
      " #   Column  Non-Null Count  Dtype \n",
      "---  ------  --------------  ----- \n",
      " 0   Date    20 non-null     object\n",
      " 1   Close   20 non-null     int64 \n",
      " 2   Start   20 non-null     int64 \n",
      " 3   High    20 non-null     int64 \n",
      " 4   Low     20 non-null     int64 \n",
      " 5   Volume  20 non-null     int64 \n",
      "dtypes: int64(5), object(1)\n",
      "memory usage: 1.1+ KB\n"
     ]
    }
   ],
   "source": [
    "df.info()"
   ]
  },
  {
   "cell_type": "code",
   "execution_count": 4,
   "id": "4655e8f1",
   "metadata": {},
   "outputs": [
    {
     "data": {
      "text/plain": [
       "<AxesSubplot:>"
      ]
     },
     "execution_count": 4,
     "metadata": {},
     "output_type": "execute_result"
    },
    {
     "data": {
      "image/png": "[encoded data removed]",
      "text/plain": [
       "<Figure size 432x288 with 1 Axes>"
      ]
     },
     "metadata": {
      "needs_background": "light"
     },
     "output_type": "display_data"
    }
   ],
   "source": [
    "df['Start'].plot(kind='line')"
   ]
  },
  {
   "cell_type": "code",
   "execution_count": 2,
   "id": "af25e331",
   "metadata": {},
   "outputs": [
    {
     "data": {
      "text/html": [
       "<div>\n",
       "<style scoped>\n",
       "    .dataframe tbody tr th:only-of-type {\n",
       "        vertical-align: middle;\n",
       "    }\n",
       "\n",
       "    .dataframe tbody tr th {\n",
       "        vertical-align: top;\n",
       "    }\n",
       "\n",
       "    .dataframe thead th {\n",
       "        text-align: right;\n",
       "    }\n",
       "</style>\n",
       "<table border=\"1\" class=\"dataframe\">\n",
       "  <thead>\n",
       "    <tr style=\"text-align: right;\">\n",
       "      <th></th>\n",
       "      <th>Close</th>\n",
       "      <th>Start</th>\n",
       "      <th>High</th>\n",
       "      <th>Low</th>\n",
       "    </tr>\n",
       "    <tr>\n",
       "      <th>Ndate</th>\n",
       "      <th></th>\n",
       "      <th></th>\n",
       "      <th></th>\n",
       "      <th></th>\n",
       "    </tr>\n",
       "  </thead>\n",
       "  <tbody>\n",
       "    <tr>\n",
       "      <th>2018-07-02</th>\n",
       "      <td>10100</td>\n",
       "      <td>10850</td>\n",
       "      <td>10900</td>\n",
       "      <td>10000</td>\n",
       "    </tr>\n",
       "    <tr>\n",
       "      <th>2018-06-29</th>\n",
       "      <td>10700</td>\n",
       "      <td>10550</td>\n",
       "      <td>10900</td>\n",
       "      <td>9990</td>\n",
       "    </tr>\n",
       "    <tr>\n",
       "      <th>2018-06-28</th>\n",
       "      <td>10400</td>\n",
       "      <td>10900</td>\n",
       "      <td>10950</td>\n",
       "      <td>10150</td>\n",
       "    </tr>\n",
       "    <tr>\n",
       "      <th>2018-06-27</th>\n",
       "      <td>10900</td>\n",
       "      <td>10800</td>\n",
       "      <td>11050</td>\n",
       "      <td>10500</td>\n",
       "    </tr>\n",
       "    <tr>\n",
       "      <th>2018-06-26</th>\n",
       "      <td>10800</td>\n",
       "      <td>10900</td>\n",
       "      <td>11000</td>\n",
       "      <td>10700</td>\n",
       "    </tr>\n",
       "  </tbody>\n",
       "</table>\n",
       "</div>"
      ],
      "text/plain": [
       "            Close  Start   High    Low\n",
       "Ndate                                 \n",
       "2018-07-02  10100  10850  10900  10000\n",
       "2018-06-29  10700  10550  10900   9990\n",
       "2018-06-28  10400  10900  10950  10150\n",
       "2018-06-27  10900  10800  11050  10500\n",
       "2018-06-26  10800  10900  11000  10700"
      ]
     },
     "execution_count": 2,
     "metadata": {},
     "output_type": "execute_result"
    }
   ],
   "source": [
    "# Q. NDate 칼럼을 datetime 타입으로 생성하고 인덱스로 셋팅하세요.\n",
    "# 컬럼 선택 : 'Close', 'Start', 'High', 'Low'\n",
    "df['Ndate'] = pd.to_datetime(df['Date'])\n",
    "df1 = df.set_index('Ndate')\n",
    "df1.drop(['Date','Volume'],axis=1, inplace=True)\n",
    "df1.head()"
   ]
  },
  {
   "cell_type": "code",
   "execution_count": 4,
   "id": "1f2ce1a9",
   "metadata": {},
   "outputs": [
    {
     "data": {
      "text/plain": [
       "<AxesSubplot:xlabel='Ndate'>"
      ]
     },
     "execution_count": 4,
     "metadata": {},
     "output_type": "execute_result"
    },
    {
     "data": {
      "image/png": "[encoded data removed]",
      "text/plain": [
       "<Figure size 432x288 with 1 Axes>"
      ]
     },
     "metadata": {
      "needs_background": "light"
     },
     "output_type": "display_data"
    }
   ],
   "source": [
    "# 선 그래프\n",
    "df1.plot() ### 아무것도 안하면 선그래프/ 범례 = legend"
   ]
  },
  {
   "cell_type": "code",
   "execution_count": 6,
   "id": "fab6c1e2",
   "metadata": {},
   "outputs": [
    {
     "data": {
      "text/plain": [
       "<AxesSubplot:xlabel='Ndate'>"
      ]
     },
     "execution_count": 6,
     "metadata": {},
     "output_type": "execute_result"
    },
    {
     "data": {
      "image/png": "[encoded data removed]",
      "text/plain": [
       "<Figure size 432x288 with 1 Axes>"
      ]
     },
     "metadata": {
      "needs_background": "light"
     },
     "output_type": "display_data"
    }
   ],
   "source": [
    "# 막대 그래프\n",
    "df1['Close'].plot(kind='bar')"
   ]
  },
  {
   "cell_type": "code",
   "execution_count": 8,
   "id": "e8870b5e",
   "metadata": {},
   "outputs": [
    {
     "data": {
      "text/plain": [
       "<AxesSubplot:xlabel='Ndate'>"
      ]
     },
     "execution_count": 8,
     "metadata": {},
     "output_type": "execute_result"
    },
    {
     "data": {
      "image/png": "[encoded data removed]",
      "text/plain": [
       "<Figure size 432x288 with 1 Axes>"
      ]
     },
     "metadata": {
      "needs_background": "light"
     },
     "output_type": "display_data"
    }
   ],
   "source": [
    "df1.Close[::-1].plot(kind='bar')"
   ]
  },
  {
   "cell_type": "code",
   "execution_count": 9,
   "id": "bd976bc7",
   "metadata": {},
   "outputs": [
    {
     "data": {
      "text/plain": [
       "<AxesSubplot:xlabel='Ndate'>"
      ]
     },
     "execution_count": 9,
     "metadata": {},
     "output_type": "execute_result"
    },
    {
     "data": {
      "image/png": "[encoded data removed]",
      "text/plain": [
       "<Figure size 432x288 with 1 Axes>"
      ]
     },
     "metadata": {
      "needs_background": "light"
     },
     "output_type": "display_data"
    }
   ],
   "source": [
    "# Q. 6월만을 추출하여 Close 칼럼으로 일별 막대 그래프를 표현하세요.\n",
    "# df1.Close['2018-06'][::-1].plot(kind='bar')\n",
    "\n",
    "# df1['2018-6']\n",
    "\n",
    "df1.loc['2018-6','Close'][::-1].plot(kind='bar')"
   ]
  },
  {
   "cell_type": "code",
   "execution_count": 10,
   "id": "8c4ea8b9",
   "metadata": {},
   "outputs": [
    {
     "data": {
      "text/plain": [
       "11950    3\n",
       "11300    2\n",
       "11900    2\n",
       "10400    1\n",
       "13450    1\n",
       "10700    1\n",
       "11150    1\n",
       "10800    1\n",
       "12000    1\n",
       "13200    1\n",
       "10100    1\n",
       "12150    1\n",
       "13400    1\n",
       "11200    1\n",
       "10900    1\n",
       "11550    1\n",
       "Name: Close, dtype: int64"
      ]
     },
     "execution_count": 10,
     "metadata": {},
     "output_type": "execute_result"
    }
   ],
   "source": [
    "df1.Close.value_counts()"
   ]
  },
  {
   "cell_type": "code",
   "execution_count": 11,
   "id": "157e449c",
   "metadata": {},
   "outputs": [
    {
     "data": {
      "text/plain": [
       "<AxesSubplot:ylabel='Frequency'>"
      ]
     },
     "execution_count": 11,
     "metadata": {},
     "output_type": "execute_result"
    },
    {
     "data": {
      "image/png": "[encoded data removed]",
      "text/plain": [
       "<Figure size 432x288 with 1 Axes>"
      ]
     },
     "metadata": {
      "needs_background": "light"
     },
     "output_type": "display_data"
    }
   ],
   "source": [
    "df1.Close.plot(kind='hist', bins=10) ### 분포 보기, bins는 전체 구간을 몇 개로 나눌지"
   ]
  },
  {
   "cell_type": "code",
   "execution_count": 12,
   "id": "c45d1702",
   "metadata": {},
   "outputs": [
    {
     "data": {
      "text/plain": [
       "<AxesSubplot:ylabel='Frequency'>"
      ]
     },
     "execution_count": 12,
     "metadata": {},
     "output_type": "execute_result"
    },
    {
     "data": {
      "image/png": "[encoded data removed]",
      "text/plain": [
       "<Figure size 432x288 with 1 Axes>"
      ]
     },
     "metadata": {
      "needs_background": "light"
     },
     "output_type": "display_data"
    }
   ],
   "source": [
    "# Q. df에서 Volume 칼럼의 분포를 탐색하는 히스토그램을 표현하세요.\n",
    "df.Volume.plot(kind='hist')"
   ]
  },
  {
   "cell_type": "code",
   "execution_count": 13,
   "id": "20e96d84",
   "metadata": {},
   "outputs": [
    {
     "data": {
      "text/plain": [
       "<AxesSubplot:xlabel='Close', ylabel='Volume'>"
      ]
     },
     "execution_count": 13,
     "metadata": {},
     "output_type": "execute_result"
    },
    {
     "data": {
      "image/png": "[encoded data removed]",
      "text/plain": [
       "<Figure size 432x288 with 1 Axes>"
      ]
     },
     "metadata": {
      "needs_background": "light"
     },
     "output_type": "display_data"
    }
   ],
   "source": [
    "# Q. Close 컬럼과 Volume 칼럼으로 산점도를 표현하세요.\n",
    "df.plot(x='Close',y='Volume',kind='scatter')"
   ]
  },
  {
   "cell_type": "code",
   "execution_count": 14,
   "id": "beb8b354",
   "metadata": {},
   "outputs": [
    {
     "data": {
      "text/html": [
       "<div>\n",
       "<style scoped>\n",
       "    .dataframe tbody tr th:only-of-type {\n",
       "        vertical-align: middle;\n",
       "    }\n",
       "\n",
       "    .dataframe tbody tr th {\n",
       "        vertical-align: top;\n",
       "    }\n",
       "\n",
       "    .dataframe thead th {\n",
       "        text-align: right;\n",
       "    }\n",
       "</style>\n",
       "<table border=\"1\" class=\"dataframe\">\n",
       "  <thead>\n",
       "    <tr style=\"text-align: right;\">\n",
       "      <th></th>\n",
       "      <th>Close</th>\n",
       "      <th>Start</th>\n",
       "      <th>High</th>\n",
       "      <th>Low</th>\n",
       "      <th>Volume</th>\n",
       "    </tr>\n",
       "  </thead>\n",
       "  <tbody>\n",
       "    <tr>\n",
       "      <th>Close</th>\n",
       "      <td>1.000000</td>\n",
       "      <td>0.856181</td>\n",
       "      <td>0.941201</td>\n",
       "      <td>0.946297</td>\n",
       "      <td>0.441466</td>\n",
       "    </tr>\n",
       "    <tr>\n",
       "      <th>Start</th>\n",
       "      <td>0.856181</td>\n",
       "      <td>1.000000</td>\n",
       "      <td>0.961009</td>\n",
       "      <td>0.921467</td>\n",
       "      <td>0.337829</td>\n",
       "    </tr>\n",
       "    <tr>\n",
       "      <th>High</th>\n",
       "      <td>0.941201</td>\n",
       "      <td>0.961009</td>\n",
       "      <td>1.000000</td>\n",
       "      <td>0.945487</td>\n",
       "      <td>0.484145</td>\n",
       "    </tr>\n",
       "    <tr>\n",
       "      <th>Low</th>\n",
       "      <td>0.946297</td>\n",
       "      <td>0.921467</td>\n",
       "      <td>0.945487</td>\n",
       "      <td>1.000000</td>\n",
       "      <td>0.246323</td>\n",
       "    </tr>\n",
       "    <tr>\n",
       "      <th>Volume</th>\n",
       "      <td>0.441466</td>\n",
       "      <td>0.337829</td>\n",
       "      <td>0.484145</td>\n",
       "      <td>0.246323</td>\n",
       "      <td>1.000000</td>\n",
       "    </tr>\n",
       "  </tbody>\n",
       "</table>\n",
       "</div>"
      ],
      "text/plain": [
       "           Close     Start      High       Low    Volume\n",
       "Close   1.000000  0.856181  0.941201  0.946297  0.441466\n",
       "Start   0.856181  1.000000  0.961009  0.921467  0.337829\n",
       "High    0.941201  0.961009  1.000000  0.945487  0.484145\n",
       "Low     0.946297  0.921467  0.945487  1.000000  0.246323\n",
       "Volume  0.441466  0.337829  0.484145  0.246323  1.000000"
      ]
     },
     "execution_count": 14,
     "metadata": {},
     "output_type": "execute_result"
    }
   ],
   "source": [
    "df.corr()"
   ]
  },
  {
   "cell_type": "code",
   "execution_count": 15,
   "id": "b6f50b65",
   "metadata": {},
   "outputs": [],
   "source": [
    "# Q. Close 칼럼의 Box Plot 을 표현하세요."
   ]
  },
  {
   "cell_type": "code",
   "execution_count": 16,
   "id": "d9294bdb",
   "metadata": {},
   "outputs": [
    {
     "data": {
      "text/plain": [
       "<AxesSubplot:>"
      ]
     },
     "execution_count": 16,
     "metadata": {},
     "output_type": "execute_result"
    },
    {
     "data": {
      "image/png": "[encoded data removed]",
      "text/plain": [
       "<Figure size 432x288 with 1 Axes>"
      ]
     },
     "metadata": {
      "needs_background": "light"
     },
     "output_type": "display_data"
    }
   ],
   "source": [
    "df.Close.plot(kind='box')"
   ]
  },
  {
   "cell_type": "markdown",
   "id": "714adc0b",
   "metadata": {},
   "source": [
    "Box plot 의미 해석\n",
    "- 중앙값\n",
    "- IQR(Inter Quartile Range) : 제 3사분위수 - 제 1사분위수\n",
    "- lower whisker : Q1 - 1.5 x IQR 이내인 값 중에서 최솟값\n",
    "- upper whisker : Q3 + 1.5 x IQR 이내인 값 중에서 최댓값\n",
    "- 이상치 : lower whisker, upper whisker를 벗어나는 값"
   ]
  },
  {
   "cell_type": "code",
   "execution_count": 17,
   "id": "9c85cb6f",
   "metadata": {},
   "outputs": [],
   "source": [
    "# Q. Close 칼럼의 이상치를 구하세요."
   ]
  },
  {
   "cell_type": "code",
   "execution_count": 18,
   "id": "ba89e3a7",
   "metadata": {},
   "outputs": [
    {
     "data": {
      "text/plain": [
       "count       20.000000\n",
       "mean     11662.500000\n",
       "std        927.060294\n",
       "min      10100.000000\n",
       "25%      11087.500000\n",
       "50%      11725.000000\n",
       "75%      11962.500000\n",
       "max      13450.000000\n",
       "Name: Close, dtype: float64"
      ]
     },
     "execution_count": 18,
     "metadata": {},
     "output_type": "execute_result"
    }
   ],
   "source": [
    "df.Close.describe()"
   ]
  },
  {
   "cell_type": "code",
   "execution_count": 19,
   "id": "062024b5",
   "metadata": {},
   "outputs": [
    {
     "data": {
      "text/html": [
       "<div>\n",
       "<style scoped>\n",
       "    .dataframe tbody tr th:only-of-type {\n",
       "        vertical-align: middle;\n",
       "    }\n",
       "\n",
       "    .dataframe tbody tr th {\n",
       "        vertical-align: top;\n",
       "    }\n",
       "\n",
       "    .dataframe thead th {\n",
       "        text-align: right;\n",
       "    }\n",
       "</style>\n",
       "<table border=\"1\" class=\"dataframe\">\n",
       "  <thead>\n",
       "    <tr style=\"text-align: right;\">\n",
       "      <th></th>\n",
       "      <th>Date</th>\n",
       "      <th>Close</th>\n",
       "      <th>Start</th>\n",
       "      <th>High</th>\n",
       "      <th>Low</th>\n",
       "      <th>Volume</th>\n",
       "      <th>Ndate</th>\n",
       "    </tr>\n",
       "  </thead>\n",
       "  <tbody>\n",
       "    <tr>\n",
       "      <th>11</th>\n",
       "      <td>2018-06-15</td>\n",
       "      <td>13400</td>\n",
       "      <td>13600</td>\n",
       "      <td>13600</td>\n",
       "      <td>12900</td>\n",
       "      <td>201376</td>\n",
       "      <td>2018-06-15</td>\n",
       "    </tr>\n",
       "    <tr>\n",
       "      <th>12</th>\n",
       "      <td>2018-06-14</td>\n",
       "      <td>13450</td>\n",
       "      <td>13200</td>\n",
       "      <td>13700</td>\n",
       "      <td>13150</td>\n",
       "      <td>347451</td>\n",
       "      <td>2018-06-14</td>\n",
       "    </tr>\n",
       "  </tbody>\n",
       "</table>\n",
       "</div>"
      ],
      "text/plain": [
       "          Date  Close  Start   High    Low  Volume      Ndate\n",
       "11  2018-06-15  13400  13600  13600  12900  201376 2018-06-15\n",
       "12  2018-06-14  13450  13200  13700  13150  347451 2018-06-14"
      ]
     },
     "execution_count": 19,
     "metadata": {},
     "output_type": "execute_result"
    }
   ],
   "source": [
    "Q1 = df.Close.describe()['25%']\n",
    "Q3 = df.Close.describe()['75%']\n",
    "IQR = Q3 - Q1\n",
    "outlier = df[(df['Close']<=(Q1-IQR*1.5))|((Q3+IQR*1.5)<=df['Close'])]\n",
    "outlier\n",
    "# IQR*1.5 범위 이내에서의 최솟값과 최대값이 LW, UW가 됨.\n",
    "# 그 범위를 벗어나면 이상치"
   ]
  },
  {
   "cell_type": "code",
   "execution_count": 20,
   "id": "39d82dea",
   "metadata": {},
   "outputs": [
    {
     "data": {
      "text/html": [
       "<div>\n",
       "<style scoped>\n",
       "    .dataframe tbody tr th:only-of-type {\n",
       "        vertical-align: middle;\n",
       "    }\n",
       "\n",
       "    .dataframe tbody tr th {\n",
       "        vertical-align: top;\n",
       "    }\n",
       "\n",
       "    .dataframe thead th {\n",
       "        text-align: right;\n",
       "    }\n",
       "</style>\n",
       "<table border=\"1\" class=\"dataframe\">\n",
       "  <thead>\n",
       "    <tr style=\"text-align: right;\">\n",
       "      <th></th>\n",
       "      <th>Date</th>\n",
       "      <th>Close</th>\n",
       "      <th>Start</th>\n",
       "      <th>High</th>\n",
       "      <th>Low</th>\n",
       "      <th>Volume</th>\n",
       "      <th>Ndate</th>\n",
       "    </tr>\n",
       "  </thead>\n",
       "  <tbody>\n",
       "    <tr>\n",
       "      <th>11</th>\n",
       "      <td>2018-06-15</td>\n",
       "      <td>13400</td>\n",
       "      <td>13600</td>\n",
       "      <td>13600</td>\n",
       "      <td>12900</td>\n",
       "      <td>201376</td>\n",
       "      <td>2018-06-15</td>\n",
       "    </tr>\n",
       "    <tr>\n",
       "      <th>12</th>\n",
       "      <td>2018-06-14</td>\n",
       "      <td>13450</td>\n",
       "      <td>13200</td>\n",
       "      <td>13700</td>\n",
       "      <td>13150</td>\n",
       "      <td>347451</td>\n",
       "      <td>2018-06-14</td>\n",
       "    </tr>\n",
       "  </tbody>\n",
       "</table>\n",
       "</div>"
      ],
      "text/plain": [
       "          Date  Close  Start   High    Low  Volume      Ndate\n",
       "11  2018-06-15  13400  13600  13600  12900  201376 2018-06-15\n",
       "12  2018-06-14  13450  13200  13700  13150  347451 2018-06-14"
      ]
     },
     "execution_count": 20,
     "metadata": {},
     "output_type": "execute_result"
    }
   ],
   "source": [
    "Q1 = df.Close.describe()['25%']\n",
    "Q3 = df.Close.describe()['75%']\n",
    "IQR = Q3 - Q1\n",
    "\n",
    "LW = df[df['Close']>Q1 - IQR*1.5]['Close'].min()\n",
    "UW = df[Q3 + IQR*1.5>df['Close']]['Close'].max()\n",
    "\n",
    "outlier = df[(df['Close']>UW)|(df['Close']<LW)]\n",
    "outlier"
   ]
  },
  {
   "cell_type": "code",
   "execution_count": 21,
   "id": "95a5a6a4",
   "metadata": {
    "scrolled": true
   },
   "outputs": [
    {
     "name": "stdout",
     "output_type": "stream",
     "text": [
      "13275.0 \n",
      "\n",
      "12    13450\n",
      "11    13400\n",
      "13    13200\n",
      "17    12150\n",
      "10    12000\n",
      "Name: Close, dtype: int64 \n",
      "\n"
     ]
    },
    {
     "data": {
      "text/plain": [
       "11    13400\n",
       "12    13450\n",
       "Name: Close, dtype: int64"
      ]
     },
     "execution_count": 21,
     "metadata": {},
     "output_type": "execute_result"
    }
   ],
   "source": [
    "# 선생님\n",
    "iqr = 11962.500000 - 11087.500000\n",
    "uw_check = 11962.500000 + iqr*1.5\n",
    "print(uw_check, '\\n')\n",
    "c = df.Close.sort_values(ascending=False)\n",
    "print(c[:5],'\\n')\n",
    "df.Close[df.Close >= uw_check]"
   ]
  },
  {
   "cell_type": "code",
   "execution_count": 22,
   "id": "75972aec",
   "metadata": {},
   "outputs": [],
   "source": [
    "# 과제\n",
    "# Q. Start 칼럼의 분포 및 이상치 여부를 탐색하는 Box Plot 및 이상치를 구하세요"
   ]
  },
  {
   "cell_type": "code",
   "execution_count": 7,
   "id": "14e2edea",
   "metadata": {},
   "outputs": [
    {
     "data": {
      "text/plain": [
       "<AxesSubplot:>"
      ]
     },
     "execution_count": 7,
     "metadata": {},
     "output_type": "execute_result"
    },
    {
     "data": {
      "image/png": "[encoded data removed]",
      "text/plain": [
       "<Figure size 432x288 with 1 Axes>"
      ]
     },
     "metadata": {
      "needs_background": "light"
     },
     "output_type": "display_data"
    }
   ],
   "source": [
    "df.Start.plot(kind='box')"
   ]
  },
  {
   "cell_type": "code",
   "execution_count": 22,
   "id": "79038651",
   "metadata": {},
   "outputs": [
    {
     "data": {
      "text/plain": [
       "11    13600\n",
       "Name: Start, dtype: int64"
      ]
     },
     "execution_count": 22,
     "metadata": {},
     "output_type": "execute_result"
    }
   ],
   "source": [
    "Q1 = df.Start.describe()['25%']\n",
    "Q3 = df.Start.describe()['75%']\n",
    "IQR = Q3-Q1\n",
    "LW = df[df['Start'] >= Q1-IQR*1.5]['Start'].min()\n",
    "UW = df[df['Start'] <= Q3+IQR*1.5]['Start'].max()\n",
    "outlier = df[(df['Start']>UW)|(df['Start']<LW)]['Start']\n",
    "outlier"
   ]
  },
  {
   "cell_type": "code",
   "execution_count": 24,
   "id": "c0262699",
   "metadata": {},
   "outputs": [
    {
     "data": {
      "text/html": [
       "<div>\n",
       "<style scoped>\n",
       "    .dataframe tbody tr th:only-of-type {\n",
       "        vertical-align: middle;\n",
       "    }\n",
       "\n",
       "    .dataframe tbody tr th {\n",
       "        vertical-align: top;\n",
       "    }\n",
       "\n",
       "    .dataframe thead th {\n",
       "        text-align: right;\n",
       "    }\n",
       "</style>\n",
       "<table border=\"1\" class=\"dataframe\">\n",
       "  <thead>\n",
       "    <tr style=\"text-align: right;\">\n",
       "      <th></th>\n",
       "      <th>Date</th>\n",
       "      <th>Close</th>\n",
       "      <th>Start</th>\n",
       "      <th>High</th>\n",
       "      <th>Low</th>\n",
       "      <th>Volume</th>\n",
       "      <th>Ndate</th>\n",
       "    </tr>\n",
       "  </thead>\n",
       "  <tbody>\n",
       "    <tr>\n",
       "      <th>11</th>\n",
       "      <td>2018-06-15</td>\n",
       "      <td>13400</td>\n",
       "      <td>13600</td>\n",
       "      <td>13600</td>\n",
       "      <td>12900</td>\n",
       "      <td>201376</td>\n",
       "      <td>2018-06-15</td>\n",
       "    </tr>\n",
       "  </tbody>\n",
       "</table>\n",
       "</div>"
      ],
      "text/plain": [
       "          Date  Close  Start   High    Low  Volume      Ndate\n",
       "11  2018-06-15  13400  13600  13600  12900  201376 2018-06-15"
      ]
     },
     "execution_count": 24,
     "metadata": {},
     "output_type": "execute_result"
    }
   ],
   "source": [
    "Q1 = df.Start.describe()['25%']\n",
    "Q3 = df.Start.describe()['75%']\n",
    "IQR = Q3 - Q1\n",
    "\n",
    "LW = df[df['Start']>Q1 - IQR*1.5]['Start'].min()\n",
    "UW = df[Q3 + IQR*1.5>df['Start']]['Start'].max()\n",
    "\n",
    "outlier = df[(df['Start']>UW)|(df['Start']<LW)]\n",
    "outlier"
   ]
  },
  {
   "cell_type": "code",
   "execution_count": 23,
   "id": "0bb456f0",
   "metadata": {},
   "outputs": [
    {
     "data": {
      "text/html": [
       "<div>\n",
       "<style scoped>\n",
       "    .dataframe tbody tr th:only-of-type {\n",
       "        vertical-align: middle;\n",
       "    }\n",
       "\n",
       "    .dataframe tbody tr th {\n",
       "        vertical-align: top;\n",
       "    }\n",
       "\n",
       "    .dataframe thead th {\n",
       "        text-align: right;\n",
       "    }\n",
       "</style>\n",
       "<table border=\"1\" class=\"dataframe\">\n",
       "  <thead>\n",
       "    <tr style=\"text-align: right;\">\n",
       "      <th></th>\n",
       "      <th>year</th>\n",
       "      <th>south</th>\n",
       "      <th>north</th>\n",
       "    </tr>\n",
       "  </thead>\n",
       "  <tbody>\n",
       "    <tr>\n",
       "      <th>0</th>\n",
       "      <td>1990</td>\n",
       "      <td>1077</td>\n",
       "      <td>277</td>\n",
       "    </tr>\n",
       "    <tr>\n",
       "      <th>1</th>\n",
       "      <td>1991</td>\n",
       "      <td>1186</td>\n",
       "      <td>263</td>\n",
       "    </tr>\n",
       "    <tr>\n",
       "      <th>2</th>\n",
       "      <td>1992</td>\n",
       "      <td>1310</td>\n",
       "      <td>247</td>\n",
       "    </tr>\n",
       "    <tr>\n",
       "      <th>3</th>\n",
       "      <td>1993</td>\n",
       "      <td>1444</td>\n",
       "      <td>221</td>\n",
       "    </tr>\n",
       "    <tr>\n",
       "      <th>4</th>\n",
       "      <td>1994</td>\n",
       "      <td>1650</td>\n",
       "      <td>231</td>\n",
       "    </tr>\n",
       "  </tbody>\n",
       "</table>\n",
       "</div>"
      ],
      "text/plain": [
       "   year  south  north\n",
       "0  1990   1077    277\n",
       "1  1991   1186    263\n",
       "2  1992   1310    247\n",
       "3  1993   1444    221\n",
       "4  1994   1650    231"
      ]
     },
     "execution_count": 23,
     "metadata": {},
     "output_type": "execute_result"
    }
   ],
   "source": [
    "df_ep = pd.read_excel('dataset/df_ep.xlsx')\n",
    "df_ep.head()"
   ]
  },
  {
   "cell_type": "code",
   "execution_count": 24,
   "id": "d9f2a796",
   "metadata": {},
   "outputs": [
    {
     "data": {
      "text/plain": [
       "<AxesSubplot:xlabel='year'>"
      ]
     },
     "execution_count": 24,
     "metadata": {},
     "output_type": "execute_result"
    },
    {
     "data": {
      "image/png": "[encoded data removed]",
      "text/plain": [
       "<Figure size 432x288 with 1 Axes>"
      ]
     },
     "metadata": {
      "needs_background": "light"
     },
     "output_type": "display_data"
    }
   ],
   "source": [
    "df_ep.set_index('year', inplace=True)\n",
    "df_ep.plot()"
   ]
  },
  {
   "cell_type": "code",
   "execution_count": 27,
   "id": "9a393692",
   "metadata": {},
   "outputs": [
    {
     "data": {
      "text/plain": [
       "<AxesSubplot:xlabel='year'>"
      ]
     },
     "execution_count": 27,
     "metadata": {},
     "output_type": "execute_result"
    },
    {
     "data": {
      "image/png": "[encoded data removed]",
      "text/plain": [
       "<Figure size 432x288 with 1 Axes>"
      ]
     },
     "metadata": {
      "needs_background": "light"
     },
     "output_type": "display_data"
    }
   ],
   "source": [
    "df_ep.plot(kind='bar')"
   ]
  },
  {
   "cell_type": "code",
   "execution_count": 44,
   "id": "198ef9e4",
   "metadata": {},
   "outputs": [
    {
     "data": {
      "text/plain": [
       "<AxesSubplot:xlabel='year'>"
      ]
     },
     "execution_count": 44,
     "metadata": {},
     "output_type": "execute_result"
    },
    {
     "data": {
      "image/png": "[encoded data removed]",
      "text/plain": [
       "<Figure size 432x288 with 1 Axes>"
      ]
     },
     "metadata": {
      "needs_background": "light"
     },
     "output_type": "display_data"
    }
   ],
   "source": [
    "df_ep['south'].plot(kind='bar')"
   ]
  },
  {
   "cell_type": "code",
   "execution_count": 45,
   "id": "76deb496",
   "metadata": {},
   "outputs": [
    {
     "data": {
      "text/plain": [
       "<AxesSubplot:xlabel='year'>"
      ]
     },
     "execution_count": 45,
     "metadata": {},
     "output_type": "execute_result"
    },
    {
     "data": {
      "image/png": "[encoded data removed]",
      "text/plain": [
       "<Figure size 432x288 with 1 Axes>"
      ]
     },
     "metadata": {
      "needs_background": "light"
     },
     "output_type": "display_data"
    }
   ],
   "source": [
    "df_ep['north'].plot(kind='bar')"
   ]
  },
  {
   "cell_type": "code",
   "execution_count": 28,
   "id": "ed4c8f43",
   "metadata": {},
   "outputs": [
    {
     "data": {
      "text/plain": [
       "<AxesSubplot:ylabel='year'>"
      ]
     },
     "execution_count": 28,
     "metadata": {},
     "output_type": "execute_result"
    },
    {
     "data": {
      "image/png": "[encoded data removed]",
      "text/plain": [
       "<Figure size 432x288 with 1 Axes>"
      ]
     },
     "metadata": {
      "needs_background": "light"
     },
     "output_type": "display_data"
    }
   ],
   "source": [
    "df_ep.plot(kind='barh')"
   ]
  },
  {
   "cell_type": "code",
   "execution_count": 43,
   "id": "ba7d506b",
   "metadata": {},
   "outputs": [
    {
     "data": {
      "text/plain": [
       "<AxesSubplot:ylabel='Frequency'>"
      ]
     },
     "execution_count": 43,
     "metadata": {},
     "output_type": "execute_result"
    },
    {
     "data": {
      "image/png": "[encoded data removed]",
      "text/plain": [
       "<Figure size 432x288 with 1 Axes>"
      ]
     },
     "metadata": {
      "needs_background": "light"
     },
     "output_type": "display_data"
    }
   ],
   "source": [
    "df_ep['south'].plot(kind='hist', bins=20)"
   ]
  },
  {
   "cell_type": "code",
   "execution_count": 42,
   "id": "c741d85c",
   "metadata": {},
   "outputs": [
    {
     "data": {
      "text/plain": [
       "<AxesSubplot:ylabel='Frequency'>"
      ]
     },
     "execution_count": 42,
     "metadata": {},
     "output_type": "execute_result"
    },
    {
     "data": {
      "image/png": "[encoded data removed]",
      "text/plain": [
       "<Figure size 432x288 with 1 Axes>"
      ]
     },
     "metadata": {
      "needs_background": "light"
     },
     "output_type": "display_data"
    }
   ],
   "source": [
    "df_ep['north'].plot(kind='hist', bins=20)"
   ]
  },
  {
   "cell_type": "code",
   "execution_count": 30,
   "id": "ac1aa74f",
   "metadata": {
    "scrolled": true
   },
   "outputs": [
    {
     "data": {
      "text/plain": [
       "<AxesSubplot:>"
      ]
     },
     "execution_count": 30,
     "metadata": {},
     "output_type": "execute_result"
    },
    {
     "data": {
      "image/png": "[encoded data removed]",
      "text/plain": [
       "<Figure size 432x288 with 1 Axes>"
      ]
     },
     "metadata": {
      "needs_background": "light"
     },
     "output_type": "display_data"
    }
   ],
   "source": [
    "df_ep.plot(kind='box')"
   ]
  },
  {
   "cell_type": "code",
   "execution_count": 34,
   "id": "bb6bd8e3",
   "metadata": {},
   "outputs": [
    {
     "data": {
      "text/plain": [
       "<AxesSubplot:>"
      ]
     },
     "execution_count": 34,
     "metadata": {},
     "output_type": "execute_result"
    },
    {
     "data": {
      "image/png": "[encoded data removed]",
      "text/plain": [
       "<Figure size 432x288 with 1 Axes>"
      ]
     },
     "metadata": {
      "needs_background": "light"
     },
     "output_type": "display_data"
    }
   ],
   "source": [
    "df_ep['south'].plot(kind='box')"
   ]
  },
  {
   "cell_type": "code",
   "execution_count": 35,
   "id": "7444b905",
   "metadata": {},
   "outputs": [
    {
     "data": {
      "text/plain": [
       "<AxesSubplot:>"
      ]
     },
     "execution_count": 35,
     "metadata": {},
     "output_type": "execute_result"
    },
    {
     "data": {
      "image/png": "[encoded data removed]",
      "text/plain": [
       "<Figure size 432x288 with 1 Axes>"
      ]
     },
     "metadata": {
      "needs_background": "light"
     },
     "output_type": "display_data"
    }
   ],
   "source": [
    "df_ep['north'].plot(kind='box')"
   ]
  },
  {
   "cell_type": "markdown",
   "id": "9728713b",
   "metadata": {},
   "source": [
    "# 7/27"
   ]
  },
  {
   "cell_type": "code",
   "execution_count": 27,
   "id": "effee0a5",
   "metadata": {},
   "outputs": [
    {
     "data": {
      "text/html": [
       "<div>\n",
       "<style scoped>\n",
       "    .dataframe tbody tr th:only-of-type {\n",
       "        vertical-align: middle;\n",
       "    }\n",
       "\n",
       "    .dataframe tbody tr th {\n",
       "        vertical-align: top;\n",
       "    }\n",
       "\n",
       "    .dataframe thead th {\n",
       "        text-align: right;\n",
       "    }\n",
       "</style>\n",
       "<table border=\"1\" class=\"dataframe\">\n",
       "  <thead>\n",
       "    <tr style=\"text-align: right;\">\n",
       "      <th></th>\n",
       "      <th>species</th>\n",
       "      <th>length</th>\n",
       "    </tr>\n",
       "  </thead>\n",
       "  <tbody>\n",
       "    <tr>\n",
       "      <th>0</th>\n",
       "      <td>A</td>\n",
       "      <td>2</td>\n",
       "    </tr>\n",
       "    <tr>\n",
       "      <th>1</th>\n",
       "      <td>A</td>\n",
       "      <td>3</td>\n",
       "    </tr>\n",
       "    <tr>\n",
       "      <th>2</th>\n",
       "      <td>A</td>\n",
       "      <td>3</td>\n",
       "    </tr>\n",
       "    <tr>\n",
       "      <th>3</th>\n",
       "      <td>A</td>\n",
       "      <td>4</td>\n",
       "    </tr>\n",
       "    <tr>\n",
       "      <th>4</th>\n",
       "      <td>A</td>\n",
       "      <td>4</td>\n",
       "    </tr>\n",
       "  </tbody>\n",
       "</table>\n",
       "</div>"
      ],
      "text/plain": [
       "  species  length\n",
       "0       A       2\n",
       "1       A       3\n",
       "2       A       3\n",
       "3       A       4\n",
       "4       A       4"
      ]
     },
     "execution_count": 27,
     "metadata": {},
     "output_type": "execute_result"
    }
   ],
   "source": [
    "import pandas as pd\n",
    "import numpy as np\n",
    "\n",
    "fish_multi = pd.read_csv('dataset/4_fm2.csv')\n",
    "fish_multi.head()"
   ]
  },
  {
   "cell_type": "code",
   "execution_count": 28,
   "id": "c3cbe4d9",
   "metadata": {},
   "outputs": [
    {
     "data": {
      "text/plain": [
       "<AxesSubplot:xlabel='species', ylabel='length'>"
      ]
     },
     "execution_count": 28,
     "metadata": {},
     "output_type": "execute_result"
    },
    {
     "data": {
      "image/png": "[encoded data removed]",
      "text/plain": [
       "<Figure size 432x288 with 1 Axes>"
      ]
     },
     "metadata": {
      "needs_background": "light"
     },
     "output_type": "display_data"
    }
   ],
   "source": [
    "# fish_multi.groupby('species').plot(kind='box')\n",
    "\n",
    "import seaborn as sns\n",
    "sns.boxplot(x='species', y='length', data=fish_multi, color='skyblue') # 따로 만들기 / color옵션 없으면 색 다르게 나옴"
   ]
  },
  {
   "cell_type": "code",
   "execution_count": 64,
   "id": "e15346f9",
   "metadata": {},
   "outputs": [],
   "source": [
    "# sns.boxplot(x='species', y='length', data=fish_multi, palette=('skyblue','yellow')) #색 옵션 따로 설정"
   ]
  },
  {
   "cell_type": "code",
   "execution_count": 29,
   "id": "a8032791",
   "metadata": {},
   "outputs": [
    {
     "data": {
      "text/html": [
       "<div>\n",
       "<style scoped>\n",
       "    .dataframe tbody tr th:only-of-type {\n",
       "        vertical-align: middle;\n",
       "    }\n",
       "\n",
       "    .dataframe tbody tr th {\n",
       "        vertical-align: top;\n",
       "    }\n",
       "\n",
       "    .dataframe thead tr th {\n",
       "        text-align: left;\n",
       "    }\n",
       "\n",
       "    .dataframe thead tr:last-of-type th {\n",
       "        text-align: right;\n",
       "    }\n",
       "</style>\n",
       "<table border=\"1\" class=\"dataframe\">\n",
       "  <thead>\n",
       "    <tr>\n",
       "      <th></th>\n",
       "      <th colspan=\"8\" halign=\"left\">length</th>\n",
       "    </tr>\n",
       "    <tr>\n",
       "      <th></th>\n",
       "      <th>count</th>\n",
       "      <th>mean</th>\n",
       "      <th>std</th>\n",
       "      <th>min</th>\n",
       "      <th>25%</th>\n",
       "      <th>50%</th>\n",
       "      <th>75%</th>\n",
       "      <th>max</th>\n",
       "    </tr>\n",
       "    <tr>\n",
       "      <th>species</th>\n",
       "      <th></th>\n",
       "      <th></th>\n",
       "      <th></th>\n",
       "      <th></th>\n",
       "      <th></th>\n",
       "      <th></th>\n",
       "      <th></th>\n",
       "      <th></th>\n",
       "    </tr>\n",
       "  </thead>\n",
       "  <tbody>\n",
       "    <tr>\n",
       "      <th>A</th>\n",
       "      <td>10.0</td>\n",
       "      <td>4.0</td>\n",
       "      <td>1.154701</td>\n",
       "      <td>2.0</td>\n",
       "      <td>3.25</td>\n",
       "      <td>4.0</td>\n",
       "      <td>4.75</td>\n",
       "      <td>6.0</td>\n",
       "    </tr>\n",
       "    <tr>\n",
       "      <th>B</th>\n",
       "      <td>10.0</td>\n",
       "      <td>7.0</td>\n",
       "      <td>1.154701</td>\n",
       "      <td>5.0</td>\n",
       "      <td>6.25</td>\n",
       "      <td>7.0</td>\n",
       "      <td>7.75</td>\n",
       "      <td>9.0</td>\n",
       "    </tr>\n",
       "  </tbody>\n",
       "</table>\n",
       "</div>"
      ],
      "text/plain": [
       "        length                                          \n",
       "         count mean       std  min   25%  50%   75%  max\n",
       "species                                                 \n",
       "A         10.0  4.0  1.154701  2.0  3.25  4.0  4.75  6.0\n",
       "B         10.0  7.0  1.154701  5.0  6.25  7.0  7.75  9.0"
      ]
     },
     "execution_count": 29,
     "metadata": {},
     "output_type": "execute_result"
    }
   ],
   "source": [
    "fish_multi.groupby('species').describe()"
   ]
  },
  {
   "cell_type": "code",
   "execution_count": 30,
   "id": "daaff70d",
   "metadata": {},
   "outputs": [
    {
     "data": {
      "text/html": [
       "<div>\n",
       "<style scoped>\n",
       "    .dataframe tbody tr th:only-of-type {\n",
       "        vertical-align: middle;\n",
       "    }\n",
       "\n",
       "    .dataframe tbody tr th {\n",
       "        vertical-align: top;\n",
       "    }\n",
       "\n",
       "    .dataframe thead tr th {\n",
       "        text-align: left;\n",
       "    }\n",
       "\n",
       "    .dataframe thead tr:last-of-type th {\n",
       "        text-align: right;\n",
       "    }\n",
       "</style>\n",
       "<table border=\"1\" class=\"dataframe\">\n",
       "  <thead>\n",
       "    <tr>\n",
       "      <th></th>\n",
       "      <th colspan=\"8\" halign=\"left\">length</th>\n",
       "    </tr>\n",
       "    <tr>\n",
       "      <th></th>\n",
       "      <th>count</th>\n",
       "      <th>mean</th>\n",
       "      <th>std</th>\n",
       "      <th>min</th>\n",
       "      <th>25%</th>\n",
       "      <th>50%</th>\n",
       "      <th>75%</th>\n",
       "      <th>max</th>\n",
       "    </tr>\n",
       "    <tr>\n",
       "      <th>species</th>\n",
       "      <th></th>\n",
       "      <th></th>\n",
       "      <th></th>\n",
       "      <th></th>\n",
       "      <th></th>\n",
       "      <th></th>\n",
       "      <th></th>\n",
       "      <th></th>\n",
       "    </tr>\n",
       "  </thead>\n",
       "  <tbody>\n",
       "    <tr>\n",
       "      <th>A</th>\n",
       "      <td>10.0</td>\n",
       "      <td>4.6</td>\n",
       "      <td>2.221111</td>\n",
       "      <td>2.0</td>\n",
       "      <td>3.25</td>\n",
       "      <td>4.0</td>\n",
       "      <td>5.00</td>\n",
       "      <td>10.0</td>\n",
       "    </tr>\n",
       "    <tr>\n",
       "      <th>B</th>\n",
       "      <td>10.0</td>\n",
       "      <td>6.7</td>\n",
       "      <td>1.888562</td>\n",
       "      <td>2.0</td>\n",
       "      <td>6.25</td>\n",
       "      <td>7.0</td>\n",
       "      <td>7.75</td>\n",
       "      <td>9.0</td>\n",
       "    </tr>\n",
       "  </tbody>\n",
       "</table>\n",
       "</div>"
      ],
      "text/plain": [
       "        length                                           \n",
       "         count mean       std  min   25%  50%   75%   max\n",
       "species                                                  \n",
       "A         10.0  4.6  2.221111  2.0  3.25  4.0  5.00  10.0\n",
       "B         10.0  6.7  1.888562  2.0  6.25  7.0  7.75   9.0"
      ]
     },
     "execution_count": 30,
     "metadata": {},
     "output_type": "execute_result"
    }
   ],
   "source": [
    "fish_multi.iloc[5,1] = 10\n",
    "fish_multi.iloc [10,1] =  2\n",
    "fish_multi.groupby('species').describe()"
   ]
  },
  {
   "cell_type": "code",
   "execution_count": 36,
   "id": "cfe7f523",
   "metadata": {},
   "outputs": [],
   "source": [
    "# 과제\n",
    "# Q. A,B 그룹의 Box Plot을 그리고 이상치를 구하세요."
   ]
  },
  {
   "cell_type": "code",
   "execution_count": 31,
   "id": "8237d7e6",
   "metadata": {},
   "outputs": [
    {
     "data": {
      "text/plain": [
       "<AxesSubplot:xlabel='species', ylabel='length'>"
      ]
     },
     "execution_count": 31,
     "metadata": {},
     "output_type": "execute_result"
    },
    {
     "data": {
      "image/png": "[encoded data removed]",
      "text/plain": [
       "<Figure size 432x288 with 1 Axes>"
      ]
     },
     "metadata": {
      "needs_background": "light"
     },
     "output_type": "display_data"
    }
   ],
   "source": [
    "# Box Plot 그리기\n",
    "import seaborn as sns\n",
    "sns.set_palette('pastel')\n",
    "sns.boxplot(x='species',y='length', data=fish_multi, color='darkorange')"
   ]
  },
  {
   "cell_type": "code",
   "execution_count": 32,
   "id": "36d8f602",
   "metadata": {},
   "outputs": [
    {
     "name": "stdout",
     "output_type": "stream",
     "text": [
      "  species  length\n",
      "5       A      10\n",
      "   species  length\n",
      "10       B       2\n"
     ]
    }
   ],
   "source": [
    "# 이상치 구하기\n",
    "\n",
    "# A 이상치\n",
    "fish_s = fish_multi.groupby('species')\n",
    "A_df = fish_s.get_group('A')\n",
    "A = fish_s.describe().iloc[0]['length']\n",
    "A_Q1 = A['25%']\n",
    "A_Q3 = A['75%']\n",
    "A_IQR = A_Q3 - A_Q1\n",
    "A_UW = A_df[A_df['length'] <= A_Q3 + A_IQR*1.5]['length'].max()\n",
    "A_LW = A_df[A_df['length'] >= A_Q1 - A_IQR*1.5]['length'].min()\n",
    "A_outlier = A_df[(A_df['length'] > A_UW) | (A_df['length'] < A_LW)]\n",
    "if len(A_outlier)==0:\n",
    "    print('A : 이상치 없음')\n",
    "else:\n",
    "    print(A_outlier)\n",
    "\n",
    "# B 이상치\n",
    "B_df = fish_s.get_group('B')\n",
    "B = fish_s.describe().iloc[1]['length']\n",
    "B_Q1 = B['25%']\n",
    "B_Q3 = B['75%']\n",
    "B_IQR = B_Q3 - B_Q1\n",
    "B_UW = B_df[B_df['length'] <= B_Q3 + B_IQR*1.5]['length'].max()\n",
    "B_LW = B_df[B_df['length'] >= B_Q1 - B_IQR*1.5]['length'].min()\n",
    "B_outlier = B_df[(B_df['length'] > B_UW) | (B_df['length'] < B_LW)]\n",
    "if len(B_outlier)==0:\n",
    "    print('B : 이상치 없음')\n",
    "else:\n",
    "    print(B_outlier)"
   ]
  },
  {
   "cell_type": "code",
   "execution_count": 77,
   "id": "8353354c",
   "metadata": {},
   "outputs": [
    {
     "name": "stdout",
     "output_type": "stream",
     "text": [
      "          Num\n",
      "0  671.942680\n",
      "1  762.826416\n",
      "2  412.998273\n",
      "3  722.246973\n",
      "4  337.914566\n"
     ]
    },
    {
     "data": {
      "text/html": [
       "<div>\n",
       "<style scoped>\n",
       "    .dataframe tbody tr th:only-of-type {\n",
       "        vertical-align: middle;\n",
       "    }\n",
       "\n",
       "    .dataframe tbody tr th {\n",
       "        vertical-align: top;\n",
       "    }\n",
       "\n",
       "    .dataframe thead th {\n",
       "        text-align: right;\n",
       "    }\n",
       "</style>\n",
       "<table border=\"1\" class=\"dataframe\">\n",
       "  <thead>\n",
       "    <tr style=\"text-align: right;\">\n",
       "      <th></th>\n",
       "      <th>Num</th>\n",
       "    </tr>\n",
       "  </thead>\n",
       "  <tbody>\n",
       "    <tr>\n",
       "      <th>count</th>\n",
       "      <td>10000.000000</td>\n",
       "    </tr>\n",
       "    <tr>\n",
       "      <th>mean</th>\n",
       "      <td>498.505749</td>\n",
       "    </tr>\n",
       "    <tr>\n",
       "      <th>std</th>\n",
       "      <td>286.570566</td>\n",
       "    </tr>\n",
       "    <tr>\n",
       "      <th>min</th>\n",
       "      <td>0.056960</td>\n",
       "    </tr>\n",
       "    <tr>\n",
       "      <th>25%</th>\n",
       "      <td>252.525420</td>\n",
       "    </tr>\n",
       "    <tr>\n",
       "      <th>50%</th>\n",
       "      <td>495.124532</td>\n",
       "    </tr>\n",
       "    <tr>\n",
       "      <th>75%</th>\n",
       "      <td>747.068678</td>\n",
       "    </tr>\n",
       "    <tr>\n",
       "      <th>max</th>\n",
       "      <td>999.761807</td>\n",
       "    </tr>\n",
       "  </tbody>\n",
       "</table>\n",
       "</div>"
      ],
      "text/plain": [
       "                Num\n",
       "count  10000.000000\n",
       "mean     498.505749\n",
       "std      286.570566\n",
       "min        0.056960\n",
       "25%      252.525420\n",
       "50%      495.124532\n",
       "75%      747.068678\n",
       "max      999.761807"
      ]
     },
     "execution_count": 77,
     "metadata": {},
     "output_type": "execute_result"
    }
   ],
   "source": [
    "# Q. 1000사이의 균일분포를 이루는 난수 생성\n",
    "data = np.random.rand(10000)*1000 # rand는 0.0~1.0 사이의 균일분포(실수) -> 1000 곱해줌. 0.0~ 1000.0\n",
    "data[:10]\n",
    "df = pd.DataFrame(data, columns = ['Num'])\n",
    "print(df.head())\n",
    "df.describe()"
   ]
  },
  {
   "cell_type": "code",
   "execution_count": 80,
   "id": "22eca093",
   "metadata": {},
   "outputs": [
    {
     "data": {
      "text/plain": [
       "<AxesSubplot:ylabel='Frequency'>"
      ]
     },
     "execution_count": 80,
     "metadata": {},
     "output_type": "execute_result"
    },
    {
     "data": {
      "image/png": "[encoded data removed]",
      "text/plain": [
       "<Figure size 432x288 with 1 Axes>"
      ]
     },
     "metadata": {
      "needs_background": "light"
     },
     "output_type": "display_data"
    }
   ],
   "source": [
    "df.plot(kind='hist')"
   ]
  },
  {
   "cell_type": "code",
   "execution_count": 103,
   "id": "4d43d1b6",
   "metadata": {
    "scrolled": false
   },
   "outputs": [
    {
     "name": "stdout",
     "output_type": "stream",
     "text": [
      "                Num\n",
      "count  10000.000000\n",
      "mean       0.009435\n",
      "std        1.001239\n",
      "min       -3.451403\n",
      "25%       -0.672294\n",
      "50%        0.018803\n",
      "75%        0.688683\n",
      "max        4.168118\n",
      "        Num\n",
      "0 -0.122474\n",
      "1  0.228170\n",
      "2 -0.352305\n",
      "3 -0.830553\n",
      "4 -0.261090\n"
     ]
    },
    {
     "data": {
      "text/plain": [
       "<AxesSubplot:ylabel='Frequency'>"
      ]
     },
     "execution_count": 103,
     "metadata": {},
     "output_type": "execute_result"
    },
    {
     "data": {
      "image/png": "[encoded data removed]",
      "text/plain": [
       "<Figure size 432x288 with 1 Axes>"
      ]
     },
     "metadata": {
      "needs_background": "light"
     },
     "output_type": "display_data"
    }
   ],
   "source": [
    "# Q. 평균 0, 표준편차 1인 표준정규분포 난수 10000개 데이터프레임 생성,\n",
    "# 통계요약표 및 시각화를 (컬럼명 'Num')\n",
    "data1 = np.random.randn(10000)\n",
    "df1 = pd.DataFrame(data1, columns=['Num'])\n",
    "print(df1.describe())\n",
    "print(df1.head())\n",
    "df1.plot(kind='hist', bins=50)"
   ]
  },
  {
   "cell_type": "code",
   "execution_count": 96,
   "id": "da8ebe55",
   "metadata": {},
   "outputs": [
    {
     "name": "stdout",
     "output_type": "stream",
     "text": [
      "         Num\n",
      "0  13.248691\n",
      "1   8.776487\n",
      "2   8.943656\n",
      "3   7.854063\n",
      "4  11.730815\n",
      "                Num\n",
      "count  10000.000000\n",
      "mean      10.019545\n",
      "std        1.997672\n",
      "min        2.687120\n",
      "25%        8.674150\n",
      "50%       10.016908\n",
      "75%       11.343618\n",
      "max       18.053698\n"
     ]
    },
    {
     "data": {
      "text/plain": [
       "<AxesSubplot:ylabel='Frequency'>"
      ]
     },
     "execution_count": 96,
     "metadata": {},
     "output_type": "execute_result"
    },
    {
     "data": {
      "image/png": "[encoded data removed]",
      "text/plain": [
       "<Figure size 432x288 with 1 Axes>"
      ]
     },
     "metadata": {
      "needs_background": "light"
     },
     "output_type": "display_data"
    }
   ],
   "source": [
    "from scipy import stats\n",
    "np.random.seed(1)\n",
    "sample1 = stats.norm.rvs(loc=10,scale=2,size=10000) # loc:평균 10 / scale:표준편차 2 / 샘플 10000개\n",
    "df1 = pd.DataFrame(sample1, columns=['Num'])\n",
    "print(df1.head())\n",
    "print(df1.describe())\n",
    "df1.plot(kind='hist', bins=50)"
   ]
  },
  {
   "cell_type": "code",
   "execution_count": 2,
   "id": "c1731a7c",
   "metadata": {},
   "outputs": [
    {
     "data": {
      "text/plain": [
       "<AxesSubplot:>"
      ]
     },
     "execution_count": 2,
     "metadata": {},
     "output_type": "execute_result"
    },
    {
     "data": {
      "image/png": "[encoded data removed]",
      "text/plain": [
       "<Figure size 432x288 with 2 Axes>"
      ]
     },
     "metadata": {
      "needs_background": "light"
     },
     "output_type": "display_data"
    }
   ],
   "source": [
    "import matplotlib.pyplot as plt\n",
    "fig,axes = plt.subplots(2,1) # 2행 1열\n",
    "data = pd.Series(np.random.rand(16), index=list('abcdefghijklmnop'))\n",
    "data.plot.bar(ax=axes[0],color='k',alpha=0.5) # alpha 투명도 / color k 블랙\n",
    "data.plot.barh(ax=axes[1],color='k',alpha=0.7)"
   ]
  },
  {
   "cell_type": "code",
   "execution_count": 88,
   "id": "24f0a175",
   "metadata": {},
   "outputs": [
    {
     "data": {
      "text/plain": [
       "<AxesSubplot:>"
      ]
     },
     "execution_count": 88,
     "metadata": {},
     "output_type": "execute_result"
    },
    {
     "data": {
      "image/png": "[encoded data removed]",
      "text/plain": [
       "<Figure size 432x288 with 4 Axes>"
      ]
     },
     "metadata": {
      "needs_background": "light"
     },
     "output_type": "display_data"
    }
   ],
   "source": [
    "import matplotlib.pyplot as plt\n",
    "fig,axes = plt.subplots(2,2) # 그래프를 2행 2열\n",
    "data = pd.Series(np.random.rand(16), index=list('abcdefghijklmnop'))\n",
    "data.plot.bar(ax=axes[0,0],color='k',alpha=0.5) # alpha 투명도 / color k 블랙\n",
    "data.plot.barh(ax=axes[0,1],color='k',alpha=0.7)\n",
    "data.plot.bar(ax=axes[1,0],color='k',alpha=0.7)\n",
    "data.plot.barh(ax=axes[1,1],color='k',alpha=0.7)"
   ]
  },
  {
   "cell_type": "code",
   "execution_count": 105,
   "id": "f810614f",
   "metadata": {},
   "outputs": [
    {
     "name": "stdout",
     "output_type": "stream",
     "text": [
      "              A         B         C         D\n",
      "one    0.014888  0.951948  0.736155  0.000311\n",
      "two    0.161438  0.103647  0.039424  0.408380\n",
      "three  0.902127  0.178761  0.958175  0.832635\n",
      "four   0.529371  0.503711  0.489320  0.906172\n",
      "five   0.752909  0.463238  0.789614  0.323568\n",
      "six    0.376184  0.671471  0.659312  0.920530\n"
     ]
    }
   ],
   "source": [
    "df = pd.DataFrame(np.random.rand(6,4),\n",
    "                 index = ['one','two','three','four','five','six'],\n",
    "                 columns = ['A','B','C','D'])\n",
    "print(df)"
   ]
  },
  {
   "cell_type": "code",
   "execution_count": 106,
   "id": "44f7d93e",
   "metadata": {},
   "outputs": [
    {
     "data": {
      "text/plain": [
       "<AxesSubplot:>"
      ]
     },
     "execution_count": 106,
     "metadata": {},
     "output_type": "execute_result"
    },
    {
     "data": {
      "image/png": "[encoded data removed]",
      "text/plain": [
       "<Figure size 432x288 with 1 Axes>"
      ]
     },
     "metadata": {
      "needs_background": "light"
     },
     "output_type": "display_data"
    }
   ],
   "source": [
    "df.plot(kind='bar')"
   ]
  },
  {
   "cell_type": "code",
   "execution_count": 107,
   "id": "2dca8e28",
   "metadata": {},
   "outputs": [
    {
     "data": {
      "text/plain": [
       "<AxesSubplot:>"
      ]
     },
     "execution_count": 107,
     "metadata": {},
     "output_type": "execute_result"
    },
    {
     "data": {
      "image/png": "[encoded data removed]",
      "text/plain": [
       "<Figure size 432x288 with 1 Axes>"
      ]
     },
     "metadata": {
      "needs_background": "light"
     },
     "output_type": "display_data"
    }
   ],
   "source": [
    "df.plot(kind='barh')"
   ]
  },
  {
   "cell_type": "code",
   "execution_count": 108,
   "id": "bce39b4f",
   "metadata": {},
   "outputs": [
    {
     "data": {
      "text/plain": [
       "<AxesSubplot:>"
      ]
     },
     "execution_count": 108,
     "metadata": {},
     "output_type": "execute_result"
    },
    {
     "data": {
      "image/png": "[encoded data removed]",
      "text/plain": [
       "<Figure size 432x288 with 1 Axes>"
      ]
     },
     "metadata": {
      "needs_background": "light"
     },
     "output_type": "display_data"
    }
   ],
   "source": [
    "df[::-1].plot(kind = 'barh') # 순서 반대"
   ]
  },
  {
   "cell_type": "code",
   "execution_count": 109,
   "id": "665c79a3",
   "metadata": {},
   "outputs": [
    {
     "data": {
      "text/plain": [
       "<AxesSubplot:>"
      ]
     },
     "execution_count": 109,
     "metadata": {},
     "output_type": "execute_result"
    },
    {
     "data": {
      "image/png": "[encoded data removed]",
      "text/plain": [
       "<Figure size 432x288 with 1 Axes>"
      ]
     },
     "metadata": {
      "needs_background": "light"
     },
     "output_type": "display_data"
    }
   ],
   "source": [
    "df.plot(kind='barh',stacked=True, alpha=0.8) # stack에 하면 전체를 알 수 있음!"
   ]
  },
  {
   "cell_type": "code",
   "execution_count": 1,
   "id": "a5ae3b10",
   "metadata": {},
   "outputs": [
    {
     "data": {
      "text/plain": [
       "<matplotlib.legend.Legend at 0x2d9b63cb670>"
      ]
     },
     "execution_count": 1,
     "metadata": {},
     "output_type": "execute_result"
    },
    {
     "data": {
      "image/png": "[encoded data removed]",
      "text/plain": [
       "<Figure size 720x360 with 1 Axes>"
      ]
     },
     "metadata": {
      "needs_background": "light"
     },
     "output_type": "display_data"
    }
   ],
   "source": [
    "import numpy as np\n",
    "import matplotlib.pyplot as plt\n",
    "\n",
    "x = np.arange(1,21,2)\n",
    "y = np.array([3,5,6,13,30,21,22,29,33,32])\n",
    "plt.figure(figsize=(10,5)) # figsize 그림사이즈\n",
    "plt.plot(x,y,color='blue',marker='o',markersize=5)\n",
    "plt.title('Lineplot Matplotlib', size = 20)\n",
    "plt.xlabel('x',size=15)\n",
    "plt.ylabel('y',size=15)\n",
    "plt.legend(labels=['lineplot']) # legend 범례(라인에 대한 설명)"
   ]
  },
  {
   "cell_type": "code",
   "execution_count": 14,
   "id": "510f03d4",
   "metadata": {},
   "outputs": [
    {
     "data": {
      "text/plain": [
       "<matplotlib.legend.Legend at 0x2d9b6c09ac0>"
      ]
     },
     "execution_count": 14,
     "metadata": {},
     "output_type": "execute_result"
    },
    {
     "data": {
      "image/png": "[encoded data removed]",
      "text/plain": [
       "<Figure size 576x432 with 1 Axes>"
      ]
     },
     "metadata": {
      "needs_background": "light"
     },
     "output_type": "display_data"
    }
   ],
   "source": [
    "np.random.seed(0)\n",
    "x = np.arange(20)\n",
    "# y1 = np.arange(20)*2 # <- 편차 안주면 직선\n",
    "y1 = np.arange(20)*2 + np.random.randn(20)*10 # <- 편차 더 줌\n",
    "y2 = np.arange(20)*2 + np.random.randn(20) # <- 편차 줌\n",
    "plt.figure(figsize=(8,6))\n",
    "plt.plot(x,y1)\n",
    "plt.plot(x,y2, color='magenta',marker='o',markersize=5)\n",
    "plt.xlabel('x',size=20)\n",
    "plt.ylabel('y',size=20)\n",
    "plt.title('Line Graph',size=30)\n",
    "plt.legend(labels=['A','B'])"
   ]
  },
  {
   "cell_type": "code",
   "execution_count": 30,
   "id": "2ead8e65",
   "metadata": {},
   "outputs": [
    {
     "name": "stdout",
     "output_type": "stream",
     "text": [
      "range(0, 10)\n",
      "[3 2 2 6 5 5 3 8 7 9]\n"
     ]
    },
    {
     "data": {
      "text/plain": [
       "Text(0.5, 0, 'x')"
      ]
     },
     "execution_count": 30,
     "metadata": {},
     "output_type": "execute_result"
    },
    {
     "data": {
      "image/png": "[encoded data removed]",
      "text/plain": [
       "<Figure size 576x288 with 1 Axes>"
      ]
     },
     "metadata": {
      "needs_background": "light"
     },
     "output_type": "display_data"
    }
   ],
   "source": [
    "# 막대 그래프\n",
    "y = np.random.randint(2,10,size=10)\n",
    "x = range(len(y))\n",
    "print(x)\n",
    "print(y)\n",
    "plt.figure(figsize=(8,4))\n",
    "plt.bar(x,y,width=0.8,color='skyblue') # width 막대그래프 넓이\n",
    "plt.ylabel('y')\n",
    "plt.xlabel('x')"
   ]
  },
  {
   "cell_type": "code",
   "execution_count": 32,
   "id": "ffafaddc",
   "metadata": {},
   "outputs": [
    {
     "data": {
      "text/plain": [
       "<matplotlib.collections.PathCollection at 0x2d9b917ae80>"
      ]
     },
     "execution_count": 32,
     "metadata": {},
     "output_type": "execute_result"
    },
    {
     "data": {
      "image/png": "[encoded data removed]",
      "text/plain": [
       "<Figure size 576x432 with 1 Axes>"
      ]
     },
     "metadata": {
      "needs_background": "light"
     },
     "output_type": "display_data"
    }
   ],
   "source": [
    "import pandas as pd\n",
    "# scatter plot\n",
    "df_auto = pd.read_excel('dataset/auto-mpg.xlsx')\n",
    "x = df_auto.mpg\n",
    "y = df_auto.weight\n",
    "plt.figure(figsize=(8,6))\n",
    "plt.scatter(x,y,color='blue')"
   ]
  },
  {
   "cell_type": "code",
   "execution_count": 33,
   "id": "0236820e",
   "metadata": {},
   "outputs": [
    {
     "data": {
      "text/plain": [
       "(array([ 3., 10., 40., 38., 36., 37., 30., 31., 21., 33., 24., 24., 20.,\n",
       "        18., 13.,  9.,  4.,  1.,  5.,  1.]),\n",
       " array([ 9.  , 10.88, 12.76, 14.64, 16.52, 18.4 , 20.28, 22.16, 24.04,\n",
       "        25.92, 27.8 , 29.68, 31.56, 33.44, 35.32, 37.2 , 39.08, 40.96,\n",
       "        42.84, 44.72, 46.6 ]),\n",
       " <BarContainer object of 20 artists>)"
      ]
     },
     "execution_count": 33,
     "metadata": {},
     "output_type": "execute_result"
    },
    {
     "data": {
      "image/png": "[encoded data removed]",
      "text/plain": [
       "<Figure size 432x288 with 1 Axes>"
      ]
     },
     "metadata": {
      "needs_background": "light"
     },
     "output_type": "display_data"
    }
   ],
   "source": [
    "# histogram\n",
    "plt.hist(df_auto.mpg, bins=20, color='hotpink')"
   ]
  },
  {
   "cell_type": "code",
   "execution_count": 36,
   "id": "e2b03728",
   "metadata": {
    "scrolled": false
   },
   "outputs": [
    {
     "data": {
      "text/plain": [
       "<BarContainer object of 10 artists>"
      ]
     },
     "execution_count": 36,
     "metadata": {},
     "output_type": "execute_result"
    },
    {
     "data": {
      "image/png": "[encoded data removed]",
      "text/plain": [
       "<Figure size 864x576 with 4 Axes>"
      ]
     },
     "metadata": {
      "needs_background": "light"
     },
     "output_type": "display_data"
    }
   ],
   "source": [
    "fig = plt.figure(figsize=(12,8))\n",
    "ax1 = fig.add_subplot(2,2,1) # 2행 2열 중에 첫번 째\n",
    "ax2 = fig.add_subplot(2,2,2) # 2행 2열 중에 두번 째\n",
    "ax3 = fig.add_subplot(2,2,3) # 2행 2열 중에 세번 째\n",
    "ax4 = fig.add_subplot(2,2,4) # 2행 2열 중에 네번 째\n",
    "\n",
    "ax1.hist(np.random.randn(100), bins=20, color='green', alpha=0.7)\n",
    "ax2.scatter(x = np.arange(100), y = np.arange(100) + np.random.randn(100)*20, color = 'orange',marker='*')\n",
    "ax3.plot(np.random.rand(50).cumsum(),'r:')\n",
    "ax4.bar(np.arange(10),np.random.randint(15,30, 10), color='y',alpha=0.4)"
   ]
  },
  {
   "cell_type": "code",
   "execution_count": 53,
   "id": "41c813bd",
   "metadata": {},
   "outputs": [],
   "source": [
    "# 과제\n",
    "# Q. 히스토그램, 선, 막대, 산점도 그래프 4개를 서브플롯으로 출력하세요/"
   ]
  },
  {
   "cell_type": "code",
   "execution_count": 41,
   "id": "e4e5b496",
   "metadata": {},
   "outputs": [
    {
     "data": {
      "text/plain": [
       "(array([5.00000e+00, 6.00000e+00, 3.20000e+01, 7.10000e+01, 1.99000e+02,\n",
       "        4.59000e+02, 9.97000e+02, 2.31100e+03, 4.71500e+03, 9.20200e+03,\n",
       "        1.75570e+04, 3.10890e+04, 5.41480e+04, 8.84920e+04, 1.37362e+05,\n",
       "        2.03675e+05, 2.87157e+05, 3.88037e+05, 5.00074e+05, 6.13511e+05,\n",
       "        7.19223e+05, 8.04263e+05, 8.55090e+05, 8.68138e+05, 8.41579e+05,\n",
       "        7.76439e+05, 6.84664e+05, 5.74253e+05, 4.60055e+05, 3.51338e+05,\n",
       "        2.56496e+05, 1.78574e+05, 1.18089e+05, 7.42290e+04, 4.45970e+04,\n",
       "        2.55340e+04, 1.41200e+04, 7.47200e+03, 3.62700e+03, 1.79600e+03,\n",
       "        7.97000e+02, 3.14000e+02, 1.28000e+02, 5.50000e+01, 2.10000e+01,\n",
       "        5.00000e+00, 2.00000e+00, 0.00000e+00, 1.00000e+00, 2.00000e+00]),\n",
       " array([-5.09072409, -4.87245733, -4.65419058, -4.43592383, -4.21765708,\n",
       "        -3.99939032, -3.78112357, -3.56285682, -3.34459007, -3.12632331,\n",
       "        -2.90805656, -2.68978981, -2.47152306, -2.2532563 , -2.03498955,\n",
       "        -1.8167228 , -1.59845605, -1.38018929, -1.16192254, -0.94365579,\n",
       "        -0.72538904, -0.50712228, -0.28885553, -0.07058878,  0.14767797,\n",
       "         0.36594473,  0.58421148,  0.80247823,  1.02074498,  1.23901173,\n",
       "         1.45727849,  1.67554524,  1.89381199,  2.11207874,  2.3303455 ,\n",
       "         2.54861225,  2.766879  ,  2.98514575,  3.20341251,  3.42167926,\n",
       "         3.63994601,  3.85821276,  4.07647952,  4.29474627,  4.51301302,\n",
       "         4.73127977,  4.94954653,  5.16781328,  5.38608003,  5.60434678,\n",
       "         5.82261354]),\n",
       " <BarContainer object of 50 artists>)"
      ]
     },
     "execution_count": 41,
     "metadata": {},
     "output_type": "execute_result"
    },
    {
     "data": {
      "image/png": "[encoded data removed]",
      "text/plain": [
       "<Figure size 1440x720 with 6 Axes>"
      ]
     },
     "metadata": {
      "needs_background": "light"
     },
     "output_type": "display_data"
    }
   ],
   "source": [
    "fig,axes = plt.subplots(2,3, figsize=(20,10))\n",
    "axes[0,0].hist(np.random.randn(100),bins=50)\n",
    "axes[0,1].hist(np.random.randn(1000),bins=50)\n",
    "axes[0,2].hist(np.random.randn(10000),bins=50)\n",
    "axes[1,0].hist(np.random.randn(100000),bins=50)\n",
    "axes[1,1].hist(np.random.randn(1000000),bins=50)\n",
    "axes[1,2].hist(np.random.randn(10000000),bins=50)"
   ]
  },
  {
   "cell_type": "code",
   "execution_count": 55,
   "id": "db3d7de9",
   "metadata": {},
   "outputs": [
    {
     "data": {
      "image/png": "[encoded data removed]",
      "text/plain": [
       "<Figure size 720x576 with 4 Axes>"
      ]
     },
     "metadata": {
      "needs_background": "light"
     },
     "output_type": "display_data"
    }
   ],
   "source": [
    "# for문 사용\n",
    "fig,axes = plt.subplots(2,2,figsize=(10,8), sharex=True, sharey=True) ### x,y share\n",
    "for i in range(2):\n",
    "    for j in range(2):\n",
    "        axes[i,j].hist(np.random.randn(500),bins=50, color='k', alpha=0.5)\n",
    "plt.subplots_adjust(wspace=0.01, hspace=0.01) # 그래프들 사이 간격"
   ]
  },
  {
   "cell_type": "code",
   "execution_count": 43,
   "id": "e8c2fef3",
   "metadata": {},
   "outputs": [
    {
     "name": "stdout",
     "output_type": "stream",
     "text": [
      "[-0.69166075 -1.08841428 -1.77558698 -2.62079262 -3.29203875 -3.30470335\n",
      " -4.4220137  -4.187598   -2.52779582 -1.78575166 -1.97758722 -2.86521618\n",
      " -3.61237447 -1.91991987 -1.86911212 -2.50610776 -2.31519228 -0.21493714\n",
      " -0.09477819  0.52242492  0.82259524  0.47034539 -0.67217281 -1.02151553\n",
      " -1.23040976 -0.64378657  0.19519684  1.12629893  1.41188625  2.29702741]\n"
     ]
    },
    {
     "data": {
      "image/png": "[encoded data removed]",
      "text/plain": [
       "<Figure size 720x432 with 1 Axes>"
      ]
     },
     "metadata": {
      "needs_background": "light"
     },
     "output_type": "display_data"
    }
   ],
   "source": [
    "# 색상, 마커, 선 스타일\n",
    "from numpy.random import randn\n",
    "np.random.seed(1)\n",
    "plt.figure(figsize=(10,6))\n",
    "plt.plot(randn(30).cumsum(), linestyle='dashed', color='b', marker='o') # dashed : 점선\n",
    "print(randn(30).cumsum()) ### cumsum() 붙이면 누적"
   ]
  },
  {
   "cell_type": "code",
   "execution_count": 57,
   "id": "bc79b63d",
   "metadata": {},
   "outputs": [
    {
     "data": {
      "text/plain": [
       "['Solarize_Light2',\n",
       " '_classic_test_patch',\n",
       " 'bmh',\n",
       " 'classic',\n",
       " 'dark_background',\n",
       " 'fast',\n",
       " 'fivethirtyeight',\n",
       " 'ggplot',\n",
       " 'grayscale',\n",
       " 'seaborn',\n",
       " 'seaborn-bright',\n",
       " 'seaborn-colorblind',\n",
       " 'seaborn-dark',\n",
       " 'seaborn-dark-palette',\n",
       " 'seaborn-darkgrid',\n",
       " 'seaborn-deep',\n",
       " 'seaborn-muted',\n",
       " 'seaborn-notebook',\n",
       " 'seaborn-paper',\n",
       " 'seaborn-pastel',\n",
       " 'seaborn-poster',\n",
       " 'seaborn-talk',\n",
       " 'seaborn-ticks',\n",
       " 'seaborn-white',\n",
       " 'seaborn-whitegrid',\n",
       " 'tableau-colorblind10']"
      ]
     },
     "execution_count": 57,
     "metadata": {},
     "output_type": "execute_result"
    }
   ],
   "source": [
    "plt.style.available # Matplotlib에서 가능한 style들이 나옴"
   ]
  },
  {
   "cell_type": "code",
   "execution_count": 44,
   "id": "6f6c12d0",
   "metadata": {},
   "outputs": [
    {
     "name": "stdout",
     "output_type": "stream",
     "text": [
      "[ 1.76405235  0.40015721  0.97873798  2.2408932   1.86755799 -0.97727788\n",
      "  0.95008842 -0.15135721 -0.10321885  0.4105985 ]\n"
     ]
    },
    {
     "data": {
      "text/plain": [
       "array([1.76405235, 2.16420955, 3.14294754, 5.38384074, 7.25139873,\n",
       "       6.27412085, 7.22420927, 7.07285206, 6.96963321, 7.38023171])"
      ]
     },
     "execution_count": 44,
     "metadata": {},
     "output_type": "execute_result"
    }
   ],
   "source": [
    "np.random.seed(0)\n",
    "data = np.random.randn(1000)\n",
    "cdata = data.cumsum() # 누적\n",
    "print(data[:10])\n",
    "cdata[:10]"
   ]
  },
  {
   "cell_type": "code",
   "execution_count": 49,
   "id": "8a5c3e56",
   "metadata": {},
   "outputs": [
    {
     "data": {
      "text/plain": [
       "Text(0, 0.5, 'Sum')"
      ]
     },
     "execution_count": 49,
     "metadata": {},
     "output_type": "execute_result"
    },
    {
     "data": {
      "image/png": "[encoded data removed]",
      "text/plain": [
       "<Figure size 864x432 with 1 Axes>"
      ]
     },
     "metadata": {
      "needs_background": "light"
     },
     "output_type": "display_data"
    }
   ],
   "source": [
    "import warnings\n",
    "warnings.filterwarnings('ignore')\n",
    "from matplotlib import rc\n",
    "fig = plt.figure(figsize=(12,6))\n",
    "ax = fig.add_subplot(1,1,1)\n",
    "ax.plot(cdata)\n",
    "ticks = ax.set_xticks([0,250,500,750,1000])\n",
    "labels = ax.set_xticklabels(['one','two','three','four','five'],\n",
    "                           rotation=30, fontsize='small')\n",
    "ax.set_title('제목, 축이름, 눈금, 눈금 이름 설정',size=30)\n",
    "ax.set_xlabel('Stages',size=20)\n",
    "ax.set_ylabel('Sum',size=20)\n",
    "### 한글 font 문제로 한글 깨짐"
   ]
  },
  {
   "cell_type": "code",
   "execution_count": 56,
   "id": "a28b2d0e",
   "metadata": {},
   "outputs": [
    {
     "data": {
      "text/plain": [
       "Text(0, 0.5, 'Sum')"
      ]
     },
     "execution_count": 56,
     "metadata": {},
     "output_type": "execute_result"
    },
    {
     "data": {
      "image/png": "[encoded data removed]",
      "text/plain": [
       "<Figure size 864x432 with 1 Axes>"
      ]
     },
     "metadata": {
      "needs_background": "light"
     },
     "output_type": "display_data"
    }
   ],
   "source": [
    "import warnings\n",
    "warnings.filterwarnings('ignore')\n",
    "from matplotlib import rc\n",
    "\n",
    "rc('font',family='Malgun Gothic') # 한글\n",
    "plt.rcParams['axes.unicode_minus'] = False # 마이너스 부호 \n",
    "\n",
    "fig = plt.figure(figsize=(12,6))\n",
    "ax = fig.add_subplot(1,1,1)\n",
    "ax.plot(cdata)\n",
    "ticks = ax.set_xticks([0,250,500,750,1000])\n",
    "labels = ax.set_xticklabels(['one','two','three','four','five'],\n",
    "                           rotation=30, fontsize='large')\n",
    "ax.set_title('제목, 축이름, 눈금, 눈금 이름 설정',size=30)\n",
    "ax.set_xlabel('Stages',size=20)\n",
    "ax.set_ylabel('Sum',size=20)"
   ]
  },
  {
   "cell_type": "code",
   "execution_count": 60,
   "id": "1702210f",
   "metadata": {},
   "outputs": [
    {
     "data": {
      "text/plain": [
       "<matplotlib.legend.Legend at 0x2d9bb0886d0>"
      ]
     },
     "execution_count": 60,
     "metadata": {},
     "output_type": "execute_result"
    },
    {
     "data": {
      "image/png": "[encoded data removed]",
      "text/plain": [
       "<Figure size 720x432 with 1 Axes>"
      ]
     },
     "metadata": {
      "needs_background": "light"
     },
     "output_type": "display_data"
    }
   ],
   "source": [
    "# 범례 추가\n",
    "from numpy.random import randn\n",
    "fig = plt.figure(figsize=(10,6))\n",
    "ax = fig.add_subplot(1,1,1)\n",
    "ax.plot(randn(1000).cumsum(),'m', label='one')\n",
    "ax.plot(randn(1000).cumsum(),'g', label='two')\n",
    "ax.plot(randn(1000).cumsum(),'b', label='three')\n",
    "plt.legend(loc='best') # loc(위치, location), best - 가장 적절한 곳"
   ]
  },
  {
   "cell_type": "code",
   "execution_count": 4,
   "id": "d306a403",
   "metadata": {},
   "outputs": [
    {
     "data": {
      "text/html": [
       "<div>\n",
       "<style scoped>\n",
       "    .dataframe tbody tr th:only-of-type {\n",
       "        vertical-align: middle;\n",
       "    }\n",
       "\n",
       "    .dataframe tbody tr th {\n",
       "        vertical-align: top;\n",
       "    }\n",
       "\n",
       "    .dataframe thead th {\n",
       "        text-align: right;\n",
       "    }\n",
       "</style>\n",
       "<table border=\"1\" class=\"dataframe\">\n",
       "  <thead>\n",
       "    <tr style=\"text-align: right;\">\n",
       "      <th></th>\n",
       "      <th>survived</th>\n",
       "      <th>pclass</th>\n",
       "      <th>sex</th>\n",
       "      <th>age</th>\n",
       "      <th>sibsp</th>\n",
       "      <th>parch</th>\n",
       "      <th>fare</th>\n",
       "      <th>embarked</th>\n",
       "      <th>class</th>\n",
       "      <th>who</th>\n",
       "      <th>adult_male</th>\n",
       "      <th>deck</th>\n",
       "      <th>embark_town</th>\n",
       "      <th>alive</th>\n",
       "      <th>alone</th>\n",
       "    </tr>\n",
       "  </thead>\n",
       "  <tbody>\n",
       "    <tr>\n",
       "      <th>0</th>\n",
       "      <td>0</td>\n",
       "      <td>3</td>\n",
       "      <td>male</td>\n",
       "      <td>22.0</td>\n",
       "      <td>1</td>\n",
       "      <td>0</td>\n",
       "      <td>7.2500</td>\n",
       "      <td>S</td>\n",
       "      <td>Third</td>\n",
       "      <td>man</td>\n",
       "      <td>True</td>\n",
       "      <td>NaN</td>\n",
       "      <td>Southampton</td>\n",
       "      <td>no</td>\n",
       "      <td>False</td>\n",
       "    </tr>\n",
       "    <tr>\n",
       "      <th>1</th>\n",
       "      <td>1</td>\n",
       "      <td>1</td>\n",
       "      <td>female</td>\n",
       "      <td>38.0</td>\n",
       "      <td>1</td>\n",
       "      <td>0</td>\n",
       "      <td>71.2833</td>\n",
       "      <td>C</td>\n",
       "      <td>First</td>\n",
       "      <td>woman</td>\n",
       "      <td>False</td>\n",
       "      <td>C</td>\n",
       "      <td>Cherbourg</td>\n",
       "      <td>yes</td>\n",
       "      <td>False</td>\n",
       "    </tr>\n",
       "    <tr>\n",
       "      <th>2</th>\n",
       "      <td>1</td>\n",
       "      <td>3</td>\n",
       "      <td>female</td>\n",
       "      <td>26.0</td>\n",
       "      <td>0</td>\n",
       "      <td>0</td>\n",
       "      <td>7.9250</td>\n",
       "      <td>S</td>\n",
       "      <td>Third</td>\n",
       "      <td>woman</td>\n",
       "      <td>False</td>\n",
       "      <td>NaN</td>\n",
       "      <td>Southampton</td>\n",
       "      <td>yes</td>\n",
       "      <td>True</td>\n",
       "    </tr>\n",
       "    <tr>\n",
       "      <th>3</th>\n",
       "      <td>1</td>\n",
       "      <td>1</td>\n",
       "      <td>female</td>\n",
       "      <td>35.0</td>\n",
       "      <td>1</td>\n",
       "      <td>0</td>\n",
       "      <td>53.1000</td>\n",
       "      <td>S</td>\n",
       "      <td>First</td>\n",
       "      <td>woman</td>\n",
       "      <td>False</td>\n",
       "      <td>C</td>\n",
       "      <td>Southampton</td>\n",
       "      <td>yes</td>\n",
       "      <td>False</td>\n",
       "    </tr>\n",
       "    <tr>\n",
       "      <th>4</th>\n",
       "      <td>0</td>\n",
       "      <td>3</td>\n",
       "      <td>male</td>\n",
       "      <td>35.0</td>\n",
       "      <td>0</td>\n",
       "      <td>0</td>\n",
       "      <td>8.0500</td>\n",
       "      <td>S</td>\n",
       "      <td>Third</td>\n",
       "      <td>man</td>\n",
       "      <td>True</td>\n",
       "      <td>NaN</td>\n",
       "      <td>Southampton</td>\n",
       "      <td>no</td>\n",
       "      <td>True</td>\n",
       "    </tr>\n",
       "  </tbody>\n",
       "</table>\n",
       "</div>"
      ],
      "text/plain": [
       "   survived  pclass     sex   age  sibsp  parch     fare embarked  class  \\\n",
       "0         0       3    male  22.0      1      0   7.2500        S  Third   \n",
       "1         1       1  female  38.0      1      0  71.2833        C  First   \n",
       "2         1       3  female  26.0      0      0   7.9250        S  Third   \n",
       "3         1       1  female  35.0      1      0  53.1000        S  First   \n",
       "4         0       3    male  35.0      0      0   8.0500        S  Third   \n",
       "\n",
       "     who  adult_male deck  embark_town alive  alone  \n",
       "0    man        True  NaN  Southampton    no  False  \n",
       "1  woman       False    C    Cherbourg   yes  False  \n",
       "2  woman       False  NaN  Southampton   yes   True  \n",
       "3  woman       False    C  Southampton   yes  False  \n",
       "4    man        True  NaN  Southampton    no   True  "
      ]
     },
     "execution_count": 4,
     "metadata": {},
     "output_type": "execute_result"
    }
   ],
   "source": [
    "import seaborn as sns\n",
    "df = sns.load_dataset('titanic')\n",
    "df.head()"
   ]
  },
  {
   "cell_type": "code",
   "execution_count": 5,
   "id": "ffd705e0",
   "metadata": {},
   "outputs": [
    {
     "data": {
      "text/html": [
       "<div>\n",
       "<style scoped>\n",
       "    .dataframe tbody tr th:only-of-type {\n",
       "        vertical-align: middle;\n",
       "    }\n",
       "\n",
       "    .dataframe tbody tr th {\n",
       "        vertical-align: top;\n",
       "    }\n",
       "\n",
       "    .dataframe thead th {\n",
       "        text-align: right;\n",
       "    }\n",
       "</style>\n",
       "<table border=\"1\" class=\"dataframe\">\n",
       "  <thead>\n",
       "    <tr style=\"text-align: right;\">\n",
       "      <th></th>\n",
       "      <th>survived</th>\n",
       "      <th>pclass</th>\n",
       "      <th>sex</th>\n",
       "      <th>age</th>\n",
       "      <th>sibsp</th>\n",
       "      <th>parch</th>\n",
       "      <th>fare</th>\n",
       "      <th>embarked</th>\n",
       "      <th>class</th>\n",
       "      <th>who</th>\n",
       "      <th>adult_male</th>\n",
       "      <th>deck</th>\n",
       "      <th>embark_town</th>\n",
       "      <th>alive</th>\n",
       "      <th>alone</th>\n",
       "      <th>age_cat</th>\n",
       "    </tr>\n",
       "  </thead>\n",
       "  <tbody>\n",
       "    <tr>\n",
       "      <th>0</th>\n",
       "      <td>0</td>\n",
       "      <td>3</td>\n",
       "      <td>male</td>\n",
       "      <td>22.0</td>\n",
       "      <td>1</td>\n",
       "      <td>0</td>\n",
       "      <td>7.2500</td>\n",
       "      <td>S</td>\n",
       "      <td>Third</td>\n",
       "      <td>man</td>\n",
       "      <td>True</td>\n",
       "      <td>NaN</td>\n",
       "      <td>Southampton</td>\n",
       "      <td>no</td>\n",
       "      <td>False</td>\n",
       "      <td>teen</td>\n",
       "    </tr>\n",
       "    <tr>\n",
       "      <th>1</th>\n",
       "      <td>1</td>\n",
       "      <td>1</td>\n",
       "      <td>female</td>\n",
       "      <td>38.0</td>\n",
       "      <td>1</td>\n",
       "      <td>0</td>\n",
       "      <td>71.2833</td>\n",
       "      <td>C</td>\n",
       "      <td>First</td>\n",
       "      <td>woman</td>\n",
       "      <td>False</td>\n",
       "      <td>C</td>\n",
       "      <td>Cherbourg</td>\n",
       "      <td>yes</td>\n",
       "      <td>False</td>\n",
       "      <td>adult</td>\n",
       "    </tr>\n",
       "    <tr>\n",
       "      <th>2</th>\n",
       "      <td>1</td>\n",
       "      <td>3</td>\n",
       "      <td>female</td>\n",
       "      <td>26.0</td>\n",
       "      <td>0</td>\n",
       "      <td>0</td>\n",
       "      <td>7.9250</td>\n",
       "      <td>S</td>\n",
       "      <td>Third</td>\n",
       "      <td>woman</td>\n",
       "      <td>False</td>\n",
       "      <td>NaN</td>\n",
       "      <td>Southampton</td>\n",
       "      <td>yes</td>\n",
       "      <td>True</td>\n",
       "      <td>teen</td>\n",
       "    </tr>\n",
       "    <tr>\n",
       "      <th>3</th>\n",
       "      <td>1</td>\n",
       "      <td>1</td>\n",
       "      <td>female</td>\n",
       "      <td>35.0</td>\n",
       "      <td>1</td>\n",
       "      <td>0</td>\n",
       "      <td>53.1000</td>\n",
       "      <td>S</td>\n",
       "      <td>First</td>\n",
       "      <td>woman</td>\n",
       "      <td>False</td>\n",
       "      <td>C</td>\n",
       "      <td>Southampton</td>\n",
       "      <td>yes</td>\n",
       "      <td>False</td>\n",
       "      <td>adult</td>\n",
       "    </tr>\n",
       "    <tr>\n",
       "      <th>4</th>\n",
       "      <td>0</td>\n",
       "      <td>3</td>\n",
       "      <td>male</td>\n",
       "      <td>35.0</td>\n",
       "      <td>0</td>\n",
       "      <td>0</td>\n",
       "      <td>8.0500</td>\n",
       "      <td>S</td>\n",
       "      <td>Third</td>\n",
       "      <td>man</td>\n",
       "      <td>True</td>\n",
       "      <td>NaN</td>\n",
       "      <td>Southampton</td>\n",
       "      <td>no</td>\n",
       "      <td>True</td>\n",
       "      <td>adult</td>\n",
       "    </tr>\n",
       "  </tbody>\n",
       "</table>\n",
       "</div>"
      ],
      "text/plain": [
       "   survived  pclass     sex   age  sibsp  parch     fare embarked  class  \\\n",
       "0         0       3    male  22.0      1      0   7.2500        S  Third   \n",
       "1         1       1  female  38.0      1      0  71.2833        C  First   \n",
       "2         1       3  female  26.0      0      0   7.9250        S  Third   \n",
       "3         1       1  female  35.0      1      0  53.1000        S  First   \n",
       "4         0       3    male  35.0      0      0   8.0500        S  Third   \n",
       "\n",
       "     who  adult_male deck  embark_town alive  alone age_cat  \n",
       "0    man        True  NaN  Southampton    no  False    teen  \n",
       "1  woman       False    C    Cherbourg   yes  False   adult  \n",
       "2  woman       False  NaN  Southampton   yes   True    teen  \n",
       "3  woman       False    C  Southampton   yes  False   adult  \n",
       "4    man        True  NaN  Southampton    no   True   adult  "
      ]
     },
     "execution_count": 5,
     "metadata": {},
     "output_type": "execute_result"
    }
   ],
   "source": [
    "def get_age_cat(age):\n",
    "    cat = ''\n",
    "    if age < 15: cat = 'young'\n",
    "    elif age < 30: cat = 'teen'\n",
    "    elif age < 45: cat = 'adult'\n",
    "    elif age < 60: cat = 'mature'\n",
    "    else: cat = 'elder'\n",
    "    return cat\n",
    "df['age_cat'] = df['age'].apply(lambda x : get_age_cat(x))\n",
    "df.head()"
   ]
  },
  {
   "cell_type": "code",
   "execution_count": 8,
   "id": "b104e773",
   "metadata": {},
   "outputs": [
    {
     "data": {
      "text/html": [
       "<div>\n",
       "<style scoped>\n",
       "    .dataframe tbody tr th:only-of-type {\n",
       "        vertical-align: middle;\n",
       "    }\n",
       "\n",
       "    .dataframe tbody tr th {\n",
       "        vertical-align: top;\n",
       "    }\n",
       "\n",
       "    .dataframe thead th {\n",
       "        text-align: right;\n",
       "    }\n",
       "</style>\n",
       "<table border=\"1\" class=\"dataframe\">\n",
       "  <thead>\n",
       "    <tr style=\"text-align: right;\">\n",
       "      <th></th>\n",
       "      <th>survived</th>\n",
       "      <th>pclass</th>\n",
       "      <th>age</th>\n",
       "      <th>sibsp</th>\n",
       "      <th>parch</th>\n",
       "      <th>fare</th>\n",
       "      <th>adult_male</th>\n",
       "      <th>alone</th>\n",
       "      <th>Ratio</th>\n",
       "    </tr>\n",
       "    <tr>\n",
       "      <th>age_cat</th>\n",
       "      <th></th>\n",
       "      <th></th>\n",
       "      <th></th>\n",
       "      <th></th>\n",
       "      <th></th>\n",
       "      <th></th>\n",
       "      <th></th>\n",
       "      <th></th>\n",
       "      <th></th>\n",
       "    </tr>\n",
       "  </thead>\n",
       "  <tbody>\n",
       "    <tr>\n",
       "      <th>adult</th>\n",
       "      <td>91</td>\n",
       "      <td>457</td>\n",
       "      <td>7667.00</td>\n",
       "      <td>76</td>\n",
       "      <td>83</td>\n",
       "      <td>8532.2664</td>\n",
       "      <td>137</td>\n",
       "      <td>130</td>\n",
       "      <td>215</td>\n",
       "    </tr>\n",
       "    <tr>\n",
       "      <th>elder</th>\n",
       "      <td>59</td>\n",
       "      <td>500</td>\n",
       "      <td>1692.50</td>\n",
       "      <td>106</td>\n",
       "      <td>40</td>\n",
       "      <td>5052.2330</td>\n",
       "      <td>146</td>\n",
       "      <td>152</td>\n",
       "      <td>203</td>\n",
       "    </tr>\n",
       "    <tr>\n",
       "      <th>mature</th>\n",
       "      <td>36</td>\n",
       "      <td>146</td>\n",
       "      <td>4483.50</td>\n",
       "      <td>30</td>\n",
       "      <td>27</td>\n",
       "      <td>3893.7461</td>\n",
       "      <td>57</td>\n",
       "      <td>53</td>\n",
       "      <td>89</td>\n",
       "    </tr>\n",
       "    <tr>\n",
       "      <th>teen</th>\n",
       "      <td>111</td>\n",
       "      <td>749</td>\n",
       "      <td>6908.50</td>\n",
       "      <td>112</td>\n",
       "      <td>87</td>\n",
       "      <td>8742.7579</td>\n",
       "      <td>197</td>\n",
       "      <td>198</td>\n",
       "      <td>306</td>\n",
       "    </tr>\n",
       "    <tr>\n",
       "      <th>young</th>\n",
       "      <td>45</td>\n",
       "      <td>205</td>\n",
       "      <td>453.67</td>\n",
       "      <td>142</td>\n",
       "      <td>103</td>\n",
       "      <td>2472.9459</td>\n",
       "      <td>0</td>\n",
       "      <td>4</td>\n",
       "      <td>78</td>\n",
       "    </tr>\n",
       "  </tbody>\n",
       "</table>\n",
       "</div>"
      ],
      "text/plain": [
       "         survived  pclass      age  sibsp  parch       fare  adult_male  \\\n",
       "age_cat                                                                   \n",
       "adult          91     457  7667.00     76     83  8532.2664         137   \n",
       "elder          59     500  1692.50    106     40  5052.2330         146   \n",
       "mature         36     146  4483.50     30     27  3893.7461          57   \n",
       "teen          111     749  6908.50    112     87  8742.7579         197   \n",
       "young          45     205   453.67    142    103  2472.9459           0   \n",
       "\n",
       "         alone  Ratio  \n",
       "age_cat                \n",
       "adult      130    215  \n",
       "elder      152    203  \n",
       "mature      53     89  \n",
       "teen       198    306  \n",
       "young        4     78  "
      ]
     },
     "execution_count": 8,
     "metadata": {},
     "output_type": "execute_result"
    },
    {
     "data": {
      "image/png": "[encoded data removed]",
      "text/plain": [
       "<Figure size 576x720 with 1 Axes>"
      ]
     },
     "metadata": {},
     "output_type": "display_data"
    }
   ],
   "source": [
    "# pie 차트\n",
    "df['Ratio'] = 1 # 모든 행을 1로 채운 Ratio 컬럼 추가 -> groupby하면 sum 알 수 있음!\n",
    "df_age_cat = df.groupby('age_cat').sum()\n",
    "df_age_cat\n",
    "df_age_cat.Ratio.plot(kind='pie',\n",
    "                     figsize=(8,10),\n",
    "                     autopct='%.2f%%', # autopct : autopercent / %까지 표시해주기\n",
    "                     startangle=0) f\n",
    "plt.title('Age Category', size=20)\n",
    "# plt.axis('equal')\n",
    "plt.legend(labels=df_age_cat.index, loc='best')\n",
    "df_age_cat"
   ]
  },
  {
   "cell_type": "markdown",
   "id": "bdc8d1f5",
   "metadata": {},
   "source": [
    "line : 변화를 보기 위한 그래프로 많이 씀. 시간에 따른 변화 (multi_line : 시간에 따라서 두 값을 비교할 수 있음.) / 트렌드\n",
    "\n",
    "bar : x값 각각의 y값의 변화. stacked으로 누적으로도 볼 수 있음 (한달간의 공부시간양. 전체 총량과 비교 가능.)\n",
    "      (stacked을 쓰면 여러가지 속성을 한번에 볼 수 있음. (ex: 20210727의 공부시간, 자습시간, 쉬는시간 속성을 비교 확인 가능) / 비교\n",
    "      \n",
    "scatter : 두 변수의 관계를 볼 때 많이 씀 / 상관계수\n",
    "\n",
    "histogram : 도수분포표, 값이나 범위의 '빈도'가 어떤지 확인 할 수 있음. 평균을 기준으로 대칭되는 성질(도수분포표)\n",
    "\n",
    "boxplot : 이상치 확인할때 많이 씀. 구조가 데이터의 전체를 구조적으로 보여줄 수 있으며, 이상치에 속하는 것들을 눈으로 표시하게 쉽도록 함.\n",
    "\n",
    "pie : 분포를 확인할 때 씀\n"
   ]
  }
 ],
 "metadata": {
  "kernelspec": {
   "display_name": "Python 3 (ipykernel)",
   "language": "python",
   "name": "python3"
  },
  "language_info": {
   "codemirror_mode": {
    "name": "ipython",
    "version": 3
   },
   "file_extension": ".py",
   "mimetype": "text/x-python",
   "name": "python",
   "nbconvert_exporter": "python",
   "pygments_lexer": "ipython3",
   "version": "3.8.2"
  }
 },
 "nbformat": 4,
 "nbformat_minor": 5
}
