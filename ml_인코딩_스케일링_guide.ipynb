{
 "cells": [
  {
   "cell_type": "markdown",
   "id": "af172bca",
   "metadata": {},
   "source": [
    "# 8/19"
   ]
  },
  {
   "cell_type": "code",
   "execution_count": 12,
   "id": "50a43610",
   "metadata": {},
   "outputs": [
    {
     "name": "stdout",
     "output_type": "stream",
     "text": [
      "인코딩 변환값: [0 1 4 5 3 3 2 2]\n"
     ]
    }
   ],
   "source": [
    "# 레이블 인코딩\n",
    "from sklearn.preprocessing import LabelEncoder\n",
    "\n",
    "items = ['TV','냉장고','전자랜지','컴퓨터','선풍기','선풍기',\n",
    "         '믹서','믹서']\n",
    "encoder = LabelEncoder()\n",
    "labels = encoder.fit_transform(items)\n",
    "print('인코딩 변환값:', labels) # 문자열 순서로 인코딩됨"
   ]
  },
  {
   "cell_type": "code",
   "execution_count": 13,
   "id": "8be62829",
   "metadata": {},
   "outputs": [
    {
     "name": "stdout",
     "output_type": "stream",
     "text": [
      "인코딩 클래스: ['TV' '냉장고' '믹서' '선풍기' '전자랜지' '컴퓨터']\n"
     ]
    }
   ],
   "source": [
    "print('인코딩 클래스:',encoder.classes_) # 0,1,2,3,4,5 순서대로 나옴"
   ]
  },
  {
   "cell_type": "code",
   "execution_count": 14,
   "id": "bfbd3b32",
   "metadata": {
    "scrolled": true
   },
   "outputs": [
    {
     "name": "stdout",
     "output_type": "stream",
     "text": [
      "디코딩 원본 값: ['TV' '냉장고' '전자랜지' '컴퓨터' '선풍기' '선풍기' '믹서' '믹서']\n",
      "디코딩 원본 값: ['TV' '냉장고' '전자랜지' '컴퓨터' '선풍기' '선풍기' '믹서' '믹서']\n"
     ]
    }
   ],
   "source": [
    "print('디코딩 원본 값:',encoder.inverse_transform(labels))\n",
    "print('디코딩 원본 값:',encoder.inverse_transform([0,1,4,5,3,3,2,2]))"
   ]
  },
  {
   "cell_type": "code",
   "execution_count": 15,
   "id": "611bd0af",
   "metadata": {},
   "outputs": [],
   "source": [
    "# 원-핫 인코딩\n",
    "### 회귀에서 숫자의 크기가 영향을 줄 수 있을 때는 쓰면 안되고, \n",
    "### 분류형은 숫자의 크기가 의미가 없기 때문에 쓸 수 있음\n",
    "### 원-핫 인코딩 -> 독립변수가 너무 많아짐. 독립변수가 많아지면 별 의미가 없더라도 설명력이 높아짐.\n",
    "### 수정결정계수로 변수 수 보정한 수정결정계수가 있음\n",
    "\n",
    "### 따라서 규제를 적용(리치모델 / 라쏘모델) : 변수의 계수에 패널티 줌으로써 보정(독립변수가 추가되면서 설명력이 높아지는것에 패널티)"
   ]
  },
  {
   "cell_type": "code",
   "execution_count": 16,
   "id": "133c5361",
   "metadata": {},
   "outputs": [
    {
     "name": "stdout",
     "output_type": "stream",
     "text": [
      "웟-핫 인코딩:\n",
      "[[1. 0. 0. 0. 0. 0.]\n",
      " [0. 1. 0. 0. 0. 0.]\n",
      " [0. 0. 0. 0. 1. 0.]\n",
      " [0. 0. 0. 0. 0. 1.]\n",
      " [0. 0. 0. 1. 0. 0.]\n",
      " [0. 0. 0. 1. 0. 0.]\n",
      " [0. 0. 1. 0. 0. 0.]\n",
      " [0. 0. 1. 0. 0. 0.]]\n"
     ]
    }
   ],
   "source": [
    "# 원-핫 인코딩\n",
    "### 원-핫 인코딩은 레이블인코딩을 한 후에 해야함\n",
    "from sklearn.preprocessing import OneHotEncoder\n",
    "import numpy as np\n",
    "\n",
    "items = ['TV','냉장고','전자랜지','컴퓨터','선풍기','선풍기',\n",
    "         '믹서','믹서']\n",
    "encoder = LabelEncoder()\n",
    "labels = encoder.fit_transform(items)\n",
    "labels = labels.reshape(-1,1) # 2차배열(1열)로 바꿔줌\n",
    "labels\n",
    "\n",
    "oh_encoder = OneHotEncoder()\n",
    "oh_labels = oh_encoder.fit_transform(labels)\n",
    "print('웟-핫 인코딩:')\n",
    "print(oh_labels.toarray()) # 희소행렬(나머지는 0, 해당되는건 1)"
   ]
  }
 ],
 "metadata": {
  "kernelspec": {
   "display_name": "Python 3 (ipykernel)",
   "language": "python",
   "name": "python3"
  },
  "language_info": {
   "codemirror_mode": {
    "name": "ipython",
    "version": 3
   },
   "file_extension": ".py",
   "mimetype": "text/x-python",
   "name": "python",
   "nbconvert_exporter": "python",
   "pygments_lexer": "ipython3",
   "version": "3.8.2"
  }
 },
 "nbformat": 4,
 "nbformat_minor": 5
}
