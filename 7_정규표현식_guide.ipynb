{
 "cells": [
  {
   "cell_type": "markdown",
   "id": "866fafdc",
   "metadata": {},
   "source": [
    "# 6/30"
   ]
  },
  {
   "cell_type": "markdown",
   "id": "cc36bca7",
   "metadata": {},
   "source": [
    "### re : regular expression"
   ]
  },
  {
   "cell_type": "markdown",
   "id": "e5b49d07",
   "metadata": {},
   "source": [
    "정규표현식의 기초, 메타 문자\n",
    "- . ^ $ * + ? {} [] \\ | ()\n",
    "- \\[ ] 문자 클래스\n",
    " - \\d 숫자와 매치, [0-9]와 동일한 표현식\n",
    " - \\D 숫자가 아닌 것과 매치, [^0-9]와 동일한 표현식\n",
    " - \\s whitespace 문자와 매치, [ \\t\\n\\r\\f\\v]와 동일한 표현식\n",
    " - \\S whitespace 문자가 아닌 것과 매치, [^ \\t\\n\\r\\f\\v]와 동일한 표현식\n",
    " - \\w 문자 + 숫자와 매치, [a-zA-Z0-9]와 동일한 표현식\n",
    " - \\W 문자 + 숫자가 아닌 문자와 매치, [^a-zA-Z0-9]와 동일한 표현식\n",
    "- whitespace\n",
    " -  스페이스 바 (아스키코드 32)\n",
    " -  ＼b  뒤로 한 칸 이동 (Backspace) (아스키코드 8)\n",
    " -  ＼t  수평탭 간격 띄우기 (아스키코드 9)\n",
    " -  ＼n  줄바꿈 (Linefeed) (아스키코드 10)\n",
    " -  ＼v  수직탭 간격 띄우기 (아스키코드 11)\n",
    " -  ＼f  프린트 출력 용지를 한 페이지 넘김 (Form feed) (아스키코드 12)\n",
    " -  ＼r  동일한 줄의 맨 앞으로 커서 이동 (Carriage Return) (아스키코드 13)\n",
    "- Dot(.) 메타 문자는 줄바꿈 문자인 \\n를 제외한 모든 문자와 매치됨을 의미\n",
    "- 반복(\\*) ca*t 0부터 무한대로 반복\n",
    "- 반복(\\+) ca+t 최소 1번 이상 반복\n",
    "- 반복({m,n}, ?) 반복 횟수를 제한, 반복 횟수가 m부터 n까지인 것을 매치\n",
    "- ca{2}t는 c+a(2번 반복)+t의 의미\n",
    "- 반복횟수가 {1,}은 1 이상, {0,}은 0 이상인 경우로 각각 +, *와 동일하며 {,1}은 반복횟수가 1 이하를 의미.\n",
    "- ab?c b가 0~1번 사용되면 매치되는 것으로 ?은 앞의 b가 있어도 되고 없어도 된다 \n",
    "\n",
    "re 모듈 : 파이썬은 정규표현식을 지원하기 위해 기본으로 제공\n",
    "- re.compile의 결과로 리턴되는 객체를 이용하여 그 이후 작업 수행\n",
    "\n",
    "정규식을 이용한 문자열 검색\n",
    "- match(): 문자열의 처음부터 정규식과 매치되는지 조사\n",
    "- search(): 문자열의 전체를 검색하여 정규식과 매치되는지 조사\n",
    "- findall(): 정규식과 매치되는 모든 문자열을 리스트로 리턴\n",
    "- finditer(): 정규식과 매치되는 모든 문자열을 반복 가능한 객체로 리턴"
   ]
  },
  {
   "cell_type": "code",
   "execution_count": 1,
   "id": "9b55d646",
   "metadata": {
    "scrolled": true
   },
   "outputs": [
    {
     "name": "stdout",
     "output_type": "stream",
     "text": [
      "<re.Match object; span=(0, 7), match='python '>\n"
     ]
    },
    {
     "data": {
      "text/plain": [
       "'python '"
      ]
     },
     "execution_count": 1,
     "metadata": {},
     "output_type": "execute_result"
    }
   ],
   "source": [
    "import re\n",
    "text = 'python python' \n",
    "p = re.compile('[a-z]+\\s')\n",
    "m = p.match(text)\n",
    "print(m)  ### 결과에 나온 span은 인덱스\n",
    "m.group()"
   ]
  },
  {
   "cell_type": "code",
   "execution_count": 2,
   "id": "e77c20c2",
   "metadata": {},
   "outputs": [
    {
     "data": {
      "text/plain": [
       "['python', 'python', 'python', 'python']"
      ]
     },
     "execution_count": 2,
     "metadata": {},
     "output_type": "execute_result"
    }
   ],
   "source": [
    "import re\n",
    "text = 'python python python python'\n",
    "p = re.compile('[a-z]+')\n",
    "m = p.findall(text)\n",
    "m"
   ]
  },
  {
   "cell_type": "code",
   "execution_count": 3,
   "id": "3c167349",
   "metadata": {},
   "outputs": [
    {
     "name": "stdout",
     "output_type": "stream",
     "text": [
      "None\n"
     ]
    }
   ],
   "source": [
    "p = re.compile('[a-z]+') ### [a-z](소문자)로 시작하는 문자열\n",
    "m = p.match('3python') ### match되는 것이 없으므로 None이 나옴\n",
    "print(m)"
   ]
  },
  {
   "cell_type": "code",
   "execution_count": 4,
   "id": "27425454",
   "metadata": {},
   "outputs": [
    {
     "data": {
      "text/plain": [
       "'python'"
      ]
     },
     "execution_count": 4,
     "metadata": {},
     "output_type": "execute_result"
    }
   ],
   "source": [
    "p = re.compile('[a-z]+') ### [a-z](소문자)로 시작하는 문자열\n",
    "m = p.search('3python') ### search는 문자열 전체를 검색하므로 나옴\n",
    "m.group()"
   ]
  },
  {
   "cell_type": "code",
   "execution_count": 5,
   "id": "ffa608c7",
   "metadata": {},
   "outputs": [
    {
     "name": "stdout",
     "output_type": "stream",
     "text": [
      "<re.Match object; span=(1, 6), match='anker'>\n",
      "<re.Match object; span=(0, 6), match='banker'>\n"
     ]
    }
   ],
   "source": [
    "p = re.compile('[a-z]+')\n",
    "p1 = p.search('Banker')\n",
    "p2 = p.search('banker')\n",
    "print(p1)\n",
    "print(p2)"
   ]
  },
  {
   "cell_type": "code",
   "execution_count": 6,
   "id": "a0c107dc",
   "metadata": {},
   "outputs": [
    {
     "data": {
      "text/plain": [
       "'a'"
      ]
     },
     "execution_count": 6,
     "metadata": {},
     "output_type": "execute_result"
    }
   ],
   "source": [
    "# Q. text = '12345abc'에서 'a'만 출력하세요.\n",
    "\n",
    "import re\n",
    "text = '12345abc'\n",
    "p = re.compile('[a]')\n",
    "m = p.search(text)\n",
    "m.group()"
   ]
  },
  {
   "cell_type": "code",
   "execution_count": 7,
   "id": "13f786c3",
   "metadata": {},
   "outputs": [
    {
     "data": {
      "text/plain": [
       "'A'"
      ]
     },
     "execution_count": 7,
     "metadata": {},
     "output_type": "execute_result"
    }
   ],
   "source": [
    "# Q. 'abc12345Abc'에서 'A'만 출력하세요.\n",
    "import re\n",
    "text = 'abc12345Abc'\n",
    "p = re.compile('[A]')\n",
    "m = p.search(text)\n",
    "m.group()"
   ]
  },
  {
   "cell_type": "code",
   "execution_count": 8,
   "id": "eec76dea",
   "metadata": {},
   "outputs": [
    {
     "data": {
      "text/plain": [
       "'대'"
      ]
     },
     "execution_count": 8,
     "metadata": {},
     "output_type": "execute_result"
    }
   ],
   "source": [
    "# Q. 'KOREA 대한민국'에서 '대'만 출력하세요.\n",
    "import re\n",
    "text ='KOREA 대한민국'\n",
    "p = re.compile('[대]')\n",
    "m = p.search(text)\n",
    "m.group()"
   ]
  },
  {
   "cell_type": "code",
   "execution_count": 9,
   "id": "4cd53786",
   "metadata": {},
   "outputs": [
    {
     "data": {
      "text/plain": [
       "'122333c'"
      ]
     },
     "execution_count": 9,
     "metadata": {},
     "output_type": "execute_result"
    }
   ],
   "source": [
    "# Q. '122333c'를 모두 출력하세요.\n",
    "\n",
    "text = '122333c'\n",
    "p = re.compile('[0-9]+[a-z]')\n",
    "m = p.search(text)\n",
    "m.group()"
   ]
  },
  {
   "cell_type": "code",
   "execution_count": 10,
   "id": "73e981a5",
   "metadata": {},
   "outputs": [
    {
     "data": {
      "text/plain": [
       "'대한민국'"
      ]
     },
     "execution_count": 10,
     "metadata": {},
     "output_type": "execute_result"
    }
   ],
   "source": [
    "import re\n",
    "text ='KOREA 대한민국'\n",
    "p = re.compile('[가-힣]+') ### 이렇게 하면 한글 전체\n",
    "m = p.search(text)\n",
    "m.group()"
   ]
  },
  {
   "cell_type": "code",
   "execution_count": 11,
   "id": "70ce89e4",
   "metadata": {},
   "outputs": [
    {
     "data": {
      "text/plain": [
       "'대한민국'"
      ]
     },
     "execution_count": 11,
     "metadata": {},
     "output_type": "execute_result"
    }
   ],
   "source": [
    "import re\n",
    "text ='KOREA 대한민국'\n",
    "p = re.compile('[대한민국]+') \n",
    "m = p.search(text)\n",
    "m.group()"
   ]
  },
  {
   "cell_type": "code",
   "execution_count": 12,
   "id": "379ff434",
   "metadata": {},
   "outputs": [
    {
     "data": {
      "text/plain": [
       "'aaaaBBBcccDDDeee'"
      ]
     },
     "execution_count": 12,
     "metadata": {},
     "output_type": "execute_result"
    }
   ],
   "source": [
    "# Q. 'aaaaBBBcccDDDeee'을 모두 출력하세요.\n",
    "text = 'aaaaBBBcccDDDeee'\n",
    "p = re.compile('a{4}B{3}c{3}D{3}e{3}')\n",
    "m = p.search(text)\n",
    "m.group()"
   ]
  },
  {
   "cell_type": "code",
   "execution_count": 13,
   "id": "5aad2bf1",
   "metadata": {},
   "outputs": [
    {
     "name": "stdout",
     "output_type": "stream",
     "text": [
      "<re.Match object; span=(1, 2), match='C'>\n",
      "<re.Match object; span=(0, 1), match='C'>\n",
      "<re.Match object; span=(2, 3), match='C'>\n"
     ]
    }
   ],
   "source": [
    "# Q. BC, CC, ABC 모두 C가 출력되는 정규표현식을 ()에 작성하세요.\n",
    "pattern=re.compile('A?C')  # <- 괄호 안 채우는게 문제 ### ? 문자는 앞에 있는 문자가 있거나 없거나\n",
    "text1 = 'BC'\n",
    "text2 = 'CC'\n",
    "text3 = 'ABC'\n",
    "p1 = pattern.search(text1)\n",
    "p2 = pattern.search(text2)\n",
    "p3 = pattern.search(text3)\n",
    "print(p1)\n",
    "print(p2)\n",
    "print(p3)"
   ]
  },
  {
   "cell_type": "code",
   "execution_count": 14,
   "id": "a3e17b78",
   "metadata": {},
   "outputs": [
    {
     "name": "stdout",
     "output_type": "stream",
     "text": [
      "<re.Match object; span=(1, 2), match='C'>\n",
      "<re.Match object; span=(1, 2), match='C'>\n",
      "<re.Match object; span=(2, 3), match='C'>\n",
      "None\n"
     ]
    }
   ],
   "source": [
    "# 다른 문제\n",
    "pattern=re.compile('C$') ### $ 문자는 문자열의 끝과 매치함을 의미\n",
    "text1 = 'BC'\n",
    "text2 = 'CC'\n",
    "text3 = 'ABC'\n",
    "text4 = 'ABCD'\n",
    "p1 = pattern.search(text1)\n",
    "p2 = pattern.search(text2)\n",
    "p3 = pattern.search(text3)\n",
    "p4 = pattern.search(text4)\n",
    "\n",
    "print(p1)\n",
    "print(p2)\n",
    "print(p3)\n",
    "print(p4)"
   ]
  },
  {
   "cell_type": "code",
   "execution_count": 15,
   "id": "086caf5b",
   "metadata": {},
   "outputs": [
    {
     "data": {
      "text/plain": [
       "['life', 'is', 'too', 'short']"
      ]
     },
     "execution_count": 15,
     "metadata": {},
     "output_type": "execute_result"
    }
   ],
   "source": [
    "text = 'life is too short'\n",
    "p = re.compile('[a-z]+')\n",
    "m = p.findall(text)\n",
    "m"
   ]
  },
  {
   "cell_type": "code",
   "execution_count": 16,
   "id": "85532fe0",
   "metadata": {},
   "outputs": [
    {
     "name": "stdout",
     "output_type": "stream",
     "text": [
      "life\n",
      "is\n",
      "too\n",
      "short\n"
     ]
    }
   ],
   "source": [
    "results = p.finditer(text)\n",
    "for r in results: print(r.group())\n",
    "    "
   ]
  },
  {
   "cell_type": "code",
   "execution_count": 17,
   "id": "2d5220f5",
   "metadata": {},
   "outputs": [
    {
     "name": "stdout",
     "output_type": "stream",
     "text": [
      "1\n",
      "2\n",
      "3\n",
      "4\n",
      "1\n",
      "2\n",
      "3\n",
      "4\n"
     ]
    }
   ],
   "source": [
    "# Q. '1234a1234'에서 '1', '2', '3', '4'를 모두 출력하세요.\n",
    "text = '1234a1234'\n",
    "p = re.compile('[0-9]')\n",
    "m = p.finditer(text)\n",
    "\n",
    "for i in m: print(i.group())"
   ]
  },
  {
   "cell_type": "code",
   "execution_count": 18,
   "id": "b646591b",
   "metadata": {
    "scrolled": true
   },
   "outputs": [
    {
     "name": "stdout",
     "output_type": "stream",
     "text": [
      "1\n",
      "2\n",
      "3\n",
      "4\n",
      "1\n",
      "2\n",
      "3\n",
      "4\n"
     ]
    }
   ],
   "source": [
    "text = '1234a1234'\n",
    "p = re.compile('\\d')\n",
    "m = p.finditer(text)\n",
    "for i in m: print(i.group())"
   ]
  },
  {
   "cell_type": "code",
   "execution_count": 19,
   "id": "13a65d7e",
   "metadata": {},
   "outputs": [
    {
     "data": {
      "text/plain": [
       "['Python', 'is', 'very', 'good', 'programming', 'language']"
      ]
     },
     "execution_count": 19,
     "metadata": {},
     "output_type": "execute_result"
    }
   ],
   "source": [
    "# Q. 'Python3 is very good programming language!'에서\n",
    "# ['Python', 'is', 'very', 'good', 'programming', 'language']를 모두 출력하세요.\n",
    "\n",
    "text = 'Python3 is very good programming language!'\n",
    "p = re.compile('[a-zA-Z]+')\n",
    "m = p.findall(text)\n",
    "m"
   ]
  },
  {
   "cell_type": "code",
   "execution_count": 20,
   "id": "18db3e2f",
   "metadata": {},
   "outputs": [
    {
     "data": {
      "text/plain": [
       "['Python', 'is', 'very', 'good', 'programming', 'language']"
      ]
     },
     "execution_count": 20,
     "metadata": {},
     "output_type": "execute_result"
    }
   ],
   "source": [
    "# 다른 풀이\n",
    "text = 'Python3 is very good programming language!'\n",
    "p = re.compile('[A-z]+')\n",
    "m = p.findall(text)\n",
    "m"
   ]
  },
  {
   "cell_type": "code",
   "execution_count": 21,
   "id": "7e4d3fb6",
   "metadata": {},
   "outputs": [
    {
     "name": "stdout",
     "output_type": "stream",
     "text": [
      "life\n",
      "is\n",
      "too\n",
      "short\n"
     ]
    }
   ],
   "source": [
    "text = 'life is too short'\n",
    "p = re.compile('[a-z]+')\n",
    "l = p.match('life')\n",
    "i = p.match('is')\n",
    "t = p.match('too')\n",
    "s = p.match('short')\n",
    "print(l.group())\n",
    "print(i.group())\n",
    "print(t.group())\n",
    "print(s.group())"
   ]
  },
  {
   "cell_type": "code",
   "execution_count": 22,
   "id": "220ef66e",
   "metadata": {
    "scrolled": true
   },
   "outputs": [
    {
     "name": "stdout",
     "output_type": "stream",
     "text": [
      "python\n",
      "0\n",
      "6\n",
      "(0, 6)\n"
     ]
    }
   ],
   "source": [
    "# match 객체의 메소드\n",
    "import re\n",
    "p = re.compile('[a-z]+')\n",
    "m = p.match('python')\n",
    "print(m.group())\n",
    "print(m.start()) # start point\n",
    "print(m.end()) # end point\n",
    "print(m.span()) # start point ~ end point  ### 5개니까 (0,6)으로 나옴. (뒤에 숫자는 미만이므로 하나 크게!)"
   ]
  },
  {
   "cell_type": "code",
   "execution_count": 23,
   "id": "3c941f11",
   "metadata": {},
   "outputs": [
    {
     "name": "stdout",
     "output_type": "stream",
     "text": [
      "python\n",
      "2\n",
      "8\n",
      "(2, 8)\n"
     ]
    }
   ],
   "source": [
    "# search 객체의 메소드\n",
    "import re\n",
    "p = re.compile('[a-z]+')\n",
    "m = p.search('3 python')\n",
    "print(m.group())\n",
    "print(m.start()) # start point\n",
    "print(m.end()) # end point\n",
    "print(m.span())"
   ]
  },
  {
   "cell_type": "code",
   "execution_count": 24,
   "id": "b737a839",
   "metadata": {},
   "outputs": [
    {
     "data": {
      "text/plain": [
       "'python'"
      ]
     },
     "execution_count": 24,
     "metadata": {},
     "output_type": "execute_result"
    }
   ],
   "source": [
    "# 한번에 처리\n",
    "m = re.match('[a-z]+','python') ### (기준, 대상)\n",
    "m.group()"
   ]
  },
  {
   "cell_type": "code",
   "execution_count": 25,
   "id": "afb7ed57",
   "metadata": {},
   "outputs": [
    {
     "name": "stdout",
     "output_type": "stream",
     "text": [
      "None\n",
      "<re.Match object; span=(0, 3), match='acb'>\n",
      "<re.Match object; span=(0, 6), match='a12?Ab'>\n"
     ]
    }
   ],
   "source": [
    "# Dot(.) 메타 문자는 개행(\\n)문자를 제외한 모든 문자와 매치\n",
    "import re\n",
    "p = re.compile('a.+b')  ### a와 b사이에 개행문자가 있으면 제외하고 나머지 모든 문자\n",
    "m1 = p.match('a\\nb')\n",
    "m2 = p.match('acb')\n",
    "m3 = p.match('a12?Ab')\n",
    "print(m1)\n",
    "print(m2)\n",
    "print(m3)"
   ]
  },
  {
   "cell_type": "code",
   "execution_count": 26,
   "id": "ef4f5db5",
   "metadata": {},
   "outputs": [
    {
     "name": "stdout",
     "output_type": "stream",
     "text": [
      "<re.Match object; span=(0, 3), match='a\\nb'>\n",
      "a\n",
      "b\n"
     ]
    }
   ],
   "source": [
    "# re.DOTALL 옵션은 개행문자에 상관없이 검색 시 사용\n",
    "\n",
    "import re\n",
    "p = re.compile('a.+b',re.DOTALL)\n",
    "m1 = p.match('a\\nb')\n",
    "print(m1)\n",
    "print(m1.group())"
   ]
  },
  {
   "cell_type": "code",
   "execution_count": 27,
   "id": "8210e66c",
   "metadata": {},
   "outputs": [
    {
     "name": "stdout",
     "output_type": "stream",
     "text": [
      "what are you doing?\n"
     ]
    }
   ],
   "source": [
    "# Q. text에서 what are you doing?만 출력하세요\n",
    "text = 'what are you doing?\\nit is going to be late for school'\n",
    "p = re.compile('.+') \n",
    "m1 = p.match(text)\n",
    "print(m1.group())"
   ]
  },
  {
   "cell_type": "code",
   "execution_count": 28,
   "id": "f791eb7c",
   "metadata": {},
   "outputs": [
    {
     "name": "stdout",
     "output_type": "stream",
     "text": [
      "<re.Match object; span=(0, 6), match='python'>\n",
      "<re.Match object; span=(0, 6), match='Python'>\n",
      "<re.Match object; span=(0, 6), match='PYTHON'>\n",
      "<re.Match object; span=(2, 8), match='python'>\n",
      "<re.Match object; span=(2, 8), match='Python'>\n",
      "<re.Match object; span=(2, 8), match='PYTHON'>\n"
     ]
    }
   ],
   "source": [
    "# re.IGNORECASE 또는 re.I 옵션은 대소문자 구분없이 매치를 수행\n",
    "p = re.compile('[a-z]+',re.I)\n",
    "print(p.match('python'))\n",
    "print(p.match('Python'))\n",
    "print(p.match('PYTHON'))\n",
    "\n",
    "print(p.search('3 python'))\n",
    "print(p.search('3 Python'))\n",
    "print(p.search('3 PYTHON'))"
   ]
  },
  {
   "cell_type": "code",
   "execution_count": 29,
   "id": "a3493449",
   "metadata": {},
   "outputs": [
    {
     "name": "stdout",
     "output_type": "stream",
     "text": [
      "Friend\n",
      "fRiend\n",
      "friEnd\n",
      "FRIEND\n"
     ]
    }
   ],
   "source": [
    "# Q. text에서 대소문자 구분없이 전체 문장 모두 출력하세요\n",
    "\n",
    "text = 'Friend fRiend friEnd FRIEND'\n",
    "p = re.compile('[a-z]+',re.I)\n",
    "m = p.findall(text)\n",
    "for i in m:\n",
    "    print(i)"
   ]
  },
  {
   "cell_type": "code",
   "execution_count": 30,
   "id": "243e369c",
   "metadata": {},
   "outputs": [
    {
     "data": {
      "text/plain": [
       "['python one']"
      ]
     },
     "execution_count": 30,
     "metadata": {},
     "output_type": "execute_result"
    }
   ],
   "source": [
    "import re\n",
    "p = re.compile('^python\\s\\w+')  ### ^는 문자열의 맨 처음\n",
    "\n",
    "data = \"\"\"python one\n",
    "life is too short\n",
    "python two\n",
    "you need python\n",
    "python three\"\"\"\n",
    "p.findall(data)"
   ]
  },
  {
   "cell_type": "code",
   "execution_count": 31,
   "id": "2af45474",
   "metadata": {},
   "outputs": [
    {
     "data": {
      "text/plain": [
       "['python one', 'python two', 'python three']"
      ]
     },
     "execution_count": 31,
     "metadata": {},
     "output_type": "execute_result"
    }
   ],
   "source": [
    "# re.MULTILINE 또는 re.M 옵션으로 ^ 메타 문자를 각 라인의 처음으로 인식시킴\n",
    "\n",
    "import re\n",
    "p = re.compile('^python\\s\\w+',re.M) ### re.M 은 re.MULTILINE/ 이건 각 라인별로 처리, 없으면 첫 줄만!\n",
    "data = \"\"\"python one\n",
    "life is too short\n",
    "python two\n",
    "you need python\n",
    "python three\"\"\"\n",
    "p.findall(data)"
   ]
  },
  {
   "cell_type": "code",
   "execution_count": 32,
   "id": "1fb24ace",
   "metadata": {},
   "outputs": [
    {
     "data": {
      "text/plain": [
       "['python one', 'python two', 'python three']"
      ]
     },
     "execution_count": 32,
     "metadata": {},
     "output_type": "execute_result"
    }
   ],
   "source": [
    "import re\n",
    "p = re.compile('^python\\s\\w+',re.MULTILINE)\n",
    "data = \"\"\"python one\n",
    "life is too short\n",
    "python two\n",
    "you need python\n",
    "python three\"\"\"\n",
    "p.findall(data)"
   ]
  },
  {
   "cell_type": "code",
   "execution_count": 33,
   "id": "2e246b4d",
   "metadata": {},
   "outputs": [
    {
     "data": {
      "text/plain": [
       "['\\\\section', '\\\\section']"
      ]
     },
     "execution_count": 33,
     "metadata": {},
     "output_type": "execute_result"
    }
   ],
   "source": [
    "# Raw String: 정규식 문자열 앞에 r문자를 삽입하면 백슬래시 2개 대신 1개 사용\n",
    "\n",
    "# \\section 에서 \\을 문자 그대로 사용하려면 \n",
    "### \\\\section 으로 적어야 하는데\n",
    "### r'\\section' 으로 적어도 가능!  -> 결과 : \\section  \n",
    "p = re.compile(r'\\\\section')\n",
    "p.match('\\section')\n",
    "p.findall('\\section\\section')"
   ]
  },
  {
   "cell_type": "code",
   "execution_count": 34,
   "id": "1c31f2ce",
   "metadata": {},
   "outputs": [
    {
     "data": {
      "text/plain": [
       "[]"
      ]
     },
     "execution_count": 34,
     "metadata": {},
     "output_type": "execute_result"
    }
   ],
   "source": [
    "### 없으면 안 나옴\n",
    "p = re.compile('\\\\section')\n",
    "p.match('\\section')\n",
    "p.findall('\\section\\section')"
   ]
  },
  {
   "cell_type": "code",
   "execution_count": 35,
   "id": "b450bf4f",
   "metadata": {},
   "outputs": [
    {
     "name": "stdout",
     "output_type": "stream",
     "text": [
      "<re.Match object; span=(0, 4), match='Crow'>\n",
      "\n",
      "<re.Match object; span=(0, 4), match='Life'>\n",
      "None\n",
      "\n",
      "None\n",
      "<re.Match object; span=(3, 7), match='Life'>\n"
     ]
    }
   ],
   "source": [
    "# |(or와 동일한 의미), ^(문자열의 맨 처음), $(문자열의 맨 끝)\n",
    "import re\n",
    "p = re.compile('Crow|Servo')\n",
    "m = p.match('CrowHello')\n",
    "print(m)\n",
    "print()\n",
    "print(re.search('^Life', 'Life is too short'))\n",
    "print(re.search('^Life', 'My Life'))\n",
    "print()\n",
    "print(re.search('Life$', 'Life is too short'))\n",
    "print(re.search('Life$', 'My Life'))\n"
   ]
  },
  {
   "cell_type": "code",
   "execution_count": 36,
   "id": "8204a8c0",
   "metadata": {},
   "outputs": [
    {
     "name": "stdout",
     "output_type": "stream",
     "text": [
      "['Life']\n",
      "['Life', 'Life', 'Life']\n",
      "['good']\n",
      "['good', 'good']\n"
     ]
    }
   ],
   "source": [
    "# \\A : 문자열 처음과 매치. 단, re.M 옵션 사용해도 전체 문자열의 처음하고만 매치. \n",
    "### (re.M과 ^와 비슷하나 다름! ^는 각 줄마다 다 나옴. re.M이 없으면 같음)\n",
    "# \\Z : 문자열의 끝과 매치. 단, re.M 옵션 사용해도 전체 문자열의 끝하고만 매치. \n",
    "###($와 비슷하나 다름!)\n",
    "\n",
    "import re\n",
    "p = re.compile('\\ALife', re.M)\n",
    "data = '''Life is too short\n",
    "Life is good\n",
    "Life is valuable'''\n",
    "print(p.findall(data))\n",
    "\n",
    "p = re.compile('^Life', re.M)\n",
    "data = '''Life is too short\n",
    "Life is good\n",
    "Life is valuable'''\n",
    "print(p.findall(data))\n",
    "\n",
    "p1 = re.compile('good\\Z',re.M)\n",
    "data1 = '''Life is too short\n",
    "Life is good\n",
    "Life is very good'''\n",
    "print(p1.findall(data1))\n",
    "\n",
    "p1 = re.compile('good$',re.M)\n",
    "data1 = '''Life is too short\n",
    "Life is good\n",
    "Life is very good'''\n",
    "print(p1.findall(data1))"
   ]
  },
  {
   "cell_type": "code",
   "execution_count": 37,
   "id": "878a7707",
   "metadata": {},
   "outputs": [
    {
     "name": "stdout",
     "output_type": "stream",
     "text": [
      "['home']\n"
     ]
    }
   ],
   "source": [
    "# Q. 'we are going home'에서 home만 출력하세요.\n",
    "p = re.compile('home$')\n",
    "data = 'we are going home'\n",
    "print(p.findall(data))"
   ]
  },
  {
   "cell_type": "code",
   "execution_count": 38,
   "id": "93a1ec1b",
   "metadata": {},
   "outputs": [
    {
     "name": "stdout",
     "output_type": "stream",
     "text": [
      "['home']\n"
     ]
    }
   ],
   "source": [
    "# Q. 'home sweet'에서 home만 출력하세요.\n",
    "\n",
    "p = re.compile('^home')\n",
    "data = \"home sweet\"\n",
    "print(p.findall(data))"
   ]
  },
  {
   "cell_type": "code",
   "execution_count": 39,
   "id": "84002192",
   "metadata": {},
   "outputs": [
    {
     "data": {
      "text/plain": [
       "'199305'"
      ]
     },
     "execution_count": 39,
     "metadata": {},
     "output_type": "execute_result"
    }
   ],
   "source": [
    "# Q. '199305, 1923A, a93247'에서 '199305'만 출력하세요.\n",
    "data = '199305, 1923A, a93247'\n",
    "\n",
    "p = re.compile('\\d+')\n",
    "m = p.search(data)\n",
    "m.group()"
   ]
  },
  {
   "cell_type": "code",
   "execution_count": 40,
   "id": "1c72358f",
   "metadata": {},
   "outputs": [
    {
     "name": "stdout",
     "output_type": "stream",
     "text": [
      "99food234\n",
      "99food234\n"
     ]
    }
   ],
   "source": [
    "# Q. '99food234, a93456\\n, a9356ba' 에서 '99food234'만 출력하세요.\n",
    "\n",
    "data = '99food234, a93456\\n, a9356ba'\n",
    "p = re.compile('^\\w+')\n",
    "m = p.search(data)\n",
    "print(m.group())\n",
    "\n",
    "p1 = re.compile('^\\w+\\d+')\n",
    "m = p1.search(data)\n",
    "print(m.group())"
   ]
  },
  {
   "cell_type": "code",
   "execution_count": 41,
   "id": "facb11ff",
   "metadata": {},
   "outputs": [
    {
     "name": "stdout",
     "output_type": "stream",
     "text": [
      "<re.Match object; span=(3, 8), match='class'>\n",
      "None\n",
      "\n",
      "None\n",
      "<re.Match object; span=(6, 11), match='class'>\n"
     ]
    }
   ],
   "source": [
    "# \\b whitespace에 의한 구분. 예, the class is\n",
    "# \\B whitespace로 구분된 단어가 아닌 경우에만 매치. 예, multiclasses\n",
    "p = re.compile(r'\\bclass\\b')\n",
    "print(p.search('no class at all'))\n",
    "print(p.search('the declassified algorithem'))\n",
    "print()\n",
    "\n",
    "q = re.compile(r'\\Bclass\\B')\n",
    "print(q.search('no class at all'))\n",
    "print(q.search('the declassified algorithem'))"
   ]
  },
  {
   "cell_type": "code",
   "execution_count": 42,
   "id": "09977053",
   "metadata": {},
   "outputs": [
    {
     "name": "stdout",
     "output_type": "stream",
     "text": [
      "<re.Match object; span=(10, 22), match='032-232-3245'>\n"
     ]
    }
   ],
   "source": [
    "# Q. 정규표현식을 사용하여 text에서 전화번호만 출력하세요.\n",
    "# text = \"문의사항이 있으면 032-232-3245 으로 연락주시기 바랍니다.\"\n",
    "\n",
    "text = \"문의사항이 있으면 032-232-3245 으로 연락주시기 바랍니다.\"\n",
    "p = re.compile('\\d+-\\d+-\\d+')\n",
    "print(p.search(text))"
   ]
  },
  {
   "cell_type": "code",
   "execution_count": 43,
   "id": "fb9dda30",
   "metadata": {
    "scrolled": false
   },
   "outputs": [
    {
     "name": "stdout",
     "output_type": "stream",
     "text": [
      "<re.Match object; span=(10, 22), match='032-232-3245'>\n"
     ]
    }
   ],
   "source": [
    "text = \"문의사항이 있으면 032-232-3245 으로 연락주시기 바랍니다.\"\n",
    "p = re.compile(r'\\b[0-9-]+\\b')  ### 빈칸 사이에 0-9 or -가 하나 이상 있으면 뽑음!\n",
    "print(p.search(text))"
   ]
  },
  {
   "cell_type": "code",
   "execution_count": 44,
   "id": "64a8412c",
   "metadata": {},
   "outputs": [
    {
     "name": "stdout",
     "output_type": "stream",
     "text": [
      "['에러 1122', '에러 1033', '에러 xxx']\n"
     ]
    }
   ],
   "source": [
    "# Q. 정규표현식을 사용하여 text에서 에러가 들어간 부분만 포함하는 리스트를 출력하세요.\n",
    "# text = \"에러 1122, 레퍼런스 오류, 에러 1033, 아규먼트 오류, 에러 xxx\"\n",
    "\n",
    "text = \"에러 1122, 레퍼런스 오류, 에러 1033, 아규먼트 오류, 에러 xxx\"\n",
    "p = re.compile('에러\\s\\w+')  ### 빈칸 사이에 0-9 or -가 하나 이상 있으면 뽑음!\n",
    "print(p.findall(text))"
   ]
  },
  {
   "cell_type": "code",
   "execution_count": 45,
   "id": "4e892475",
   "metadata": {},
   "outputs": [
    {
     "name": "stdout",
     "output_type": "stream",
     "text": [
      "['1 apple', '5 oranges', '3 boys', '4 girls', '10 army', '11 mr']\n"
     ]
    }
   ],
   "source": [
    "# Q. (        )에 정규표현식을 작성하여 아래와 같이 출력하세요.\n",
    "# ['1 apple', '5 oranges', '3 boys', '4 girls', '10 army', '11 mr']\n",
    "\n",
    "import re\n",
    "li = '1 apple, 5 oranges, 3 boys, 4 girls, 10 army| 11 mr'\n",
    "regex = re.compile(r'\\d+\\s\\w+')\n",
    "list = regex.findall(li)\n",
    "print(list)"
   ]
  },
  {
   "cell_type": "code",
   "execution_count": 46,
   "id": "d261f889",
   "metadata": {},
   "outputs": [
    {
     "name": "stdout",
     "output_type": "stream",
     "text": [
      "['H', 'h', 'h']\n"
     ]
    }
   ],
   "source": [
    "# Q. text에서 'H,h'만 출력하세요.\n",
    "text = 'Hello my friend! Life is short you need Python!'\n",
    "p = re.compile('h|H')\n",
    "m = p.findall(text)\n",
    "print(m)"
   ]
  },
  {
   "cell_type": "code",
   "execution_count": 47,
   "id": "f76a0b4e",
   "metadata": {},
   "outputs": [
    {
     "name": "stdout",
     "output_type": "stream",
     "text": [
      "['H', 'h', 'h']\n"
     ]
    }
   ],
   "source": [
    "text = 'Hello my friend! Life is short you need Python!'\n",
    "p = re.compile('[hH]')\n",
    "m = p.findall(text)\n",
    "print(m)"
   ]
  },
  {
   "cell_type": "code",
   "execution_count": 48,
   "id": "5d12e1e7",
   "metadata": {},
   "outputs": [
    {
     "name": "stdout",
     "output_type": "stream",
     "text": [
      "['e', 'l', 'l', 'o', ' ', 'm', 'y', ' ', 'f', 'r', 'i', 'e', 'n', 'd', '!', ' ', 'L', 'i', 'f', 'e', ' ', 'i', 's', ' ', 's', 'o', 'r', 't', ' ', 'y', 'o', 'u', ' ', 'n', 'e', 'e', 'd', ' ', 'P', 'y', 't', 'o', 'n', '!']\n"
     ]
    }
   ],
   "source": [
    "# Q. text에서 'H,h'가 아닌 문자를 출력하세요.\n",
    "text = 'Hello my friend! Life is short you need Python!'\n",
    "p = re.compile('[^hH]')  ### ^는 []대괄호 안에서 반대의 의미로 쓰임. 대괄호 밖에서 쓰면 처음을 의미\n",
    "m = p.findall(text)\n",
    "print(m)"
   ]
  },
  {
   "cell_type": "code",
   "execution_count": 49,
   "id": "3680ddc7",
   "metadata": {},
   "outputs": [
    {
     "name": "stdout",
     "output_type": "stream",
     "text": [
      "<re.Match object; span=(0, 9), match='ABCABCABC'>\n",
      "ABC\n",
      "ABCABCABC\n"
     ]
    }
   ],
   "source": [
    "# 그룹핑 : 매치된 문자열 중에서 특정 부분의 문자열만 뽑아내는 경우 ()으로 만들어 준다.\n",
    "p = re.compile('(ABC)+')\n",
    "m = p.search('ABCABCABC, OK?')\n",
    "print(m)\n",
    "\n",
    "print(m.group(1))\n",
    "print(m.group(0))"
   ]
  },
  {
   "cell_type": "code",
   "execution_count": 50,
   "id": "513bd3f6",
   "metadata": {},
   "outputs": [
    {
     "name": "stdout",
     "output_type": "stream",
     "text": [
      "<re.Match object; span=(3, 9), match='ABCDEF'>\n",
      "ABCDEF\n",
      "AB\n",
      "CD\n",
      "EF\n"
     ]
    }
   ],
   "source": [
    "p = re.compile('((AB)(CD)(EF))') ### 그룹 총 4개, 작은 소괄호 3개와 전체 소괄호 1개\n",
    "                                 ###이런 경우 제일 크게 묶은 그룹이 1번. 다음은 왼쪽부터 순서대로!\n",
    "m = p.search('DEFABCDEFDEF, OK?')\n",
    "print(m)\n",
    "\n",
    "print(m.group(1))\n",
    "print(m.group(2))\n",
    "print(m.group(3))\n",
    "print(m.group(4))\n"
   ]
  },
  {
   "cell_type": "code",
   "execution_count": 51,
   "id": "148592d3",
   "metadata": {},
   "outputs": [
    {
     "name": "stdout",
     "output_type": "stream",
     "text": [
      "color socks and color shoes\n"
     ]
    }
   ],
   "source": [
    "import re\n",
    "p = re.compile('(blue|white|red)')  ### sub(대체로 들어갈 문자, 문자열)\n",
    "print(p.sub('color','blue socks and red shoes'))"
   ]
  },
  {
   "cell_type": "code",
   "execution_count": 52,
   "id": "cc2a6a66",
   "metadata": {},
   "outputs": [
    {
     "name": "stdout",
     "output_type": "stream",
     "text": [
      "abc\n"
     ]
    }
   ],
   "source": [
    "# Q. '12345abc'에서 'abc'만 출력하세요.\n",
    "str ='12345abc'\n",
    "p = re.compile('\\d')\n",
    "print(p.sub('',str))"
   ]
  },
  {
   "cell_type": "code",
   "execution_count": 53,
   "id": "e1b9684f",
   "metadata": {},
   "outputs": [
    {
     "name": "stdout",
     "output_type": "stream",
     "text": [
      "abc\n"
     ]
    }
   ],
   "source": [
    "str ='12345abc'\n",
    "print(re.sub('\\d','',str))"
   ]
  },
  {
   "cell_type": "code",
   "execution_count": 54,
   "id": "dc6c51bb",
   "metadata": {},
   "outputs": [
    {
     "data": {
      "text/plain": [
       "'the the'"
      ]
     },
     "execution_count": 54,
     "metadata": {},
     "output_type": "execute_result"
    }
   ],
   "source": [
    "p=re.compile(r'(\\b\\w+)\\s+\\1')\n",
    "p.search('Paris in the the spring').group()"
   ]
  }
 ],
 "metadata": {
  "kernelspec": {
   "display_name": "Python 3 (ipykernel)",
   "language": "python",
   "name": "python3"
  },
  "language_info": {
   "codemirror_mode": {
    "name": "ipython",
    "version": 3
   },
   "file_extension": ".py",
   "mimetype": "text/x-python",
   "name": "python",
   "nbconvert_exporter": "python",
   "pygments_lexer": "ipython3",
   "version": "3.8.8"
  }
 },
 "nbformat": 4,
 "nbformat_minor": 5
}
