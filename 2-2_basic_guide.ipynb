{
 "cells": [
  {
   "cell_type": "markdown",
   "id": "cb5b281d",
   "metadata": {},
   "source": [
    "# 6/23 "
   ]
  },
  {
   "cell_type": "code",
   "execution_count": 2,
   "id": "b59ff9bf",
   "metadata": {},
   "outputs": [
    {
     "name": "stdout",
     "output_type": "stream",
     "text": [
      "1 2 3 4 5 1 2 3 4 5 "
     ]
    }
   ],
   "source": [
    "# 제어문 for~continue~break\n",
    "# 1 ~ 10 범위의 정수에서 1부터 5까지만 c출력하세요\n",
    "\n",
    "for i in range(1,11):\n",
    "    print(i, end=' ')\n",
    "    if i < 5:\n",
    "        continue\n",
    "    else:\n",
    "        break \n",
    "\n",
    "        \n",
    "for i in range(1,11):\n",
    "    if 1 <= i <= 5:\n",
    "        print(i, end=' ')"
   ]
  },
  {
   "cell_type": "code",
   "execution_count": 4,
   "id": "abe6bbb1",
   "metadata": {},
   "outputs": [
    {
     "name": "stdout",
     "output_type": "stream",
     "text": [
      "15 20 25 15 20 25 "
     ]
    }
   ],
   "source": [
    "# Q. numbers 리스트에서 15, 20, 25를 출력하세요.(for문과 if조건 사용 필수)\n",
    "\n",
    "numbers= [5,15,6,20,7,25]\n",
    "\n",
    "for i in numbers:\n",
    "    if i % 5 == 0 and 5 < i:\n",
    "        print(i, end=' ')\n",
    "        \n",
    "        \n",
    "for number in numbers:\n",
    "    if number < 15:\n",
    "        continue\n",
    "    else:\n",
    "        print(number, end=' ')"
   ]
  },
  {
   "cell_type": "code",
   "execution_count": 8,
   "id": "f1a3a367",
   "metadata": {
    "scrolled": true
   },
   "outputs": [
    {
     "name": "stdout",
     "output_type": "stream",
     "text": [
      "45\n",
      "1035\n"
     ]
    }
   ],
   "source": [
    "# 제어문 - while\n",
    "# 정수 1부터 n까지 더할 때 그 합이 1000보다 커지게 되는 n과 합을 구하세요.\n",
    "\n",
    "x = 1\n",
    "sum = 0\n",
    "while 1 :\n",
    "    sum += x\n",
    "    if sum > 1000:\n",
    "        print(x)\n",
    "        print(sum)\n",
    "        break\n",
    "    x = x + 1"
   ]
  },
  {
   "cell_type": "code",
   "execution_count": 10,
   "id": "0a9652a2",
   "metadata": {},
   "outputs": [
    {
     "name": "stdout",
     "output_type": "stream",
     "text": [
      "166833\n"
     ]
    }
   ],
   "source": [
    "# Q. while문을 사용해 1부터 1000까지의 정수 중 3의 배수의 합을 구해보세요.\n",
    "\n",
    "sum = 0\n",
    "i = 1\n",
    "while i < 1001:\n",
    "    if i % 3 == 0:\n",
    "        sum += i\n",
    "    i += 1\n",
    "print(sum)"
   ]
  },
  {
   "cell_type": "code",
   "execution_count": 14,
   "id": "71a64675",
   "metadata": {},
   "outputs": [
    {
     "name": "stdout",
     "output_type": "stream",
     "text": [
      "4550\n"
     ]
    }
   ],
   "source": [
    "# Q. while~continue~break문을 사용해 1부터 100까지의 정수 중 5에서 95까지의 합을 구하세요.\n",
    "\n",
    "sum = 0\n",
    "i = 1\n",
    "\n",
    "while i < 101:\n",
    "    if 5 <= i <= 95:\n",
    "        sum += i\n",
    "    i += 1\n",
    "print(sum)"
   ]
  },
  {
   "cell_type": "code",
   "execution_count": 16,
   "id": "53aadf89",
   "metadata": {},
   "outputs": [
    {
     "name": "stdout",
     "output_type": "stream",
     "text": [
      "5050\n",
      "10\n",
      "490\n"
     ]
    }
   ],
   "source": [
    "# 1 ~ 100 합\n",
    "sum = 0\n",
    "for i in range(1,101):\n",
    "    sum += i\n",
    "print(sum)\n",
    "\n",
    "# 1 ~ 4 합\n",
    "sum1 = 0\n",
    "for i in range(1,5):\n",
    "    sum1 += i\n",
    "print(sum1)\n",
    "\n",
    "# 96 ~ 100 합\n",
    "sum2 = 0\n",
    "for i in range(96,101):\n",
    "    sum2 += i\n",
    "print(sum2)"
   ]
  },
  {
   "cell_type": "code",
   "execution_count": 17,
   "id": "33dfd88e",
   "metadata": {},
   "outputs": [
    {
     "name": "stdout",
     "output_type": "stream",
     "text": [
      "32\n",
      "25\n"
     ]
    }
   ],
   "source": [
    "# Q. 람다 함수를 이용해서 a의 b제곱을 구하는 식을 만들고\n",
    "# a,b가 아래와 같이 주어졌을 때 각각의 값을 구하세요.\n",
    "# a = 2, b = 5\n",
    "# a = 5, b = 2\n",
    "\n",
    "x = lambda a, b : a ** b\n",
    "print(x(2,5))\n",
    "print(x(5,2))\n"
   ]
  },
  {
   "cell_type": "code",
   "execution_count": 18,
   "id": "ae353ddf",
   "metadata": {},
   "outputs": [
    {
     "data": {
      "text/plain": [
       "1"
      ]
     },
     "execution_count": 18,
     "metadata": {},
     "output_type": "execute_result"
    }
   ],
   "source": [
    "# a = 2; b = 3; c = 5\n",
    "# a * b - c\n",
    "\n",
    "x = lambda a, b, c : a*b-c\n",
    "x(2,3,5)"
   ]
  },
  {
   "cell_type": "code",
   "execution_count": 19,
   "id": "8b7e8b58",
   "metadata": {},
   "outputs": [
    {
     "data": {
      "text/plain": [
       "(2, 17)"
      ]
     },
     "execution_count": 19,
     "metadata": {},
     "output_type": "execute_result"
    }
   ],
   "source": [
    "# Q. 97을 40으로 나눈 몫과 나머지를 내장함수를 이용하여 구하세요.(튜플로 출력 필수)\n",
    "\n",
    "a, b = 97, 40\n",
    "divmod(a,b)"
   ]
  },
  {
   "cell_type": "code",
   "execution_count": 20,
   "id": "bd9bdfbe",
   "metadata": {},
   "outputs": [
    {
     "data": {
      "text/plain": [
       "110"
      ]
     },
     "execution_count": 20,
     "metadata": {},
     "output_type": "execute_result"
    }
   ],
   "source": [
    "# 사용자 함수 만들기\n",
    "\n",
    "def add_10(a):\n",
    "    return a + 10\n",
    "\n",
    "add_10(100)"
   ]
  },
  {
   "cell_type": "code",
   "execution_count": 21,
   "id": "bdbf5f7a",
   "metadata": {},
   "outputs": [
    {
     "data": {
      "text/plain": [
       "1"
      ]
     },
     "execution_count": 21,
     "metadata": {},
     "output_type": "execute_result"
    }
   ],
   "source": [
    "# a = 2; b = 3; c = 5\n",
    "# a * b - c\n",
    "\n",
    "def cal(a,b,c):\n",
    "    return a*b-c\n",
    "\n",
    "cal(2,3,5)"
   ]
  },
  {
   "cell_type": "code",
   "execution_count": 22,
   "id": "e9f02910",
   "metadata": {},
   "outputs": [
    {
     "name": "stdout",
     "output_type": "stream",
     "text": [
      "현재 시간은 17시 58분으로 오후입니다.\n"
     ]
    }
   ],
   "source": [
    "# Q. 현재 시각을 오전과 오후를 구분하는 프로그램을 작성하세요.\n",
    "\n",
    "import datetime\n",
    "\n",
    "now = datetime.datetime.now()\n",
    "hour = now.hour\n",
    "minute = now.minute\n",
    "\n",
    "if hour < 12:\n",
    "    print(\"현재 시간은 {}시 {}분으로 오전입니다.\".format(hour, minute))\n",
    "else:\n",
    "    print(\"현재 시간은 {}시 {}분으로 오후입니다.\".format(hour, minute))"
   ]
  },
  {
   "cell_type": "code",
   "execution_count": 23,
   "id": "2df52bab",
   "metadata": {},
   "outputs": [
    {
     "name": "stdout",
     "output_type": "stream",
     "text": [
      "정수 입력 : 11\n",
      "홀수\n"
     ]
    }
   ],
   "source": [
    "# Q. 정수를 입력하면 홀수 짝수를 판별하는 프로그램 작성\n",
    "\n",
    "number = int(input(\"정수 입력 : \"))\n",
    "\n",
    "if number % 2 == 0:\n",
    "    print(\"짝수\")\n",
    "else:\n",
    "    print(\"홀수\")    "
   ]
  },
  {
   "cell_type": "code",
   "execution_count": 26,
   "id": "973df5f0",
   "metadata": {},
   "outputs": [
    {
     "name": "stdout",
     "output_type": "stream",
     "text": [
      "숫자 1> 3\n",
      "숫자 2> 10\n",
      "10\n"
     ]
    }
   ],
   "source": [
    "# Q. 사용자로부터 서로 다른 숫자 두 개를 입력받고 첫 번째와 두 번째 중 큰 숫자를 구하는 프로그램을 수행하세요.\n",
    "\n",
    "N1 = int(input(\"숫자 1> \"))\n",
    "N2 = int(input(\"숫자 2> \"))\n",
    "\n",
    "if N1 > N2:\n",
    "    print(N1)\n",
    "elif N2 > N1:\n",
    "    print(N2)\n",
    "else:\n",
    "    print(\"서로 다른 숫자 입력\")"
   ]
  }
 ],
 "metadata": {
  "kernelspec": {
   "display_name": "Python 3 (ipykernel)",
   "language": "python",
   "name": "python3"
  },
  "language_info": {
   "codemirror_mode": {
    "name": "ipython",
    "version": 3
   },
   "file_extension": ".py",
   "mimetype": "text/x-python",
   "name": "python",
   "nbconvert_exporter": "python",
   "pygments_lexer": "ipython3",
   "version": "3.8.8"
  }
 },
 "nbformat": 4,
 "nbformat_minor": 5
}
