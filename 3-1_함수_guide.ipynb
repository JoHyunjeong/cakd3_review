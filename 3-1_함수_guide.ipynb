{
 "cells": [
  {
   "cell_type": "markdown",
   "id": "9d482efe",
   "metadata": {},
   "source": [
    "# 6/24"
   ]
  },
  {
   "cell_type": "code",
   "execution_count": 1,
   "id": "81615866",
   "metadata": {},
   "outputs": [
    {
     "name": "stdout",
     "output_type": "stream",
     "text": [
      "Hi\n"
     ]
    }
   ],
   "source": [
    "# 입력값이 없고 결과값만 있는 함수\n",
    "\n",
    "def say():\n",
    "    return 'Hi'\n",
    "\n",
    "a=say()\n",
    "print(a)"
   ]
  },
  {
   "cell_type": "code",
   "execution_count": 2,
   "id": "3a6b583e",
   "metadata": {},
   "outputs": [
    {
     "name": "stdout",
     "output_type": "stream",
     "text": [
      "5\n"
     ]
    }
   ],
   "source": [
    "# 결과값(return) 없는 함수\n",
    "\n",
    "def add(a,b):\n",
    "    print(a+b)\n",
    "    \n",
    "add(2,3)"
   ]
  },
  {
   "cell_type": "code",
   "execution_count": 3,
   "id": "26b93c86",
   "metadata": {},
   "outputs": [
    {
     "name": "stdout",
     "output_type": "stream",
     "text": [
      "Hi\n"
     ]
    }
   ],
   "source": [
    "# 입력값도 결과값도 없는 함수\n",
    "\n",
    "def say():\n",
    "    print('Hi')\n",
    "    \n",
    "say()"
   ]
  },
  {
   "cell_type": "code",
   "execution_count": 4,
   "id": "e5459517",
   "metadata": {},
   "outputs": [
    {
     "data": {
      "text/plain": [
       "55"
      ]
     },
     "execution_count": 4,
     "metadata": {},
     "output_type": "execute_result"
    }
   ],
   "source": [
    "# 여러 개의 입력값을 받는 함수\n",
    "\n",
    "def sum_many(*args):                   \n",
    "    sum = 0\n",
    "    for i in args:\n",
    "        sum += i\n",
    "    return sum\n",
    "\n",
    "sum_many(1,2,3,4,5,6,7,8,9,10)"
   ]
  },
  {
   "cell_type": "code",
   "execution_count": 5,
   "id": "0f03eeb9",
   "metadata": {},
   "outputs": [
    {
     "name": "stdout",
     "output_type": "stream",
     "text": [
      "(7, 12)\n"
     ]
    }
   ],
   "source": [
    "# 함수의 반환값(결과값)은 언제나 하나임 - 결과값으로 튜플 값 하나로 처리\n",
    "\n",
    "def add_and_mul(a,b):\n",
    "    return a+b, a*b\n",
    "\n",
    "result = add_and_mul(3,4)\n",
    "print(result)"
   ]
  },
  {
   "cell_type": "code",
   "execution_count": 6,
   "id": "0955e3b9",
   "metadata": {},
   "outputs": [
    {
     "name": "stdout",
     "output_type": "stream",
     "text": [
      "5\n"
     ]
    }
   ],
   "source": [
    "# 함수의 반환값(결과값)은 언제나 하나임 - 여러 개일 경우 첫 반환값(결과값)만 나옴\n",
    "\n",
    "def add_and_mul(a,b):\n",
    "    return a+b\n",
    "    return a*b\n",
    "\n",
    "result = add_and_mul(2,3)\n",
    "print(result)"
   ]
  },
  {
   "cell_type": "code",
   "execution_count": 7,
   "id": "253c81c0",
   "metadata": {},
   "outputs": [
    {
     "name": "stdout",
     "output_type": "stream",
     "text": [
      "5\n",
      "6\n"
     ]
    }
   ],
   "source": [
    "# 하나의 튜플 값을 두 개의 결과값처럼 출력\n",
    "\n",
    "def add_and_mul(a,b):\n",
    "    return a+b, a*b\n",
    "\n",
    "result1, result2 = add_and_mul(2,3)\n",
    "print(result1)\n",
    "print(result2)"
   ]
  },
  {
   "cell_type": "code",
   "execution_count": 9,
   "id": "655eb28c",
   "metadata": {},
   "outputs": [
    {
     "name": "stdout",
     "output_type": "stream",
     "text": [
      "15\n",
      "120\n"
     ]
    }
   ],
   "source": [
    "# add_mul() 함수를 정의하여 1,2,3,4,5를 입력값으로 적용하여 덧셈, 곱셈 연산을 수행\n",
    "# 입력값으로 연산방법과 숫자를 입력\n",
    "# add_mul('add', 1,2,3,4,5)\n",
    "# add_mul('mul', 1,2,3,4,5)\n",
    "\n",
    "def add_mul(choice,*args):\n",
    "    if choice == 'add':\n",
    "        result = 0\n",
    "        for i in args:\n",
    "            result += i\n",
    "    elif choice == 'mul':\n",
    "        result = 1\n",
    "        for i in args:\n",
    "            result *= i\n",
    "    else:\n",
    "        result='잘못 입력하셨습니다.'\n",
    "    return result\n",
    "\n",
    "print(add_mul('add',1,2,3,4,5))\n",
    "print(add_mul('mul',1,2,3,4,5))"
   ]
  },
  {
   "cell_type": "code",
   "execution_count": 10,
   "id": "ee561baa",
   "metadata": {},
   "outputs": [
    {
     "name": "stdout",
     "output_type": "stream",
     "text": [
      "나의 별명은 야호입니다.\n"
     ]
    },
    {
     "data": {
      "text/plain": [
       "'아니야!'"
      ]
     },
     "execution_count": 10,
     "metadata": {},
     "output_type": "execute_result"
    }
   ],
   "source": [
    "# 문자열을 출력한다는 것과 리턴값이 있다는 것은 전혀 다른 것임\n",
    "\n",
    "def say_nick(nick):\n",
    "    if nick == '바보':\n",
    "        return '아니야!'\n",
    "    print('나의 별명은 %s입니다.'% nick)\n",
    "    \n",
    "say_nick('야호')\n",
    "say_nick('바보')"
   ]
  },
  {
   "cell_type": "code",
   "execution_count": 11,
   "id": "85d08eb1",
   "metadata": {},
   "outputs": [
    {
     "name": "stdout",
     "output_type": "stream",
     "text": [
      "나의 이름은 홍길동입니다.\n",
      "나이는 20살 입니다.\n",
      "남자입니다.\n",
      "--------------------------------------------------\n",
      "나의 이름은 홍길동입니다.\n",
      "나이는 20살 입니다.\n",
      "여자입니다.\n"
     ]
    }
   ],
   "source": [
    "# 입력 인수에 초기값 미리 설정하기\n",
    "\n",
    "def say_myself(name, old, man=True):\n",
    "    print('나의 이름은 %s입니다.' %name)\n",
    "    print('나이는 %d살 입니다.' %old)\n",
    "    if man:\n",
    "        print('남자입니다.')\n",
    "    else:\n",
    "        print('여자입니다.')\n",
    "say_myself('홍길동', 20)                   ### man=True 초기값 설정을 미리 해놨기 때문에, man을 별도로 적지 않아도 True로 나옴.\n",
    "print('-'*50)\n",
    "say_myself('홍길동', 20, False)           ### 여자로 나오게 하려면 True의 반대인 False 입력\n",
    "\n",
    "                                          ### 주의할 점 : True 값 설정하는 부분은 반드시 뒤에 있어야 함."
   ]
  },
  {
   "cell_type": "code",
   "execution_count": 14,
   "id": "0be4b9e9",
   "metadata": {
    "scrolled": true
   },
   "outputs": [
    {
     "ename": "SyntaxError",
     "evalue": "non-default argument follows default argument (3289208029.py, line 3)",
     "output_type": "error",
     "traceback": [
      "\u001b[0;36m  File \u001b[0;32m\"/var/folders/gs/xm5833ws6f7361xlj18d2j140000gn/T/ipykernel_979/3289208029.py\"\u001b[0;36m, line \u001b[0;32m3\u001b[0m\n\u001b[0;31m    def say_myself(name, man=True, old):\u001b[0m\n\u001b[0m                   ^\u001b[0m\n\u001b[0;31mSyntaxError\u001b[0m\u001b[0;31m:\u001b[0m non-default argument follows default argument\n"
     ]
    }
   ],
   "source": [
    "# 초기값 설정 인수 뒤에 입력 인수는 사용할 수 없음.\n",
    "\n",
    "def say_myself(name, man=True, old):\n",
    "    print('나의 이름은 %s입니다.' %name)\n",
    "    print('나이는 %d살 입니다.' %old)\n",
    "    if man:\n",
    "        print('남자입니다.')\n",
    "    else:\n",
    "        print('여자입니다.')\n",
    "        \n",
    "say_myself('홍길동', 20)"
   ]
  },
  {
   "cell_type": "code",
   "execution_count": 15,
   "id": "bd62de01",
   "metadata": {},
   "outputs": [
    {
     "name": "stdout",
     "output_type": "stream",
     "text": [
      "None\n",
      "1\n"
     ]
    }
   ],
   "source": [
    "# 함수 안에서 선언된 변수의 효력 범위\n",
    "### (변수가 밖에 있으면 글로벌변수, 전역변수라고 함)\n",
    "\n",
    "a = 1 \n",
    "def vartest(a):\n",
    "    a = a + 1\n",
    "\n",
    "print(vartest(a))\n",
    "print(a)"
   ]
  },
  {
   "cell_type": "code",
   "execution_count": 16,
   "id": "5f75482d",
   "metadata": {},
   "outputs": [
    {
     "name": "stdout",
     "output_type": "stream",
     "text": [
      "2\n"
     ]
    }
   ],
   "source": [
    "# 함수 안에서 함수 밖의 변수를 변경하는 방법 - return 이용\n",
    "\n",
    "a = 1\n",
    "def vartest(a):\n",
    "    a = a + 1\n",
    "    return a\n",
    "\n",
    "a = vartest(a)\n",
    "print(a)"
   ]
  },
  {
   "cell_type": "code",
   "execution_count": 17,
   "id": "45d22b6a",
   "metadata": {},
   "outputs": [
    {
     "name": "stdout",
     "output_type": "stream",
     "text": [
      "2\n"
     ]
    }
   ],
   "source": [
    "# global 명령을 이용하는 방법 - global 이용\n",
    "\n",
    "a = 1 \n",
    "def vartest():\n",
    "    global a\n",
    "    a = a + 1\n",
    "\n",
    "vartest()\n",
    "print(a)"
   ]
  },
  {
   "cell_type": "code",
   "execution_count": 18,
   "id": "52bc2b39",
   "metadata": {},
   "outputs": [],
   "source": [
    "# 파일 읽고 쓰기\n",
    "\n",
    "f = open('test1.txt','w')        # 'w'는 쓴다는 의미(write)\n",
    "f.close()                        # 다 쓴 후에는 꺼줘야 함\n",
    "\n",
    "                                 # 실행하면 폴더에 test1.txt 자동 생성됨."
   ]
  },
  {
   "cell_type": "code",
   "execution_count": 19,
   "id": "b4fde101",
   "metadata": {},
   "outputs": [],
   "source": [
    "f = open('test1.txt','w')\n",
    "for i in range(1,11):\n",
    "    data = '%d번째 줄입니다.\\n'%i\n",
    "    f.write(data)\n",
    "    \n",
    "f.close()"
   ]
  },
  {
   "cell_type": "code",
   "execution_count": 20,
   "id": "a11b6f1d",
   "metadata": {},
   "outputs": [
    {
     "name": "stdout",
     "output_type": "stream",
     "text": [
      "1번째 줄입니다.\n",
      "\n"
     ]
    }
   ],
   "source": [
    "f = open('test1.txt','r')        # 'r'은 읽는다는 의미(read)\n",
    "line = f.readline()\n",
    "print(line)\n",
    "f.close()"
   ]
  },
  {
   "cell_type": "code",
   "execution_count": 20,
   "id": "a6b5aaee",
   "metadata": {},
   "outputs": [
    {
     "name": "stdout",
     "output_type": "stream",
     "text": [
      "1번째 줄입니다.\n",
      "\n",
      "2번째 줄입니다.\n",
      "\n",
      "3번째 줄입니다.\n",
      "\n",
      "4번째 줄입니다.\n",
      "\n",
      "5번째 줄입니다.\n",
      "\n",
      "6번째 줄입니다.\n",
      "\n",
      "7번째 줄입니다.\n",
      "\n",
      "8번째 줄입니다.\n",
      "\n",
      "9번째 줄입니다.\n",
      "\n",
      "10번째 줄입니다.\n",
      "\n"
     ]
    }
   ],
   "source": [
    "f = open('test1.txt','r')\n",
    "while 1:                         # 숫자는 0만 False, 나머지는 True\n",
    "    line = f.readline()\n",
    "    if not line: break\n",
    "    print(line)\n",
    "f.close()"
   ]
  },
  {
   "cell_type": "code",
   "execution_count": 21,
   "id": "1b214215",
   "metadata": {},
   "outputs": [],
   "source": [
    "f = open('test2.txt','w')\n",
    "for i in range(1,11):\n",
    "    data = \"파이썬%d\\n\"%i\n",
    "    f.write(data)\n",
    "f.close()"
   ]
  },
  {
   "cell_type": "code",
   "execution_count": 22,
   "id": "16c9b40e",
   "metadata": {
    "scrolled": true
   },
   "outputs": [
    {
     "name": "stdout",
     "output_type": "stream",
     "text": [
      "파이썬1\n",
      "\n",
      "파이썬2\n",
      "\n",
      "파이썬3\n",
      "\n",
      "파이썬4\n",
      "\n",
      "파이썬5\n",
      "\n",
      "파이썬6\n",
      "\n",
      "파이썬7\n",
      "\n",
      "파이썬8\n",
      "\n",
      "파이썬9\n",
      "\n",
      "파이썬10\n",
      "\n"
     ]
    }
   ],
   "source": [
    "f = open('test2.txt','r')\n",
    "while 1:\n",
    "    line = f.readline()\n",
    "    if not line:break\n",
    "    print(line)\n",
    "f.close()"
   ]
  },
  {
   "cell_type": "code",
   "execution_count": 23,
   "id": "97675e2b",
   "metadata": {},
   "outputs": [
    {
     "name": "stdout",
     "output_type": "stream",
     "text": [
      "1번째 줄입니다.\n",
      "\n",
      "2번째 줄입니다.\n",
      "\n",
      "3번째 줄입니다.\n",
      "\n",
      "4번째 줄입니다.\n",
      "\n",
      "5번째 줄입니다.\n",
      "\n",
      "6번째 줄입니다.\n",
      "\n",
      "7번째 줄입니다.\n",
      "\n",
      "8번째 줄입니다.\n",
      "\n",
      "9번째 줄입니다.\n",
      "\n",
      "10번째 줄입니다.\n",
      "\n"
     ]
    }
   ],
   "source": [
    "f = open('test1.txt','r')\n",
    "lines = f.readlines()\n",
    "for line in lines:\n",
    "    print(line)\n",
    "f.close()"
   ]
  },
  {
   "cell_type": "code",
   "execution_count": 24,
   "id": "5e0a0c03",
   "metadata": {
    "scrolled": false
   },
   "outputs": [
    {
     "name": "stdout",
     "output_type": "stream",
     "text": [
      "1번째 줄입니다.\n",
      "2번째 줄입니다.\n",
      "3번째 줄입니다.\n",
      "4번째 줄입니다.\n",
      "5번째 줄입니다.\n",
      "6번째 줄입니다.\n",
      "7번째 줄입니다.\n",
      "8번째 줄입니다.\n",
      "9번째 줄입니다.\n",
      "10번째 줄입니다.\n",
      "\n"
     ]
    }
   ],
   "source": [
    "# f.read()는 파일 내용 전체를 문자열로 반환\n",
    "\n",
    "f = open('test1.txt','r')\n",
    "data = f.read()\n",
    "print(data)\n",
    "f.close()"
   ]
  },
  {
   "cell_type": "code",
   "execution_count": 25,
   "id": "0f952e3f",
   "metadata": {},
   "outputs": [],
   "source": [
    "f = open('test1.txt','a')     # 'a'는 추가(add)\n",
    "for i in range(11,16):\n",
    "    data = \"%d번째 줄입니다.\\n\" %i\n",
    "    f.write(data)\n",
    "f.close()"
   ]
  },
  {
   "cell_type": "code",
   "execution_count": 26,
   "id": "b25e3c1f",
   "metadata": {},
   "outputs": [
    {
     "name": "stdout",
     "output_type": "stream",
     "text": [
      "1번째 줄입니다.\n",
      "2번째 줄입니다.\n",
      "3번째 줄입니다.\n",
      "4번째 줄입니다.\n",
      "5번째 줄입니다.\n",
      "6번째 줄입니다.\n",
      "7번째 줄입니다.\n",
      "8번째 줄입니다.\n",
      "9번째 줄입니다.\n",
      "10번째 줄입니다.\n",
      "11번째 줄입니다.\n",
      "12번째 줄입니다.\n",
      "13번째 줄입니다.\n",
      "14번째 줄입니다.\n",
      "15번째 줄입니다.\n",
      "\n"
     ]
    }
   ],
   "source": [
    "f = open('test1.txt','r')\n",
    "data = f.read()\n",
    "print(data)\n",
    "f.close()"
   ]
  },
  {
   "cell_type": "code",
   "execution_count": 29,
   "id": "df89cb0c",
   "metadata": {},
   "outputs": [],
   "source": [
    "# with 문과 같이 사용\n",
    "\n",
    "with open('foo.txt','w') as f:\n",
    "    f.write('파이썬을 배웁시다.')   # 이건 close 안해줘도 됨."
   ]
  },
  {
   "cell_type": "code",
   "execution_count": 31,
   "id": "c9b5be77",
   "metadata": {},
   "outputs": [
    {
     "name": "stdout",
     "output_type": "stream",
     "text": [
      "파이썬을 배웁시다.\n"
     ]
    }
   ],
   "source": [
    "with open('foo.txt','r') as f:\n",
    "    data = f.read()\n",
    "    print(data)"
   ]
  },
  {
   "cell_type": "code",
   "execution_count": 32,
   "id": "32ed48fb",
   "metadata": {},
   "outputs": [],
   "source": [
    "with open('test1.txt','w') as f:\n",
    "    for i in range(1,11):\n",
    "        data = \"%d번째 줄입니다.\\n\" %i\n",
    "        f.write(data)"
   ]
  },
  {
   "cell_type": "code",
   "execution_count": 33,
   "id": "537a0c4f",
   "metadata": {},
   "outputs": [],
   "source": [
    "with open('test1.txt','a') as f:\n",
    "    for i in range(11,16):\n",
    "        data = \"%d번째 줄입니다.\\n\" %i\n",
    "        f.write(data)"
   ]
  },
  {
   "cell_type": "code",
   "execution_count": 34,
   "id": "00dda328",
   "metadata": {},
   "outputs": [
    {
     "name": "stdout",
     "output_type": "stream",
     "text": [
      "1번째 줄입니다.\n",
      "2번째 줄입니다.\n",
      "3번째 줄입니다.\n",
      "4번째 줄입니다.\n",
      "5번째 줄입니다.\n",
      "6번째 줄입니다.\n",
      "7번째 줄입니다.\n",
      "8번째 줄입니다.\n",
      "9번째 줄입니다.\n",
      "10번째 줄입니다.\n",
      "11번째 줄입니다.\n",
      "12번째 줄입니다.\n",
      "13번째 줄입니다.\n",
      "14번째 줄입니다.\n",
      "15번째 줄입니다.\n",
      "\n"
     ]
    }
   ],
   "source": [
    "with open('test1.txt','r') as f:\n",
    "    data = f.read()\n",
    "    print(data)"
   ]
  },
  {
   "cell_type": "markdown",
   "id": "278603bd",
   "metadata": {},
   "source": [
    "## 내장함수(참고)\n",
    "https://docs.python.org/ko/3/library/functions.html"
   ]
  },
  {
   "cell_type": "code",
   "execution_count": 36,
   "id": "b56a8477",
   "metadata": {},
   "outputs": [
    {
     "name": "stdout",
     "output_type": "stream",
     "text": [
      "3\n",
      "False\n",
      "True\n",
      "a\n"
     ]
    }
   ],
   "source": [
    "# 내장함수                     \n",
    "\n",
    "print(abs(-3))          # abs : 절대값\n",
    "print(all([1,2,3,0]))   # all : x가 모두 참이면 True, 하나라도 거짓이 있으면 False(0은 False)\n",
    "print(any([1,2,3,0]))   # any : x 중 하나라도 참이면 True, 모두 거짓일 경우 False\n",
    "print(chr(97))          # 아스키코드 사용\n",
    "                        # 아스키코드(ASCII Table) - 문자와 숫자를 매치시켜줌\n",
    "                        # 한글은 대부분 UTF 8을 씀"
   ]
  },
  {
   "cell_type": "code",
   "execution_count": 37,
   "id": "f1c584e4",
   "metadata": {},
   "outputs": [
    {
     "data": {
      "text/plain": [
       "7"
      ]
     },
     "execution_count": 37,
     "metadata": {},
     "output_type": "execute_result"
    }
   ],
   "source": [
    "sum = lambda a,b : a+b  # 간단한건 람다함수로 처리\n",
    "sum(3,4)"
   ]
  },
  {
   "cell_type": "code",
   "execution_count": 38,
   "id": "a708962d",
   "metadata": {},
   "outputs": [
    {
     "name": "stdout",
     "output_type": "stream",
     "text": [
      "7\n",
      "12\n"
     ]
    }
   ],
   "source": [
    "myList = [lambda a,b:a+b, lambda a,b:a*b]   # 람다함수 리스트 안에 넣기\n",
    "print(myList[0](3,4))\n",
    "print(myList[1](3,4))"
   ]
  },
  {
   "cell_type": "code",
   "execution_count": 36,
   "id": "b31769f2",
   "metadata": {},
   "outputs": [
    {
     "name": "stdout",
     "output_type": "stream",
     "text": [
      "9\n",
      "18\n",
      "3\n",
      "2.0\n"
     ]
    }
   ],
   "source": [
    "### 람다함수 딕셔너리안에 넣기!\n",
    "mylist = {\"add\":lambda a,b:a+b, \"mul\":lambda a,b:a*b, \"sub\":lambda a,b:a-b, \"div\":lambda a,b:a/b}\n",
    "\n",
    "print(mylist[\"add\"](6,3))\n",
    "print(mylist[\"mul\"](6,3))\n",
    "print(mylist[\"sub\"](6,3))\n",
    "print(mylist[\"div\"](6,3))"
   ]
  },
  {
   "cell_type": "code",
   "execution_count": 37,
   "id": "6f6ef2dd",
   "metadata": {
    "scrolled": true
   },
   "outputs": [
    {
     "name": "stdout",
     "output_type": "stream",
     "text": [
      "6\n",
      "3\n",
      "3\n",
      "3\n"
     ]
    }
   ],
   "source": [
    "print(len('python')) # 글자수 세기\n",
    "print(len([1,2,3]))\n",
    "print(len([1,2,'a']))\n",
    "print(len([1,2,'abc']))"
   ]
  },
  {
   "cell_type": "code",
   "execution_count": 39,
   "id": "eb064c18",
   "metadata": {},
   "outputs": [
    {
     "data": {
      "text/plain": [
       "['p', 'y', 't', 'h', 'o', 'n']"
      ]
     },
     "execution_count": 39,
     "metadata": {},
     "output_type": "execute_result"
    }
   ],
   "source": [
    "list('python')"
   ]
  },
  {
   "cell_type": "code",
   "execution_count": 40,
   "id": "0b6140e9",
   "metadata": {
    "scrolled": false
   },
   "outputs": [
    {
     "name": "stdout",
     "output_type": "stream",
     "text": [
      "[0, 1, 2, 3, 4]\n",
      "[1, 2, 3, 4, 5]\n",
      "[1, 3, 5, 7, 9]\n",
      "[10, 9, 8, 7, 6, 5, 4, 3, 2, 1]\n",
      "[0, -1, -2, -3, -4, -5, -6, -7, -8, -9]\n"
     ]
    }
   ],
   "source": [
    "print(list(range(5)))        # 리스트 만들기\n",
    "print(list(range(1,6)))\n",
    "print(list(range(1,10,2)))   # 간격 설정하기\n",
    "print(list(range(10,0,-1)))  # 간격 마이너스\n",
    "print(list(range(0,-10,-1))) # 마이너스"
   ]
  },
  {
   "cell_type": "markdown",
   "id": "bac6675e",
   "metadata": {},
   "source": [
    "### 외장함수(참고)\n",
    "https://yganalyst.github.io/data_handling/Py_study17/"
   ]
  },
  {
   "cell_type": "markdown",
   "id": "6ba3d4f1",
   "metadata": {},
   "source": [
    "- 외장 함수 : 어떤 일을 할 때 어떤 라이브러리를 사용하는지를 알면 됨\n",
    "- 전 세계의 파이썬 사용자들이 만든 유용한 프로그램을 모아 놓은 것이 바로 파이썬 라이브러리\n",
    "- 파이썬 라이브러리는 파이썬을 설치할 때 자동으로 컴퓨터에 설치  \n",
    "import해서 사용"
   ]
  },
  {
   "cell_type": "markdown",
   "id": "e2e5dde7",
   "metadata": {},
   "source": [
    "## Pickle"
   ]
  },
  {
   "cell_type": "code",
   "execution_count": 43,
   "id": "3e1ab29f",
   "metadata": {},
   "outputs": [],
   "source": [
    "# pickle은 객체의 형태를 유지하면서 파일에 저장하고 불러올 수 있게 하는 모듈\n",
    "\n",
    "import pickle\n",
    "\n",
    "f = open('test.txt','wb')        # 바이너리로 쓰는건 wb(pickle은 바이너리)\n",
    "data = {1:'python',2:'you need'}\n",
    "pickle.dump(data,f)              # 저장할 때 pickle의 dump 함수 사용/ dump(a,b) : b에 a를 쓴다.\n",
    "f.close()"
   ]
  },
  {
   "cell_type": "code",
   "execution_count": 44,
   "id": "0b53791f",
   "metadata": {},
   "outputs": [
    {
     "name": "stdout",
     "output_type": "stream",
     "text": [
      "{1: 'python', 2: 'you need'}\n"
     ]
    }
   ],
   "source": [
    "import pickle\n",
    "\n",
    "f = open('test.txt','rb')        # 바이너리로 읽는 건 rb\n",
    "data = pickle.load(f)            # 읽어올 때 pickle의 load 함수 사용\n",
    "print(data)\n",
    "f.close()"
   ]
  },
  {
   "cell_type": "markdown",
   "id": "8b88f012",
   "metadata": {},
   "source": [
    "## os"
   ]
  },
  {
   "cell_type": "code",
   "execution_count": 45,
   "id": "4e8b3bdc",
   "metadata": {
    "scrolled": true
   },
   "outputs": [
    {
     "data": {
      "text/plain": [
       "'/Users/hyunjeongjo/.pyenv/bin:/usr/local/m1-homebrew/Cellar/pyenv-virtualenv/1.1.5/shims:/Users/hyunjeongjo/.pyenv/bin:/Users/hyunjeongjo/opt/anaconda3/bin:/usr/local/bin:/usr/bin:/bin:/usr/sbin:/sbin:/Users/hyunjeongjo/Desktop/chrome:/usr/local/m1-homebrew/bin:/usr/local/m1-homebrew/bin'"
      ]
     },
     "execution_count": 45,
     "metadata": {},
     "output_type": "execute_result"
    }
   ],
   "source": [
    "import os\n",
    "os.environ['PATH']"
   ]
  },
  {
   "cell_type": "code",
   "execution_count": 46,
   "id": "340edc53",
   "metadata": {},
   "outputs": [
    {
     "data": {
      "text/plain": [
       "'/Users/hyunjeongjo'"
      ]
     },
     "execution_count": 46,
     "metadata": {},
     "output_type": "execute_result"
    }
   ],
   "source": [
    "%pwd # 현재 위치"
   ]
  },
  {
   "cell_type": "code",
   "execution_count": 48,
   "id": "fdeeaeb7",
   "metadata": {},
   "outputs": [],
   "source": [
    "# 디렉토리 위치 변경\n",
    "\n",
    "import os\n",
    "os.chdir('/Users/hyunjeongjo/programming') # cd : change directory"
   ]
  },
  {
   "cell_type": "code",
   "execution_count": 49,
   "id": "5cbac46c",
   "metadata": {},
   "outputs": [
    {
     "data": {
      "text/plain": [
       "'/Users/hyunjeongjo/programming'"
      ]
     },
     "execution_count": 49,
     "metadata": {},
     "output_type": "execute_result"
    }
   ],
   "source": [
    "# 현재 폴더 반환\n",
    "os.getcwd()"
   ]
  },
  {
   "cell_type": "code",
   "execution_count": 51,
   "id": "2654141e",
   "metadata": {},
   "outputs": [],
   "source": [
    "os.chdir('/Users/hyunjeongjo')"
   ]
  },
  {
   "cell_type": "code",
   "execution_count": 52,
   "id": "0d5acc4f",
   "metadata": {},
   "outputs": [],
   "source": [
    "# 파일명 변경\n",
    "os.rename('test1.txt','test_new.txt')"
   ]
  },
  {
   "cell_type": "code",
   "execution_count": 53,
   "id": "509291a3",
   "metadata": {},
   "outputs": [
    {
     "name": "stdout",
     "output_type": "stream",
     "text": [
      "1번째 줄입니다.\n",
      "2번째 줄입니다.\n",
      "3번째 줄입니다.\n",
      "4번째 줄입니다.\n",
      "5번째 줄입니다.\n",
      "6번째 줄입니다.\n",
      "7번째 줄입니다.\n",
      "8번째 줄입니다.\n",
      "9번째 줄입니다.\n",
      "10번째 줄입니다.\n",
      "11번째 줄입니다.\n",
      "12번째 줄입니다.\n",
      "13번째 줄입니다.\n",
      "14번째 줄입니다.\n",
      "15번째 줄입니다.\n",
      "\n"
     ]
    }
   ],
   "source": [
    "with open('test_new.txt','r') as f:\n",
    "    data = f.read()\n",
    "    print(data)"
   ]
  },
  {
   "cell_type": "markdown",
   "id": "d3390569",
   "metadata": {},
   "source": [
    "## glob"
   ]
  },
  {
   "cell_type": "code",
   "execution_count": 55,
   "id": "8c687134",
   "metadata": {},
   "outputs": [
    {
     "data": {
      "text/plain": [
       "['/Users/hyunjeongjo/네이버뉴스_생활,문화_스포츠_크롤링.ipynb',\n",
       " '/Users/hyunjeongjo/작업형_연습.ipynb',\n",
       " '/Users/hyunjeongjo/Machine Learning.ipynb',\n",
       " '/Users/hyunjeongjo/3-1_함수_guide_review.ipynb',\n",
       " '/Users/hyunjeongjo/네이버뉴스_크롤링_현정.ipynb',\n",
       " '/Users/hyunjeongjo/Etri_et5.ipynb',\n",
       " '/Users/hyunjeongjo/3-2_함수_guide.ipynb',\n",
       " '/Users/hyunjeongjo/가이드_update.ipynb',\n",
       " '/Users/hyunjeongjo/m-t5-small_epoch_comparison_윤진님.ipynb',\n",
       " '/Users/hyunjeongjo/네이버뉴스_메인페이지_헤드라인_크롤링.ipynb',\n",
       " '/Users/hyunjeongjo/3-2_함수_guide_review.ipynb',\n",
       " '/Users/hyunjeongjo/3-1_함수_guide.ipynb',\n",
       " '/Users/hyunjeongjo/작업형2_1.ipynb']"
      ]
     },
     "execution_count": 55,
     "metadata": {},
     "output_type": "execute_result"
    }
   ],
   "source": [
    "# 파일 뭐있는지 볼 수 있음\n",
    "import glob\n",
    "glob.glob('/Users/hyunjeongjo/*.ipynb') # * : 모든 것/ ipynb : Jupyter notebook 확장자"
   ]
  },
  {
   "cell_type": "markdown",
   "id": "0e55bf50",
   "metadata": {},
   "source": [
    "## time"
   ]
  },
  {
   "cell_type": "code",
   "execution_count": 56,
   "id": "6e4b7af5",
   "metadata": {},
   "outputs": [
    {
     "data": {
      "text/plain": [
       "1640500653.614697"
      ]
     },
     "execution_count": 56,
     "metadata": {},
     "output_type": "execute_result"
    }
   ],
   "source": [
    "import time\n",
    "time.time()   ### 특정 시점(1970년)으로부터 지난 초"
   ]
  },
  {
   "cell_type": "code",
   "execution_count": 57,
   "id": "3a1d827b",
   "metadata": {},
   "outputs": [
    {
     "data": {
      "text/plain": [
       "time.struct_time(tm_year=2021, tm_mon=12, tm_mday=26, tm_hour=15, tm_min=37, tm_sec=37, tm_wday=6, tm_yday=360, tm_isdst=0)"
      ]
     },
     "execution_count": 57,
     "metadata": {},
     "output_type": "execute_result"
    }
   ],
   "source": [
    "time.localtime(time.time())"
   ]
  },
  {
   "cell_type": "code",
   "execution_count": 58,
   "id": "26491244",
   "metadata": {},
   "outputs": [
    {
     "data": {
      "text/plain": [
       "'Sun Dec 26 15:37:40 2021'"
      ]
     },
     "execution_count": 58,
     "metadata": {},
     "output_type": "execute_result"
    }
   ],
   "source": [
    "time.asctime(time.localtime(time.time()))"
   ]
  },
  {
   "cell_type": "code",
   "execution_count": 59,
   "id": "c1f14738",
   "metadata": {},
   "outputs": [
    {
     "data": {
      "text/plain": [
       "'Sun Dec 26 15:37:42 2021'"
      ]
     },
     "execution_count": 59,
     "metadata": {},
     "output_type": "execute_result"
    }
   ],
   "source": [
    "time.ctime() # asctime과 같으나, 현재 시점만 가능 ** time.asctime은 다른 시점도 가능"
   ]
  },
  {
   "cell_type": "code",
   "execution_count": 60,
   "id": "3fb684da",
   "metadata": {},
   "outputs": [
    {
     "name": "stdout",
     "output_type": "stream",
     "text": [
      "0\n",
      "1\n",
      "2\n",
      "3\n",
      "4\n",
      "5\n",
      "6\n",
      "7\n",
      "8\n",
      "9\n"
     ]
    }
   ],
   "source": [
    "# time.sleep() : 일정한 시간 간격을 두고 루프를 실행할 수 있음\n",
    "import time\n",
    "\n",
    "for i in range(10):\n",
    "    print(i)\n",
    "    time.sleep(2)"
   ]
  },
  {
   "cell_type": "markdown",
   "id": "3fe501d7",
   "metadata": {},
   "source": [
    "## calendar"
   ]
  },
  {
   "cell_type": "code",
   "execution_count": 61,
   "id": "e813d6c5",
   "metadata": {},
   "outputs": [
    {
     "name": "stdout",
     "output_type": "stream",
     "text": [
      "                                  2020\n",
      "\n",
      "      January                   February                   March\n",
      "Mo Tu We Th Fr Sa Su      Mo Tu We Th Fr Sa Su      Mo Tu We Th Fr Sa Su\n",
      "       1  2  3  4  5                      1  2                         1\n",
      " 6  7  8  9 10 11 12       3  4  5  6  7  8  9       2  3  4  5  6  7  8\n",
      "13 14 15 16 17 18 19      10 11 12 13 14 15 16       9 10 11 12 13 14 15\n",
      "20 21 22 23 24 25 26      17 18 19 20 21 22 23      16 17 18 19 20 21 22\n",
      "27 28 29 30 31            24 25 26 27 28 29         23 24 25 26 27 28 29\n",
      "                                                    30 31\n",
      "\n",
      "       April                      May                       June\n",
      "Mo Tu We Th Fr Sa Su      Mo Tu We Th Fr Sa Su      Mo Tu We Th Fr Sa Su\n",
      "       1  2  3  4  5                   1  2  3       1  2  3  4  5  6  7\n",
      " 6  7  8  9 10 11 12       4  5  6  7  8  9 10       8  9 10 11 12 13 14\n",
      "13 14 15 16 17 18 19      11 12 13 14 15 16 17      15 16 17 18 19 20 21\n",
      "20 21 22 23 24 25 26      18 19 20 21 22 23 24      22 23 24 25 26 27 28\n",
      "27 28 29 30               25 26 27 28 29 30 31      29 30\n",
      "\n",
      "        July                     August                  September\n",
      "Mo Tu We Th Fr Sa Su      Mo Tu We Th Fr Sa Su      Mo Tu We Th Fr Sa Su\n",
      "       1  2  3  4  5                      1  2          1  2  3  4  5  6\n",
      " 6  7  8  9 10 11 12       3  4  5  6  7  8  9       7  8  9 10 11 12 13\n",
      "13 14 15 16 17 18 19      10 11 12 13 14 15 16      14 15 16 17 18 19 20\n",
      "20 21 22 23 24 25 26      17 18 19 20 21 22 23      21 22 23 24 25 26 27\n",
      "27 28 29 30 31            24 25 26 27 28 29 30      28 29 30\n",
      "                          31\n",
      "\n",
      "      October                   November                  December\n",
      "Mo Tu We Th Fr Sa Su      Mo Tu We Th Fr Sa Su      Mo Tu We Th Fr Sa Su\n",
      "          1  2  3  4                         1          1  2  3  4  5  6\n",
      " 5  6  7  8  9 10 11       2  3  4  5  6  7  8       7  8  9 10 11 12 13\n",
      "12 13 14 15 16 17 18       9 10 11 12 13 14 15      14 15 16 17 18 19 20\n",
      "19 20 21 22 23 24 25      16 17 18 19 20 21 22      21 22 23 24 25 26 27\n",
      "26 27 28 29 30 31         23 24 25 26 27 28 29      28 29 30 31\n",
      "                          30\n",
      "\n"
     ]
    }
   ],
   "source": [
    "import calendar\n",
    "print(calendar.calendar(2020))"
   ]
  },
  {
   "cell_type": "code",
   "execution_count": 62,
   "id": "51ba4849",
   "metadata": {},
   "outputs": [
    {
     "name": "stdout",
     "output_type": "stream",
     "text": [
      "   November 2020\n",
      "Mo Tu We Th Fr Sa Su\n",
      "                   1\n",
      " 2  3  4  5  6  7  8\n",
      " 9 10 11 12 13 14 15\n",
      "16 17 18 19 20 21 22\n",
      "23 24 25 26 27 28 29\n",
      "30\n"
     ]
    }
   ],
   "source": [
    "import calendar\n",
    "calendar.prmonth(2020,11)"
   ]
  },
  {
   "cell_type": "code",
   "execution_count": 60,
   "id": "18326f24",
   "metadata": {
    "scrolled": true
   },
   "outputs": [
    {
     "name": "stdout",
     "output_type": "stream",
     "text": [
      "1\n"
     ]
    }
   ],
   "source": [
    "import calendar\n",
    "print(calendar.weekday(2020,11,24)) # 월 0 화 1 수 2 목 3 금 4 토 5 일 6"
   ]
  },
  {
   "cell_type": "code",
   "execution_count": 61,
   "id": "dce0c1a4",
   "metadata": {},
   "outputs": [
    {
     "data": {
      "text/plain": [
       "(1, 30)"
      ]
     },
     "execution_count": 61,
     "metadata": {},
     "output_type": "execute_result"
    }
   ],
   "source": [
    "# (1일의 요일, 날수)\n",
    "calendar.monthrange(2021,6)"
   ]
  },
  {
   "cell_type": "markdown",
   "id": "dd6f49e4",
   "metadata": {},
   "source": [
    "## webbrowser"
   ]
  },
  {
   "cell_type": "code",
   "execution_count": 63,
   "id": "febe86aa",
   "metadata": {},
   "outputs": [
    {
     "data": {
      "text/plain": [
       "True"
      ]
     },
     "execution_count": 63,
     "metadata": {},
     "output_type": "execute_result"
    }
   ],
   "source": [
    "# 웹브라우저 열기\n",
    "\n",
    "import webbrowser\n",
    "webbrowser.open('http://google.com')"
   ]
  },
  {
   "cell_type": "code",
   "execution_count": 64,
   "id": "5bcdafc5",
   "metadata": {},
   "outputs": [
    {
     "data": {
      "text/plain": [
       "True"
      ]
     },
     "execution_count": 64,
     "metadata": {},
     "output_type": "execute_result"
    }
   ],
   "source": [
    "webbrowser.open_new('http://google.com')"
   ]
  },
  {
   "cell_type": "markdown",
   "id": "36efee71",
   "metadata": {},
   "source": [
    "## random"
   ]
  },
  {
   "cell_type": "code",
   "execution_count": 65,
   "id": "65b7da58",
   "metadata": {},
   "outputs": [],
   "source": [
    "# Q. 랜덤하게 1000명의 이름, 키와 몸무게 만들기\n",
    "\n",
    "import random\n",
    "\n",
    "hanguls = list('가나다라마바사아자차카타파하')\n",
    "with open('info.txt','w') as file:\n",
    "    for i in range(1000):\n",
    "        name = random.choice(hanguls) + random.choice(hanguls)   # random.choice \n",
    "        height = random.randrange(140,200)                       # random.randrange\n",
    "        weight = random.randrange(40,100)\n",
    "        file.write(\"{},{},{}\\n\".format(name,height,weight))"
   ]
  },
  {
   "cell_type": "code",
   "execution_count": 66,
   "id": "3eba3a6d",
   "metadata": {},
   "outputs": [
    {
     "name": "stdout",
     "output_type": "stream",
     "text": [
      "차차,165,66\n",
      "바다,189,62\n",
      "마하,143,59\n",
      "다다,178,70\n",
      "하바,157,52\n",
      "타파,191,62\n",
      "라사,185,67\n",
      "하라,190,61\n",
      "가다,168,81\n",
      "하차,180,94\n",
      "아카,172,76\n",
      "카카,166,53\n",
      "다타,153,48\n",
      "다마,156,92\n",
      "타파,193,63\n",
      "바하,171,75\n",
      "파자,184,90\n",
      "타가,147,66\n",
      "바마,166,92\n",
      "사다,141,83\n",
      "카마,151,73\n",
      "파가,163,99\n",
      "아라,182,72\n",
      "라가,181,66\n",
      "타가,169,49\n",
      "가자,141,56\n",
      "파다,145,89\n",
      "자차,163,77\n",
      "마카,190,57\n",
      "타자,158,73\n",
      "타차,173,66\n",
      "가타,160,58\n",
      "카파,164,70\n",
      "다바,150,80\n",
      "라사,154,87\n",
      "카아,175,80\n",
      "파나,187,54\n",
      "가마,196,59\n",
      "나하,170,43\n",
      "마라,144,73\n",
      "다하,187,84\n",
      "라다,161,54\n",
      "카가,163,51\n",
      "타바,186,79\n",
      "자카,175,97\n",
      "다사,189,42\n",
      "가사,157,95\n",
      "가파,190,60\n",
      "나타,147,93\n",
      "하가,176,49\n",
      "아자,197,40\n",
      "라바,189,80\n",
      "차가,185,98\n",
      "차마,150,89\n",
      "마사,164,48\n",
      "차아,154,77\n",
      "바파,192,93\n",
      "파마,189,71\n",
      "마마,140,63\n",
      "카하,198,84\n",
      "타사,193,66\n",
      "하차,153,88\n",
      "차나,188,60\n",
      "하자,181,89\n",
      "차자,192,58\n",
      "사사,186,75\n",
      "가가,140,42\n",
      "차파,161,94\n",
      "라다,147,62\n",
      "다타,174,96\n",
      "파아,188,82\n",
      "하사,176,56\n",
      "차하,188,67\n",
      "타사,186,60\n",
      "자라,195,99\n",
      "라아,163,63\n",
      "아다,176,69\n",
      "바아,196,40\n",
      "바하,178,41\n",
      "마가,155,97\n",
      "타아,173,99\n",
      "타타,188,64\n",
      "카타,175,62\n",
      "라나,186,91\n",
      "다파,158,59\n",
      "나다,155,86\n",
      "마하,150,72\n",
      "가타,166,81\n",
      "마파,172,61\n",
      "하라,180,51\n",
      "마하,172,71\n",
      "카바,184,83\n",
      "아카,166,85\n",
      "파하,143,85\n",
      "마마,172,46\n",
      "라바,182,47\n",
      "가마,165,79\n",
      "아차,185,70\n",
      "다파,174,51\n",
      "타하,170,98\n",
      "다라,180,82\n",
      "라자,143,54\n",
      "마바,175,73\n",
      "타차,188,92\n",
      "다차,167,46\n",
      "아바,182,52\n",
      "바파,199,48\n",
      "가파,172,72\n",
      "파바,187,64\n",
      "가가,145,68\n",
      "아나,199,51\n",
      "다라,182,86\n",
      "파아,180,92\n",
      "라하,170,77\n",
      "카파,157,78\n",
      "자나,178,74\n",
      "파라,173,48\n",
      "마하,159,89\n",
      "아파,181,68\n",
      "아다,146,86\n",
      "자차,146,44\n",
      "타파,160,89\n",
      "다타,183,96\n",
      "파파,152,40\n",
      "사자,185,49\n",
      "타하,149,41\n",
      "나바,155,73\n",
      "다사,153,82\n",
      "차바,173,98\n",
      "나자,163,44\n",
      "아타,143,81\n",
      "마마,165,63\n",
      "하나,148,44\n",
      "차카,140,53\n",
      "라아,175,60\n",
      "다차,147,95\n",
      "라타,156,97\n",
      "차아,187,70\n",
      "차사,180,67\n",
      "라나,161,87\n",
      "아다,157,81\n",
      "자바,179,74\n",
      "마라,189,85\n",
      "가아,193,90\n",
      "바사,174,60\n",
      "바하,141,79\n",
      "아파,176,44\n",
      "마라,193,47\n",
      "파사,186,90\n",
      "파파,170,64\n",
      "하아,175,83\n",
      "하라,150,86\n",
      "사라,153,82\n",
      "라하,151,46\n",
      "라아,153,57\n",
      "바하,165,60\n",
      "사바,149,50\n",
      "자하,178,89\n",
      "다사,165,69\n",
      "다바,178,46\n",
      "아사,195,94\n",
      "다마,151,67\n",
      "바파,171,74\n",
      "자아,155,99\n",
      "바카,149,72\n",
      "카라,161,49\n",
      "아카,153,95\n",
      "타차,173,70\n",
      "카타,181,51\n",
      "나타,192,85\n",
      "차마,147,79\n",
      "아아,162,42\n",
      "가바,141,40\n",
      "아가,158,86\n",
      "아사,183,58\n",
      "타바,196,43\n",
      "다차,197,79\n",
      "아다,143,81\n",
      "하나,173,98\n",
      "파다,170,78\n",
      "라마,199,51\n",
      "마바,153,81\n",
      "바마,191,40\n",
      "다카,158,79\n",
      "아마,161,65\n",
      "자파,180,70\n",
      "하타,161,64\n",
      "하차,187,98\n",
      "마타,173,77\n",
      "하하,141,84\n",
      "나파,148,77\n",
      "파사,176,92\n",
      "나하,162,86\n",
      "바카,185,51\n",
      "하타,195,70\n",
      "자다,178,89\n",
      "카나,155,59\n",
      "라다,188,82\n",
      "파파,168,74\n",
      "카다,185,57\n",
      "차사,163,99\n",
      "자다,199,78\n",
      "아라,158,43\n",
      "차타,184,85\n",
      "자바,174,95\n",
      "자라,153,62\n",
      "마카,165,61\n",
      "라라,152,77\n",
      "가하,145,86\n",
      "하하,190,55\n",
      "카타,166,83\n",
      "자바,196,61\n",
      "라타,172,75\n",
      "라타,143,95\n",
      "마차,167,90\n",
      "바다,163,86\n",
      "하나,179,82\n",
      "사나,180,64\n",
      "사마,164,58\n",
      "가카,160,58\n",
      "자차,160,40\n",
      "바가,183,74\n",
      "아자,187,99\n",
      "파마,158,66\n",
      "마카,147,53\n",
      "마사,149,55\n",
      "바타,144,51\n",
      "나다,144,78\n",
      "사바,143,64\n",
      "다가,173,78\n",
      "가바,154,56\n",
      "파하,158,74\n",
      "가나,141,78\n",
      "파마,163,64\n",
      "마타,171,67\n",
      "라가,153,65\n",
      "마사,146,51\n",
      "타라,145,95\n",
      "카차,141,59\n",
      "라마,189,98\n",
      "사차,198,62\n",
      "나파,151,94\n",
      "사가,178,56\n",
      "자나,181,44\n",
      "타라,163,92\n",
      "카나,188,89\n",
      "마사,176,97\n",
      "마나,189,65\n",
      "타하,198,88\n",
      "타나,164,95\n",
      "차가,177,64\n",
      "마가,173,76\n",
      "하사,170,87\n",
      "라파,164,70\n",
      "카카,177,92\n",
      "바사,142,57\n",
      "라나,168,83\n",
      "자자,184,96\n",
      "차나,141,88\n",
      "카라,187,76\n",
      "카가,174,98\n",
      "하바,186,92\n",
      "파파,170,89\n",
      "라다,186,92\n",
      "마다,171,40\n",
      "가마,159,63\n",
      "바파,144,95\n",
      "자자,196,50\n",
      "나타,160,72\n",
      "다차,190,47\n",
      "바차,156,80\n",
      "사사,163,48\n",
      "아사,163,52\n",
      "가하,140,42\n",
      "타차,189,49\n",
      "타라,152,90\n",
      "다하,168,79\n",
      "다가,198,61\n",
      "차자,171,87\n",
      "나타,144,44\n",
      "가사,167,44\n",
      "다자,163,41\n",
      "마카,198,86\n",
      "나파,154,97\n",
      "차아,157,61\n",
      "타라,170,66\n",
      "가타,167,54\n",
      "나마,170,92\n",
      "라다,160,96\n",
      "파가,148,45\n",
      "사아,164,79\n",
      "하차,171,70\n",
      "나바,155,68\n",
      "하차,159,54\n",
      "타가,180,66\n",
      "아마,171,81\n",
      "카나,164,65\n",
      "카하,157,90\n",
      "아가,177,69\n",
      "하타,170,73\n",
      "아라,157,63\n",
      "사가,162,63\n",
      "라타,171,79\n",
      "자사,195,56\n",
      "다카,155,41\n",
      "타자,142,40\n",
      "타아,161,54\n",
      "하바,156,78\n",
      "타타,144,51\n",
      "다자,179,68\n",
      "라자,179,55\n",
      "가다,187,76\n",
      "라파,163,75\n",
      "마다,141,98\n",
      "라나,190,47\n",
      "사카,175,91\n",
      "사사,187,89\n",
      "사마,183,51\n",
      "자차,156,55\n",
      "카마,191,77\n",
      "라타,154,42\n",
      "카파,164,98\n",
      "라차,148,94\n",
      "라라,177,91\n",
      "가카,160,91\n",
      "아타,181,89\n",
      "바다,182,63\n",
      "바가,155,84\n",
      "나하,155,40\n",
      "나마,180,89\n",
      "하파,144,43\n",
      "라사,198,96\n",
      "카마,183,45\n",
      "라카,172,52\n",
      "다파,194,79\n",
      "사사,155,44\n",
      "바아,178,99\n",
      "나바,160,50\n",
      "차나,194,88\n",
      "마가,188,87\n",
      "사나,193,70\n",
      "다가,166,49\n",
      "나나,157,79\n",
      "가파,142,77\n",
      "타파,153,72\n",
      "타자,179,72\n",
      "가나,191,69\n",
      "아마,188,64\n",
      "사가,158,78\n",
      "하하,190,65\n",
      "마라,178,84\n",
      "카카,151,61\n",
      "자차,170,72\n",
      "파라,199,46\n",
      "하카,153,40\n",
      "타차,196,76\n",
      "나하,164,88\n",
      "사카,175,60\n",
      "카나,194,84\n",
      "타아,154,50\n",
      "다자,196,67\n",
      "다라,156,57\n",
      "가마,158,61\n",
      "사라,153,89\n",
      "사바,170,77\n",
      "차하,147,94\n",
      "파차,166,40\n",
      "가자,184,70\n",
      "가사,165,69\n",
      "사사,142,70\n",
      "가자,188,94\n",
      "바아,149,76\n",
      "나하,158,47\n",
      "아가,140,53\n",
      "바아,163,68\n",
      "마파,148,89\n",
      "나타,176,97\n",
      "카자,155,72\n",
      "마하,163,53\n",
      "카나,154,46\n",
      "파차,173,58\n",
      "바가,154,90\n",
      "차카,169,79\n",
      "가카,146,99\n",
      "라나,163,61\n",
      "사가,193,64\n",
      "타가,150,76\n",
      "마바,151,53\n",
      "자가,187,65\n",
      "파바,147,63\n",
      "바파,148,57\n",
      "다타,140,53\n",
      "다타,165,72\n",
      "파라,177,77\n",
      "차파,149,78\n",
      "카차,180,75\n",
      "마라,179,74\n",
      "차자,151,82\n",
      "사자,152,92\n",
      "바가,154,43\n",
      "마가,160,50\n",
      "하자,188,49\n",
      "마가,175,89\n",
      "다마,175,45\n",
      "라차,150,98\n",
      "자자,148,46\n",
      "아파,188,51\n",
      "하타,176,99\n",
      "바사,156,51\n",
      "마사,193,81\n",
      "아아,188,65\n",
      "나사,189,78\n",
      "타다,197,77\n",
      "사사,185,82\n",
      "사바,151,90\n",
      "아파,157,73\n",
      "나나,198,75\n",
      "사자,191,60\n",
      "바바,184,57\n",
      "아마,195,43\n",
      "아마,177,81\n",
      "차마,148,66\n",
      "자하,175,76\n",
      "가하,144,60\n",
      "차타,143,53\n",
      "차차,146,41\n",
      "카가,141,72\n",
      "자라,192,88\n",
      "사타,186,62\n",
      "타사,191,78\n",
      "라나,157,97\n",
      "사하,195,53\n",
      "하라,175,59\n",
      "타카,152,56\n",
      "파나,145,57\n",
      "파자,171,62\n",
      "타라,174,81\n",
      "카타,199,87\n",
      "사라,191,88\n",
      "나카,162,74\n",
      "타아,164,97\n",
      "자아,171,55\n",
      "카하,198,78\n",
      "사라,197,59\n",
      "자차,177,96\n",
      "타하,189,50\n",
      "마하,188,58\n",
      "사아,196,62\n",
      "다마,159,86\n",
      "파타,160,48\n",
      "바자,176,80\n",
      "하바,191,76\n",
      "다자,157,57\n",
      "라다,143,99\n",
      "나타,159,46\n",
      "타자,167,99\n",
      "마마,140,95\n",
      "사가,152,52\n",
      "아마,188,53\n",
      "가타,198,60\n",
      "라나,152,43\n",
      "카가,163,86\n",
      "카아,146,61\n",
      "나차,197,80\n",
      "라다,167,63\n",
      "바사,179,46\n",
      "카마,188,88\n",
      "하바,175,57\n",
      "타카,186,66\n",
      "바카,181,88\n",
      "라가,195,60\n",
      "파가,184,86\n",
      "마타,172,98\n",
      "라파,189,90\n",
      "마하,179,63\n",
      "자아,160,75\n",
      "나아,154,47\n",
      "카라,179,57\n",
      "사차,170,68\n",
      "라아,158,45\n",
      "사하,148,55\n",
      "파나,178,66\n",
      "사나,155,50\n",
      "아라,198,65\n",
      "나마,159,46\n",
      "타나,167,92\n",
      "나가,180,85\n",
      "하사,140,97\n",
      "가파,179,57\n",
      "아아,193,47\n",
      "사타,174,54\n",
      "자차,152,72\n",
      "차라,140,40\n",
      "마나,183,44\n",
      "바아,147,40\n",
      "카바,172,97\n",
      "바타,199,50\n",
      "카자,170,94\n",
      "바사,149,95\n",
      "타하,150,83\n",
      "카카,176,74\n",
      "다다,147,93\n",
      "자카,193,46\n",
      "타자,170,71\n",
      "자자,180,71\n",
      "타마,147,95\n",
      "바나,160,66\n",
      "자타,149,43\n",
      "아라,152,93\n",
      "자타,172,57\n",
      "파가,181,66\n",
      "사바,152,55\n",
      "차라,187,44\n",
      "하파,190,88\n",
      "바아,187,77\n",
      "타마,175,58\n",
      "마차,172,71\n",
      "파카,158,93\n",
      "카다,159,87\n",
      "다마,140,43\n",
      "가사,181,80\n",
      "아라,163,46\n",
      "바사,190,92\n",
      "자자,192,73\n",
      "차파,175,87\n",
      "파파,164,45\n",
      "다차,156,98\n",
      "하자,153,86\n",
      "사사,180,61\n",
      "자바,191,87\n",
      "마라,167,60\n",
      "아타,196,87\n",
      "차차,175,92\n",
      "가라,174,41\n",
      "사마,142,55\n",
      "하바,195,94\n",
      "바하,154,67\n",
      "차다,143,58\n",
      "라바,197,69\n",
      "파다,188,83\n",
      "라차,147,69\n",
      "하가,166,77\n",
      "자바,176,77\n",
      "자자,152,86\n",
      "가사,147,70\n",
      "사라,164,77\n",
      "파라,182,45\n",
      "차사,156,72\n",
      "타카,147,97\n",
      "가다,163,62\n",
      "사다,178,53\n",
      "가자,164,95\n",
      "타마,173,65\n",
      "아가,147,42\n",
      "가파,177,56\n",
      "사나,150,64\n",
      "바다,196,73\n",
      "나카,195,97\n",
      "아나,184,79\n",
      "마아,151,55\n",
      "마마,184,72\n",
      "다아,196,73\n",
      "나타,180,75\n",
      "카가,169,50\n",
      "라파,191,79\n",
      "다다,147,73\n",
      "자마,185,68\n",
      "자카,199,66\n",
      "하파,188,58\n",
      "하카,177,50\n",
      "아나,162,79\n",
      "자마,169,74\n",
      "사카,187,63\n",
      "나자,158,65\n",
      "라자,141,75\n",
      "자파,170,72\n",
      "차파,195,77\n",
      "가자,144,60\n",
      "타아,141,41\n",
      "자파,192,40\n",
      "라파,159,99\n",
      "나하,174,82\n",
      "마차,163,86\n",
      "차하,157,69\n",
      "다다,144,70\n",
      "라하,181,40\n",
      "파타,165,84\n",
      "자차,175,87\n",
      "카자,195,98\n",
      "가타,160,70\n",
      "카아,177,68\n",
      "나카,142,96\n",
      "자아,178,64\n",
      "차가,195,90\n",
      "아아,151,57\n",
      "마바,163,66\n",
      "아바,196,47\n",
      "다가,190,91\n",
      "라차,195,43\n",
      "아다,157,60\n",
      "하라,140,93\n",
      "가파,143,43\n",
      "사하,151,74\n",
      "다다,149,56\n",
      "바파,142,95\n",
      "가카,160,55\n",
      "카다,171,76\n",
      "자자,182,54\n",
      "사자,165,52\n",
      "마파,174,64\n",
      "마자,181,54\n",
      "아하,148,44\n",
      "사가,199,83\n",
      "사다,191,87\n",
      "라하,155,75\n",
      "아카,145,42\n",
      "타타,155,50\n",
      "차타,149,71\n",
      "타바,199,54\n",
      "타카,194,51\n",
      "자타,149,83\n",
      "마나,168,46\n",
      "아파,185,93\n",
      "라아,182,43\n",
      "라라,180,79\n",
      "라파,145,65\n",
      "카타,191,44\n",
      "마자,178,73\n",
      "카자,143,74\n",
      "차라,170,46\n",
      "바카,176,87\n",
      "아타,194,88\n",
      "자바,171,75\n",
      "카하,195,89\n",
      "하아,172,99\n",
      "카사,144,44\n",
      "마카,147,78\n",
      "나아,143,53\n",
      "다타,179,76\n",
      "라타,142,44\n",
      "자마,142,91\n",
      "차마,193,87\n",
      "파나,179,59\n",
      "하아,186,85\n",
      "하사,145,81\n",
      "바가,145,44\n",
      "파마,146,75\n",
      "가가,195,55\n",
      "타가,190,96\n",
      "차파,148,96\n",
      "마나,142,51\n",
      "카사,174,64\n",
      "파바,141,43\n",
      "하타,175,79\n",
      "차파,175,43\n",
      "자마,185,98\n",
      "아파,144,96\n",
      "라아,188,70\n",
      "자카,171,67\n",
      "다아,184,74\n",
      "하사,178,66\n",
      "마하,144,68\n",
      "바자,177,99\n",
      "자타,188,91\n",
      "타차,148,74\n",
      "가차,140,86\n",
      "바나,166,72\n",
      "타다,179,48\n",
      "카나,172,67\n",
      "자마,156,72\n",
      "아타,166,77\n",
      "카사,144,94\n",
      "라아,193,71\n",
      "자하,160,48\n",
      "가바,155,66\n",
      "마카,153,98\n",
      "라라,145,70\n",
      "라아,198,71\n",
      "다나,180,78\n",
      "가카,180,86\n",
      "자타,142,54\n",
      "아카,183,44\n",
      "타타,178,90\n",
      "아가,176,96\n",
      "타사,177,74\n",
      "타나,192,81\n",
      "타마,180,71\n",
      "차차,174,64\n",
      "나하,186,51\n",
      "파차,196,92\n",
      "라다,182,99\n",
      "다사,163,50\n",
      "사사,159,92\n",
      "가바,183,42\n",
      "하다,151,82\n",
      "다라,147,47\n",
      "자사,193,56\n",
      "카타,151,48\n",
      "파가,142,89\n",
      "아바,165,59\n",
      "라아,157,76\n",
      "차나,190,50\n",
      "사카,147,62\n",
      "타카,195,83\n",
      "차라,151,52\n",
      "카라,151,96\n",
      "바아,188,79\n",
      "타다,163,56\n",
      "마하,149,97\n",
      "자사,197,61\n",
      "카라,146,61\n",
      "타자,179,64\n",
      "다사,178,71\n",
      "마바,178,83\n",
      "카아,177,55\n",
      "가라,185,60\n",
      "나사,163,74\n",
      "차아,167,58\n",
      "사나,165,53\n",
      "카아,167,48\n",
      "파차,146,63\n",
      "가가,186,48\n",
      "카가,184,99\n",
      "바카,146,47\n",
      "하바,140,68\n",
      "카다,154,95\n",
      "아사,172,90\n",
      "타나,145,70\n",
      "사파,167,84\n",
      "라바,179,75\n",
      "라차,152,97\n",
      "아바,194,73\n",
      "카타,173,75\n",
      "타바,167,95\n",
      "타하,184,90\n",
      "다하,199,88\n",
      "마타,197,44\n",
      "아자,154,57\n",
      "자아,183,50\n",
      "다파,159,72\n",
      "다라,167,99\n",
      "카파,181,57\n",
      "아마,164,40\n",
      "카타,157,51\n",
      "나차,191,97\n",
      "사차,197,55\n",
      "나타,190,54\n",
      "마나,158,70\n",
      "라사,196,69\n",
      "마마,160,78\n",
      "사파,179,74\n",
      "자파,184,78\n",
      "파바,180,59\n",
      "하바,191,93\n",
      "다사,147,56\n",
      "아아,157,46\n",
      "차타,197,80\n",
      "자사,148,40\n",
      "라바,165,94\n",
      "자마,151,90\n",
      "나가,160,54\n",
      "아나,183,62\n",
      "다타,159,87\n",
      "아마,179,47\n",
      "바사,159,64\n",
      "자파,195,75\n",
      "마파,179,65\n",
      "파아,155,96\n",
      "라다,148,61\n",
      "바아,185,82\n",
      "다다,158,89\n",
      "카다,181,79\n",
      "나하,173,57\n",
      "차하,160,86\n",
      "차마,141,79\n",
      "사마,199,73\n",
      "마사,187,62\n",
      "다가,149,92\n",
      "사나,166,77\n",
      "파바,174,91\n",
      "마다,181,73\n",
      "라파,177,86\n",
      "타바,166,68\n",
      "라가,190,74\n",
      "가차,189,75\n",
      "자타,186,64\n",
      "카가,157,67\n",
      "차나,186,55\n",
      "타아,184,71\n",
      "사타,180,77\n",
      "가파,185,45\n",
      "다마,151,62\n",
      "자가,141,54\n",
      "마사,184,52\n",
      "가나,194,92\n",
      "사마,156,58\n",
      "파사,141,95\n",
      "라아,171,85\n",
      "라마,186,64\n",
      "사하,187,59\n",
      "아파,197,76\n",
      "파마,187,85\n",
      "하카,185,58\n",
      "카가,183,60\n",
      "나차,146,57\n",
      "다마,149,45\n",
      "사아,179,98\n",
      "사차,194,40\n",
      "차카,157,55\n",
      "아라,178,90\n",
      "하카,191,74\n",
      "타나,173,94\n",
      "아하,143,75\n",
      "자다,176,49\n",
      "차차,169,74\n",
      "자다,142,74\n",
      "차아,166,46\n",
      "마하,190,86\n",
      "파차,183,53\n",
      "가가,181,60\n",
      "타가,171,72\n",
      "마사,184,85\n",
      "라하,142,99\n",
      "가자,176,49\n",
      "타하,180,57\n",
      "파사,185,71\n",
      "마자,166,40\n",
      "자하,181,48\n",
      "나카,196,82\n",
      "하마,152,82\n",
      "사가,177,59\n",
      "바카,199,41\n",
      "차가,194,77\n",
      "가다,164,47\n",
      "마다,194,92\n",
      "나차,158,55\n",
      "나마,168,87\n",
      "파차,140,86\n",
      "차카,158,70\n",
      "가자,147,48\n",
      "차라,174,56\n",
      "타다,182,65\n",
      "사바,162,64\n",
      "사사,156,83\n",
      "사바,161,53\n",
      "가자,148,98\n",
      "마나,190,62\n",
      "바다,191,62\n",
      "다바,159,41\n",
      "타자,194,99\n",
      "사바,146,53\n",
      "타다,184,53\n",
      "카가,155,53\n",
      "하가,174,82\n",
      "카사,161,65\n",
      "라바,153,75\n",
      "가자,181,73\n",
      "가다,154,43\n",
      "사타,152,45\n",
      "사자,174,88\n",
      "라사,152,51\n",
      "타타,181,58\n",
      "차가,184,78\n",
      "사나,190,83\n",
      "가사,147,45\n",
      "라하,158,51\n",
      "차하,146,49\n",
      "사사,158,83\n",
      "바카,151,64\n",
      "라다,156,57\n",
      "타나,158,76\n",
      "마하,187,52\n",
      "아나,166,91\n",
      "마가,183,94\n",
      "자자,195,84\n",
      "바라,172,52\n",
      "바타,186,62\n",
      "나바,182,43\n",
      "자자,144,97\n",
      "차차,190,64\n",
      "카차,191,47\n",
      "자마,157,87\n",
      "자아,157,55\n",
      "차라,166,48\n",
      "가타,152,83\n",
      "사차,181,90\n",
      "바자,157,43\n",
      "라파,182,78\n",
      "타자,168,51\n",
      "아라,174,68\n",
      "마차,199,66\n",
      "하바,150,79\n",
      "라카,190,48\n",
      "마마,151,70\n",
      "카차,191,55\n",
      "아사,189,57\n",
      "타파,174,65\n",
      "나아,184,70\n",
      "하차,173,45\n",
      "마라,176,72\n",
      "나카,191,99\n",
      "마마,141,60\n",
      "타하,163,73\n",
      "타타,142,45\n",
      "자나,175,93\n",
      "자차,146,56\n",
      "하바,169,99\n",
      "가차,181,56\n",
      "타사,193,94\n",
      "타라,182,92\n",
      "바바,141,87\n",
      "라바,159,69\n",
      "타가,170,41\n",
      "파라,199,59\n",
      "다다,149,69\n",
      "사라,162,54\n",
      "카타,185,90\n",
      "카파,156,78\n",
      "차다,191,72\n",
      "파다,140,86\n",
      "다아,180,80\n",
      "차다,161,91\n",
      "하타,176,51\n",
      "나카,141,42\n",
      "사가,167,56\n",
      "나나,180,47\n",
      "아다,198,43\n",
      "마파,163,79\n",
      "타라,145,68\n",
      "카차,157,59\n",
      "타자,193,68\n",
      "타파,171,89\n",
      "아타,173,93\n",
      "사카,149,79\n",
      "바나,174,98\n",
      "사사,160,50\n",
      "카바,168,62\n",
      "라차,173,49\n",
      "라아,198,94\n",
      "카바,197,69\n",
      "카하,147,52\n",
      "사카,193,45\n",
      "다타,195,60\n",
      "다하,160,49\n",
      "라마,194,79\n",
      "마가,192,67\n",
      "타파,150,79\n",
      "차다,164,44\n",
      "사사,163,85\n",
      "마자,171,96\n",
      "자하,144,73\n",
      "자파,144,54\n",
      "자사,186,40\n",
      "카나,142,84\n",
      "차라,169,40\n",
      "카파,198,52\n",
      "다다,167,96\n",
      "라마,149,99\n",
      "다마,153,81\n",
      "하다,175,62\n",
      "다타,147,92\n",
      "바차,150,50\n",
      "바자,144,82\n",
      "하사,150,86\n",
      "자라,147,94\n",
      "하라,150,56\n",
      "아자,171,76\n",
      "다카,157,54\n",
      "아나,156,88\n",
      "차사,198,84\n",
      "차아,165,91\n",
      "바타,143,87\n",
      "라사,178,55\n",
      "아다,147,85\n",
      "아바,196,55\n",
      "하파,154,58\n",
      "타다,147,90\n",
      "파파,150,64\n",
      "사나,191,64\n",
      "하타,171,44\n",
      "바카,146,55\n",
      "파아,173,97\n",
      "마카,143,58\n",
      "아파,161,60\n",
      "하타,191,45\n",
      "마차,161,50\n",
      "마마,196,50\n",
      "사타,185,71\n",
      "라사,182,96\n",
      "나파,165,63\n",
      "타다,143,64\n",
      "아타,152,58\n",
      "자나,188,66\n",
      "하바,140,50\n",
      "가타,174,78\n",
      "바아,158,43\n",
      "가가,173,66\n",
      "카나,186,94\n",
      "사차,147,44\n",
      "라마,189,46\n",
      "\n"
     ]
    }
   ],
   "source": [
    "with open('info.txt','r') as file:\n",
    "    data = file.read()\n",
    "    print(data)"
   ]
  }
 ],
 "metadata": {
  "kernelspec": {
   "display_name": "Python 3 (ipykernel)",
   "language": "python",
   "name": "python3"
  },
  "language_info": {
   "codemirror_mode": {
    "name": "ipython",
    "version": 3
   },
   "file_extension": ".py",
   "mimetype": "text/x-python",
   "name": "python",
   "nbconvert_exporter": "python",
   "pygments_lexer": "ipython3",
   "version": "3.8.8"
  }
 },
 "nbformat": 4,
 "nbformat_minor": 5
}
