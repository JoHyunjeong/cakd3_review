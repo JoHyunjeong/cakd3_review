{
 "cells": [
  {
   "cell_type": "markdown",
   "id": "34593d23",
   "metadata": {},
   "source": [
    "# 7/22"
   ]
  },
  {
   "cell_type": "code",
   "execution_count": 1,
   "id": "f466ef68",
   "metadata": {},
   "outputs": [
    {
     "name": "stdout",
     "output_type": "stream",
     "text": [
      "0.7560008989929219\n",
      "5\n",
      "13.898052694310904\n",
      "4\n",
      "5\n",
      "[3, 2]\n",
      "[3, 1, 2, 4, 5]\n"
     ]
    }
   ],
   "source": [
    "# 파이썬 random 함수\n",
    "import random\n",
    "print(random.random()) # 0.0 <= x < 1.0 사이\n",
    "print(random.randint(1,10)) # min max 사이의 정수중에서 난수값 리턴\n",
    "print(random.uniform(10,20)) # min max 사이 float 리턴\n",
    "print(random.randrange(10)) # 지정범위 int 리턴\n",
    "print(random.choice([1,2,3,4,5])) # 리스트 내부에 있는 요소를 랜덤하게 선택\n",
    "print(random.sample([1,2,3,4,5],2)) # 리스트 요소를 중복이 안되게 추출해 줌\n",
    "li=[1,2,3,4,5]\n",
    "random.shuffle(li)\n",
    "print(li)"
   ]
  },
  {
   "cell_type": "code",
   "execution_count": 2,
   "id": "e6a7ee1b",
   "metadata": {},
   "outputs": [],
   "source": [
    "# 넘파이의 np.random\n",
    "# rand : 0.0 ~ 1.0 사이의 균일 분포(실수)\n",
    "# randint : 균일 분포의 정수 난수\n",
    "# randn : 가우시안 표준 정규 분포\n",
    "# normal : 정규분포 난수 샘플 (loc, scale, size) <- 여기서 loc는 평균 / scale 은 표준편차"
   ]
  },
  {
   "cell_type": "code",
   "execution_count": 3,
   "id": "22f9fe80",
   "metadata": {},
   "outputs": [
    {
     "data": {
      "text/plain": [
       "array([[0.64589411, 0.43758721],\n",
       "       [0.891773  , 0.96366276],\n",
       "       [0.38344152, 0.79172504]])"
      ]
     },
     "execution_count": 3,
     "metadata": {},
     "output_type": "execute_result"
    }
   ],
   "source": [
    "import numpy as np\n",
    "np.random.seed(0)\n",
    "np.random.rand(5)\n",
    "np.random.rand(3,2)"
   ]
  },
  {
   "cell_type": "code",
   "execution_count": 4,
   "id": "730305d0",
   "metadata": {},
   "outputs": [
    {
     "data": {
      "text/plain": [
       "array([[12, 13, 18, 11, 13],\n",
       "       [13, 13, 17, 10, 11],\n",
       "       [19, 19, 10, 14, 17]])"
      ]
     },
     "execution_count": 4,
     "metadata": {},
     "output_type": "execute_result"
    }
   ],
   "source": [
    "np.random.randint(5) # 0 ~ 4까지 정수 난수 1개\n",
    "np.random.randint(1,20) ### 1 ~ 19까지 정수 난수 1개\n",
    "np.random.randint(10, size=10) ### 0 ~ 9까지 정수 난수 10개(중복 있음)\n",
    "np.random.randint(10,20,size=(3,5)) ### 10 ~ 19까지 정수로 3행5열 만들어줌"
   ]
  },
  {
   "cell_type": "code",
   "execution_count": 5,
   "id": "442c7ff1",
   "metadata": {},
   "outputs": [
    {
     "data": {
      "text/plain": [
       "array([0, 0, 4, 0, 4])"
      ]
     },
     "execution_count": 5,
     "metadata": {},
     "output_type": "execute_result"
    }
   ],
   "source": [
    "np.random.choice([1,2,3,4,5]) ### 리스트 안에서 1개 뽑음\n",
    "\n",
    "### 비복원추출(이미 뽑은건 다시 안 넣음)\n",
    "np.random.choice(5,5,replace=False) ### 앞에 5는 0~4, 뒤 5는 5개 의미 (이것도 중복 안됨!)\n",
    "\n",
    "#np.random.choice((1,2,3,4,5),5,replace=False) # 동일\n",
    "\n",
    "\n",
    "### 복원추출\n",
    "np.random.choice(5,5) ### 이건 중복있음! replace=False를 해줘야 중복안됨"
   ]
  },
  {
   "cell_type": "code",
   "execution_count": 7,
   "id": "d0e7084d",
   "metadata": {},
   "outputs": [
    {
     "data": {
      "text/plain": [
       "array([3, 1, 0, 4, 2])"
      ]
     },
     "execution_count": 7,
     "metadata": {},
     "output_type": "execute_result"
    }
   ],
   "source": [
    "list = [0,1,2,3,4]\n",
    "np.random.shuffle(list)\n",
    "list\n",
    "\n",
    "# 위랑 동일!\n",
    "np.random.choice(5,5,replace=False)"
   ]
  },
  {
   "cell_type": "code",
   "execution_count": 8,
   "id": "a223eebf",
   "metadata": {},
   "outputs": [
    {
     "data": {
      "text/plain": [
       "array([[-1.04855297, -1.42001794],\n",
       "       [-1.70627019,  1.9507754 ],\n",
       "       [-0.50965218, -0.4380743 ]])"
      ]
     },
     "execution_count": 8,
     "metadata": {},
     "output_type": "execute_result"
    }
   ],
   "source": [
    "import numpy as np\n",
    "abs(np.random.randn(6))\n",
    "np.random.randn(3,2)"
   ]
  },
  {
   "cell_type": "code",
   "execution_count": 9,
   "id": "0e2e4d4c",
   "metadata": {},
   "outputs": [
    {
     "data": {
      "text/plain": [
       "array([[0.24442559, 0.15896958, 0.11037514],\n",
       "       [0.65632959, 0.13818295, 0.19658236]])"
      ]
     },
     "execution_count": 9,
     "metadata": {},
     "output_type": "execute_result"
    }
   ],
   "source": [
    "# 범위 내 실수 출력\n",
    "np.random.uniform(1,2,3) # 1 ~ 2 사이 실수 3개 뽑음\n",
    "np.random.uniform(0,1,(2,3))"
   ]
  },
  {
   "cell_type": "code",
   "execution_count": 10,
   "id": "79b92332",
   "metadata": {},
   "outputs": [
    {
     "data": {
      "text/plain": [
       "array([[0.36872517, 0.82099323, 0.09710128],\n",
       "       [0.83794491, 0.09609841, 0.97645947]])"
      ]
     },
     "execution_count": 10,
     "metadata": {},
     "output_type": "execute_result"
    }
   ],
   "source": [
    "# random_sample은 uniform 하수의 최소값, 최대값을 각각 0,1로 지정한 것과 같음\n",
    "np.random.random_sample((2,3)) # random_sample 은 0~1 사이 실수 뽑음"
   ]
  }
 ],
 "metadata": {
  "kernelspec": {
   "display_name": "Python 3 (ipykernel)",
   "language": "python",
   "name": "python3"
  },
  "language_info": {
   "codemirror_mode": {
    "name": "ipython",
    "version": 3
   },
   "file_extension": ".py",
   "mimetype": "text/x-python",
   "name": "python",
   "nbconvert_exporter": "python",
   "pygments_lexer": "ipython3",
   "version": "3.8.2"
  }
 },
 "nbformat": 4,
 "nbformat_minor": 5
}
