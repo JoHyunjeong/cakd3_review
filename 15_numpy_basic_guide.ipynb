{
 "cells": [
  {
   "cell_type": "markdown",
   "id": "7f424482",
   "metadata": {},
   "source": [
    "# 7/21"
   ]
  },
  {
   "cell_type": "markdown",
   "id": "1bc6ece9",
   "metadata": {},
   "source": [
    "Numpy는 \"Numerical Python\"의 약자로 대규모 다차원 배여과 행렬 연산에 필요한 다양한 함수를 제공\n",
    "- Numerical Python을 의미하는 NumPy는 파이썬에서 선형대수 기반의 프로그램을 쉽게 만들 수 있도록 지원하는 대표적인 패키지\n",
    "- 많은 머신러닝 알고리즘이 넘파이 기반으로 작성돼있으며, 알고리즘의 입출력데이터를 넘파이 배열타입으로 사용함\n",
    "- 넘파이의 기본 데이터 타입은 ndarray.ndarray를 이용해 넘파이에서 다차원 배열을 쉽게 생상하고 다양한 연산 수행  \n",
    "\n",
    "NumPy 특징\n",
    "- 강력한 N차원 배열 객체\n",
    "- 정교한 브로드케스팅(Broadcast)기능\n",
    "- C/C++ 및 포트란 코드 통합 도구\n",
    "- 유용한 선형 대수학, 푸리에 변환 및 난수 기능\n",
    "- 범용적 데이터 처리에 사용 가능한 다차원 컨테이너"
   ]
  },
  {
   "cell_type": "code",
   "execution_count": 4,
   "id": "56beaa9f",
   "metadata": {},
   "outputs": [
    {
     "name": "stdout",
     "output_type": "stream",
     "text": [
      "[[ 0.7303834   0.94619561  0.92298465]\n",
      " [ 0.57495187  0.92675242 -0.34695488]] \n",
      "\n",
      "[[ 7.30383398  9.46195607  9.22984652]\n",
      " [ 5.74951875  9.26752421 -3.46954883]] \n",
      "\n",
      "[[ 1.4607668   1.89239121  1.8459693 ]\n",
      " [ 1.14990375  1.85350484 -0.69390977]]\n"
     ]
    }
   ],
   "source": [
    "import numpy as np\n",
    "data = np.random.randn(2,3) # randn : 표준정규분포에서의 난수를 뽑아줌\n",
    "print(data,'\\n')\n",
    "# randn으로 뽑았다 해도 지금은 뽑은 수가 적기 때문에 평균값이 0이 나오지 않음.\n",
    "# 많은 수를 뽑을 수록 평균이 0에 수렴함.\n",
    "print(data*10,'\\n') # Broadcast. 10을 곱하면 전체에 10이 곱해짐.\n",
    "print(data + data)"
   ]
  },
  {
   "cell_type": "code",
   "execution_count": 12,
   "id": "267e8793",
   "metadata": {},
   "outputs": [
    {
     "data": {
      "text/plain": [
       "array([[1, 2, 3, 4],\n",
       "       [5, 6, 7, 8]])"
      ]
     },
     "execution_count": 12,
     "metadata": {},
     "output_type": "execute_result"
    }
   ],
   "source": [
    "##  data2 = [[1,2,3,4],[5,6,7,8]] # 2행 4열이 하나인 3차원\n",
    "data2 = [[1,2,3,4],[5,6,7,8]] # 2행 4열 (2차원)\n",
    "arr2 = np.array(data2)\n",
    "arr2"
   ]
  },
  {
   "cell_type": "code",
   "execution_count": 14,
   "id": "e7d09f16",
   "metadata": {},
   "outputs": [
    {
     "data": {
      "text/plain": [
       "array([[1, 2, 3, 4],\n",
       "       [5, 6, 7, 8]])"
      ]
     },
     "execution_count": 14,
     "metadata": {},
     "output_type": "execute_result"
    }
   ],
   "source": [
    " arr2 = np.arange(1,9).reshape(2,4) # 이렇게 만들수도 있음\n",
    "arr2"
   ]
  },
  {
   "cell_type": "code",
   "execution_count": 15,
   "id": "09165958",
   "metadata": {},
   "outputs": [
    {
     "name": "stdout",
     "output_type": "stream",
     "text": [
      "2\n"
     ]
    }
   ],
   "source": [
    "### 차원 확인하는 방법\n",
    "print(arr2.ndim) ### number dimention / 2차원 -> 2"
   ]
  },
  {
   "cell_type": "code",
   "execution_count": 19,
   "id": "5b2df304",
   "metadata": {},
   "outputs": [
    {
     "name": "stdout",
     "output_type": "stream",
     "text": [
      "3\n",
      "(3, 2, 5)\n"
     ]
    }
   ],
   "source": [
    "# 3차원 배열\n",
    "array3 = np.array([[[1,2,3,4,5],[6,7,8,9,10]],\n",
    "                  [[1,2,3,4,5],[6,7,8,9,10]],\n",
    "                  [[1,2,3,4,5],[6,7,8,9,10]]]) ### 2행 5열짜리 3개 있는 3차원\n",
    "print(array3.ndim)\n",
    "print(array3.shape)  ### (차원,행,열)"
   ]
  },
  {
   "cell_type": "code",
   "execution_count": 24,
   "id": "bea72ba8",
   "metadata": {
    "scrolled": true
   },
   "outputs": [
    {
     "name": "stdout",
     "output_type": "stream",
     "text": [
      "[0. 0. 0. 0. 0. 0. 0. 0. 0. 0.]\n",
      "[[0. 0. 0. 0. 0. 0.]\n",
      " [0. 0. 0. 0. 0. 0.]\n",
      " [0. 0. 0. 0. 0. 0.]]\n",
      "[[[0. 0.]\n",
      "  [0. 0.]\n",
      "  [0. 0.]]\n",
      "\n",
      " [[0. 0.]\n",
      "  [0. 0.]\n",
      "  [0. 0.]]]\n"
     ]
    }
   ],
   "source": [
    "print(np.zeros(10)) ### np.zeros 0으로만 구성됨\n",
    "print(np.zeros((3,6))) ### 3행6열\n",
    "print(np.zeros((2,3,2))) #### 3행2열2개(3차원)"
   ]
  },
  {
   "cell_type": "code",
   "execution_count": 7,
   "id": "a9db60dd",
   "metadata": {},
   "outputs": [
    {
     "data": {
      "text/plain": [
       "(10,)"
      ]
     },
     "execution_count": 7,
     "metadata": {},
     "output_type": "execute_result"
    }
   ],
   "source": [
    "a=np.zeros(10)\n",
    "a.shape"
   ]
  },
  {
   "cell_type": "code",
   "execution_count": 29,
   "id": "cbaaebbd",
   "metadata": {},
   "outputs": [
    {
     "name": "stdout",
     "output_type": "stream",
     "text": [
      "[1. 1. 1. 1. 1. 1. 1. 1. 1. 1.]\n",
      "[[1. 1. 1. 1. 1. 1.]\n",
      " [1. 1. 1. 1. 1. 1.]\n",
      " [1. 1. 1. 1. 1. 1.]]\n",
      "[[[1. 1.]\n",
      "  [1. 1.]\n",
      "  [1. 1.]]\n",
      "\n",
      " [[1. 1.]\n",
      "  [1. 1.]\n",
      "  [1. 1.]]]\n"
     ]
    }
   ],
   "source": [
    "print(np.ones(10))\n",
    "print(np.ones((3,6)))\n",
    "print(np.ones((2,3,2)))"
   ]
  },
  {
   "cell_type": "code",
   "execution_count": 41,
   "id": "1509983f",
   "metadata": {},
   "outputs": [],
   "source": [
    "arr3 = np.arange(15) "
   ]
  },
  {
   "cell_type": "code",
   "execution_count": 49,
   "id": "4b67e246",
   "metadata": {},
   "outputs": [
    {
     "data": {
      "text/plain": [
       "array([[ 0,  1,  2,  3,  4,  5,  6,  7,  8,  9, 10, 11, 12, 13, 14],\n",
       "       [15, 16, 17, 18, 19, 20, 21, 22, 23, 24, 25, 26, 27, 28, 29],\n",
       "       [30, 31, 32, 33, 34, 35, 36, 37, 38, 39, 40, 41, 42, 43, 44],\n",
       "       [45, 46, 47, 48, 49, 50, 51, 52, 53, 54, 55, 56, 57, 58, 59],\n",
       "       [60, 61, 62, 63, 64, 65, 66, 67, 68, 69, 70, 71, 72, 73, 74]])"
      ]
     },
     "execution_count": 49,
     "metadata": {},
     "output_type": "execute_result"
    }
   ],
   "source": [
    "# reshape 함수\n",
    "# arr3.reshape(3,5) ### 배열의 원소 수와 맞게 해줘야 함.\n",
    "# arr3.reshape(5,-1)\n",
    "arr3.reshape(-1,15)"
   ]
  },
  {
   "cell_type": "code",
   "execution_count": 53,
   "id": "910945e6",
   "metadata": {},
   "outputs": [
    {
     "data": {
      "text/plain": [
       "array([[  0,   1,   2,   3,   4,   5,   6,   7,   8,   9,  10,  11,  12,\n",
       "         13,  14,  15,  16,  17,  18,  19,  20,  21,  22,  23,  24],\n",
       "       [ 25,  26,  27,  28,  29,  30,  31,  32,  33,  34,  35,  36,  37,\n",
       "         38,  39,  40,  41,  42,  43,  44,  45,  46,  47,  48,  49],\n",
       "       [ 50,  51,  52,  53,  54,  55,  56,  57,  58,  59,  60,  61,  62,\n",
       "         63,  64,  65,  66,  67,  68,  69,  70,  71,  72,  73,  74],\n",
       "       [ 75,  76,  77,  78,  79,  80,  81,  82,  83,  84,  85,  86,  87,\n",
       "         88,  89,  90,  91,  92,  93,  94,  95,  96,  97,  98,  99],\n",
       "       [100, 101, 102, 103, 104, 105, 106, 107, 108, 109, 110, 111, 112,\n",
       "        113, 114, 115, 116, 117, 118, 119, 120, 121, 122, 123, 124],\n",
       "       [125, 126, 127, 128, 129, 130, 131, 132, 133, 134, 135, 136, 137,\n",
       "        138, 139, 140, 141, 142, 143, 144, 145, 146, 147, 148, 149],\n",
       "       [150, 151, 152, 153, 154, 155, 156, 157, 158, 159, 160, 161, 162,\n",
       "        163, 164, 165, 166, 167, 168, 169, 170, 171, 172, 173, 174]])"
      ]
     },
     "execution_count": 53,
     "metadata": {},
     "output_type": "execute_result"
    }
   ],
   "source": [
    "# Q. 5행 3열, 7행 25열 다차원 배열을 생성하세요.\n",
    "arr4 = np.arange(15).reshape(5,3)\n",
    "arr5 = np.arange(7*25).reshape(7,-1)\n",
    "# np.ones((7,25))\n",
    "arr5"
   ]
  },
  {
   "cell_type": "code",
   "execution_count": 55,
   "id": "e3dae2b9",
   "metadata": {},
   "outputs": [],
   "source": [
    "# Q. 1 ~ 30 연속된 정수로 1차원, 2차원, 3차원 배열을 생성하세요.\n",
    "arr6 = np.arange(1,31)\n",
    "arr6 = np.arange(1,31).reshape(5,-1)\n",
    "arr6 = np.arange(1,31).reshape(5,3,-1)\n"
   ]
  },
  {
   "cell_type": "code",
   "execution_count": 82,
   "id": "efd9e3e0",
   "metadata": {},
   "outputs": [],
   "source": [
    "# Q. 연속된 정수 1 ~ 20으로 1차원 배열을 생성한 후 2차원, 3차원 배열로 변환하세요.\n",
    "arr7 = np.arange(1,21)\n",
    "arr8 = arr7.reshape(10,-1)\n",
    "arr9 = arr7.reshape(2,5,2)"
   ]
  },
  {
   "cell_type": "code",
   "execution_count": 62,
   "id": "2a7bb439",
   "metadata": {},
   "outputs": [],
   "source": [
    "# Q. 연속된 정수 1 ~ 30으로 2차원 배열을 생성한 후 1차원, 3차원 배열로 변환하세요. \n",
    "arr10 = np.arange(1,31).reshape(10,3)\n",
    "arr11 = arr10.reshape(30)\n",
    "arr12 = arr10.reshape(3,5,2)"
   ]
  },
  {
   "cell_type": "code",
   "execution_count": 83,
   "id": "a7457308",
   "metadata": {},
   "outputs": [],
   "source": [
    "# Q. 연속된 정수 1 ~ 24로 3차원 배열을 생성한 후 1차원, 2차원 배열로 변환하세요.\n",
    "arr13 = np.arange(1,25).reshape(3,4,-1)\n",
    "arr14 = arr13.reshape(-1) ### 1차원 바꾸기\n",
    "arr14 = arr13.reshape(24) ### 1차원 바꾸기\n",
    "arr14 = arr13.flatten() ### 1차원으로 바꾸기\n",
    "arr15 = np.ravel(arr13, order='C') ### 1차원 바꾸기 ### 참고 : https://rfriend.tistory.com/349 \n",
    "arr15\n",
    "arr15 = arr13.reshape(2,12)"
   ]
  },
  {
   "cell_type": "code",
   "execution_count": 84,
   "id": "008a8c79",
   "metadata": {},
   "outputs": [
    {
     "name": "stdout",
     "output_type": "stream",
     "text": [
      "[ 1  2  3  4  5  6  7  8  9 10 11 12 13 14 15 16 17 18 19 20 21 22 23 24]\n",
      "[[ 1  2  3  4]\n",
      " [ 5  6  7  8]\n",
      " [ 9 10 11 12]\n",
      " [13 14 15 16]\n",
      " [17 18 19 20]\n",
      " [21 22 23 24]]\n"
     ]
    }
   ],
   "source": [
    "a = np.arange(1,25).reshape(3,2,-1)\n",
    "print(a.reshape(-1,))\n",
    "print(a.reshape(6,-1))"
   ]
  },
  {
   "cell_type": "code",
   "execution_count": 85,
   "id": "0238f2bf",
   "metadata": {
    "scrolled": true
   },
   "outputs": [
    {
     "data": {
      "text/plain": [
       "[0,\n",
       " 1,\n",
       " 2,\n",
       " 3,\n",
       " 4,\n",
       " 5,\n",
       " 6,\n",
       " 7,\n",
       " 8,\n",
       " 9,\n",
       " 10,\n",
       " 11,\n",
       " 12,\n",
       " 13,\n",
       " 14,\n",
       " 15,\n",
       " 16,\n",
       " 17,\n",
       " 18,\n",
       " 19,\n",
       " 20,\n",
       " 21,\n",
       " 22,\n",
       " 23,\n",
       " 24,\n",
       " 25,\n",
       " 26,\n",
       " 27,\n",
       " 28,\n",
       " 29]"
      ]
     },
     "execution_count": 85,
     "metadata": {},
     "output_type": "execute_result"
    }
   ],
   "source": [
    "# 배열을 리스트로 변환\n",
    "ar1 = np.arange(30)\n",
    "ar1.tolist() ### 배열을 리스트로 바꾸기"
   ]
  },
  {
   "cell_type": "code",
   "execution_count": 88,
   "id": "7fda0a74",
   "metadata": {},
   "outputs": [
    {
     "data": {
      "text/plain": [
       "[[[0, 1], [2, 3], [4, 5]],\n",
       " [[6, 7], [8, 9], [10, 11]],\n",
       " [[12, 13], [14, 15], [16, 17]],\n",
       " [[18, 19], [20, 21], [22, 23]],\n",
       " [[24, 25], [26, 27], [28, 29]]]"
      ]
     },
     "execution_count": 88,
     "metadata": {},
     "output_type": "execute_result"
    }
   ],
   "source": [
    "ar3 = np.arange(30).reshape(5,3,2)\n",
    "ar3.tolist()"
   ]
  },
  {
   "cell_type": "code",
   "execution_count": 89,
   "id": "50b4ee07",
   "metadata": {},
   "outputs": [
    {
     "data": {
      "text/plain": [
       "array([[7, 7],\n",
       "       [7, 7]])"
      ]
     },
     "execution_count": 89,
     "metadata": {},
     "output_type": "execute_result"
    }
   ],
   "source": [
    "a = np.full((2,2),7) ### 7로 채우기\n",
    "a"
   ]
  },
  {
   "cell_type": "code",
   "execution_count": 90,
   "id": "a0c02b7b",
   "metadata": {},
   "outputs": [
    {
     "data": {
      "text/plain": [
       "array([['가', '가'],\n",
       "       ['가', '가']], dtype='<U1')"
      ]
     },
     "execution_count": 90,
     "metadata": {},
     "output_type": "execute_result"
    }
   ],
   "source": [
    "a = np.full((2,2),'가') ### str도 가능~\n",
    "a"
   ]
  },
  {
   "cell_type": "code",
   "execution_count": 2,
   "id": "10ee8f41",
   "metadata": {},
   "outputs": [
    {
     "data": {
      "text/plain": [
       "array([[['나'],\n",
       "        ['나'],\n",
       "        ['나']],\n",
       "\n",
       "       [['나'],\n",
       "        ['나'],\n",
       "        ['나']]], dtype='<U1')"
      ]
     },
     "execution_count": 2,
     "metadata": {},
     "output_type": "execute_result"
    }
   ],
   "source": [
    "import numpy as np\n",
    "a=np.full((2,3,1),'나')\n",
    "a"
   ]
  },
  {
   "cell_type": "markdown",
   "id": "e3381fc3",
   "metadata": {},
   "source": [
    "대각행렬 : 대각선이 아닌 곳이 0인거  \n",
    "항등행렬(=단위행렬) : 대각행렬 중 대각선이 1인거arr14 = arr13.reshape(-1) ### 1차원 바꾸기\n",
    "  \n"
   ]
  },
  {
   "cell_type": "code",
   "execution_count": 10,
   "id": "c1fb3a79",
   "metadata": {
    "scrolled": true
   },
   "outputs": [
    {
     "data": {
      "text/plain": [
       "array([[1., 0., 0.],\n",
       "       [0., 1., 0.],\n",
       "       [0., 0., 1.]])"
      ]
     },
     "execution_count": 10,
     "metadata": {},
     "output_type": "execute_result"
    }
   ],
   "source": [
    "# 항등행렬, 단위행렬\n",
    "ar = np.eye(3)\n",
    "ar"
   ]
  },
  {
   "cell_type": "markdown",
   "id": "8ab15cea",
   "metadata": {},
   "source": [
    "참고  \n",
    "https://math-development-geometry.tistory.com/52"
   ]
  },
  {
   "cell_type": "code",
   "execution_count": 12,
   "id": "34b1af38",
   "metadata": {},
   "outputs": [
    {
     "name": "stdout",
     "output_type": "stream",
     "text": [
      "[[1 2 3]\n",
      " [4 5 6]]\n"
     ]
    },
    {
     "data": {
      "text/plain": [
       "array([[0, 0, 0],\n",
       "       [0, 0, 0]])"
      ]
     },
     "execution_count": 12,
     "metadata": {},
     "output_type": "execute_result"
    }
   ],
   "source": [
    "import numpy as np\n",
    "a = np.array([[1,2,3],[4,5,6]])\n",
    "print(a)\n",
    "b = np.zeros_like(a) ### zero로 a처럼 shape을 만들어줌\n",
    "b\n",
    "# c = np.ones_like(a)\n",
    "# c"
   ]
  },
  {
   "cell_type": "code",
   "execution_count": 31,
   "id": "4837d63d",
   "metadata": {},
   "outputs": [
    {
     "data": {
      "text/plain": [
       "array([ 0.        ,  0.20408163,  0.40816327,  0.6122449 ,  0.81632653,\n",
       "        1.02040816,  1.2244898 ,  1.42857143,  1.63265306,  1.83673469,\n",
       "        2.04081633,  2.24489796,  2.44897959,  2.65306122,  2.85714286,\n",
       "        3.06122449,  3.26530612,  3.46938776,  3.67346939,  3.87755102,\n",
       "        4.08163265,  4.28571429,  4.48979592,  4.69387755,  4.89795918,\n",
       "        5.10204082,  5.30612245,  5.51020408,  5.71428571,  5.91836735,\n",
       "        6.12244898,  6.32653061,  6.53061224,  6.73469388,  6.93877551,\n",
       "        7.14285714,  7.34693878,  7.55102041,  7.75510204,  7.95918367,\n",
       "        8.16326531,  8.36734694,  8.57142857,  8.7755102 ,  8.97959184,\n",
       "        9.18367347,  9.3877551 ,  9.59183673,  9.79591837, 10.        ])"
      ]
     },
     "execution_count": 31,
     "metadata": {},
     "output_type": "execute_result"
    }
   ],
   "source": [
    "# 0 ~ 10을 균등하게 50개로 나누어줌\n",
    "np.linspace(0,10) # 범위만 정해주면 무조건 50개로 나눠줌"
   ]
  },
  {
   "cell_type": "code",
   "execution_count": 28,
   "id": "4853fe00",
   "metadata": {
    "scrolled": true
   },
   "outputs": [
    {
     "data": {
      "text/plain": [
       "array([ 0.        ,  1.42857143,  2.85714286,  4.28571429,  5.71428571,\n",
       "        7.14285714,  8.57142857, 10.        ])"
      ]
     },
     "execution_count": 28,
     "metadata": {},
     "output_type": "execute_result"
    }
   ],
   "source": [
    "np.linspace(0,10,num=8) # default가 50임. num에 입력하면 그 수만큼으로 나눔"
   ]
  },
  {
   "cell_type": "code",
   "execution_count": 98,
   "id": "6e24e400",
   "metadata": {},
   "outputs": [
    {
     "data": {
      "text/plain": [
       "(array([0.  , 0.25, 0.5 , 0.75, 1.  ]), 0.25)"
      ]
     },
     "execution_count": 98,
     "metadata": {},
     "output_type": "execute_result"
    }
   ],
   "source": [
    "np.linspace(0,1,5,retstep=True) ### num이 아닌 그냥 세번째에 숫자를 넣어도 그 수만큼 줌\n",
    "### retstep은 간격!"
   ]
  },
  {
   "cell_type": "code",
   "execution_count": 100,
   "id": "dae44449",
   "metadata": {},
   "outputs": [
    {
     "data": {
      "text/plain": [
       "(array([0.        , 0.55555556, 1.11111111, 1.66666667, 2.22222222,\n",
       "        2.77777778, 3.33333333, 3.88888889, 4.44444444, 5.        ]),\n",
       " 0.5555555555555556)"
      ]
     },
     "execution_count": 100,
     "metadata": {},
     "output_type": "execute_result"
    }
   ],
   "source": [
    "np.linspace(0,5,10,retstep=True)"
   ]
  },
  {
   "cell_type": "code",
   "execution_count": 33,
   "id": "0253d21f",
   "metadata": {
    "scrolled": true
   },
   "outputs": [
    {
     "data": {
      "text/plain": [
       "[<matplotlib.lines.Line2D at 0x1cd8b9f62b0>]"
      ]
     },
     "execution_count": 33,
     "metadata": {},
     "output_type": "execute_result"
    },
    {
     "data": {
      "image/png": "[encoded data removed]",
      "text/plain": [
       "<Figure size 432x288 with 1 Axes>"
      ]
     },
     "metadata": {
      "needs_background": "light"
     },
     "output_type": "display_data"
    }
   ],
   "source": [
    "import matplotlib.pyplot as plt\n",
    "x = np.linspace(0,1)\n",
    "y = np.linspace(0,50)\n",
    "### x, y 둘 다 50개로 나눔\n",
    "\n",
    "### plot 그림그려주기\n",
    "plt.plot(x,y,'o')"
   ]
  },
  {
   "cell_type": "code",
   "execution_count": 43,
   "id": "d254e92f",
   "metadata": {},
   "outputs": [
    {
     "data": {
      "text/plain": [
       "[<matplotlib.lines.Line2D at 0x1cd8bdcd790>]"
      ]
     },
     "execution_count": 43,
     "metadata": {},
     "output_type": "execute_result"
    },
    {
     "data": {
      "image/png": "[encoded data removed]",
      "text/plain": [
       "<Figure size 432x288 with 1 Axes>"
      ]
     },
     "metadata": {},
     "output_type": "display_data"
    }
   ],
   "source": [
    "### 구간 바꿔보기\n",
    "x = np.linspace(0,1,20)\n",
    "y = np.linspace(0.1,1,20)\n",
    "plt.style.use('seaborn-dark')\n",
    "# plt.plot(x,y,'o') ### 동그라미\n",
    "# plt.plot(x,y,'^') ### 삼각형\n",
    "# plt.plot(x,y,'*') ### 별모양\n",
    "# plt.plot(x,y,'-') ### 선\n",
    "# plt.plot(x,y,'--') ### 점선\n",
    "plt.plot(x,y,':') ### 가는 점선"
   ]
  },
  {
   "cell_type": "code",
   "execution_count": 46,
   "id": "65637150",
   "metadata": {
    "scrolled": true
   },
   "outputs": [
    {
     "name": "stdout",
     "output_type": "stream",
     "text": [
      "0.0999999993810619\n",
      "1.0\n"
     ]
    },
    {
     "data": {
      "text/plain": [
       "array([ 1.25892541,  1.40400425,  1.565802  ,  1.74624535,  1.94748304,\n",
       "        2.1719114 ,  2.42220294,  2.70133812,  3.0126409 ,  3.35981829,\n",
       "        3.74700446,  4.17881006,  4.66037703,  5.19743987,  5.79639395,\n",
       "        6.46437163,  7.2093272 ,  8.04013161,  8.9666781 , 10.        ])"
      ]
     },
     "execution_count": 46,
     "metadata": {},
     "output_type": "execute_result"
    }
   ],
   "source": [
    "print(np.log10(1.25892541))\n",
    "print(np.log10(10)) ### log 10의 10은 1\n",
    "np.logspace(0.1,1,20) ### 나와있는 숫자 20개 -> 기준 / 구간은 19개"
   ]
  },
  {
   "cell_type": "code",
   "execution_count": 123,
   "id": "5c6dcf04",
   "metadata": {},
   "outputs": [
    {
     "data": {
      "text/plain": [
       "[<matplotlib.lines.Line2D at 0x1f627297640>]"
      ]
     },
     "execution_count": 123,
     "metadata": {},
     "output_type": "execute_result"
    },
    {
     "data": {
      "image/png": "[encoded data removed]",
      "text/plain": [
       "<Figure size 432x288 with 1 Axes>"
      ]
     },
     "metadata": {},
     "output_type": "display_data"
    }
   ],
   "source": [
    "x = np.linspace(0,20,20)\n",
    "y = np.logspace(0.1,1,20)\n",
    "plt.plot(x,y,'o')"
   ]
  },
  {
   "cell_type": "code",
   "execution_count": 136,
   "id": "4caebf5c",
   "metadata": {},
   "outputs": [
    {
     "name": "stdout",
     "output_type": "stream",
     "text": [
      "int32\n"
     ]
    },
    {
     "data": {
      "text/plain": [
       "dtype('float64')"
      ]
     },
     "execution_count": 136,
     "metadata": {},
     "output_type": "execute_result"
    }
   ],
   "source": [
    "ar1= np.array([1,2,3,4,5]) ### int32\n",
    "print(ar1.dtype)\n",
    "\n",
    "float_ar1 = ar1.astype(np.float64) ### 타입 float로 바꿔주기\n",
    "float_ar1.dtype"
   ]
  },
  {
   "cell_type": "code",
   "execution_count": 137,
   "id": "2ede4584",
   "metadata": {},
   "outputs": [
    {
     "name": "stderr",
     "output_type": "stream",
     "text": [
      "<ipython-input-137-77630e949607>:2: DeprecationWarning: `np.float` is a deprecated alias for the builtin `float`. To silence this warning, use `float` by itself. Doing this will not modify any behavior and is safe. If you specifically wanted the numpy scalar type, use `np.float64` here.\n",
      "Deprecated in NumPy 1.20; for more details and guidance: https://numpy.org/devdocs/release/1.20.0-notes.html#deprecations\n",
      "  numeric_string.astype(np.float) # float로 바꿔줌\n"
     ]
    },
    {
     "data": {
      "text/plain": [
       "array([ 1.25, -9.5 , 42.  ])"
      ]
     },
     "execution_count": 137,
     "metadata": {},
     "output_type": "execute_result"
    }
   ],
   "source": [
    "numeric_string = np.array(['1.25','-9.5','42'],dtype=np.string_) ### string_ 에서 언더바는 여러개라 써줌..(?)/ dtype안써도 됨\n",
    "### 정수, 실수 섞인 경우(따옴표 안에 있으니 스트링!)\n",
    "numeric_string.astype(np.float) # float로 바꿔줌\n",
    "### numpy 에서는 float : float63로 사용 /  float만 입력해도 알아서 인식함"
   ]
  },
  {
   "cell_type": "code",
   "execution_count": 48,
   "id": "88f3a9e1",
   "metadata": {},
   "outputs": [
    {
     "name": "stdout",
     "output_type": "stream",
     "text": [
      "[1.8 2.3 3. ] float64\n",
      "[1 2 3] int32\n"
     ]
    }
   ],
   "source": [
    "# Q. 정수와 실수로 구성된 list_e = [1.2,2.3,3]을 numpy를 이용해서\n",
    "# 실수형과 정수형으로 각각 출력하세요.\n",
    "list_e = [1.8,2.3,3] ### 이렇게 정수, 실수처럼 섞여있는 경우 큰걸로 인식함. 따라서 이건 실수로 인식!\n",
    "ar_e1 = np.array(list_e) ### 리스트는 안됨! 배열로 먼저 바꿔주기!\n",
    "# ar_e2 = ar_e1.astype('int32')\n",
    "ar_e2 = ar_e1.astype(int) ### 정식으로는 int32이지만 그냥 int만 해도 됨!\n",
    "print(ar_e1,ar_e1.dtype)"
   ]
  },
  {
   "cell_type": "code",
   "execution_count": 151,
   "id": "a8f03c54",
   "metadata": {},
   "outputs": [
    {
     "data": {
      "text/plain": [
       "array([[1, 2, 3],\n",
       "       [4, 5, 6]])"
      ]
     },
     "execution_count": 151,
     "metadata": {},
     "output_type": "execute_result"
    }
   ],
   "source": [
    "arr = np.array([[1,2,3],[4,5,6]])\n",
    "arr"
   ]
  },
  {
   "cell_type": "code",
   "execution_count": 156,
   "id": "8a45a1e5",
   "metadata": {},
   "outputs": [
    {
     "data": {
      "text/plain": [
       "array([[ 1,  4,  9],\n",
       "       [16, 25, 36]])"
      ]
     },
     "execution_count": 156,
     "metadata": {},
     "output_type": "execute_result"
    }
   ],
   "source": [
    "### 같은 위치끼리 계산됨\n",
    "arr1 = arr*arr\n",
    "arr1"
   ]
  },
  {
   "cell_type": "code",
   "execution_count": 157,
   "id": "a6896735",
   "metadata": {},
   "outputs": [
    {
     "data": {
      "text/plain": [
       "array([[0, 0, 0],\n",
       "       [0, 0, 0]])"
      ]
     },
     "execution_count": 157,
     "metadata": {},
     "output_type": "execute_result"
    }
   ],
   "source": [
    "arr2 = arr - arr\n",
    "arr2"
   ]
  },
  {
   "cell_type": "code",
   "execution_count": 158,
   "id": "b7ca8e74",
   "metadata": {},
   "outputs": [
    {
     "data": {
      "text/plain": [
       "array([[False, False, False],\n",
       "       [False, False, False]])"
      ]
     },
     "execution_count": 158,
     "metadata": {},
     "output_type": "execute_result"
    }
   ],
   "source": [
    "arr2 > arr1 ### 각 셀에 대해 맞으면 True / 틀리면 False"
   ]
  },
  {
   "cell_type": "code",
   "execution_count": 159,
   "id": "1fae2031",
   "metadata": {},
   "outputs": [
    {
     "data": {
      "text/plain": [
       "array([[1, 2, 3],\n",
       "       [4, 5, 6],\n",
       "       [7, 8, 9]])"
      ]
     },
     "execution_count": 159,
     "metadata": {},
     "output_type": "execute_result"
    }
   ],
   "source": [
    "ar2 = np.arange(1,10).reshape(3,3)\n",
    "ar2"
   ]
  },
  {
   "cell_type": "code",
   "execution_count": 163,
   "id": "b0e3df22",
   "metadata": {},
   "outputs": [
    {
     "data": {
      "text/plain": [
       "3"
      ]
     },
     "execution_count": 163,
     "metadata": {},
     "output_type": "execute_result"
    }
   ],
   "source": [
    "### 넘파이에서는 iloc, loc 못 씀. pandas만 해당됨\n",
    "ar2[2] ### 인덱스 사용\n",
    "# 3 뽑기\n",
    "ar2[0,2] ### 인덱스 행, 열\n",
    "ar2[0][2] ### 따로도 됨"
   ]
  },
  {
   "cell_type": "code",
   "execution_count": 164,
   "id": "a24f2788",
   "metadata": {},
   "outputs": [
    {
     "data": {
      "text/plain": [
       "array([[ 0,  1,  2,  3],\n",
       "       [ 4,  5,  6,  7],\n",
       "       [ 8,  9, 10, 11],\n",
       "       [12, 13, 14, 15],\n",
       "       [16, 17, 18, 19]])"
      ]
     },
     "execution_count": 164,
     "metadata": {},
     "output_type": "execute_result"
    }
   ],
   "source": [
    "ar2 = np.arange(20).reshape(5,4)\n",
    "ar2"
   ]
  },
  {
   "cell_type": "code",
   "execution_count": 171,
   "id": "2adf2092",
   "metadata": {},
   "outputs": [
    {
     "name": "stdout",
     "output_type": "stream",
     "text": [
      "[1 2 3]\n",
      "[5 6 7]\n",
      "================================================================================\n",
      "[[1 2 3]\n",
      " [5 6 7]]\n"
     ]
    }
   ],
   "source": [
    "print(ar2[0,1:4])\n",
    "print(ar2[1,1:4])\n",
    "print('='*80)\n",
    "# print(ar2[0:2,1:4])\n",
    "print(ar2[:2,1:]) ### 슬라이싱할 때 처음과 끝은 안넣어줘도 됨"
   ]
  },
  {
   "cell_type": "code",
   "execution_count": 173,
   "id": "65544392",
   "metadata": {
    "collapsed": true
   },
   "outputs": [
    {
     "ename": "SyntaxError",
     "evalue": "invalid syntax (<ipython-input-173-6ddbd87b4142>, line 2)",
     "output_type": "error",
     "traceback": [
      "\u001b[1;36m  File \u001b[1;32m\"<ipython-input-173-6ddbd87b4142>\"\u001b[1;36m, line \u001b[1;32m2\u001b[0m\n\u001b[1;33m    [[1 2]\u001b[0m\n\u001b[1;37m        ^\u001b[0m\n\u001b[1;31mSyntaxError\u001b[0m\u001b[1;31m:\u001b[0m invalid syntax\n"
     ]
    }
   ],
   "source": [
    "# Q. ar2에서 슬라이싱을 사용해서 아래와 같이 출력하세요.\n",
    "[[1 2]\n",
    "[4 5]]\n",
    "\n",
    "(2가지 방법)\n",
    "[[4 5 6]\n",
    "[7 8 9]]\n",
    "\n",
    "[[1 2 3]\n",
    "[4 5 6]\n",
    "[7 8 9]]\n",
    "\n",
    "[[2 3]\n",
    "[5 6]]\n",
    "\n",
    "[1 4]"
   ]
  },
  {
   "cell_type": "code",
   "execution_count": 2,
   "id": "b7dbbdcd",
   "metadata": {},
   "outputs": [
    {
     "name": "stdout",
     "output_type": "stream",
     "text": [
      "[[1 2]\n",
      " [4 5]]\n"
     ]
    }
   ],
   "source": [
    "print(ar2[:2,:2])"
   ]
  },
  {
   "cell_type": "code",
   "execution_count": 3,
   "id": "93a4e47c",
   "metadata": {},
   "outputs": [
    {
     "name": "stdout",
     "output_type": "stream",
     "text": [
      "[[4 5 6]\n",
      " [7 8 9]]\n"
     ]
    }
   ],
   "source": [
    "# 방법 1\n",
    "print(ar2[1:])"
   ]
  },
  {
   "cell_type": "code",
   "execution_count": 4,
   "id": "bb6aa3f3",
   "metadata": {},
   "outputs": [
    {
     "name": "stdout",
     "output_type": "stream",
     "text": [
      "[[4 5 6]\n",
      " [7 8 9]]\n"
     ]
    }
   ],
   "source": [
    "# 방법2\n",
    "print(ar2[-2:])"
   ]
  },
  {
   "cell_type": "code",
   "execution_count": 9,
   "id": "2f006e26",
   "metadata": {},
   "outputs": [
    {
     "data": {
      "text/plain": [
       "array([[4, 5, 6],\n",
       "       [7, 8, 9]])"
      ]
     },
     "execution_count": 9,
     "metadata": {},
     "output_type": "execute_result"
    }
   ],
   "source": [
    "# 방법3\n",
    "ar2[[False,True,True]]"
   ]
  },
  {
   "cell_type": "code",
   "execution_count": 10,
   "id": "74a84856",
   "metadata": {},
   "outputs": [
    {
     "data": {
      "text/plain": [
       "array([[4, 5, 6],\n",
       "       [7, 8, 9]])"
      ]
     },
     "execution_count": 10,
     "metadata": {},
     "output_type": "execute_result"
    }
   ],
   "source": [
    "# 방법4\n",
    "ar2[1:3,:]"
   ]
  },
  {
   "cell_type": "code",
   "execution_count": 5,
   "id": "05f4e579",
   "metadata": {},
   "outputs": [
    {
     "name": "stdout",
     "output_type": "stream",
     "text": [
      "[[1 2 3]\n",
      " [4 5 6]\n",
      " [7 8 9]]\n"
     ]
    }
   ],
   "source": [
    "print(ar2)"
   ]
  },
  {
   "cell_type": "code",
   "execution_count": 11,
   "id": "d1b44ec9",
   "metadata": {},
   "outputs": [
    {
     "data": {
      "text/plain": [
       "array([[1, 2, 3],\n",
       "       [4, 5, 6],\n",
       "       [7, 8, 9]])"
      ]
     },
     "execution_count": 11,
     "metadata": {},
     "output_type": "execute_result"
    }
   ],
   "source": [
    "ar2[:,:]"
   ]
  },
  {
   "cell_type": "code",
   "execution_count": 6,
   "id": "4600ffb7",
   "metadata": {},
   "outputs": [
    {
     "name": "stdout",
     "output_type": "stream",
     "text": [
      "[[2 3]\n",
      " [5 6]]\n"
     ]
    }
   ],
   "source": [
    "print(ar2[:2,1:])"
   ]
  },
  {
   "cell_type": "code",
   "execution_count": 7,
   "id": "efd87d0b",
   "metadata": {},
   "outputs": [
    {
     "name": "stdout",
     "output_type": "stream",
     "text": [
      "[1 4]\n"
     ]
    }
   ],
   "source": [
    "print(ar2[:2,0])"
   ]
  },
  {
   "cell_type": "code",
   "execution_count": 13,
   "id": "d3c21299",
   "metadata": {},
   "outputs": [
    {
     "name": "stdout",
     "output_type": "stream",
     "text": [
      "[1 4]\n",
      "[[1]\n",
      " [4]]\n"
     ]
    }
   ],
   "source": [
    "# 차이 확인\n",
    "print(ar2[:2,0])\n",
    "print(ar2[:2,:1])"
   ]
  },
  {
   "cell_type": "markdown",
   "id": "f914f399",
   "metadata": {},
   "source": [
    "# 7/22"
   ]
  },
  {
   "cell_type": "code",
   "execution_count": 49,
   "id": "8269705d",
   "metadata": {},
   "outputs": [
    {
     "name": "stdout",
     "output_type": "stream",
     "text": [
      "[1 2 3 4 5 6 7 8 9]\n",
      "[False False False False False  True  True  True  True]\n",
      "[6 7 8 9]\n"
     ]
    }
   ],
   "source": [
    "# Boolean Indexing\n",
    "\n",
    "### 5보다 큰거 뽑기\n",
    "ar1 = np.arange(1,10)\n",
    "print(ar1)\n",
    "print(ar1>5)\n",
    "print(ar1[ar1>5])"
   ]
  },
  {
   "cell_type": "code",
   "execution_count": 22,
   "id": "fb978ab6",
   "metadata": {},
   "outputs": [
    {
     "data": {
      "text/plain": [
       "array([6, 7, 8, 9])"
      ]
     },
     "execution_count": 22,
     "metadata": {},
     "output_type": "execute_result"
    }
   ],
   "source": [
    "indexes = np.array([5,6,7,8])\n",
    "ar3 = ar1[indexes]\n",
    "ar3"
   ]
  },
  {
   "cell_type": "code",
   "execution_count": 25,
   "id": "302a50a9",
   "metadata": {},
   "outputs": [
    {
     "name": "stdout",
     "output_type": "stream",
     "text": [
      "[ 1  2  3  4  5  6  7  8  9 10 11 12 13 14]\n",
      "[11 12 13 14]\n"
     ]
    }
   ],
   "source": [
    "# Q. 1 ~ 14까지 ndarray를 만들어 array_e로 저장하고 (array_e/2)>5를 \n",
    "# 만족하는 값을 불린 인덱스로 출력하세요.\n",
    "array_e = np.arange(1,15)\n",
    "print(array_e)\n",
    "array_e1 = array_e[ (array_e / 2 ) > 5]\n",
    "print(array_e1)"
   ]
  },
  {
   "cell_type": "code",
   "execution_count": 55,
   "id": "ede03cd7",
   "metadata": {},
   "outputs": [
    {
     "name": "stdout",
     "output_type": "stream",
     "text": [
      "['Bob' 'Joe' 'Will' 'Bob' 'Will' 'Joe' 'Joe'] \n",
      "\n",
      "[[-1.51273984  0.63208735 -1.12663124  0.80954652]\n",
      " [ 0.93682681  1.13310721  0.37685597 -0.13852476]\n",
      " [ 0.57673599 -0.92523885 -0.53227009  0.45497699]\n",
      " [-0.2797954  -1.08113824 -0.59212208  0.92681962]\n",
      " [-1.66341349 -0.51797283  1.37407848  0.07503165]\n",
      " [-0.24125065 -0.4892325  -0.71961177  0.10450374]\n",
      " [ 0.96104304 -1.27754219 -2.15455376 -0.83405611]]\n"
     ]
    }
   ],
   "source": [
    "names = np.array(['Bob','Joe','Will','Bob','Will','Joe','Joe'])\n",
    "data = np.random.randn(7,4)\n",
    "print(names,'\\n')\n",
    "print(data)"
   ]
  },
  {
   "cell_type": "code",
   "execution_count": 56,
   "id": "b3bc5384",
   "metadata": {},
   "outputs": [
    {
     "data": {
      "text/plain": [
       "array([ True, False, False,  True, False, False, False])"
      ]
     },
     "execution_count": 56,
     "metadata": {},
     "output_type": "execute_result"
    }
   ],
   "source": [
    "names == 'Bob'"
   ]
  },
  {
   "cell_type": "code",
   "execution_count": 57,
   "id": "9cd0b187",
   "metadata": {},
   "outputs": [
    {
     "data": {
      "text/plain": [
       "array([[-1.51273984,  0.63208735, -1.12663124,  0.80954652],\n",
       "       [-0.2797954 , -1.08113824, -0.59212208,  0.92681962]])"
      ]
     },
     "execution_count": 57,
     "metadata": {},
     "output_type": "execute_result"
    }
   ],
   "source": [
    "data[names=='Bob'] ### names=='Bob'이 True에 해당하는 인덱스만 나옴(행)"
   ]
  },
  {
   "cell_type": "code",
   "execution_count": 58,
   "id": "7bbb90c4",
   "metadata": {},
   "outputs": [
    {
     "data": {
      "text/plain": [
       "array([[-1.12663124,  0.80954652],\n",
       "       [-0.59212208,  0.92681962]])"
      ]
     },
     "execution_count": 58,
     "metadata": {},
     "output_type": "execute_result"
    }
   ],
   "source": [
    "data[names=='Bob',2:] ### 열까지 지정!"
   ]
  },
  {
   "cell_type": "code",
   "execution_count": 59,
   "id": "e387b99f",
   "metadata": {},
   "outputs": [
    {
     "data": {
      "text/plain": [
       "array([[ 0.93682681,  1.13310721,  0.37685597, -0.13852476],\n",
       "       [ 0.57673599, -0.92523885, -0.53227009,  0.45497699],\n",
       "       [-1.66341349, -0.51797283,  1.37407848,  0.07503165],\n",
       "       [-0.24125065, -0.4892325 , -0.71961177,  0.10450374],\n",
       "       [ 0.96104304, -1.27754219, -2.15455376, -0.83405611]])"
      ]
     },
     "execution_count": 59,
     "metadata": {},
     "output_type": "execute_result"
    }
   ],
   "source": [
    "data[names!='Bob']"
   ]
  },
  {
   "cell_type": "code",
   "execution_count": 60,
   "id": "69e085b2",
   "metadata": {},
   "outputs": [
    {
     "data": {
      "text/plain": [
       "array([[-1.51273984,  0.63208735, -1.12663124,  0.80954652],\n",
       "       [ 0.57673599, -0.92523885, -0.53227009,  0.45497699],\n",
       "       [-0.2797954 , -1.08113824, -0.59212208,  0.92681962],\n",
       "       [-1.66341349, -0.51797283,  1.37407848,  0.07503165]])"
      ]
     },
     "execution_count": 60,
     "metadata": {},
     "output_type": "execute_result"
    }
   ],
   "source": [
    "mask = (names=='Bob') | (names == 'Will')\n",
    "data[mask]"
   ]
  },
  {
   "cell_type": "code",
   "execution_count": 61,
   "id": "72ac15d6",
   "metadata": {},
   "outputs": [
    {
     "data": {
      "text/plain": [
       "array([[0.        , 0.63208735, 0.        , 0.80954652],\n",
       "       [0.93682681, 1.13310721, 0.37685597, 0.        ],\n",
       "       [0.57673599, 0.        , 0.        , 0.45497699],\n",
       "       [0.        , 0.        , 0.        , 0.92681962],\n",
       "       [0.        , 0.        , 1.37407848, 0.07503165],\n",
       "       [0.        , 0.        , 0.        , 0.10450374],\n",
       "       [0.96104304, 0.        , 0.        , 0.        ]])"
      ]
     },
     "execution_count": 61,
     "metadata": {},
     "output_type": "execute_result"
    }
   ],
   "source": [
    "data[data < 0] = 0\n",
    "data"
   ]
  },
  {
   "cell_type": "code",
   "execution_count": 62,
   "id": "16b593fe",
   "metadata": {},
   "outputs": [
    {
     "data": {
      "text/plain": [
       "array([[7.        , 7.        , 7.        , 7.        ],\n",
       "       [0.93682681, 1.13310721, 0.37685597, 0.        ],\n",
       "       [7.        , 7.        , 7.        , 7.        ],\n",
       "       [7.        , 7.        , 7.        , 7.        ],\n",
       "       [7.        , 7.        , 7.        , 7.        ],\n",
       "       [0.        , 0.        , 0.        , 0.10450374],\n",
       "       [0.96104304, 0.        , 0.        , 0.        ]])"
      ]
     },
     "execution_count": 62,
     "metadata": {},
     "output_type": "execute_result"
    }
   ],
   "source": [
    "data[names != 'Joe'] = 7\n",
    "data"
   ]
  },
  {
   "cell_type": "code",
   "execution_count": 63,
   "id": "c6118365",
   "metadata": {},
   "outputs": [
    {
     "data": {
      "text/plain": [
       "array([[ 0,  1,  2,  3,  4],\n",
       "       [ 5,  6,  7,  8,  9],\n",
       "       [10, 11, 12, 13, 14]])"
      ]
     },
     "execution_count": 63,
     "metadata": {},
     "output_type": "execute_result"
    }
   ],
   "source": [
    "# 배열 전치와 축 바꾸기\n",
    "ar = np.arange(15).reshape(3,5)\n",
    "ar"
   ]
  },
  {
   "cell_type": "code",
   "execution_count": 41,
   "id": "965f9c09",
   "metadata": {},
   "outputs": [
    {
     "data": {
      "text/plain": [
       "array([[ 0,  5, 10],\n",
       "       [ 1,  6, 11],\n",
       "       [ 2,  7, 12],\n",
       "       [ 3,  8, 13],\n",
       "       [ 4,  9, 14]])"
      ]
     },
     "execution_count": 41,
     "metadata": {},
     "output_type": "execute_result"
    }
   ],
   "source": [
    "ar_t = ar.T\n",
    "ar_t"
   ]
  },
  {
   "cell_type": "code",
   "execution_count": 43,
   "id": "575a4301",
   "metadata": {},
   "outputs": [
    {
     "data": {
      "text/plain": [
       "array([[ 0,  1,  2,  3,  4],\n",
       "       [ 5,  6,  7,  8,  9],\n",
       "       [10, 11, 12, 13, 14]])"
      ]
     },
     "execution_count": 43,
     "metadata": {},
     "output_type": "execute_result"
    }
   ],
   "source": [
    "# 다시 환원\n",
    "ar = ar_t.T\n",
    "ar\n",
    "# ar = ar_1.transpose()"
   ]
  },
  {
   "cell_type": "code",
   "execution_count": 50,
   "id": "39c89c0f",
   "metadata": {},
   "outputs": [
    {
     "data": {
      "text/plain": [
       "array([[ 1.76405235,  0.40015721,  0.97873798],\n",
       "       [ 2.2408932 ,  1.86755799, -0.97727788],\n",
       "       [ 0.95008842, -0.15135721, -0.10321885],\n",
       "       [ 0.4105985 ,  0.14404357,  1.45427351],\n",
       "       [ 0.76103773,  0.12167502,  0.44386323],\n",
       "       [ 0.33367433,  1.49407907, -0.20515826]])"
      ]
     },
     "execution_count": 50,
     "metadata": {},
     "output_type": "execute_result"
    }
   ],
   "source": [
    "# np.random.randn(m,n) : 평균 0, 표준편차 1인 표준정규분포 난수 matrix(m,n) 생성\n",
    "np.random.seed(0) # 랜덤 고정\n",
    "arr = np.random.randn(6,3)\n",
    "arr"
   ]
  },
  {
   "cell_type": "code",
   "execution_count": 60,
   "id": "dac77520",
   "metadata": {},
   "outputs": [
    {
     "data": {
      "text/plain": [
       "array([ 3,  6,  9, 12, 15, 18, 21, 24, 27, 30, 33, 36, 39, 42, 45, 48, 51,\n",
       "       54, 57, 60, 63, 66, 69, 72, 75, 78, 81, 84, 87, 90, 93, 96, 99])"
      ]
     },
     "execution_count": 60,
     "metadata": {},
     "output_type": "execute_result"
    }
   ],
   "source": [
    "# 1 ~ 100 까지 배열에서 3의 배수인 것만을 출력\n",
    "\n",
    "arr1 = np.arange(1,101)\n",
    "arr2 = arr1[arr1 % 3 == 0]\n",
    "arr2"
   ]
  },
  {
   "cell_type": "code",
   "execution_count": 61,
   "id": "2de27b99",
   "metadata": {},
   "outputs": [
    {
     "data": {
      "text/plain": [
       "array([  3,   5,   6,   9,  10,  12,  15,  18,  20,  21,  24,  25,  27,\n",
       "        30,  33,  35,  36,  39,  40,  42,  45,  48,  50,  51,  54,  55,\n",
       "        57,  60,  63,  65,  66,  69,  70,  72,  75,  78,  80,  81,  84,\n",
       "        85,  87,  90,  93,  95,  96,  99, 100])"
      ]
     },
     "execution_count": 61,
     "metadata": {},
     "output_type": "execute_result"
    }
   ],
   "source": [
    "# Q. 1 ~ 100 까지 배열에서 3의 배수이거나 5의 배수인 것만을 출력\n",
    "arr3 = arr1[(arr1 % 3 ==0) | (arr1 % 5==0)]\n",
    "arr3"
   ]
  },
  {
   "cell_type": "code",
   "execution_count": 62,
   "id": "f95de91e",
   "metadata": {},
   "outputs": [
    {
     "data": {
      "text/plain": [
       "array([15, 30, 45, 60, 75, 90])"
      ]
     },
     "execution_count": 62,
     "metadata": {},
     "output_type": "execute_result"
    }
   ],
   "source": [
    "# Q. 1 ~ 100 까지 배열에서 3과 5의 공배수인 것만을 출력\n",
    "arr3 = arr1[(arr1 % 3 ==0) & (arr1 % 5==0)]\n",
    "arr3"
   ]
  },
  {
   "cell_type": "code",
   "execution_count": 63,
   "id": "061cf104",
   "metadata": {},
   "outputs": [
    {
     "data": {
      "text/plain": [
       "array([[-0.96075461,  0.37692697,  0.03343893,  0.68056724],\n",
       "       [-1.56349669, -0.56669762, -0.24214951,  1.51439128],\n",
       "       [-0.3330574 ,  0.04736482,  1.46274045,  1.53502913],\n",
       "       [ 0.56644004,  0.14926509, -1.078278  ,  1.39547227],\n",
       "       [ 1.78748405, -0.56951726,  0.17538653, -0.46250554]])"
      ]
     },
     "execution_count": 63,
     "metadata": {},
     "output_type": "execute_result"
    }
   ],
   "source": [
    "ar = np.random.randn(5,4)\n",
    "ar"
   ]
  },
  {
   "cell_type": "code",
   "execution_count": 64,
   "id": "7a719e63",
   "metadata": {},
   "outputs": [
    {
     "data": {
      "text/plain": [
       "0.19740250799306708"
      ]
     },
     "execution_count": 64,
     "metadata": {},
     "output_type": "execute_result"
    }
   ],
   "source": [
    "ar.mean() # 배열 전체 평균값"
   ]
  },
  {
   "cell_type": "code",
   "execution_count": 66,
   "id": "a49eda53",
   "metadata": {},
   "outputs": [
    {
     "data": {
      "text/plain": [
       "0.1974"
      ]
     },
     "execution_count": 66,
     "metadata": {},
     "output_type": "execute_result"
    }
   ],
   "source": [
    "round(ar.mean(),4) # 반올림\n",
    "# 다른방법\n",
    "ar.mean().round(4)"
   ]
  },
  {
   "cell_type": "code",
   "execution_count": 67,
   "id": "5a93a3b6",
   "metadata": {},
   "outputs": [
    {
     "data": {
      "text/plain": [
       "3.9481"
      ]
     },
     "execution_count": 67,
     "metadata": {},
     "output_type": "execute_result"
    }
   ],
   "source": [
    "ar.sum().round(4) # 합계"
   ]
  },
  {
   "cell_type": "code",
   "execution_count": 71,
   "id": "990ea286",
   "metadata": {},
   "outputs": [
    {
     "name": "stdout",
     "output_type": "stream",
     "text": [
      "[1 2 3 4 5 6 7 8] \n",
      "\n"
     ]
    },
    {
     "data": {
      "text/plain": [
       "array([ 1,  3,  6, 10, 15, 21, 28, 36], dtype=int32)"
      ]
     },
     "execution_count": 71,
     "metadata": {},
     "output_type": "execute_result"
    }
   ],
   "source": [
    "ar = np.arange(1,9)\n",
    "print(ar,'\\n')\n",
    "ar.cumsum() # 누적합계"
   ]
  },
  {
   "cell_type": "code",
   "execution_count": 69,
   "id": "b18298fb",
   "metadata": {},
   "outputs": [
    {
     "name": "stdout",
     "output_type": "stream",
     "text": [
      "[[0 1 2]\n",
      " [3 4 5]\n",
      " [6 7 8]]\n",
      "[[ 0  1  2]\n",
      " [ 3  5  7]\n",
      " [ 9 12 15]]\n",
      "[[ 0  1  3]\n",
      " [ 3  7 12]\n",
      " [ 6 13 21]]\n",
      "[ 0  1  3  6 10 15 21 28 36]\n"
     ]
    }
   ],
   "source": [
    "ar = np.arange(9).reshape(3,3)\n",
    "print(ar)\n",
    "print(ar.cumsum(axis=0)) # 2차원 누적합계. 행방향(세로줄로 누적)\n",
    "print(ar.cumsum(axis=1)) # 가로줄로 누적\n",
    "print(ar.cumsum())"
   ]
  },
  {
   "cell_type": "code",
   "execution_count": 83,
   "id": "cd4a9264",
   "metadata": {},
   "outputs": [
    {
     "name": "stdout",
     "output_type": "stream",
     "text": [
      "[-0.83833097  0.38116374 -0.99090328  1.01788005  0.3415874  -1.25088622\n",
      "  0.92525075 -0.90478616  1.84369153  1.52550724] \n",
      "\n"
     ]
    },
    {
     "data": {
      "text/plain": [
       "6"
      ]
     },
     "execution_count": 83,
     "metadata": {},
     "output_type": "execute_result"
    }
   ],
   "source": [
    "ar = np.random.randn(10)\n",
    "print(ar,'\\n')\n",
    "(ar > 0).sum() # value가 0보다 큰 개수!\n",
    "# 다른 방법\n",
    "len(ar[ar>0]) # value가 0보다 큰 개수!"
   ]
  },
  {
   "cell_type": "code",
   "execution_count": 86,
   "id": "a3649f34",
   "metadata": {},
   "outputs": [
    {
     "data": {
      "text/plain": [
       "True"
      ]
     },
     "execution_count": 86,
     "metadata": {},
     "output_type": "execute_result"
    }
   ],
   "source": [
    "# any 메서드 : 하나 이상의 값이 True인지 검사\n",
    "bools = np.array([False,False,True,True])\n",
    "bools.any() # 하나라도 있으면 True"
   ]
  },
  {
   "cell_type": "code",
   "execution_count": 87,
   "id": "fb7a6102",
   "metadata": {},
   "outputs": [
    {
     "data": {
      "text/plain": [
       "False"
      ]
     },
     "execution_count": 87,
     "metadata": {},
     "output_type": "execute_result"
    }
   ],
   "source": [
    "# all 메서드\n",
    "bools.all() # 다 True 면 True"
   ]
  },
  {
   "cell_type": "code",
   "execution_count": 5,
   "id": "a00a52f5",
   "metadata": {},
   "outputs": [
    {
     "name": "stdout",
     "output_type": "stream",
     "text": [
      "[[ 0.92968903  0.65019195 -1.23304592 -0.31173001]\n",
      " [-0.59227205 -0.4825354  -0.24245591 -0.58902806]\n",
      " [ 0.49646228 -1.13713249  1.37590716  0.51302121]\n",
      " [ 0.44000406 -1.73606519 -1.89823508  0.32669368]]\n"
     ]
    },
    {
     "data": {
      "text/plain": [
       "array([[ 2,  2, -2, -2],\n",
       "       [-2, -2, -2, -2],\n",
       "       [ 2, -2,  2,  2],\n",
       "       [ 2, -2, -2,  2]])"
      ]
     },
     "execution_count": 5,
     "metadata": {},
     "output_type": "execute_result"
    }
   ],
   "source": [
    "# 삼항식의 벡터화 버전 (조건, a(True), b(False)) - 조건을 만족하면 a, 아니면 b\n",
    "ar = np.random.randn(4,4)\n",
    "print(ar)\n",
    "np.where(ar > 0, 2, -2) ### ar이 0보다 크면 2를 반환하고 아니면 -2를 반환(조건,True반환값,False반환값)"
   ]
  },
  {
   "cell_type": "code",
   "execution_count": 6,
   "id": "080d1445",
   "metadata": {},
   "outputs": [
    {
     "data": {
      "text/plain": [
       "array([[ 2.        ,  2.        , -1.23304592, -0.31173001],\n",
       "       [-0.59227205, -0.4825354 , -0.24245591, -0.58902806],\n",
       "       [ 2.        , -1.13713249,  2.        ,  2.        ],\n",
       "       [ 2.        , -1.73606519, -1.89823508,  2.        ]])"
      ]
     },
     "execution_count": 6,
     "metadata": {},
     "output_type": "execute_result"
    }
   ],
   "source": [
    "# Q. ar에서 모든 양수를 2로 바꾼 뒤 출력\n",
    "np.where(ar>0,2,ar)"
   ]
  },
  {
   "cell_type": "code",
   "execution_count": 9,
   "id": "d1412772",
   "metadata": {},
   "outputs": [
    {
     "name": "stdout",
     "output_type": "stream",
     "text": [
      "[-1.97522676  0.14039322 -0.73927817  1.63284307  0.1017487 ] \n",
      "\n",
      "[-1.97522676 -0.73927817  0.1017487   0.14039322  1.63284307] \n",
      "\n",
      "[-1.97522676  0.14039322 -0.73927817  1.63284307  0.1017487 ]\n"
     ]
    }
   ],
   "source": [
    "# np.sort() : 원본 미반영\n",
    "ar = np.random.randn(5)\n",
    "print(ar,'\\n')\n",
    "print(np.sort(ar),'\\n') ### 원본에 반영이 안됨\n",
    "print(ar)"
   ]
  },
  {
   "cell_type": "code",
   "execution_count": 13,
   "id": "d1044e04",
   "metadata": {},
   "outputs": [
    {
     "name": "stdout",
     "output_type": "stream",
     "text": [
      "[[ 8 12]\n",
      " [ 7  1]] \n",
      "\n",
      "[[ 7  1]\n",
      " [ 8 12]] \n",
      "\n",
      "[[ 8 12]\n",
      " [ 1  7]]\n"
     ]
    }
   ],
   "source": [
    "# 행렬이 2차원 이상일 경우 axis 축 값 설정을 통해 행, 열 방향으로 정렬 수행\n",
    "ar2 = np.array([[8,12],\n",
    "              [7,1]])\n",
    "print(ar2,'\\n')\n",
    "sort_sr2_a0 = np.sort(ar2,axis=0) # 행방향\n",
    "print(sort_sr2_a0,'\\n')\n",
    "sort_sr2_a1 = np.sort(ar2,axis=1) # 열방향\n",
    "print(sort_sr2_a1)"
   ]
  },
  {
   "cell_type": "code",
   "execution_count": 74,
   "id": "d596a5ab",
   "metadata": {},
   "outputs": [
    {
     "name": "stdout",
     "output_type": "stream",
     "text": [
      "[-2.03324843 -2.17593768 -0.71230443  0.97827785 -0.04121558 -2.08542581] \n",
      "\n",
      "[-2.17593768 -2.08542581 -2.03324843 -0.71230443 -0.04121558  0.97827785]\n"
     ]
    }
   ],
   "source": [
    "# ndarray.sort() : 원본 반영(default는 열방향, 오름차순)\n",
    "ar = np.random.randn(6)\n",
    "print(ar,'\\n')\n",
    "ar.sort() ### 반환하는게 없으므로 print(ar.sort()) 하면 None값 나옴.\n",
    "### 정렬만 하고(원본 반영됨) 따로 배열 뽑기\n",
    "print(ar)"
   ]
  },
  {
   "cell_type": "code",
   "execution_count": 29,
   "id": "be12c11b",
   "metadata": {},
   "outputs": [
    {
     "name": "stdout",
     "output_type": "stream",
     "text": [
      "[[ 1.76405235  0.40015721  0.97873798]\n",
      " [ 2.2408932   1.86755799 -0.97727788]\n",
      " [ 0.95008842 -0.15135721 -0.10321885]\n",
      " [ 0.4105985   0.14404357  1.45427351]\n",
      " [ 0.76103773  0.12167502  0.44386323]] \n",
      "\n",
      "[[ 0.40015721  0.97873798  1.76405235]\n",
      " [-0.97727788  1.86755799  2.2408932 ]\n",
      " [-0.15135721 -0.10321885  0.95008842]\n",
      " [ 0.14404357  0.4105985   1.45427351]\n",
      " [ 0.12167502  0.44386323  0.76103773]]\n"
     ]
    }
   ],
   "source": [
    "np.random.seed(0)\n",
    "ar2 = np.random.randn(5,3)\n",
    "print(ar2,'\\n')\n",
    "ar2.sort(1) ### 괄호 안 1은 열방향을 의미함(가로)\n",
    "print(ar2)"
   ]
  },
  {
   "cell_type": "code",
   "execution_count": 30,
   "id": "bb003490",
   "metadata": {},
   "outputs": [
    {
     "data": {
      "text/plain": [
       "array([[-0.97727788, -0.10321885,  0.76103773],\n",
       "       [-0.15135721,  0.4105985 ,  0.95008842],\n",
       "       [ 0.12167502,  0.44386323,  1.45427351],\n",
       "       [ 0.14404357,  0.97873798,  1.76405235],\n",
       "       [ 0.40015721,  1.86755799,  2.2408932 ]])"
      ]
     },
     "execution_count": 30,
     "metadata": {},
     "output_type": "execute_result"
    }
   ],
   "source": [
    "ar2.sort(0) ### 괄호 안 0은 행방향을 의미(세로)\n",
    "ar2"
   ]
  },
  {
   "cell_type": "code",
   "execution_count": 34,
   "id": "7fde7b31",
   "metadata": {},
   "outputs": [
    {
     "name": "stdout",
     "output_type": "stream",
     "text": [
      "[[ 1.76405235  0.40015721  0.97873798]\n",
      " [ 2.2408932   1.86755799 -0.97727788]\n",
      " [ 0.95008842 -0.15135721 -0.10321885]\n",
      " [ 0.4105985   0.14404357  1.45427351]\n",
      " [ 0.76103773  0.12167502  0.44386323]] \n",
      "\n",
      "[[ 0.40015721  0.97873798  1.76405235]\n",
      " [-0.97727788  1.86755799  2.2408932 ]\n",
      " [-0.15135721 -0.10321885  0.95008842]\n",
      " [ 0.14404357  0.4105985   1.45427351]\n",
      " [ 0.12167502  0.44386323  0.76103773]] \n",
      "\n",
      "[[ 0.40015721  0.97873798  1.76405235]\n",
      " [-0.97727788  1.86755799  2.2408932 ]\n",
      " [-0.15135721 -0.10321885  0.95008842]\n",
      " [ 0.14404357  0.4105985   1.45427351]\n",
      " [ 0.12167502  0.44386323  0.76103773]]\n"
     ]
    }
   ],
   "source": [
    "np.random.seed(0)\n",
    "ar2 = np.random.randn(5,3)\n",
    "print(ar2,'\\n')\n",
    "ar2.sort(-1) \n",
    "print(ar2,'\\n')\n",
    "ar2.sort(1)\n",
    "print(ar2)"
   ]
  },
  {
   "cell_type": "code",
   "execution_count": 35,
   "id": "454c923f",
   "metadata": {},
   "outputs": [
    {
     "data": {
      "text/plain": [
       "array([1, 2, 3])"
      ]
     },
     "execution_count": 35,
     "metadata": {},
     "output_type": "execute_result"
    }
   ],
   "source": [
    "ar = np.array([3,3,2,2,1,1])\n",
    "np.unique(ar)"
   ]
  },
  {
   "cell_type": "code",
   "execution_count": 37,
   "id": "4bdf7906",
   "metadata": {},
   "outputs": [
    {
     "data": {
      "text/plain": [
       "array([ True, False, False,  True,  True, False,  True])"
      ]
     },
     "execution_count": 37,
     "metadata": {},
     "output_type": "execute_result"
    }
   ],
   "source": [
    "### in1d : 조건에 넣은 값이 맞으면 True, 아니면 False로 나옴\n",
    "values = np.array([6,0,0,3,2,5,6])\n",
    "np.in1d(values, [2,3,6])"
   ]
  },
  {
   "cell_type": "code",
   "execution_count": 39,
   "id": "9c9e3385",
   "metadata": {},
   "outputs": [
    {
     "data": {
      "text/plain": [
       "array([0, 1, 2, 3, 4, 5, 6, 7, 8, 9])"
      ]
     },
     "execution_count": 39,
     "metadata": {},
     "output_type": "execute_result"
    }
   ],
   "source": [
    "# 배열 데이터의 입출력 : np.save, np.load .npy 형식\n",
    "arr= np.arange(10)\n",
    "np.save('some_array.npy',arr) ### .npy로 저장\n",
    "np.load('some_array.npy') ### 불러옴"
   ]
  },
  {
   "cell_type": "markdown",
   "id": "9ce4f3b4",
   "metadata": {},
   "source": [
    "선형대수  \n",
    "  \n",
    "<img src = '내적.jpg' STYLE='width:800px;'>\n",
    "\n",
    "벡터 a를 벡터 b와 같은 방향 성분과 그렇지 않은 성분으로 분해한다고 할 때\n",
    "$|a|cosθ$의 길이는 벡터 b와 같은 방향의 성분 길이와 같다.  \n",
    "\n",
    "벡터 a와 b의 내적은 벡터 b의 길이와 벡터 a에서 벡터 b와 같은 방향의 성분 길이를 곱한 것이다.\n",
    "\n",
    "- 행렬 내적은 행렬 곱이며 두 행렬 A와 B의 내적은 np.dot()을 이용해 계산이 가능\n",
    "- 행렬 내적의 특성으로 왼쪽 행렬의 열개수와 오른쪽 행렬의 행개수가 동일해야 내적 연산 가능\n"
   ]
  },
  {
   "cell_type": "markdown",
   "id": "ba9ac9dc",
   "metadata": {},
   "source": [
    "내적 : (행렬의 곱?)\n",
    "방향이 같으면 길이의 곱\n",
    "\n",
    "방향이 직각인 경우 내적은 0이 됨\n",
    "120도면 마이너스가 됨.\n",
    "90도 미만이면 +"
   ]
  },
  {
   "cell_type": "code",
   "execution_count": 41,
   "id": "9bd38320",
   "metadata": {},
   "outputs": [
    {
     "name": "stdout",
     "output_type": "stream",
     "text": [
      "[[1 2 3]\n",
      " [4 5 6]] \n",
      "\n",
      "[[ 6. 23.]\n",
      " [-1.  7.]\n",
      " [ 8.  9.]] \n",
      "\n"
     ]
    },
    {
     "data": {
      "text/plain": [
       "array([[ 28.,  64.],\n",
       "       [ 67., 181.]])"
      ]
     },
     "execution_count": 41,
     "metadata": {},
     "output_type": "execute_result"
    }
   ],
   "source": [
    "# 행렬곱 : x.dot(y), np.dot(x,y)\n",
    "x = np.arange(1,7).reshape(2,3)\n",
    "y = np.array([[6.,23],[-1,7],[8,9]]) ### 실수로 적으려고 6옆에 . 찍음!\n",
    "print(x, '\\n')\n",
    "print(y, '\\n')\n",
    "\n",
    "### 같은 위치에 있는 것끼리 계산하는 행렬 원소의 연산과는 다름\n",
    "np.dot(x,y)"
   ]
  },
  {
   "cell_type": "code",
   "execution_count": 46,
   "id": "86adb047",
   "metadata": {},
   "outputs": [
    {
     "data": {
      "text/plain": [
       "array([[1, 2, 1],\n",
       "       [2, 2, 3],\n",
       "       [1, 3, 1]])"
      ]
     },
     "execution_count": 46,
     "metadata": {},
     "output_type": "execute_result"
    }
   ],
   "source": [
    "# 역행렬 : 어떤 행렬 A와 곱했을 때 곱셈에 대한 항등원인 단위행렬 E가\n",
    "# 나오는 행렬을 행렬 A의 역행렬이라고 함. np.linalg.inv\n",
    "np.random.seed(0)\n",
    "mt1 = np.random.randint(1,4, size=(3,3))\n",
    "mt1"
   ]
  },
  {
   "cell_type": "code",
   "execution_count": 47,
   "id": "3f84b444",
   "metadata": {},
   "outputs": [
    {
     "data": {
      "text/plain": [
       "array([[ 7., -1., -4.],\n",
       "       [-1.,  0.,  1.],\n",
       "       [-4.,  1.,  2.]])"
      ]
     },
     "execution_count": 47,
     "metadata": {},
     "output_type": "execute_result"
    }
   ],
   "source": [
    "# 위 행렬의 역행렬 만들기!\n",
    "mt2 = np.linalg.inv(mt1)\n",
    "mt2"
   ]
  },
  {
   "cell_type": "code",
   "execution_count": 49,
   "id": "53a97bef",
   "metadata": {},
   "outputs": [
    {
     "data": {
      "text/plain": [
       "array([[1., 0., 0.],\n",
       "       [0., 1., 0.],\n",
       "       [0., 0., 1.]])"
      ]
     },
     "execution_count": 49,
     "metadata": {},
     "output_type": "execute_result"
    }
   ],
   "source": [
    "np.dot(mt1,mt2) # 행렬 행렬곱 역행렬 -> 단위행렬!"
   ]
  },
  {
   "cell_type": "code",
   "execution_count": null,
   "id": "3e56fbc4",
   "metadata": {},
   "outputs": [],
   "source": [
    "# Q. 아래 두 행렬을 np.arange, reshape를 이용해서 생성 각각 a1, b1으로 저장하고\n",
    "# 행렬 내적을 계산한 결과를 출력하세요.\n",
    "[[1 2 3]\n",
    "[4 5 6]]\n",
    "\n",
    "[[10 11]\n",
    "[12 13]\n",
    "[14 15]]"
   ]
  },
  {
   "cell_type": "code",
   "execution_count": 59,
   "id": "1dd5bcdf",
   "metadata": {},
   "outputs": [
    {
     "name": "stdout",
     "output_type": "stream",
     "text": [
      "[[ 76  82]\n",
      " [184 199]]\n"
     ]
    }
   ],
   "source": [
    "a1 = np.arange(1,7).reshape(2,3)\n",
    "a1\n",
    "b1 = np.arange(10,16).reshape(3,2)\n",
    "b1\n",
    "ab_product = np.dot(a1,b1)\n",
    "print(ab_product)"
   ]
  }
 ],
 "metadata": {
  "kernelspec": {
   "display_name": "Python 3 (ipykernel)",
   "language": "python",
   "name": "python3"
  },
  "language_info": {
   "codemirror_mode": {
    "name": "ipython",
    "version": 3
   },
   "file_extension": ".py",
   "mimetype": "text/x-python",
   "name": "python",
   "nbconvert_exporter": "python",
   "pygments_lexer": "ipython3",
   "version": "3.8.8"
  }
 },
 "nbformat": 4,
 "nbformat_minor": 5
}
