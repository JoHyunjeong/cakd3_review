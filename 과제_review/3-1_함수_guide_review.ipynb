{
 "cells": [
  {
   "cell_type": "markdown",
   "id": "977267f6",
   "metadata": {},
   "source": [
    "# 과제_0624"
   ]
  },
  {
   "cell_type": "markdown",
   "id": "8cc52c72",
   "metadata": {},
   "source": [
    "Q. 내장함수를 이용해서 list = [0,1,2,3,4,5,6]에서 2를 삭제 후 출력하세요."
   ]
  },
  {
   "cell_type": "code",
   "execution_count": 1,
   "id": "ff0ada3d",
   "metadata": {},
   "outputs": [
    {
     "name": "stdout",
     "output_type": "stream",
     "text": [
      "[0, 1, 3, 4, 5, 6]\n",
      "[0, 1, 3, 4, 5, 6]\n"
     ]
    }
   ],
   "source": [
    "list1 = [0,1,2,3,4,5,6]\n",
    "del list1[2]\n",
    "print(list1)\n",
    "\n",
    "list2 = [0,1,2,3,4,5,6]\n",
    "list2.remove(2)\n",
    "print(list2)"
   ]
  },
  {
   "cell_type": "markdown",
   "id": "d8643e1d",
   "metadata": {},
   "source": [
    "Q. 내장함수를 이용해서 list = [0,1,2,3,4,5,6]에서 모든 원소를 삭제 후 출력하세요. (이것도 구글링!)"
   ]
  },
  {
   "cell_type": "code",
   "execution_count": 2,
   "id": "64b21381",
   "metadata": {},
   "outputs": [
    {
     "name": "stdout",
     "output_type": "stream",
     "text": [
      "[]\n"
     ]
    }
   ],
   "source": [
    "list1 = [0,1,2,3,4,5,6]\n",
    "list1.clear()\n",
    "print(list1)"
   ]
  },
  {
   "cell_type": "markdown",
   "id": "19f12ec1",
   "metadata": {},
   "source": [
    "Q. list = [0,1,2,3,4,5,6]에 3, 7이 포함되어 있는지 확인하세요."
   ]
  },
  {
   "cell_type": "code",
   "execution_count": 3,
   "id": "f5903d9f",
   "metadata": {},
   "outputs": [
    {
     "name": "stdout",
     "output_type": "stream",
     "text": [
      "3이 있습니다.\n"
     ]
    }
   ],
   "source": [
    "list1 = [0,1,2,3,4,5,6]\n",
    "if 3 in list1:\n",
    "    print('3이 있습니다.')\n",
    "if 7 in list1:\n",
    "    print('7이 있습니다.')"
   ]
  },
  {
   "cell_type": "markdown",
   "id": "f04c0c37",
   "metadata": {},
   "source": [
    "Q. numbers 내부에 들어있는 숫자가 몇 번 등장하는지를 출력하는 코드를 작성하세요.  \n",
    "numbers = [3,6,3,5,8,2,9,7,4,3,6,3,5,8,2,9,7,4]"
   ]
  },
  {
   "cell_type": "code",
   "execution_count": 4,
   "id": "b940b3ed",
   "metadata": {},
   "outputs": [
    {
     "name": "stdout",
     "output_type": "stream",
     "text": [
      "2 : 2\n",
      "3 : 4\n",
      "4 : 2\n",
      "5 : 2\n",
      "6 : 2\n",
      "7 : 2\n",
      "8 : 2\n",
      "9 : 2\n"
     ]
    }
   ],
   "source": [
    "numbers = [3,6,3,5,8,2,9,7,4,3,6,3,5,8,2,9,7,4]\n",
    "for i in set(numbers):\n",
    "    print(i, ':', numbers.count(i))"
   ]
  },
  {
   "cell_type": "markdown",
   "id": "4dd42e23",
   "metadata": {},
   "source": [
    "Q. list = [0,1,2,3,4,5,6]를 [6,5,4,3,2,1,0]으로 출력하세요(2가지 방법)"
   ]
  },
  {
   "cell_type": "code",
   "execution_count": 5,
   "id": "dee68d4c",
   "metadata": {},
   "outputs": [
    {
     "name": "stdout",
     "output_type": "stream",
     "text": [
      "[6, 5, 4, 3, 2, 1, 0]\n",
      "[6, 5, 4, 3, 2, 1, 0]\n"
     ]
    }
   ],
   "source": [
    "list1 = [0,1,2,3,4,5,6]\n",
    "list1.sort(reverse=True)\n",
    "print(list1)\n",
    "\n",
    "list1 = [0,1,2,3,4,5,6]\n",
    "list1.reverse()\n",
    "print(list1)"
   ]
  },
  {
   "cell_type": "markdown",
   "id": "a621cf90",
   "metadata": {},
   "source": [
    "Q. list = ['a','b','c']을 for문을 사용해서 아래와 같이 출력하세요.\n",
    "- 1번째는 a입니다.\n",
    "- 2번째는 b입니다.\n",
    "- 3번째는 c입니다. "
   ]
  },
  {
   "cell_type": "code",
   "execution_count": 6,
   "id": "f1eff930",
   "metadata": {},
   "outputs": [
    {
     "name": "stdout",
     "output_type": "stream",
     "text": [
      "1번째는 a입니다.\n",
      "2번째는 b입니다.\n",
      "3번째는 c입니다.\n"
     ]
    }
   ],
   "source": [
    "list1 = ['a','b','c']\n",
    "\n",
    "for n,i in enumerate(list1):\n",
    "    print('{}번째는 {}입니다.'.format(n+1, i))"
   ]
  },
  {
   "cell_type": "markdown",
   "id": "0edf9960",
   "metadata": {
    "scrolled": true
   },
   "source": [
    "Q. 코딩을 한 줄로 작성해서 동일한 결과를 출력하세요. (리스트 안에서 포문사용)\n",
    "\n",
    "[0, 4, 16, 36, 64, 100, 144, 196, 256, 324]"
   ]
  },
  {
   "cell_type": "code",
   "execution_count": 7,
   "id": "f5036fd5",
   "metadata": {},
   "outputs": [
    {
     "name": "stdout",
     "output_type": "stream",
     "text": [
      "[0, 4, 16, 36, 64, 100, 144, 196, 256, 324]\n",
      "[0, 4, 16, 36, 64, 100, 144, 196, 256, 324]\n"
     ]
    }
   ],
   "source": [
    "print(list(4*i**2 for i in range(10)))\n",
    "\n",
    "print(list(i*i for i in range(0,20,2)))"
   ]
  },
  {
   "cell_type": "markdown",
   "id": "9fb9b025",
   "metadata": {},
   "source": [
    "Q. list = [0,1,2,3,4,5,6,7,8,9]에서 아래와 같이 출력하세요.  \n",
    "list1 = [0,1,2,3,4,5,6,7,8,9]  \n",
    "[0,2,4,6,8]  \n",
    "[1,3,5,7,9]  \n",
    "[2,1,0]  "
   ]
  },
  {
   "cell_type": "code",
   "execution_count": 8,
   "id": "0f3701bf",
   "metadata": {},
   "outputs": [
    {
     "name": "stdout",
     "output_type": "stream",
     "text": [
      "[0, 2, 4, 6, 8]\n",
      "[1, 3, 5, 7, 9]\n",
      "[2, 1, 0]\n"
     ]
    }
   ],
   "source": [
    "list1 = [0,1,2,3,4,5,6,7,8,9]\n",
    "\n",
    "print(list(filter(lambda x: x%2==0, list1)))\n",
    "print(list(filter(lambda x: x%2==1, list1)))\n",
    "print(sorted(list(filter(lambda x: x<3, list1)),reverse=True))"
   ]
  },
  {
   "cell_type": "markdown",
   "id": "b256e7fa",
   "metadata": {},
   "source": [
    "Q. join 함수를 이용해서 ['a','b','c']을 아래와 같이 출력하세요.  \n",
    "a::b::c"
   ]
  },
  {
   "cell_type": "code",
   "execution_count": 9,
   "id": "b1310cbe",
   "metadata": {},
   "outputs": [
    {
     "name": "stdout",
     "output_type": "stream",
     "text": [
      "a::b::c\n"
     ]
    }
   ],
   "source": [
    "list1 = ['a','b','c']\n",
    "print('::'.join(list1))"
   ]
  },
  {
   "cell_type": "markdown",
   "id": "5c10d83d",
   "metadata": {},
   "source": [
    "Q. 사용자 함수를 이용해서 여러 개의 숫자를 입력하면 그 숫자들의 곱을 구하세요."
   ]
  },
  {
   "cell_type": "code",
   "execution_count": 10,
   "id": "dcf03d35",
   "metadata": {},
   "outputs": [
    {
     "data": {
      "text/plain": [
       "120"
      ]
     },
     "execution_count": 10,
     "metadata": {},
     "output_type": "execute_result"
    }
   ],
   "source": [
    "def mul(*args):\n",
    "    result = 1\n",
    "    for i in args:\n",
    "        result *= i\n",
    "    return result\n",
    "\n",
    "mul(1,2,3,4,5)"
   ]
  },
  {
   "cell_type": "markdown",
   "id": "9071b3ea",
   "metadata": {},
   "source": [
    "Q. 두 개의 숫자를 인자로 적용하면 사칙연산을 수행하는 사용자 함수를 작성한 후  \n",
    "5,3을 대입한 결과를 튜플로 출력하세요. 단, 소수점은 없게 처리"
   ]
  },
  {
   "cell_type": "code",
   "execution_count": 11,
   "id": "637e9b9d",
   "metadata": {
    "scrolled": true
   },
   "outputs": [
    {
     "data": {
      "text/plain": [
       "3.0"
      ]
     },
     "execution_count": 11,
     "metadata": {},
     "output_type": "execute_result"
    }
   ],
   "source": [
    "def cal(choice, num1, num2):\n",
    "    if choice == 'mul':\n",
    "        result = num1 * num2\n",
    "    elif choice == 'plus':\n",
    "        result = num1 + num2\n",
    "    elif choice == 'minus':\n",
    "        result = num1 - num2\n",
    "    elif choice == 'div':\n",
    "        try:\n",
    "            result = num1 / num2\n",
    "        except:\n",
    "            print('다시 입력해주세요.')\n",
    "    return result\n",
    "\n",
    "cal('div',3, 1)"
   ]
  },
  {
   "cell_type": "markdown",
   "id": "6666bcfc",
   "metadata": {},
   "source": [
    "Q. 뺄셈, 나눗셈 멀티 계산 함수를 작성"
   ]
  },
  {
   "cell_type": "code",
   "execution_count": 12,
   "id": "19fd5bc9",
   "metadata": {},
   "outputs": [],
   "source": [
    "def cal(choice, *args):\n",
    "    if choice == 'minus':\n",
    "        for n,i in enumerate(args):\n",
    "            if n==0:\n",
    "                result = i\n",
    "            else:\n",
    "                result -= i\n",
    "        print(result)\n",
    "    elif choice == 'div':\n",
    "        try:\n",
    "            for n,i in enumerate(args):\n",
    "                if n==0:\n",
    "                    result = i\n",
    "                else:\n",
    "                    result /= i\n",
    "            print(result)\n",
    "        except:\n",
    "            print('다시 입력해주세요.')\n",
    "    "
   ]
  },
  {
   "cell_type": "code",
   "execution_count": 13,
   "id": "11da5ff0",
   "metadata": {},
   "outputs": [
    {
     "name": "stdout",
     "output_type": "stream",
     "text": [
      "-12\n"
     ]
    }
   ],
   "source": [
    "cal('minus',3,4,5,6,0)"
   ]
  },
  {
   "cell_type": "markdown",
   "id": "629adfdf",
   "metadata": {},
   "source": [
    "Q. 아래를 완성하여 2를 출력하세요."
   ]
  },
  {
   "cell_type": "code",
   "execution_count": 14,
   "id": "36ff7a47",
   "metadata": {},
   "outputs": [
    {
     "data": {
      "text/plain": [
       "2"
      ]
     },
     "execution_count": 14,
     "metadata": {},
     "output_type": "execute_result"
    }
   ],
   "source": [
    "a = 3\n",
    "def vartest(a):\n",
    "    a -= 1\n",
    "    return a\n",
    "    \n",
    "vartest(a)"
   ]
  },
  {
   "cell_type": "markdown",
   "id": "366e835e",
   "metadata": {},
   "source": [
    "Q. 데이터를 입력하지 않으면 종료되는 코딩을 수행하세요.  \n",
    "단, 반복적으로 작업을 수행할 수 있음."
   ]
  },
  {
   "cell_type": "code",
   "execution_count": 15,
   "id": "7c2ec5e3",
   "metadata": {},
   "outputs": [
    {
     "name": "stdout",
     "output_type": "stream",
     "text": [
      "데이터를 입력하세요. : 1\n",
      "데이터를 입력하세요. : 2\n",
      "데이터를 입력하세요. : 3\n",
      "데이터를 입력하세요. : 4\n",
      "데이터를 입력하세요. : 5\n",
      "데이터를 입력하세요. : \n"
     ]
    }
   ],
   "source": [
    "while 1:\n",
    "    data = input('데이터를 입력하세요. : ')\n",
    "    if data == '':\n",
    "        break"
   ]
  },
  {
   "cell_type": "markdown",
   "id": "d0304ce4",
   "metadata": {},
   "source": [
    "Q. 반복문으로 팩토리얼을 구하는 사용자 함수를 작성하고 5!, 10!를 구하세요."
   ]
  },
  {
   "cell_type": "code",
   "execution_count": 16,
   "id": "edc17b04",
   "metadata": {},
   "outputs": [
    {
     "name": "stdout",
     "output_type": "stream",
     "text": [
      "1\n",
      "120\n",
      "3628800\n"
     ]
    }
   ],
   "source": [
    "def fac(i):\n",
    "    if i != 0:\n",
    "        x=1\n",
    "        for i in range(i,0,-1):\n",
    "            x*=i\n",
    "        return x\n",
    "    else:\n",
    "        return \"잘못입력\"\n",
    "\n",
    "print(fac(1))\n",
    "print(fac(5))\n",
    "print(fac(10))"
   ]
  },
  {
   "cell_type": "markdown",
   "id": "f970120d",
   "metadata": {},
   "source": [
    "Q. 재귀란 '자기자신을 호출하는 것'을 의미한다. 재귀함수를 이용해서 팩토리얼을 구하는 작성하고 1!, 5!, 10!를 구하세요.  \n",
    "factorial(n) = n * factorial(n-1) (n >= 1)"
   ]
  },
  {
   "cell_type": "code",
   "execution_count": 17,
   "id": "f4c5e146",
   "metadata": {},
   "outputs": [
    {
     "name": "stdout",
     "output_type": "stream",
     "text": [
      "1\n",
      "120\n",
      "3628800\n"
     ]
    }
   ],
   "source": [
    "def fac1(i):\n",
    "    if i <= 1:\n",
    "        return 1\n",
    "    return i*fac(i-1)\n",
    "        \n",
    "print(fac1(1))\n",
    "print(fac1(5))\n",
    "print(fac1(10))"
   ]
  },
  {
   "cell_type": "markdown",
   "id": "1073a8f3",
   "metadata": {},
   "source": [
    "Q. 원의 면적과 둘레의 길이를 구하는 사용자 함수를 작성하여 반지름이 5와 10일때 면적과 둘레를 구하세요."
   ]
  },
  {
   "cell_type": "code",
   "execution_count": 18,
   "id": "65e539d6",
   "metadata": {},
   "outputs": [
    {
     "name": "stdout",
     "output_type": "stream",
     "text": [
      "면적 : 78.5000, 둘레 : 31.4000\n",
      "면적 : 314.0000, 둘레 : 62.8000\n"
     ]
    }
   ],
   "source": [
    "def circle(r):\n",
    "    return '면적 : {:.4f}, 둘레 : {:.4f}'.format(3.14*r**2, 2*3.14*r)\n",
    "\n",
    "print(circle(5))\n",
    "print(circle(10))"
   ]
  },
  {
   "cell_type": "markdown",
   "id": "0803a957",
   "metadata": {},
   "source": [
    "Q. '안녕!'을 10번 출력하는 사용자 함수를 작성하여 실행하세요."
   ]
  },
  {
   "cell_type": "code",
   "execution_count": 19,
   "id": "cc4d5a22",
   "metadata": {},
   "outputs": [
    {
     "name": "stdout",
     "output_type": "stream",
     "text": [
      "안녕!\n",
      "안녕!\n",
      "안녕!\n",
      "안녕!\n",
      "안녕!\n",
      "안녕!\n",
      "안녕!\n",
      "안녕!\n",
      "안녕!\n",
      "안녕!\n"
     ]
    }
   ],
   "source": [
    "def hi():\n",
    "    for i in range(10):\n",
    "        print(\"안녕!\")\n",
    "hi()"
   ]
  },
  {
   "cell_type": "markdown",
   "id": "17c819f2",
   "metadata": {},
   "source": [
    "Q. 내장함수를 이용하여 [1,2,3,4,5]를 [1.0, 2.0, 3.0, 4.0, 5.0]으로 변환하세요."
   ]
  },
  {
   "cell_type": "code",
   "execution_count": 20,
   "id": "7f3c84b4",
   "metadata": {},
   "outputs": [
    {
     "data": {
      "text/plain": [
       "[1.0, 2.0, 3.0, 4.0, 5.0]"
      ]
     },
     "execution_count": 20,
     "metadata": {},
     "output_type": "execute_result"
    }
   ],
   "source": [
    "li1 = [1,2,3,4,5]\n",
    "\n",
    "def fl(i):\n",
    "    return float(i)\n",
    "\n",
    "li2 = list(map(fl,li1))\n",
    "li2"
   ]
  },
  {
   "cell_type": "markdown",
   "id": "6b25f0cf",
   "metadata": {},
   "source": [
    "Q. 내장함수 map()를 이용하여 [1,2,3,4,5]을 [1,4,9,16,25]로 변환하세요."
   ]
  },
  {
   "cell_type": "code",
   "execution_count": 21,
   "id": "6808258e",
   "metadata": {},
   "outputs": [
    {
     "name": "stdout",
     "output_type": "stream",
     "text": [
      "[1, 4, 9, 16, 25]\n"
     ]
    }
   ],
   "source": [
    "li1 = [1,2,3,4,5]\n",
    "\n",
    "print(list(map(lambda x: x**2, li1)))"
   ]
  }
 ],
 "metadata": {
  "kernelspec": {
   "display_name": "Python 3 (ipykernel)",
   "language": "python",
   "name": "python3"
  },
  "language_info": {
   "codemirror_mode": {
    "name": "ipython",
    "version": 3
   },
   "file_extension": ".py",
   "mimetype": "text/x-python",
   "name": "python",
   "nbconvert_exporter": "python",
   "pygments_lexer": "ipython3",
   "version": "3.8.8"
  }
 },
 "nbformat": 4,
 "nbformat_minor": 5
}
