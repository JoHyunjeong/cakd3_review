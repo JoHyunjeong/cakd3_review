{
 "cells": [
  {
   "cell_type": "markdown",
   "id": "c6b38d7c",
   "metadata": {},
   "source": [
    "# 과제_0706"
   ]
  },
  {
   "cell_type": "markdown",
   "id": "272b2181",
   "metadata": {},
   "source": [
    "Q1. 네이버 영화 랭킹 가져와서 첫번째 영화제목을 출력하세요."
   ]
  },
  {
   "cell_type": "code",
   "execution_count": 2,
   "id": "b21fd3ae",
   "metadata": {},
   "outputs": [
    {
     "name": "stdout",
     "output_type": "stream",
     "text": [
      "네이버 영화 랭킹 1위 : 스파이더맨: 노 웨이 홈\n"
     ]
    }
   ],
   "source": [
    "from bs4 import BeautifulSoup\n",
    "import requests as rq\n",
    "\n",
    "url = \"https://movie.naver.com/movie/sdb/rank/rmovie.nhn\"\n",
    "res = rq.get(url)\n",
    "html = res.text\n",
    "soup = BeautifulSoup(html, 'html.parser')\n",
    "result1 = soup.find(\"td\", attrs = {\"class\":\"title\"})\n",
    "print(f\"네이버 영화 랭킹 1위 : {result1.a.string}\")"
   ]
  },
  {
   "cell_type": "code",
   "execution_count": 3,
   "id": "0cebcf0d",
   "metadata": {},
   "outputs": [
    {
     "name": "stdout",
     "output_type": "stream",
     "text": [
      "스파이더맨: 노 웨이 홈\n"
     ]
    }
   ],
   "source": [
    "import requests\n",
    "from bs4 import BeautifulSoup as bs\n",
    "\n",
    "url = \"https://movie.naver.com/movie/sdb/rank/rmovie.nhn\"\n",
    "request = requests.get(url)\n",
    "text = request.text\n",
    "soup = bs(text, 'html.parser')\n",
    "find = soup.select_one(\"div.tit3 > a\")\n",
    "print(find.string)"
   ]
  },
  {
   "cell_type": "markdown",
   "id": "d1017c0e",
   "metadata": {},
   "source": [
    "Q2. 네이버 영화 랭킹 가져와서 전체 영화제목을 출력하세요."
   ]
  },
  {
   "cell_type": "code",
   "execution_count": 4,
   "id": "8f15d2f4",
   "metadata": {},
   "outputs": [
    {
     "name": "stdout",
     "output_type": "stream",
     "text": [
      "<네이버 영화 랭킹>\n",
      "\n",
      "1위 : 스파이더맨: 노 웨이 홈\n",
      "2위 : 킹스맨: 퍼스트 에이전트\n",
      "3위 : 매트릭스: 리저렉션\n",
      "4위 : 해피 뉴 이어\n",
      "5위 : 돈 룩 업\n",
      "6위 : 드라이브 마이 카\n",
      "7위 : 램\n",
      "8위 : 엔칸토: 마법의 세계\n",
      "9위 : 레지던트 이블: 라쿤시티\n",
      "10위 : 유체이탈자\n",
      "11위 : 경관의 피\n",
      "12위 : 타이거마스크\n",
      "13위 : 너에게 가는 길\n",
      "14위 : 메모리: 조작살인\n",
      "15위 : 연애 빠진 로맨스\n",
      "16위 : 신데렐라 2: 마법에 걸린 왕자\n",
      "17위 : 특송\n",
      "18위 : 씽2게더\n",
      "19위 : 해피 아워\n",
      "20위 : 해적: 도깨비 깃발\n",
      "21위 : 노웨어 스페셜\n",
      "22위 : 라임크라임\n",
      "23위 : 기적\n",
      "24위 : 하나 그리고 둘\n",
      "25위 : 매트릭스\n",
      "26위 : 하우스 오브 구찌\n",
      "27위 : 닥터 스트레인지: 대혼돈의 멀티버스\n",
      "28위 : 프렌치 디스패치\n",
      "29위 : 모가디슈\n",
      "30위 : 티탄\n",
      "31위 : 간호중\n",
      "32위 : 필로포비아\n",
      "33위 : 듄\n",
      "34위 : 꽁치의 맛\n",
      "35위 : 마이 뉴욕 다이어리\n",
      "36위 : 이터널스\n",
      "37위 : 베놈 2: 렛 데어 비 카니지\n",
      "38위 : 그린 북\n",
      "39위 : 웨스트 사이드 스토리\n",
      "40위 : 아랫집\n",
      "41위 : 킹메이커\n",
      "42위 : 파워 오브 도그\n",
      "43위 : 아네트\n",
      "44위 : 여타짜\n",
      "45위 : 듣보인간의 생존신고\n",
      "46위 : 원샷\n",
      "47위 : 죽이러 간다\n",
      "48위 : 러브레터\n",
      "49위 : 고요의 바다\n",
      "50위 : 스파이더맨: 파 프롬 홈\n"
     ]
    }
   ],
   "source": [
    "import requests as rq\n",
    "\n",
    "url = \"https://movie.naver.com/movie/sdb/rank/rmovie.nhn\"\n",
    "res = rq.get(url)\n",
    "html = res.text\n",
    "soup = BeautifulSoup(html, 'html.parser')\n",
    "\n",
    "movies = soup.find_all(\"td\", attrs = {\"class\":\"title\"})\n",
    "\n",
    "print(\"<네이버 영화 랭킹>\\n\")\n",
    "for i in range(len(movies)):\n",
    "    print(f\"{i+1}위 : {movies[i].a.string}\")"
   ]
  },
  {
   "cell_type": "code",
   "execution_count": 5,
   "id": "4ec4475d",
   "metadata": {},
   "outputs": [
    {
     "name": "stdout",
     "output_type": "stream",
     "text": [
      "스파이더맨: 노 웨이 홈\n",
      "킹스맨: 퍼스트 에이전트\n",
      "매트릭스: 리저렉션\n",
      "해피 뉴 이어\n",
      "돈 룩 업\n",
      "드라이브 마이 카\n",
      "램\n",
      "엔칸토: 마법의 세계\n",
      "레지던트 이블: 라쿤시티\n",
      "유체이탈자\n",
      "경관의 피\n",
      "타이거마스크\n",
      "너에게 가는 길\n",
      "메모리: 조작살인\n",
      "연애 빠진 로맨스\n",
      "신데렐라 2: 마법에 걸린 왕자\n",
      "특송\n",
      "씽2게더\n",
      "해피 아워\n",
      "해적: 도깨비 깃발\n",
      "노웨어 스페셜\n",
      "라임크라임\n",
      "기적\n",
      "하나 그리고 둘\n",
      "매트릭스\n",
      "하우스 오브 구찌\n",
      "닥터 스트레인지: 대혼돈의 멀티버스\n",
      "프렌치 디스패치\n",
      "모가디슈\n",
      "티탄\n",
      "간호중\n",
      "필로포비아\n",
      "듄\n",
      "꽁치의 맛\n",
      "마이 뉴욕 다이어리\n",
      "이터널스\n",
      "베놈 2: 렛 데어 비 카니지\n",
      "그린 북\n",
      "웨스트 사이드 스토리\n",
      "아랫집\n",
      "킹메이커\n",
      "파워 오브 도그\n",
      "아네트\n",
      "여타짜\n",
      "듣보인간의 생존신고\n",
      "원샷\n",
      "죽이러 간다\n",
      "러브레터\n",
      "고요의 바다\n",
      "스파이더맨: 파 프롬 홈\n"
     ]
    }
   ],
   "source": [
    "import requests\n",
    "from bs4 import BeautifulSoup as bs\n",
    "\n",
    "url = \"https://movie.naver.com/movie/sdb/rank/rmovie.nhn\"\n",
    "request = requests.get(url)\n",
    "text = request.text\n",
    "soup = bs(text, 'html.parser')\n",
    "name = soup.select(\"div.tit3 > a\")\n",
    "for i in name:\n",
    "    print(i.text)"
   ]
  },
  {
   "cell_type": "markdown",
   "id": "4e4e47d0",
   "metadata": {},
   "source": [
    "Q3.\"http://api.aoikujira.com/time/get.php\"으로 부터 아래와 같이 출력하세요.  \n",
    "    2020/08/02 08:06:45  \n",
    "    b'2020/08/02 08:06:45'"
   ]
  },
  {
   "cell_type": "code",
   "execution_count": 7,
   "id": "324da627",
   "metadata": {},
   "outputs": [
    {
     "name": "stdout",
     "output_type": "stream",
     "text": [
      "2022/01/02 00:32:02\n",
      "b'2022/01/02 00:32:02'\n"
     ]
    }
   ],
   "source": [
    "import requests as rq\n",
    "url = \"http://api.aoikujira.com/time/get.php\"\n",
    "request = rq.get(url)\n",
    "text = request.text\n",
    "soup = bs(text,'html.parser')\n",
    "print(soup.text)\n",
    "\n",
    "import urllib\n",
    "url =  \"http://api.aoikujira.com/time/get.php\"\n",
    "response = urllib.request.urlopen(url)\n",
    "byte = response.read()\n",
    "print(byte)"
   ]
  },
  {
   "cell_type": "markdown",
   "id": "de2fb02d",
   "metadata": {},
   "source": [
    "Q4.\"http://naver.com\"에서 header의 요소들을 가져와서 for문으로 출력하세요"
   ]
  },
  {
   "cell_type": "code",
   "execution_count": 9,
   "id": "58564ee1",
   "metadata": {},
   "outputs": [
    {
     "name": "stdout",
     "output_type": "stream",
     "text": [
      " \n",
      "<meta charset=\"utf-8\"/>\n",
      " \n",
      "<title>NAVER</title>\n",
      " \n",
      "<meta content=\"IE=edge\" http-equiv=\"X-UA-Compatible\"/>\n",
      " \n",
      "<meta content=\"width=1190\" name=\"viewport\"/>\n",
      " \n",
      "<meta content=\"NAVER\" name=\"apple-mobile-web-app-title\"> <meta content=\"index,nofollow\" name=\"robots\"> <meta content=\"네이버 메인에서 다양한 정보와 유용한 컨텐츠를 만나 보세요\" name=\"description\"> <meta content=\"네이버\" property=\"og:title\"/> <meta content=\"https://www.naver.com/\" property=\"og:url\"/> <meta content=\"https://s.pstatic.net/static/www/mobile/edit/2016/0705/mobile_212852414260.png\" property=\"og:image\"/> <meta content=\"네이버 메인에서 다양한 정보와 유용한 컨텐츠를 만나 보세요\" property=\"og:description\"> <meta content=\"summary\" name=\"twitter:card\"/> <meta content=\"\" name=\"twitter:title\"/> <meta content=\"https://www.naver.com/\" name=\"twitter:url\"/> <meta content=\"https://s.pstatic.net/static/www/mobile/edit/2016/0705/mobile_212852414260.png\" name=\"twitter:image\"/> <meta content=\"네이버 메인에서 다양한 정보와 유용한 컨텐츠를 만나 보세요\" name=\"twitter:description\"> <link href=\"https://pm.pstatic.net/dist/css/nmain.20211230.css\" rel=\"stylesheet\"/> <link href=\"https://ssl.pstatic.net/sstatic/search/pc/css/sp_autocomplete_210318.css\" rel=\"stylesheet\"/> <link href=\"/favicon.ico?1\" rel=\"shortcut icon\" type=\"image/x-icon\"> <link href=\"https://s.pstatic.net/static/www/u/2014/0328/mma_204243574.png\" rel=\"apple-touch-icon\" sizes=\"114x114\"> <link href=\"https://s.pstatic.net/static/www/u/2014/0328/mma_20432863.png\" rel=\"apple-touch-icon\"/> <script>window.nmain=window.nmain||{},window.nmain.supportFlicking=!1;var nsc=\"navertop.v4\",ua=navigator.userAgent,useIeJSFlag=\"1\";window.nmain.isIE=\"0\"===useIeJSFlag,document.getElementsByTagName(\"html\")[0].setAttribute(\"data-useragent\",ua),window.nmain.isIE&&(Object.create=function(n){function e(){}return e.prototype=n,new e})</script> <script>var darkmode= false;window.naver_corp_da=window.naver_corp_da||{main:{}},window.naver_corp_da.main=window.naver_corp_da.main||{},window.naver_corp_da.main.darkmode=darkmode,window.gladsdk=window.gladsdk||{cmd:[]},window.gladsdk.cmd.push((function(){window.gladsdk.setHostMeta(\"theme\",darkmode?\"dark\":\"light\")})),window.ndpsdk=window.ndpsdk||{cmd:[],polyfill:{cmd:[]}},window.ndpsdk.cmd.push((function(){window.ndpsdk.setHostMeta(\"theme\",darkmode?\"dark\":\"light\")}))</script> <script async=\"\" src=\"https://ssl.pstatic.net/tveta/libs/glad/prod/gfp-core.js\"></script> <script async=\"\" src=\"https://ssl.pstatic.net/tveta/libs/ndpsdk/prod/ndp-loader.js\"></script> <script> window.nmain.gv = {  isLogin: false,\n",
      "useId: null,   daInfo: {\"ANIMAL\":{\"menu\":\"ANIMAL\",\"childMenu\":\"\",\"adType\":\"singleDom\",\"multiDomAdUrl\":\"\",\"multiDomUnit\":\"\",\"infoList\":[{\"adposId\":\"1000161\",\"singleDomAdUrl\":\"https://siape.veta.naver.com/fxshow\",\"param\":{\"da_dom_id\":\"p_main_animal_1\",\"tb\":\"ANIMAL_1\",\"unit\":\"SU10567\",\"calp\":\"-\"},\"type\":{\"position\":\"abs\",\"positionIndex\":4,\"subject\":\"contents\"},\"dom\":null},{\"adposId\":\"1000162\",\"singleDomAdUrl\":\"https://siape.veta.naver.com/fxshow\",\"param\":{\"da_dom_id\":\"p_main_animal_2\",\"tb\":\"ANIMAL_1\",\"unit\":\"SU10568\",\"calp\":\"-\"},\"type\":{\"position\":\"abs\",\"positionIndex\":8,\"subject\":\"contents\"},\"dom\":null}]},\"BEAUTY\":{\"menu\":\"BEAUTY\",\"childMenu\":\"\",\"adType\":\"singleDom\",\"multiDomAdUrl\":\"\",\"multiDomUnit\":\"\",\"infoList\":[{\"adposId\":\"1000163\",\"singleDomAdUrl\":\"https://siape.veta.naver.com/fxshow\",\"param\":{\"da_dom_id\":\"p_main_beauty_1\",\"tb\":\"BEAUTY_1\",\"unit\":\"SU10595\",\"calp\":\"-\"},\"type\":{\"position\":\"abs\",\"positionIndex\":4,\"subject\":\"contents\"},\"dom\":null},{\"adposId\":\"1000164\",\"singleDomAdUrl\":\"https://siape.veta.naver.com/fxshow\",\"param\":{\"da_dom_id\":\"p_main_beauty_2\",\"tb\":\"BEAUTY_1\",\"unit\":\"SU10596\",\"calp\":\"-\"},\"type\":{\"position\":\"abs\",\"positionIndex\":8,\"subject\":\"contents\"},\"dom\":null}]},\"BUSINESS\":{\"menu\":\"BUSINESS\",\"childMenu\":\"\",\"adType\":\"singleDom\",\"multiDomAdUrl\":\"\",\"multiDomUnit\":\"\",\"infoList\":[{\"adposId\":\"1000165\",\"singleDomAdUrl\":\"https://siape.veta.naver.com/fxshow\",\"param\":{\"da_dom_id\":\"p_main_business_1\",\"tb\":\"BUSINESS_1\",\"unit\":\"SU10577\",\"calp\":\"-\"},\"type\":{\"position\":\"abs\",\"positionIndex\":4,\"subject\":\"contents\"},\"dom\":null},{\"adposId\":\"1000166\",\"singleDomAdUrl\":\"https://siape.veta.naver.com/fxshow\",\"param\":{\"da_dom_id\":\"p_main_business_2\",\"tb\":\"BUSINESS_1\",\"unit\":\"SU10578\",\"calp\":\"-\"},\"type\":{\"position\":\"abs\",\"positionIndex\":8,\"subject\":\"contents\"},\"dom\":null}]},\"CARGAME\":{\"menu\":\"CARGAME\",\"childMenu\":\"\",\"adType\":\"singleDom\",\"multiDomAdUrl\":\"\",\"multiDomUnit\":\"\",\"infoList\":[{\"adposId\":\"1000167\",\"singleDomAdUrl\":\"https://siape.veta.naver.com/fxshow\",\"param\":{\"da_dom_id\":\"p_main_cargame_1\",\"tb\":\"CARGAME_1\",\"unit\":\"SU10587\",\"calp\":\"-\"},\"type\":{\"position\":\"abs\",\"positionIndex\":4,\"subject\":\"contents\"},\"dom\":null},{\"adposId\":\"1000168\",\"singleDomAdUrl\":\"https://siape.veta.naver.com/fxshow\",\"param\":{\"da_dom_id\":\"p_main_cargame_2\",\"tb\":\"CARGAME_1\",\"unit\":\"SU10588\",\"calp\":\"-\"},\"type\":{\"position\":\"abs\",\"positionIndex\":8,\"subject\":\"contents\"},\"dom\":null}]},\"CHINA\":{\"menu\":\"CHINA\",\"childMenu\":\"\",\"adType\":\"singleDom\",\"multiDomAdUrl\":\"\",\"multiDomUnit\":\"\",\"infoList\":[{\"adposId\":\"1000169\",\"singleDomAdUrl\":\"https://siape.veta.naver.com/fxshow\",\"param\":{\"da_dom_id\":\"p_main_china_1\",\"tb\":\"CHINA_1\",\"unit\":\"SU10591\",\"calp\":\"-\"},\"type\":{\"position\":\"abs\",\"positionIndex\":4,\"subject\":\"contents\"},\"dom\":null},{\"adposId\":\"1000170\",\"singleDomAdUrl\":\"https://siape.veta.naver.com/fxshow\",\"param\":{\"da_dom_id\":\"p_main_china_2\",\"tb\":\"CHINA_1\",\"unit\":\"SU10592\",\"calp\":\"-\"},\"type\":{\"position\":\"abs\",\"positionIndex\":8,\"subject\":\"contents\"},\"dom\":null}]},\"DESIGN\":{\"menu\":\"DESIGN\",\"childMenu\":\"\",\"adType\":\"singleDom\",\"multiDomAdUrl\":\"\",\"multiDomUnit\":\"\",\"infoList\":[{\"adposId\":\"1000171\",\"singleDomAdUrl\":\"https://siape.veta.naver.com/fxshow\",\"param\":{\"da_dom_id\":\"p_main_design_1\",\"tb\":\"DESIGN_1\",\"unit\":\"SU10569\",\"calp\":\"-\"},\"type\":{\"position\":\"abs\",\"positionIndex\":4,\"subject\":\"contents\"},\"dom\":null},{\"adposId\":\"1000172\",\"singleDomAdUrl\":\"https://siape.veta.naver.com/fxshow\",\"param\":{\"da_dom_id\":\"p_main_design_2\",\"tb\":\"DESIGN_1\",\"unit\":\"SU10570\",\"calp\":\"-\"},\"type\":{\"position\":\"abs\",\"positionIndex\":8,\"subject\":\"contents\"},\"dom\":null}]},\"FARM\":{\"menu\":\"FARM\",\"childMenu\":\"\",\"adType\":\"singleDom\",\"multiDomAdUrl\":\"\",\"multiDomUnit\":\"\",\"infoList\":[{\"adposId\":\"1000173\",\"singleDomAdUrl\":\"https://siape.veta.naver.com/fxshow\",\"param\":{\"da_dom_id\":\"p_main_farm_1\",\"tb\":\"FARM_1\",\"unit\":\"SU10561\",\"calp\":\"-\"},\"type\":{\"position\":\"abs\",\"positionIndex\":4,\"subject\":\"contents\"},\"dom\":null},{\"adposId\":\"1000174\",\"singleDomAdUrl\":\"https://siape.veta.naver.com/fxshow\",\"param\":{\"da_dom_id\":\"p_main_farm_2\",\"tb\":\"FARM_1\",\"unit\":\"SU10562\",\"calp\":\"-\"},\"type\":{\"position\":\"abs\",\"positionIndex\":8,\"subject\":\"contents\"},\"dom\":null}]},\"FINANCE\":{\"menu\":\"FINANCE\",\"childMenu\":\"\",\"adType\":\"singleDom\",\"multiDomAdUrl\":\"\",\"multiDomUnit\":\"\",\"infoList\":[{\"adposId\":\"1000175\",\"singleDomAdUrl\":\"https://siape.veta.naver.com/fxshow\",\"param\":{\"da_dom_id\":\"p_main_finance_1\",\"tb\":\"FINANCE_1\",\"unit\":\"SU10563\",\"calp\":\"-\"},\"type\":{\"position\":\"abs\",\"positionIndex\":4,\"subject\":\"contents\"},\"dom\":null},{\"adposId\":\"1000176\",\"singleDomAdUrl\":\"https://siape.veta.naver.com/fxshow\",\"param\":{\"da_dom_id\":\"p_main_finance_2\",\"tb\":\"FINANCE_1\",\"unit\":\"SU10564\",\"calp\":\"-\"},\"type\":{\"position\":\"abs\",\"positionIndex\":8,\"subject\":\"contents\"},\"dom\":null}]},\"ITTECH\":{\"menu\":\"ITTECH\",\"childMenu\":\"\",\"adType\":\"singleDom\",\"multiDomAdUrl\":\"\",\"multiDomUnit\":\"\",\"infoList\":[{\"adposId\":\"1000177\",\"singleDomAdUrl\":\"https://siape.veta.naver.com/fxshow\",\"param\":{\"da_dom_id\":\"p_main_ittech_1\",\"tb\":\"ITTECH_1\",\"unit\":\"SU10593\",\"calp\":\"-\"},\"type\":{\"position\":\"abs\",\"positionIndex\":4,\"subject\":\"contents\"},\"dom\":null},{\"adposId\":\"1000178\",\"singleDomAdUrl\":\"https://siape.veta.naver.com/fxshow\",\"param\":{\"da_dom_id\":\"p_main_ittech_2\",\"tb\":\"ITTECH_1\",\"unit\":\"SU10594\",\"calp\":\"-\"},\"type\":{\"position\":\"abs\",\"positionIndex\":8,\"subject\":\"contents\"},\"dom\":null}]},\"JOB\":{\"menu\":\"JOB\",\"childMenu\":\"\",\"adType\":\"singleDom\",\"multiDomAdUrl\":\"\",\"multiDomUnit\":\"\",\"infoList\":[{\"adposId\":\"1000179\",\"singleDomAdUrl\":\"https://siape.veta.naver.com/fxshow\",\"param\":{\"da_dom_id\":\"p_main_job_1\",\"tb\":\"JOB_1\",\"unit\":\"SU10589\",\"calp\":\"-\"},\"type\":{\"position\":\"abs\",\"positionIndex\":4,\"subject\":\"contents\"},\"dom\":null},{\"adposId\":\"1000180\",\"singleDomAdUrl\":\"https://siape.veta.naver.com/fxshow\",\"param\":{\"da_dom_id\":\"p_main_job_2\",\"tb\":\"JOB_1\",\"unit\":\"SU10590\",\"calp\":\"-\"},\"type\":{\"position\":\"abs\",\"positionIndex\":8,\"subject\":\"contents\"},\"dom\":null}]},\"LAW\":{\"menu\":\"LAW\",\"childMenu\":\"\",\"adType\":\"singleDom\",\"multiDomAdUrl\":\"\",\"multiDomUnit\":\"\",\"infoList\":[{\"adposId\":\"1000181\",\"singleDomAdUrl\":\"https://siape.veta.naver.com/fxshow\",\"param\":{\"da_dom_id\":\"p_main_law_1\",\"tb\":\"LAW_1\",\"unit\":\"SU10573\",\"calp\":\"-\"},\"type\":{\"position\":\"abs\",\"positionIndex\":4,\"subject\":\"contents\"},\"dom\":null},{\"adposId\":\"1000182\",\"singleDomAdUrl\":\"https://siape.veta.naver.com/fxshow\",\"param\":{\"da_dom_id\":\"p_main_law_2\",\"tb\":\"LAW_1\",\"unit\":\"SU10574\",\"calp\":\"-\"},\"type\":{\"position\":\"abs\",\"positionIndex\":8,\"subject\":\"contents\"},\"dom\":null}]},\"LIVING\":{\"menu\":\"LIVING\",\"childMenu\":\"\",\"adType\":\"singleDom\",\"multiDomAdUrl\":\"\",\"multiDomUnit\":\"\",\"infoList\":[{\"adposId\":\"1000183\",\"singleDomAdUrl\":\"https://siape.veta.naver.com/fxshow\",\"param\":{\"da_dom_id\":\"p_main_living_1\",\"tb\":\"LIVING_1\",\"unit\":\"SU10597\",\"calp\":\"-\"},\"type\":{\"position\":\"abs\",\"positionIndex\":4,\"subject\":\"contents\"},\"dom\":null},{\"adposId\":\"1000184\",\"singleDomAdUrl\":\"https://siape.veta.naver.com/fxshow\",\"param\":{\"da_dom_id\":\"p_main_living_2\",\"tb\":\"LIVING_1\",\"unit\":\"SU10606\",\"calp\":\"-\"},\"type\":{\"position\":\"abs\",\"positionIndex\":8,\"subject\":\"contents\"},\"dom\":null}]},\"LIVINGHOME\":{\"menu\":\"LIVINGHOME\",\"childMenu\":\"\",\"adType\":\"singleDom\",\"multiDomAdUrl\":\"\",\"multiDomUnit\":\"\",\"infoList\":[{\"adposId\":\"1000185\",\"singleDomAdUrl\":\"https://siape.veta.naver.com/fxshow\",\"param\":{\"da_dom_id\":\"p_main_livinghome_1\",\"tb\":\"LIVINGHOME_1\",\"unit\":\"SU10571\",\"calp\":\"-\"},\"type\":{\"position\":\"abs\",\"positionIndex\":4,\"subject\":\"contents\"},\"dom\":null},{\"adposId\":\"1000186\",\"singleDomAdUrl\":\"https://siape.veta.naver.com/fxshow\",\"param\":{\"da_dom_id\":\"p_main_livinghome_2\",\"tb\":\"LIVINGHOME_1\",\"unit\":\"SU10572\",\"calp\":\"-\"},\"type\":{\"position\":\"abs\",\"positionIndex\":8,\"subject\":\"contents\"},\"dom\":null}]},\"MOMKIDS\":{\"menu\":\"MOMKIDS\",\"childMenu\":\"\",\"adType\":\"singleDom\",\"multiDomAdUrl\":\"\",\"multiDomUnit\":\"\",\"infoList\":[{\"adposId\":\"1000187\",\"singleDomAdUrl\":\"https://siape.veta.naver.com/fxshow\",\"param\":{\"da_dom_id\":\"p_main_momkids_1\",\"tb\":\"MOMKIDS_1\",\"unit\":\"SU10575\",\"calp\":\"-\"},\"type\":{\"position\":\"abs\",\"positionIndex\":4,\"subject\":\"contents\"},\"dom\":null},{\"adposId\":\"1000188\",\"singleDomAdUrl\":\"https://siape.veta.naver.com/fxshow\",\"param\":{\"da_dom_id\":\"p_main_momkids_2\",\"tb\":\"MOMKIDS_1\",\"unit\":\"SU10576\",\"calp\":\"-\"},\"type\":{\"position\":\"abs\",\"positionIndex\":8,\"subject\":\"contents\"},\"dom\":null}]},\"MOVIE\":{\"menu\":\"MOVIE\",\"childMenu\":\"\",\"adType\":\"singleDom\",\"multiDomAdUrl\":\"\",\"multiDomUnit\":\"\",\"infoList\":[{\"adposId\":\"1000189\",\"singleDomAdUrl\":\"https://siape.veta.naver.com/fxshow\",\"param\":{\"da_dom_id\":\"p_main_movie_1\",\"tb\":\"MOVIE_1\",\"unit\":\"SU10585\",\"calp\":\"-\"},\"type\":{\"position\":\"abs\",\"positionIndex\":4,\"subject\":\"contents\"},\"dom\":null},{\"adposId\":\"1000190\",\"singleDomAdUrl\":\"https://siape.veta.naver.com/fxshow\",\"param\":{\"da_dom_id\":\"p_main_movie_2\",\"tb\":\"MOVIE_1\",\"unit\":\"SU10586\",\"calp\":\"-\"},\"type\":{\"position\":\"abs\",\"positionIndex\":8,\"subject\":\"contents\"},\"dom\":null}]},\"SCHOOL\":{\"menu\":\"SCHOOL\",\"childMenu\":\"\",\"adType\":\"singleDom\",\"multiDomAdUrl\":\"\",\"multiDomUnit\":\"\",\"infoList\":[{\"adposId\":\"1000191\",\"singleDomAdUrl\":\"https://siape.veta.naver.com/fxshow\",\"param\":{\"da_dom_id\":\"p_main_school_1\",\"tb\":\"SCHOOL_1\",\"unit\":\"SU10579\",\"calp\":\"-\"},\"type\":{\"position\":\"abs\",\"positionIndex\":4,\"subject\":\"contents\"},\"dom\":null},{\"adposId\":\"1000192\",\"singleDomAdUrl\":\"https://siape.veta.naver.com/fxshow\",\"param\":{\"da_dom_id\":\"p_main_school_2\",\"tb\":\"SCHOOL_1\",\"unit\":\"SU10580\",\"calp\":\"-\"},\"type\":{\"position\":\"abs\",\"positionIndex\":8,\"subject\":\"contents\"},\"dom\":null}]},\"SHOW\":{\"menu\":\"SHOW\",\"childMenu\":\"\",\"adType\":\"singleDom\",\"multiDomAdUrl\":\"\",\"multiDomUnit\":\"\",\"infoList\":[{\"adposId\":\"1000193\",\"singleDomAdUrl\":\"https://siape.veta.naver.com/fxshow\",\"param\":{\"da_dom_id\":\"p_main_show_1\",\"tb\":\"SHOW_1\",\"unit\":\"SU10565\",\"calp\":\"-\"},\"type\":{\"position\":\"abs\",\"positionIndex\":4,\"subject\":\"contents\"},\"dom\":null},{\"adposId\":\"1000194\",\"singleDomAdUrl\":\"https://siape.veta.naver.com/fxshow\",\"param\":{\"da_dom_id\":\"p_main_show_2\",\"tb\":\"SHOW_1\",\"unit\":\"SU10566\",\"calp\":\"-\"},\"type\":{\"position\":\"abs\",\"positionIndex\":8,\"subject\":\"contents\"},\"dom\":null}]},\"TRAVEL\":{\"menu\":\"TRAVEL\",\"childMenu\":\"\",\"adType\":\"singleDom\",\"multiDomAdUrl\":\"\",\"multiDomUnit\":\"\",\"infoList\":[{\"adposId\":\"1000195\",\"singleDomAdUrl\":\"https://siape.veta.naver.com/fxshow\",\"param\":{\"da_dom_id\":\"p_main_travel_1\",\"tb\":\"TRAVEL_1\",\"unit\":\"SU10581\",\"calp\":\"-\"},\"type\":{\"position\":\"abs\",\"positionIndex\":4,\"subject\":\"contents\"},\"dom\":null},{\"adposId\":\"1000196\",\"singleDomAdUrl\":\"https://siape.veta.naver.com/fxshow\",\"param\":{\"da_dom_id\":\"p_main_travel_2\",\"tb\":\"TRAVEL_1\",\"unit\":\"SU10582\",\"calp\":\"-\"},\"type\":{\"position\":\"abs\",\"positionIndex\":8,\"subject\":\"contents\"},\"dom\":null}]},\"WEDDING\":{\"menu\":\"WEDDING\",\"childMenu\":\"\",\"adType\":\"singleDom\",\"multiDomAdUrl\":\"\",\"multiDomUnit\":\"\",\"infoList\":[{\"adposId\":\"1000197\",\"singleDomAdUrl\":\"https://siape.veta.naver.com/fxshow\",\"param\":{\"da_dom_id\":\"p_main_wedding_1\",\"tb\":\"WEDDING_1\",\"unit\":\"SU10583\",\"calp\":\"-\"},\"type\":{\"position\":\"abs\",\"positionIndex\":4,\"subject\":\"contents\"},\"dom\":null},{\"adposId\":\"1000198\",\"singleDomAdUrl\":\"https://siape.veta.naver.com/fxshow\",\"param\":{\"da_dom_id\":\"p_main_wedding_2\",\"tb\":\"WEDDING_1\",\"unit\":\"SU10584\",\"calp\":\"-\"},\"type\":{\"position\":\"abs\",\"positionIndex\":8,\"subject\":\"contents\"},\"dom\":null}]}},\n",
      "svt: 20220102003305,\n",
      "}; </script> <script> window.nmain.newsstand = {\n",
      "rcode: '10110108',\n",
      "newsCastSubsInfo: '',\n",
      "newsStandSubsInfo: ''\n",
      "};\n",
      "window.etc = {  };\n",
      "window.svr = \"<!--aweb12-->\"; </script> <script defer=\"defer\" src=\"https://ssl.pstatic.net/tveta/libs/assets/js/pc/main/min/pc.veta.core.min.js\"></script> <script crossorigin=\"anonymous\" defer=\"defer\" src=\"https://pm.pstatic.net/dist/js/external.424737be.js?o=www\" type=\"text/javascript\"></script> <script crossorigin=\"anonymous\" defer=\"defer\" src=\"https://pm.pstatic.net/dist/js/preload.5875f4cb.js?o=www\" type=\"text/javascript\"></script> <script crossorigin=\"anonymous\" defer=\"defer\" src=\"https://pm.pstatic.net/dist/js/polyfill.0b1e66f9.js?o=www\" type=\"text/javascript\"></script> <script crossorigin=\"anonymous\" defer=\"defer\" src=\"https://pm.pstatic.net/dist/js/vendors~more~nmain~notice~search~sidebar_notice.29c38b59.js?o=www\" type=\"text/javascript\"></script> <script crossorigin=\"anonymous\" defer=\"defer\" src=\"https://pm.pstatic.net/dist/js/search.42b2ccb4.js?o=www\" type=\"text/javascript\"></script> <script crossorigin=\"anonymous\" defer=\"defer\" src=\"https://pm.pstatic.net/dist/js/vendors~more~nmain~sidebar_notice.2d20790b.js?o=www\" type=\"text/javascript\"></script> <script crossorigin=\"anonymous\" defer=\"defer\" src=\"https://pm.pstatic.net/dist/js/nmain.3e57d655.js?o=www\" type=\"text/javascript\"></script> <style>:root{color-scheme:light}#_nx_kbd .setkorhelp a{display:none}</style> </link></link></meta></meta></meta></meta></meta>\n"
     ]
    }
   ],
   "source": [
    "import requests as rq\n",
    "from bs4 import BeautifulSoup\n",
    "\n",
    "url = \"http://naver.com\"\n",
    "res = rq.get(url)\n",
    "html = res.text\n",
    "soup = BeautifulSoup(html, 'html.parser')\n",
    "header = soup.head\n",
    "for i in header:\n",
    "    print(i)"
   ]
  },
  {
   "cell_type": "markdown",
   "id": "20114098",
   "metadata": {},
   "source": [
    "Q5. 아래를 예외 처리하세요. "
   ]
  },
  {
   "cell_type": "code",
   "execution_count": 12,
   "id": "ff8e3917",
   "metadata": {},
   "outputs": [],
   "source": [
    "# import requests as rq\n",
    "\n",
    "# url = \"naver.com\"\n",
    "# res = rq.get(url)\n",
    "# print(res.text)"
   ]
  },
  {
   "cell_type": "code",
   "execution_count": 13,
   "id": "48339c9f",
   "metadata": {},
   "outputs": [
    {
     "name": "stdout",
     "output_type": "stream",
     "text": [
      "에러발생 : Invalid URL 'naver.com': No schema supplied. Perhaps you meant http://naver.com?\n",
      "naver.com\n"
     ]
    }
   ],
   "source": [
    "import requests as rq\n",
    "\n",
    "url = \"naver.com\"\n",
    "try:\n",
    "    res = rq.get(url)\n",
    "    print(res.text)\n",
    "except Exception as e:\n",
    "    print(f\"에러발생 : {e}\")\n",
    "    \n",
    "print(url)"
   ]
  },
  {
   "cell_type": "markdown",
   "id": "90916c8d",
   "metadata": {},
   "source": [
    "Q6. 아래 html에서 다음을 출력하세요.  "
   ]
  },
  {
   "cell_type": "code",
   "execution_count": null,
   "id": "e75fa695",
   "metadata": {},
   "outputs": [],
   "source": [
    "# [<p>파이썬 크롤러 책1</p>, <p>전문서적</p>, <p>정보 문화사</p>]\n",
    "# [<p>파이썬 크롤러 책1</p>, <p>전문서적</p>]\n",
    "\n",
    "html =\"\"\"\n",
    "<!DOCTYPE html>\n",
    "<html lang=\"en\">\n",
    "<head>\n",
    "    <meta charset=\"UTF-8\">\n",
    "    <title>Title</title>\n",
    "</head>\n",
    "<body>\n",
    "    <p>파이썬 크롤러 책1</p>\n",
    "    <p>전문서적</p>\n",
    "    <p id='d'>정보 문화사</p>\n",
    "</body>\n",
    "</html>\n",
    "\"\"\""
   ]
  },
  {
   "cell_type": "code",
   "execution_count": 15,
   "id": "50bba9a2",
   "metadata": {},
   "outputs": [
    {
     "name": "stdout",
     "output_type": "stream",
     "text": [
      "[<p>파이썬 크롤러 책1</p>, <p>전문서적</p>, <p id=\"d\">정보 문화사</p>]\n",
      "[<p>파이썬 크롤러 책1</p>, <p>전문서적</p>]\n"
     ]
    }
   ],
   "source": [
    "from bs4 import BeautifulSoup\n",
    "\n",
    "html =\"\"\"\n",
    "<!DOCTYPE html>\n",
    "<html lang=\"en\">\n",
    "<head>\n",
    "    <meta charset=\"UTF-8\">\n",
    "    <title>Title</title>\n",
    "</head>\n",
    "<body>\n",
    "    <p>파이썬 크롤러 책1</p>\n",
    "    <p>전문서적</p>\n",
    "    <p id='d'>정보 문화사</p>\n",
    "</body>\n",
    "</html>\n",
    "\"\"\"\n",
    "soup = BeautifulSoup(html, 'html.parser')\n",
    "result1 = soup.find_all('p')\n",
    "print(result1)\n",
    "result2 = soup.find_all('p',limit=2)\n",
    "print(result2)"
   ]
  },
  {
   "cell_type": "markdown",
   "id": "55f7dcff",
   "metadata": {},
   "source": [
    "Q7. 아래와 같이 출력하세요."
   ]
  },
  {
   "cell_type": "code",
   "execution_count": 16,
   "id": "ef32729a",
   "metadata": {},
   "outputs": [],
   "source": [
    "# <title>Title</title>\n",
    "# <h2 id=\"target1\">h2 태그</h2>\n",
    "# <a href=\"/\" id=\"target2\">a 태그</a>\n",
    "\n",
    "html = \"\"\"\n",
    "<!DOCTYPE html>\n",
    "<html lang=\"en\">\n",
    "<head>\n",
    "    <meta charset=\"UTF-8\">\n",
    "    <title>Title</title>\n",
    "    <style>\n",
    "        #target1{\n",
    "            font-size: 40px;\n",
    "            color: blue;\n",
    "        }\n",
    "        #target2{\n",
    "            font-size: 40px;\n",
    "            color: red;\n",
    "        }\n",
    "    </style>\n",
    "</head>\n",
    "<body>\n",
    "    <h1>h1 태그</h1>\n",
    "    <h2 id=\"target1\">h2 태그</h2>\n",
    "    <h3>h3 태그</h3>\n",
    "    <a href=\"/\" id=\"target2\">a 태그</a>\n",
    "</body>\n",
    "</html>\n",
    "\"\"\""
   ]
  },
  {
   "cell_type": "code",
   "execution_count": 27,
   "id": "b1732a71",
   "metadata": {},
   "outputs": [
    {
     "name": "stdout",
     "output_type": "stream",
     "text": [
      "<title>Title</title>\n",
      "<h2 id=\"target1\">h2 태그</h2>\n",
      "<a href=\"/\" id=\"target2\">a 태그</a>\n"
     ]
    }
   ],
   "source": [
    "from bs4 import BeautifulSoup\n",
    "html = \"\"\"\n",
    "<!DOCTYPE html>\n",
    "<html lang=\"en\">\n",
    "<head>\n",
    "    <meta charset=\"UTF-8\">\n",
    "    <title>Title</title>\n",
    "    <style>\n",
    "        #target1{\n",
    "            font-size: 40px;\n",
    "            color: blue;\n",
    "        }\n",
    "        #target2{\n",
    "            font-size: 40px;\n",
    "            color: red;\n",
    "        }\n",
    "    </style>\n",
    "</head>\n",
    "<body>\n",
    "    <h1>h1 태그</h1>\n",
    "    <h2 id=\"target1\">h2 태그</h2>\n",
    "    <h3>h3 태그</h3>\n",
    "    <a href=\"/\" id=\"target2\">a 태그</a>\n",
    "</body>\n",
    "</html>\n",
    "\"\"\"    \n",
    "    \n",
    "soup = BeautifulSoup(html, 'html.parser')\n",
    "for i in soup.find_all(['title','h2','a']):\n",
    "    print(i)"
   ]
  },
  {
   "cell_type": "markdown",
   "id": "c3a91c66",
   "metadata": {},
   "source": [
    "Q8. 아래 html 문에서 다음과 같이 출력되도록 스크레이핑 하세요.  \n",
    "  \n",
    "h1 = HTML 기본 구조  \n",
    "li = html5 명시  \n",
    "li = html 태그로 모든 태그를 감싸줌. lang이란 속성을 포함  \n",
    "li = head 태그는 meta, title 이외의 style, script, link와 같은 태그 포함  \n",
    "li = title 태그는 문서의 제목  \n",
    "li = body 태그는 웹페이지의 내용 포함  \n",
    "li = style 태그는 CSS 코드가 포함된는 태그  \n",
    "li = script 태그는 JavaScript 코드를 작성하거나 파일 로드. head 태그 or body 태그 하단 위치  "
   ]
  },
  {
   "cell_type": "code",
   "execution_count": 28,
   "id": "bb4dc182",
   "metadata": {},
   "outputs": [],
   "source": [
    "html = \"\"\"\n",
    "<html><body>\n",
    "<div id=\"meigen\">\n",
    "  <h1>HTML 기본 구조</h1>\n",
    "  <ul class=\"items\">\n",
    "    <li>html5 명시</li>\n",
    "    <li>html 태그로 모든 태그를 감싸줌. lang이란 속성을 포함</li>\n",
    "    <li>head 태그는 meta, title 이외의 style, script, link와 같은 태그 포함</li>\n",
    "    <li>title 태그는 문서의 제목</li>\n",
    "    <li>body 태그는 웹페이지의 내용 포함</li>\n",
    "    <li>style 태그는 CSS 코드가 포함된는 태그</li>\n",
    "    <li>script 태그는 JavaScript 코드를 작성하거나 파일 로드. head 태그 or body 태그 하단 위치</li>\n",
    "  </ul>\n",
    "</div>\n",
    "</body></html>\n",
    "\"\"\""
   ]
  },
  {
   "cell_type": "code",
   "execution_count": 29,
   "id": "d2917528",
   "metadata": {},
   "outputs": [
    {
     "name": "stdout",
     "output_type": "stream",
     "text": [
      "h1 = HTML 기본 구조\n",
      "li = html5 명시\n",
      "li = html 태그로 모든 태그를 감싸줌. lang이란 속성을 포함\n",
      "li = head 태그는 meta, title 이외의 style, script, link와 같은 태그 포함\n",
      "li = title 태그는 문서의 제목\n",
      "li = body 태그는 웹페이지의 내용 포함\n",
      "li = style 태그는 CSS 코드가 포함된는 태그\n",
      "li = script 태그는 JavaScript 코드를 작성하거나 파일 로드. head 태그 or body 태그 하단 위치\n"
     ]
    }
   ],
   "source": [
    "from bs4 import BeautifulSoup\n",
    "html = \"\"\"\n",
    "<html><body>\n",
    "<div id=\"meigen\">\n",
    "  <h1>HTML 기본 구조</h1>\n",
    "  <ul class=\"items\">\n",
    "    <li>html5 명시</li>\n",
    "    <li>html 태그로 모든 태그를 감싸줌. lang이란 속성을 포함</li>\n",
    "    <li>head 태그는 meta, title 이외의 style, script, link와 같은 태그 포함</li>\n",
    "    <li>title 태그는 문서의 제목</li>\n",
    "    <li>body 태그는 웹페이지의 내용 포함</li>\n",
    "    <li>style 태그는 CSS 코드가 포함된는 태그</li>\n",
    "    <li>script 태그는 JavaScript 코드를 작성하거나 파일 로드. head 태그 or body 태그 하단 위치</li>\n",
    "  </ul>\n",
    "</div>\n",
    "</body></html>\n",
    "\"\"\"\n",
    "soup = BeautifulSoup(html, \"html.parser\")\n",
    "\n",
    "for i in soup.find_all(['h1', 'li']):\n",
    "    print(i.name, '=', i.string)"
   ]
  },
  {
   "cell_type": "code",
   "execution_count": null,
   "id": "34b60903",
   "metadata": {},
   "outputs": [],
   "source": [
    "# Q9. 특정 웹사이트를 지정한 후 원하는 크롤링 만들기"
   ]
  },
  {
   "cell_type": "code",
   "execution_count": 30,
   "id": "4416180d",
   "metadata": {},
   "outputs": [
    {
     "name": "stdout",
     "output_type": "stream",
     "text": [
      "\n",
      "<프로젝트 오일러>\n",
      "\n",
      "프로젝트 오일러 (ProjectEuler.net) 는 수학적인 문제들을\n",
      "컴퓨터 프로그래밍으로 하나씩 해결해가는 퀴즈 풀이 사이트입니다.\n",
      "\n",
      "\n",
      "Q1 : 1000보다 작은 자연수 중에서 3 또는 5의 배수를 모두 더하면?\n",
      "https://euler.synap.co.kr/problem=1\n",
      "\n",
      "Q2 : 피보나치 수열에서 4백만 이하이면서 짝수인 항의 합\n",
      "https://euler.synap.co.kr/problem=2\n",
      "\n",
      "Q3 : 가장 큰 소인수 구하기\n",
      "https://euler.synap.co.kr/problem=3\n",
      "\n",
      "Q4 : 세자리 수를 곱해 만들 수 있는 가장 큰 대칭수\n",
      "https://euler.synap.co.kr/problem=4\n",
      "\n",
      "Q5 : 1 ~ 20 사이의 어떤 수로도 나누어 떨어지는 가장 작은 수\n",
      "https://euler.synap.co.kr/problem=5\n",
      "\n",
      "Q6 : 1부터 100까지 \"제곱의 합\"과 \"합의 제곱\"의 차는?\n",
      "https://euler.synap.co.kr/problem=6\n",
      "\n",
      "Q7 : 10001번째의 소수\n",
      "https://euler.synap.co.kr/problem=7\n",
      "\n",
      "Q8 : 1000자리 수 안에서 연속된 13개 숫자 곱의 최댓값\n",
      "https://euler.synap.co.kr/problem=8\n",
      "\n",
      "Q9 : 홈페이지에서 확인하세요.\n",
      "https://euler.synap.co.kr/problem=9\n",
      "\n",
      "Q10 : 이백만 이하 소수의 합\n",
      "https://euler.synap.co.kr/problem=10\n",
      "\n",
      "Q11 : 20×20 격자에서 연속된 네 수의 곱 중 최댓값\n",
      "https://euler.synap.co.kr/problem=11\n",
      "\n",
      "Q12 : 500개 이상의 약수를 갖는 가장 작은 삼각수는?\n",
      "https://euler.synap.co.kr/problem=12\n",
      "\n",
      "Q13 : 50자리 수 100개를 더한 값의 첫 10자리 구하기\n",
      "https://euler.synap.co.kr/problem=13\n",
      "\n",
      "Q14 : 백만 이하로 시작하는 우박수 중 가장 긴 과정을 거치는 것은?\n",
      "https://euler.synap.co.kr/problem=14\n",
      "\n",
      "Q15 : 20×20 격자의 좌상단에서 우하단으로 가는 경로의 수\n",
      "https://euler.synap.co.kr/problem=15\n",
      "\n",
      "Q16 : 홈페이지에서 확인하세요.\n",
      "https://euler.synap.co.kr/problem=16\n",
      "\n",
      "Q17 : 1부터 1000까지 영어로 썼을 때 사용된 글자의 개수는?\n",
      "https://euler.synap.co.kr/problem=17\n",
      "\n",
      "Q18 : 삼각형을 따라 내려가면서 합이 최대가 되는 경로 찾기\n",
      "https://euler.synap.co.kr/problem=18\n",
      "\n",
      "Q19 : 20세기에서, 매월 1일이 일요일인 경우는 몇 번?\n",
      "https://euler.synap.co.kr/problem=19\n",
      "\n",
      "Q20 : 100! 의 자릿수를 모두 더하면?\n",
      "https://euler.synap.co.kr/problem=20\n",
      "\n"
     ]
    }
   ],
   "source": [
    "import requests as rq\n",
    "from bs4 import BeautifulSoup\n",
    "\n",
    "url = \"https://euler.synap.co.kr/prob_list.php\"\n",
    "res = rq.get(url)\n",
    "html = res.text\n",
    "soup = BeautifulSoup(html, 'html.parser')\n",
    "quiz = soup.find_all(\"td\", attrs = {\"style\":[\"padding-left:5px;\",\"text-decoration:none;\"]})\n",
    "# link = soup.find_all(\"a\", attrs={\"style\":\"text-decoration:none;\"})[\"href\"]\n",
    "\n",
    "\n",
    "print(\"\\n<프로젝트 오일러>\\n\\n프로젝트 오일러 (ProjectEuler.net) 는 수학적인 문제들을\\n컴퓨터 프로그래밍으로 하나씩 해결해가는 퀴즈 풀이 사이트입니다.\\n\\n\")\n",
    "for num,i in enumerate(quiz):\n",
    "    if i.find('a').string == None:\n",
    "        i.find('a').string = \"홈페이지에서 확인하세요.\"\n",
    "    print(f\"Q{num+1} : {i.find('a').string}\\nhttps://euler.synap.co.kr/problem={num+1}\\n\")"
   ]
  }
 ],
 "metadata": {
  "kernelspec": {
   "display_name": "Python 3 (ipykernel)",
   "language": "python",
   "name": "python3"
  },
  "language_info": {
   "codemirror_mode": {
    "name": "ipython",
    "version": 3
   },
   "file_extension": ".py",
   "mimetype": "text/x-python",
   "name": "python",
   "nbconvert_exporter": "python",
   "pygments_lexer": "ipython3",
   "version": "3.8.8"
  }
 },
 "nbformat": 4,
 "nbformat_minor": 5
}
