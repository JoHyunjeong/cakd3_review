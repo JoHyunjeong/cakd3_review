{
 "cells": [
  {
   "cell_type": "markdown",
   "id": "b7edb44b",
   "metadata": {},
   "source": [
    "# 과제_0628"
   ]
  },
  {
   "cell_type": "markdown",
   "id": "c228ab18",
   "metadata": {},
   "source": [
    "Q. 아래 코드를 모든 예외를 처리할 수 있도록 보완하세요"
   ]
  },
  {
   "cell_type": "code",
   "execution_count": 2,
   "id": "8bf34973",
   "metadata": {},
   "outputs": [
    {
     "name": "stdout",
     "output_type": "stream",
     "text": [
      "정수 입력> rk\n",
      "정수를 입력해 주세요.\n",
      "<class 'ValueError'> invalid literal for int() with base 10: 'rk'\n",
      "모든 예외 처리\n"
     ]
    }
   ],
   "source": [
    "list_num = [52,273,32,72,100]\n",
    "try:\n",
    "    num_input = int(input('정수 입력> '))\n",
    "    print('{}번째 요소: {}'.format(num_input, list_num[num_input]))\n",
    "    예외.발생()\n",
    "except ValueError as exception:\n",
    "    print('정수를 입력해 주세요.')\n",
    "    print(type(exception),exception)\n",
    "except IndexError as exception:\n",
    "    print('리스트의 인덱스를 벗어났어요.')\n",
    "    print(type(exception),exception)\n",
    "finally:\n",
    "    print('모든 예외 처리')"
   ]
  },
  {
   "cell_type": "code",
   "execution_count": 4,
   "id": "a6bd0f66",
   "metadata": {},
   "outputs": [
    {
     "name": "stdout",
     "output_type": "stream",
     "text": [
      "정수 입력> 가\n",
      "정수를 입력해 주세요.\n",
      "<class 'ValueError'> invalid literal for int() with base 10: '가'\n",
      "모든 예외 처리\n"
     ]
    }
   ],
   "source": [
    "list_num = [52,273,32,72,100]\n",
    "try:\n",
    "    num_input = int(input('정수 입력> '))\n",
    "    print('{}번째 요소: {}'.format(num_input, list_num[num_input]))\n",
    "except ValueError as exception:\n",
    "    print('정수를 입력해 주세요.')\n",
    "    print(type(exception),exception)\n",
    "except IndexError as exception:\n",
    "    print('리스트의 인덱스를 벗어났어요.')\n",
    "    print(type(exception),exception)\n",
    "except KeyboardInterrupt as exception:\n",
    "    print('사용자에 의해 프로그램이 중단되었습니다.')\n",
    "    print(type(exception),exception)\n",
    "except Exception as e:\n",
    "    pass\n",
    "else:\n",
    "    print('예외 발생하지 않음')\n",
    "finally:\n",
    "    print('모든 예외 처리')"
   ]
  }
 ],
 "metadata": {
  "kernelspec": {
   "display_name": "Python 3 (ipykernel)",
   "language": "python",
   "name": "python3"
  },
  "language_info": {
   "codemirror_mode": {
    "name": "ipython",
    "version": 3
   },
   "file_extension": ".py",
   "mimetype": "text/x-python",
   "name": "python",
   "nbconvert_exporter": "python",
   "pygments_lexer": "ipython3",
   "version": "3.8.8"
  }
 },
 "nbformat": 4,
 "nbformat_minor": 5
}
