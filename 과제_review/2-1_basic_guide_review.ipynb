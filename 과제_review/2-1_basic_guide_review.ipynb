{
 "cells": [
  {
   "cell_type": "markdown",
   "id": "de9a14ad",
   "metadata": {},
   "source": [
    "# 과제_0622"
   ]
  },
  {
   "cell_type": "markdown",
   "id": "23de2084",
   "metadata": {},
   "source": [
    "Q. 5를 2로 나누었을 때의 몫과 나머지를 구하세요."
   ]
  },
  {
   "cell_type": "code",
   "execution_count": 2,
   "id": "546278a2",
   "metadata": {},
   "outputs": [
    {
     "name": "stdout",
     "output_type": "stream",
     "text": [
      "몫 :  2\n",
      "나머지 :  1\n"
     ]
    }
   ],
   "source": [
    "print('몫 : ',divmod(5,2)[0])\n",
    "print('나머지 : ',divmod(5,2)[1])"
   ]
  },
  {
   "cell_type": "markdown",
   "id": "1a6ad3ad",
   "metadata": {},
   "source": [
    "Q. 101의 3승을 구하세요."
   ]
  },
  {
   "cell_type": "code",
   "execution_count": 3,
   "id": "675eab52",
   "metadata": {},
   "outputs": [
    {
     "data": {
      "text/plain": [
       "1030301"
      ]
     },
     "execution_count": 3,
     "metadata": {},
     "output_type": "execute_result"
    }
   ],
   "source": [
    "101**3"
   ]
  },
  {
   "cell_type": "markdown",
   "id": "cac6aa74",
   "metadata": {},
   "source": [
    "Q. Python과 3.8.3을 합쳐서 Python 3.8.3으로 출력하세요."
   ]
  },
  {
   "cell_type": "code",
   "execution_count": 5,
   "id": "59371917",
   "metadata": {},
   "outputs": [
    {
     "name": "stdout",
     "output_type": "stream",
     "text": [
      "Python 3.8.3\n"
     ]
    }
   ],
   "source": [
    "text1 = 'Python'\n",
    "text2 = '3.8.3'\n",
    "print(text1, text2)"
   ]
  },
  {
   "cell_type": "markdown",
   "id": "39599504",
   "metadata": {},
   "source": [
    "Q. a = 5 a = '10' a = 15 일 때 a의 자료형은 무엇인가?"
   ]
  },
  {
   "cell_type": "code",
   "execution_count": 6,
   "id": "86835e5f",
   "metadata": {},
   "outputs": [
    {
     "name": "stdout",
     "output_type": "stream",
     "text": [
      "5 <class 'int'>\n",
      "10 <class 'str'>\n",
      "15 <class 'int'>\n"
     ]
    }
   ],
   "source": [
    "a = 5\n",
    "print(a, type(a))\n",
    "\n",
    "a = '10'\n",
    "print(a, type(a))\n",
    "\n",
    "a = 15\n",
    "print(a, type(a))"
   ]
  },
  {
   "cell_type": "markdown",
   "id": "8fb55b21",
   "metadata": {},
   "source": [
    "Q. 5의 3승을 3으로 나누었을 때의 나머지를 복합 대입 연산자를 이용해서 구하세요."
   ]
  },
  {
   "cell_type": "code",
   "execution_count": 7,
   "id": "a8e6358b",
   "metadata": {},
   "outputs": [
    {
     "name": "stdout",
     "output_type": "stream",
     "text": [
      "2\n"
     ]
    }
   ],
   "source": [
    "a = (5**3)\n",
    "a %= 3\n",
    "print(a)"
   ]
  },
  {
   "cell_type": "markdown",
   "id": "86752aaa",
   "metadata": {},
   "source": [
    "Q. 이름을 물어보고 답하는 내용을 출력하세요."
   ]
  },
  {
   "cell_type": "code",
   "execution_count": 11,
   "id": "a2950786",
   "metadata": {},
   "outputs": [
    {
     "name": "stdout",
     "output_type": "stream",
     "text": [
      "이름을 입력하세요 : 조현정\n"
     ]
    }
   ],
   "source": [
    "name = input('이름을 입력하세요 : ')"
   ]
  },
  {
   "cell_type": "markdown",
   "id": "10fe4235",
   "metadata": {},
   "source": [
    "Q. 숫자 3개를 입력해서 첫번째 숫자를 두번째 숫자 승한 뒤에 세번째 숫자로 나누었을 때 몫을 구하세요."
   ]
  },
  {
   "cell_type": "code",
   "execution_count": 13,
   "id": "62941881",
   "metadata": {},
   "outputs": [
    {
     "name": "stdout",
     "output_type": "stream",
     "text": [
      "숫자1 입력 : 2\n",
      "숫자2 입력 : 3\n",
      "숫자3 입력 : 5\n",
      "1\n"
     ]
    }
   ],
   "source": [
    "n1 = int(input('숫자1 입력 : '))\n",
    "n2 = int(input('숫자2 입력 : '))\n",
    "n3 = int(input('숫자3 입력 : '))\n",
    "\n",
    "print((n1**n2)//n3)"
   ]
  },
  {
   "cell_type": "markdown",
   "id": "fbf40d0d",
   "metadata": {},
   "source": [
    "Q. 1부터 5까지 입력해서 12345를 출력하세요."
   ]
  },
  {
   "cell_type": "code",
   "execution_count": 15,
   "id": "2aee9f17",
   "metadata": {},
   "outputs": [
    {
     "name": "stdout",
     "output_type": "stream",
     "text": [
      "숫자1 입력 : 1\n",
      "숫자2 입력 : 2\n",
      "숫자3 입력 : 3\n",
      "숫자4 입력 : 4\n",
      "숫자5 입력 : 5\n",
      "12345\n"
     ]
    }
   ],
   "source": [
    "n1 = input('숫자1 입력 : ')\n",
    "n2 = input('숫자2 입력 : ')\n",
    "n3 = input('숫자3 입력 : ')\n",
    "n4 = input('숫자4 입력 : ')\n",
    "n5 = input('숫자5 입력 : ')\n",
    "\n",
    "print(n1+n2+n3+n4+n5)"
   ]
  },
  {
   "cell_type": "markdown",
   "id": "ed135c32",
   "metadata": {},
   "source": [
    "Q. [0,1,2,3,4,5,6,7,8,9,'a','b','c']에서 9와 'a'를 삭제 후 리스트로 출력하세요."
   ]
  },
  {
   "cell_type": "code",
   "execution_count": 18,
   "id": "c6e84352",
   "metadata": {},
   "outputs": [
    {
     "name": "stdout",
     "output_type": "stream",
     "text": [
      "[0, 1, 2, 3, 4, 5, 6, 7, 8, 'b', 'c']\n"
     ]
    }
   ],
   "source": [
    "list1 = [0,1,2,3,4,5,6,7,8,9,'a','b','c']\n",
    "list1.remove(9)\n",
    "list1.remove('a')\n",
    "print(list1)"
   ]
  },
  {
   "cell_type": "markdown",
   "id": "08c48b5c",
   "metadata": {},
   "source": [
    "Q. [0,1,2,3,4,5,6,7,8,'b','c']에서 'c'를 삭제 후 출력하세요."
   ]
  },
  {
   "cell_type": "code",
   "execution_count": 19,
   "id": "9ac3cb8f",
   "metadata": {},
   "outputs": [
    {
     "name": "stdout",
     "output_type": "stream",
     "text": [
      "[0, 1, 2, 3, 4, 5, 6, 7, 8, 'b']\n"
     ]
    }
   ],
   "source": [
    "list1 = [0,1,2,3,4,5,6,7,8,'b','c']\n",
    "list1.remove('c')\n",
    "print(list1)"
   ]
  },
  {
   "cell_type": "markdown",
   "id": "816fa951",
   "metadata": {},
   "source": [
    "Q. [4,8,5,4,8,4,3,9,1,9]를 내림차순으로 정렬하세요."
   ]
  },
  {
   "cell_type": "code",
   "execution_count": 28,
   "id": "a0bf5a5b",
   "metadata": {},
   "outputs": [
    {
     "name": "stdout",
     "output_type": "stream",
     "text": [
      "[9, 9, 8, 8, 5, 4, 4, 4, 3, 1]\n"
     ]
    }
   ],
   "source": [
    "list1 = [4,8,5,4,8,4,3,9,1,9]\n",
    "r_list1 = sorted(list1, reverse=True)\n",
    "print(r_list1)"
   ]
  },
  {
   "cell_type": "markdown",
   "id": "ec86a0c7",
   "metadata": {},
   "source": [
    "Q. 태어난 연도를 입력받아 띠를 출력하는 프로그램을 작성하세요.\n",
    "원숭이, 닭, 개, 돼지, 쥐, 소, 범, 토끼, 용, 뱀, 말, 양띠"
   ]
  },
  {
   "cell_type": "code",
   "execution_count": 33,
   "id": "5a2a7c68",
   "metadata": {},
   "outputs": [
    {
     "name": "stdout",
     "output_type": "stream",
     "text": [
      "태어난 연도를 입력하세요 : 1992\n",
      "원숭이 띠\n"
     ]
    }
   ],
   "source": [
    "birth_yr = int(input('태어난 연도를 입력하세요 : '))\n",
    "\n",
    "if birth_yr%12==0:\n",
    "    print('원숭이 띠')\n",
    "elif birth_yr%12==1:    \n",
    "    print('닭 띠')\n",
    "elif birth_yr%12==2:  \n",
    "    print('개 띠')\n",
    "elif birth_yr%12==3:  \n",
    "    print('돼지 띠')\n",
    "elif birth_yr%12==4:  \n",
    "    print('쥐 띠')\n",
    "elif birth_yr%12==5:  \n",
    "    print('소 띠')\n",
    "elif birth_yr%12==6:  \n",
    "    print('범 띠')\n",
    "elif birth_yr%12==7:  \n",
    "    print('토끼 띠')\n",
    "elif birth_yr%12==8:  \n",
    "    print('용 띠')\n",
    "elif birth_yr%12==9:  \n",
    "    print('뱀 띠')\n",
    "elif birth_yr%12==10:  \n",
    "    print('말 띠')\n",
    "else:\n",
    "    print('양 띠')"
   ]
  },
  {
   "cell_type": "markdown",
   "id": "144e8849",
   "metadata": {},
   "source": [
    "Q. 계절 구분 프로그램\n",
    "\n",
    "- 시나리오 : 3\\~5월은 봄, 6\\~8월은 여름, 9\\~11월은 가을, 12\\~2월은 겨울로 구분. 지금 계절을 알려주는 프로그램\n",
    "- 각 계절별 출력 멘트는 계절에 맞게 창작\n",
    "- if 조건문으로 datetime 모듈을 import해서 datetime.now 함수를 사용해서 작성"
   ]
  },
  {
   "cell_type": "code",
   "execution_count": 39,
   "id": "cac658e6",
   "metadata": {},
   "outputs": [
    {
     "name": "stdout",
     "output_type": "stream",
     "text": [
      "겨울\n"
     ]
    }
   ],
   "source": [
    "import datetime\n",
    "\n",
    "date = datetime.datetime.now()\n",
    "\n",
    "if date.month in [3,4,5]:\n",
    "    print('봄')\n",
    "elif date.month in [6,7,8]:\n",
    "    print('여름')\n",
    "elif date.month in [9,10,11]:\n",
    "    print('가을')\n",
    "else:\n",
    "    print('겨울')"
   ]
  }
 ],
 "metadata": {
  "kernelspec": {
   "display_name": "Python 3 (ipykernel)",
   "language": "python",
   "name": "python3"
  },
  "language_info": {
   "codemirror_mode": {
    "name": "ipython",
    "version": 3
   },
   "file_extension": ".py",
   "mimetype": "text/x-python",
   "name": "python",
   "nbconvert_exporter": "python",
   "pygments_lexer": "ipython3",
   "version": "3.8.8"
  }
 },
 "nbformat": 4,
 "nbformat_minor": 5
}
