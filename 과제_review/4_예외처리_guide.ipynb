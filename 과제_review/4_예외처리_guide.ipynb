{
 "cells": [
  {
   "cell_type": "markdown",
   "id": "b0f3d63e",
   "metadata": {},
   "source": [
    "# 6/28"
   ]
  },
  {
   "cell_type": "code",
   "execution_count": 1,
   "id": "688cec89",
   "metadata": {},
   "outputs": [
    {
     "ename": "SyntaxError",
     "evalue": "EOL while scanning string literal (<ipython-input-1-65cebcd8e441>, line 4)",
     "output_type": "error",
     "traceback": [
      "\u001b[1;36m  File \u001b[1;32m\"<ipython-input-1-65cebcd8e441>\"\u001b[1;36m, line \u001b[1;32m4\u001b[0m\n\u001b[1;33m    print('예외를 강제로 발생)\u001b[0m\n\u001b[1;37m                      ^\u001b[0m\n\u001b[1;31mSyntaxError\u001b[0m\u001b[1;31m:\u001b[0m EOL while scanning string literal\n"
     ]
    }
   ],
   "source": [
    "# 구문 오류 : 프로그램 실행 전에 발생하는 오류\n",
    "# 예외 또는 런타임 오류 :\n",
    "\n",
    "print('예외를 강제로 발생)\n",
    "### SyntaxError : 구문에러"
   ]
  },
  {
   "cell_type": "code",
   "execution_count": 2,
   "id": "2a9dcca3",
   "metadata": {
    "scrolled": true
   },
   "outputs": [
    {
     "name": "stdout",
     "output_type": "stream",
     "text": [
      "정수 입력> s\n"
     ]
    },
    {
     "ename": "ValueError",
     "evalue": "invalid literal for int() with base 10: 's'",
     "output_type": "error",
     "traceback": [
      "\u001b[1;31m---------------------------------------------------------------------------\u001b[0m",
      "\u001b[1;31mValueError\u001b[0m                                Traceback (most recent call last)",
      "\u001b[1;32m<ipython-input-2-1dc4316cc3de>\u001b[0m in \u001b[0;36m<module>\u001b[1;34m\u001b[0m\n\u001b[0;32m      1\u001b[0m \u001b[1;31m# 정수를 입력하지 않은 경우 예외 발생\u001b[0m\u001b[1;33m\u001b[0m\u001b[1;33m\u001b[0m\u001b[1;33m\u001b[0m\u001b[0m\n\u001b[0;32m      2\u001b[0m \u001b[1;33m\u001b[0m\u001b[0m\n\u001b[1;32m----> 3\u001b[1;33m \u001b[0mnum_input\u001b[0m \u001b[1;33m=\u001b[0m \u001b[0mint\u001b[0m\u001b[1;33m(\u001b[0m\u001b[0minput\u001b[0m\u001b[1;33m(\u001b[0m\u001b[1;34m'정수 입력> '\u001b[0m\u001b[1;33m)\u001b[0m\u001b[1;33m)\u001b[0m\u001b[1;33m\u001b[0m\u001b[1;33m\u001b[0m\u001b[0m\n\u001b[0m\u001b[0;32m      4\u001b[0m \u001b[0mprint\u001b[0m\u001b[1;33m(\u001b[0m\u001b[1;34m'원의 반지름: '\u001b[0m\u001b[1;33m,\u001b[0m\u001b[0mnum_input\u001b[0m\u001b[1;33m)\u001b[0m\u001b[1;33m\u001b[0m\u001b[1;33m\u001b[0m\u001b[0m\n\u001b[0;32m      5\u001b[0m \u001b[1;31m### ValueError (위에 int처리 적어놨는데 숫자 아닌 다른 것이 입력되서 에러남)\u001b[0m\u001b[1;33m\u001b[0m\u001b[1;33m\u001b[0m\u001b[1;33m\u001b[0m\u001b[0m\n",
      "\u001b[1;31mValueError\u001b[0m: invalid literal for int() with base 10: 's'"
     ]
    }
   ],
   "source": [
    "# 정수를 입력하지 않은 경우 예외 발생\n",
    "\n",
    "num_input = int(input('정수 입력> '))\n",
    "print('원의 반지름: ',num_input)\n",
    "### ValueError (위에 int처리 적어놨는데 숫자 아닌 다른 것이 입력되서 에러남)"
   ]
  },
  {
   "cell_type": "code",
   "execution_count": 3,
   "id": "3432a95b",
   "metadata": {},
   "outputs": [
    {
     "name": "stdout",
     "output_type": "stream",
     "text": [
      "정수 입력> s\n",
      "정수를 입력하지 않았습니다.\n"
     ]
    }
   ],
   "source": [
    "# 조건문으로 예외 처리\n",
    "\n",
    "user_input = input('정수 입력> ')\n",
    "if user_input.isdigit():\n",
    "    num_input=int(user_input)\n",
    "    print('원의 반지름: ',num_input)\n",
    "else:\n",
    "    print('정수를 입력하지 않았습니다.')"
   ]
  },
  {
   "cell_type": "code",
   "execution_count": 4,
   "id": "08142d8a",
   "metadata": {
    "scrolled": true
   },
   "outputs": [
    {
     "name": "stdout",
     "output_type": "stream",
     "text": [
      "안녕하세요\n"
     ]
    },
    {
     "ename": "NameError",
     "evalue": "name 'param' is not defined",
     "output_type": "error",
     "traceback": [
      "\u001b[1;31m---------------------------------------------------------------------------\u001b[0m",
      "\u001b[1;31mNameError\u001b[0m                                 Traceback (most recent call last)",
      "\u001b[1;32m<ipython-input-4-800fa44d4973>\u001b[0m in \u001b[0;36m<module>\u001b[1;34m\u001b[0m\n\u001b[0;32m      1\u001b[0m \u001b[0mprint\u001b[0m\u001b[1;33m(\u001b[0m\u001b[1;34m'안녕하세요'\u001b[0m\u001b[1;33m)\u001b[0m\u001b[1;33m\u001b[0m\u001b[1;33m\u001b[0m\u001b[0m\n\u001b[1;32m----> 2\u001b[1;33m \u001b[0mprint\u001b[0m\u001b[1;33m(\u001b[0m\u001b[0mparam\u001b[0m\u001b[1;33m)\u001b[0m\u001b[1;33m\u001b[0m\u001b[1;33m\u001b[0m\u001b[0m\n\u001b[0m\u001b[0;32m      3\u001b[0m \u001b[1;33m\u001b[0m\u001b[0m\n\u001b[0;32m      4\u001b[0m \u001b[1;31m### NameError (param 은 없는 변수라 에러 발생)\u001b[0m\u001b[1;33m\u001b[0m\u001b[1;33m\u001b[0m\u001b[1;33m\u001b[0m\u001b[0m\n",
      "\u001b[1;31mNameError\u001b[0m: name 'param' is not defined"
     ]
    }
   ],
   "source": [
    "print('안녕하세요')\n",
    "print(param)\n",
    "\n",
    "### NameError (param 은 없는 변수라 에러 발생)"
   ]
  },
  {
   "cell_type": "code",
   "execution_count": 5,
   "id": "a283d625",
   "metadata": {},
   "outputs": [
    {
     "name": "stdout",
     "output_type": "stream",
     "text": [
      "안녕하세요\n",
      "예외가 발생했습니다.\n"
     ]
    }
   ],
   "source": [
    "# 프로그램이 실행되는 동안 오류가 발생하면 프로그램이 더 이상 진행될 수 없는 상태가 되는데,\n",
    "# 이를 예외라고 함\n",
    "# 예외가 발생해도 프로그램을 중단하지 않고 예외에 대한 적절한 처리를 하여 \n",
    "# 프로그램을 계속 진행하도록 하는 구문이 try ~ except\n",
    "\n",
    "try:\n",
    "    print('안녕하세요')\n",
    "    print(param)\n",
    "except:\n",
    "    print('예외가 발생했습니다.')"
   ]
  },
  {
   "cell_type": "code",
   "execution_count": 6,
   "id": "f74b8e53",
   "metadata": {},
   "outputs": [
    {
     "name": "stdout",
     "output_type": "stream",
     "text": [
      "예외가 발생했습니다.\n"
     ]
    }
   ],
   "source": [
    "### 위에서 에러가 나면 바로 except로 넘어가서 뒤에는 실행이 안됨!\n",
    "### try, except 에서는 순서대로 진행.\n",
    "### 둘 중 하나라도 에러가 있으면 except로 넘어갈 수 있게 하는 방법 생각해보기!\n",
    "\n",
    "try:    \n",
    "    print(param)\n",
    "    print('안녕하세요')\n",
    "except:\n",
    "    print('예외가 발생했습니다.')"
   ]
  },
  {
   "cell_type": "code",
   "execution_count": 7,
   "id": "6d99044d",
   "metadata": {},
   "outputs": [
    {
     "name": "stdout",
     "output_type": "stream",
     "text": [
      "안녕하세요\n",
      "예외가 발생하지 않았습니다.\n"
     ]
    }
   ],
   "source": [
    "try:    \n",
    "    print('안녕하세요')\n",
    "except:\n",
    "    print('예외가 발생했습니다.')\n",
    "else:\n",
    "    print('예외가 발생하지 않았습니다.')"
   ]
  },
  {
   "cell_type": "code",
   "execution_count": 8,
   "id": "cbdffc6a",
   "metadata": {},
   "outputs": [
    {
     "name": "stdout",
     "output_type": "stream",
     "text": [
      "예외가 발생했습니다.\n"
     ]
    }
   ],
   "source": [
    "try:    \n",
    "    print(안녕하세요)\n",
    "except:\n",
    "    print('예외가 발생했습니다.')\n",
    "else:\n",
    "    print('예외가 발생하지 않았습니다.')"
   ]
  },
  {
   "cell_type": "code",
   "execution_count": 9,
   "id": "104a4aee",
   "metadata": {},
   "outputs": [
    {
     "ename": "SyntaxError",
     "evalue": "EOL while scanning string literal (<ipython-input-9-1b8502d718e4>, line 3)",
     "output_type": "error",
     "traceback": [
      "\u001b[1;36m  File \u001b[1;32m\"<ipython-input-9-1b8502d718e4>\"\u001b[1;36m, line \u001b[1;32m3\u001b[0m\n\u001b[1;33m    print(안녕하세요')\u001b[0m\n\u001b[1;37m                 ^\u001b[0m\n\u001b[1;31mSyntaxError\u001b[0m\u001b[1;31m:\u001b[0m EOL while scanning string literal\n"
     ]
    }
   ],
   "source": [
    "### 구문에러는 실행이 안됨\n",
    "try:    \n",
    "    print(안녕하세요')\n",
    "except:\n",
    "    print('예외가 발생했습니다.')\n",
    "else:\n",
    "    print('예외가 발생하지 않았습니다.')"
   ]
  },
  {
   "cell_type": "code",
   "execution_count": 10,
   "id": "9c1a3858",
   "metadata": {},
   "outputs": [
    {
     "name": "stdout",
     "output_type": "stream",
     "text": [
      "안녕하세요\n",
      "예외가 발생했습니다.\n",
      "무조건 실행하는 코드\n"
     ]
    }
   ],
   "source": [
    "try:    \n",
    "    print('안녕하세요')\n",
    "    print(pram)\n",
    "except:\n",
    "    print('예외가 발생했습니다.')\n",
    "finally:\n",
    "    print('무조건 실행하는 코드')"
   ]
  },
  {
   "cell_type": "code",
   "execution_count": 11,
   "id": "ff5fccfe",
   "metadata": {},
   "outputs": [
    {
     "name": "stdout",
     "output_type": "stream",
     "text": [
      "name 'pram' is not defined\n"
     ]
    }
   ],
   "source": [
    "# 코드에서 예외 발생 내용을 확인하고자 하는 경우 처리 방법\n",
    "\n",
    "try:    \n",
    "    print(pram)\n",
    "except Exception as e:\n",
    "    print(e)"
   ]
  },
  {
   "cell_type": "code",
   "execution_count": 12,
   "id": "f0f050c9",
   "metadata": {},
   "outputs": [
    {
     "name": "stdout",
     "output_type": "stream",
     "text": [
      "1\n",
      "2\n",
      "3\n",
      "4\n",
      "5\n",
      "6\n",
      "7\n",
      "사용자에 의해 프로그램이 중단되었습니다.\n"
     ]
    }
   ],
   "source": [
    "import time\n",
    "count = 1\n",
    "try:\n",
    "    while True:\n",
    "        print(count)\n",
    "        count += 1\n",
    "        time.sleep(0.5)\n",
    "except KeyboardInterrupt:\n",
    "    print('사용자에 의해 프로그램이 중단되었습니다.')"
   ]
  },
  {
   "cell_type": "code",
   "execution_count": 13,
   "id": "3e34a56d",
   "metadata": {},
   "outputs": [
    {
     "name": "stdout",
     "output_type": "stream",
     "text": [
      "['52', '273', '32', '103']\n"
     ]
    }
   ],
   "source": [
    "# Q. 리스트 ['52','273','32','문자','103']에서 숫자 부분만 출력하세요(예외 처리 수행)\n",
    "list_input = ['52','273','32','문자','103']\n",
    "\n",
    "list_num = []\n",
    "\n",
    "for i in list_input:\n",
    "    try:\n",
    "        int(i)\n",
    "        list_num.append(i)\n",
    "    except:\n",
    "        pass\n",
    "    \n",
    "print(list_num)"
   ]
  },
  {
   "cell_type": "code",
   "execution_count": 27,
   "id": "3da26b24",
   "metadata": {},
   "outputs": [
    {
     "name": "stdout",
     "output_type": "stream",
     "text": [
      "정수를 입력하세요: 2\n",
      "정수\n"
     ]
    }
   ],
   "source": [
    "# Q. 정수를 입력하면 '정수', 정수가 아니면 '정수 아님'을 출력하세요.\n",
    "\n",
    "try:\n",
    "    num_input = int(input(\"정수를 입력하세요: \"))\n",
    "except:\n",
    "    print('정수 아님')\n",
    "else:\n",
    "    print('정수')"
   ]
  },
  {
   "cell_type": "code",
   "execution_count": 8,
   "id": "46e4aae1",
   "metadata": {
    "scrolled": true
   },
   "outputs": [
    {
     "name": "stdout",
     "output_type": "stream",
     "text": [
      "정수를 입력하세요: 가\n",
      "가\n",
      "정수아님\n",
      "프로그램 종료\n"
     ]
    }
   ],
   "source": [
    "# Q. 정수를 입력하면 '입력 정수' > '예외 발생하지 않음' > '프로그램 종료'\n",
    "# 정수가 아니면 '입력 값' > '정수 아님' > '프로그램 종료' 순서대로 출력하세요.\n",
    "\n",
    "try:\n",
    "    num_input1 = input('정수를 입력하세요: ')\n",
    "    print(int(num_input1))\n",
    "    print('예외 발생하지 않음')\n",
    "except:\n",
    "    print(num_input1)\n",
    "    print('정수아님')\n",
    "finally:\n",
    "    print('프로그램 종료')"
   ]
  },
  {
   "cell_type": "code",
   "execution_count": 14,
   "id": "5a124892",
   "metadata": {},
   "outputs": [
    {
     "name": "stdout",
     "output_type": "stream",
     "text": [
      "프로그램이 시작되었습니다.\n",
      "try 구문이 시작되었습니다.\n",
      "finally 구문이 실행되었습니다.\n",
      "프로그램이 종료되었습니다.\n"
     ]
    }
   ],
   "source": [
    "# Q. 아래 코드에서 try ~ except ~ finally 를 사용하여 \n",
    "# 'finally 구문이 실행되었습니다'를 출력하세요.\n",
    "\n",
    "print('프로그램이 시작되었습니다.')\n",
    "while True:\n",
    "    try:\n",
    "        print('try 구문이 시작되었습니다.')\n",
    "        break\n",
    "        print('try 구문의 키워드 뒤입니다.')\n",
    "    except:\n",
    "        print('except 구문이 실행되었습니다.')\n",
    "    finally:\n",
    "        print('finally 구문이 실행되었습니다.')\n",
    "    print('while 반복문의 마지막 줄입니다.')\n",
    "print('프로그램이 종료되었습니다.')"
   ]
  },
  {
   "cell_type": "markdown",
   "id": "b0855641",
   "metadata": {},
   "source": [
    "위에 문제:  \n",
    "try 에서 break 가 걸렸음에도 finally 가 실행된걸 보기 위한 문제  \n",
    "'while 반복문의 마지막 줄입니다.' 도 while 문 안에 있으니, break 같이 걸림!"
   ]
  },
  {
   "cell_type": "code",
   "execution_count": 15,
   "id": "349d5edf",
   "metadata": {},
   "outputs": [
    {
     "name": "stdout",
     "output_type": "stream",
     "text": [
      "정수 입력> 4\n",
      "원의 반지름: 4\n",
      "원의 둘레: 25.12\n",
      "원의 넓이: 50.24\n"
     ]
    }
   ],
   "source": [
    "# Q. 숫자 대신 문자를 입력 시 예외가 발생되는데 아래 코드를 수정해서\n",
    "# 예외 객체의 자료형과 예외 객체 자체를 출력하세요.\n",
    "\n",
    "try:\n",
    "    num_input = int(input('정수 입력> '))\n",
    "    print('원의 반지름:',num_input)\n",
    "    print('원의 둘레:', 2*3.14*num_input)\n",
    "    print('원의 넓이:', 3.14*num_input*num_input)\n",
    "except:\n",
    "    print('예외 발생')"
   ]
  },
  {
   "cell_type": "code",
   "execution_count": 16,
   "id": "98b58920",
   "metadata": {},
   "outputs": [
    {
     "name": "stdout",
     "output_type": "stream",
     "text": [
      "정수 입력> 가\n",
      "<class 'ValueError'>\n",
      "예외 발생: invalid literal for int() with base 10: '가'\n"
     ]
    }
   ],
   "source": [
    "# Q. 숫자 대신 문자를 입력 시 예외가 발생되는데 아래 코드를 수정해서\n",
    "# 예외 객체의 자료형과 예외 객체 자체를 출력하세요.\n",
    "\n",
    "try:\n",
    "    num_input = int(input('정수 입력> '))\n",
    "    print('원의 반지름:',num_input)\n",
    "    print('원의 둘레:', 2*3.14*num_input)\n",
    "    print('원의 넓이:', 3.14*num_input*num_input)\n",
    "except Exception as E:\n",
    "    print(type(E))\n",
    "    print('예외 발생:', E)"
   ]
  }
 ],
 "metadata": {
  "kernelspec": {
   "display_name": "Python 3",
   "language": "python",
   "name": "python3"
  },
  "language_info": {
   "codemirror_mode": {
    "name": "ipython",
    "version": 3
   },
   "file_extension": ".py",
   "mimetype": "text/x-python",
   "name": "python",
   "nbconvert_exporter": "python",
   "pygments_lexer": "ipython3",
   "version": "3.8.3"
  }
 },
 "nbformat": 4,
 "nbformat_minor": 5
}
