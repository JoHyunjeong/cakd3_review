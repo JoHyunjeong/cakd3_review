{
 "cells": [
  {
   "cell_type": "code",
   "execution_count": 5,
   "id": "43e22d6b",
   "metadata": {},
   "outputs": [],
   "source": [
    "import tkinter\n",
    "import random\n",
    "import time\n",
    "\n",
    "def click_button():\n",
    "    num = entry.get()\n",
    "    if num == \"\" :\n",
    "        return\n",
    "    entry.delete(0, tkinter.END)\n",
    "    name_list = ['황잔디', '노한별', '추소라', '양봄', '조새벽', '허별', '조현정',\n",
    "                 '윤민들레', '권빛나', '이민들레', '유하나', '예소리', '제갈구슬',\n",
    "                 '송별빛', '배담비', '하마음', '표초롱', '김봄', '송별빛', '권라온']\n",
    "    if int(num) > len(name_list) :\n",
    "        entry.insert(tkinter.END, \"범위 초과\")\n",
    "        return\n",
    "    label2[\"text\"] = '\\n오늘의 발표 당첨자는\\n'\n",
    "    label3[\"text\"] = random.sample(name_list,int(num))\n",
    "    label4[\"text\"] = '\\n입니다!🥳🥳🥳\\n'\n",
    "    label5[\"text\"] = ''\n",
    "\n",
    "if __name__ == \"__main__\" :\n",
    "    win = tkinter.Tk()\n",
    "    win.title(\"버튼\")\n",
    "    label1 = tkinter.Label(win, text = \"< 발표자 뽑기 >\\n\", bg=\"white\")\n",
    "    label1.place(x=200, y=150)\n",
    "    entry = tkinter.Entry(win)\n",
    "    button = tkinter.Button(win, text=\"버튼 클릭\", command=click_button, bg=\"lightgrey\")\n",
    "    label2 = tkinter.Label(bg=\"white\")\n",
    "    label3 = tkinter.Label(bg=\"white\")\n",
    "    label4 = tkinter.Label(bg=\"white\")\n",
    "    label5 = tkinter.Label(bg=\"white\")\n",
    "    win.geometry(\"400x300\")\n",
    "    win.title(\"발표자 뽑기\")\n",
    "    win.option_add(\"Font\",\"맑은고딕 40\")\n",
    "    win.configure(bg=\"white\")\n",
    "    label1.pack()\n",
    "    entry.pack()\n",
    "    button.pack()\n",
    "    label2.pack()\n",
    "    label3.pack()\n",
    "    label4.pack()\n",
    "    label5.pack()\n",
    "    win.mainloop()"
   ]
  },
  {
   "cell_type": "code",
   "execution_count": null,
   "id": "bd10bab4",
   "metadata": {},
   "outputs": [],
   "source": []
  }
 ],
 "metadata": {
  "kernelspec": {
   "display_name": "Python 3 (ipykernel)",
   "language": "python",
   "name": "python3"
  },
  "language_info": {
   "codemirror_mode": {
    "name": "ipython",
    "version": 3
   },
   "file_extension": ".py",
   "mimetype": "text/x-python",
   "name": "python",
   "nbconvert_exporter": "python",
   "pygments_lexer": "ipython3",
   "version": "3.8.8"
  }
 },
 "nbformat": 4,
 "nbformat_minor": 5
}
