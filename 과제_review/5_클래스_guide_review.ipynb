{
 "cells": [
  {
   "cell_type": "markdown",
   "id": "61f68190",
   "metadata": {},
   "source": [
    "# 과제_0628"
   ]
  },
  {
   "cell_type": "markdown",
   "id": "e6ea7294",
   "metadata": {},
   "source": [
    "#### 클래스 과제"
   ]
  },
  {
   "cell_type": "markdown",
   "id": "ae7e08c6",
   "metadata": {},
   "source": [
    "Q1. 기본가격 1000원인 3개의 상품에 대하여 임의의 추가 가격을 인수로 대입 시 더한 가격을 산출하세요(클래스를 이용)"
   ]
  },
  {
   "cell_type": "code",
   "execution_count": 1,
   "id": "99934fb5",
   "metadata": {},
   "outputs": [
    {
     "name": "stdout",
     "output_type": "stream",
     "text": [
      "a: 2000원\n",
      "b: 4000원\n",
      "c: 6000원\n",
      "전체 가격은 12000원 입니다.\n"
     ]
    }
   ],
   "source": [
    "class NewPrice:\n",
    "    def add_price(self,a,b,c):\n",
    "        self.a=1000+a\n",
    "        self.b=1000+b\n",
    "        self.c=1000+c\n",
    "        return \"a: {}원\\nb: {}원\\nc: {}원\".format(self.a,self.b,self.c)\n",
    "    def total_price(self):\n",
    "        return \"전체 가격은 {}원 입니다.\".format(self.a+self.b+self.c)\n",
    "    \n",
    "price = NewPrice()\n",
    "print(price.add_price(1000,3000,5000))\n",
    "print(price.total_price())"
   ]
  },
  {
   "cell_type": "code",
   "execution_count": 2,
   "id": "d8ef25d3",
   "metadata": {},
   "outputs": [
    {
     "name": "stdout",
     "output_type": "stream",
     "text": [
      "2000\n",
      "4000\n",
      "6000\n"
     ]
    }
   ],
   "source": [
    "class NewPrice1:\n",
    "    def __init__(self):\n",
    "        self.p = 1000\n",
    "    def sum(self,p):\n",
    "        self.p += p\n",
    "        return self.p\n",
    "    \n",
    "obj1 = NewPrice1()\n",
    "obj2 = NewPrice1()\n",
    "obj3 = NewPrice1()\n",
    "print(obj1.sum(1000))\n",
    "print(obj2.sum(3000))\n",
    "print(obj3.sum(5000))"
   ]
  },
  {
   "cell_type": "markdown",
   "id": "89eea5bb",
   "metadata": {},
   "source": [
    "Q2. 기본가격 1000원인 2개의 상품에 대하여 임의의 추가 가격을 입력시 아래 두개의 방식으로 산출하세요(class 이용)\n",
    "- price1 : 기본가격 + 추가가격\n",
    "- price2 : (기본가격 + 추가가격) * 90%"
   ]
  },
  {
   "cell_type": "code",
   "execution_count": 3,
   "id": "28c8a20c",
   "metadata": {},
   "outputs": [
    {
     "name": "stdout",
     "output_type": "stream",
     "text": [
      "a 추가가격을 입력하세요> 1000\n",
      "b 추가가격을 입력하세요> 500\n",
      "a: 2000원, b: 1500원\n"
     ]
    }
   ],
   "source": [
    "# -price1 : 기본가격 + 추가가격\n",
    "\n",
    "class Price1:\n",
    "    def add_price(self):\n",
    "        self.add1=int(input(\"a 추가가격을 입력하세요> \"))\n",
    "        self.add2=int(input(\"b 추가가격을 입력하세요> \"))\n",
    "        aprice=1000+self.add1\n",
    "        bprice=1000+self.add2\n",
    "        return \"a: {}원, b: {}원\".format(aprice,bprice)\n",
    "    \n",
    "price1 = Price1()\n",
    "print(price1.add_price())"
   ]
  },
  {
   "cell_type": "code",
   "execution_count": 4,
   "id": "74feb890",
   "metadata": {},
   "outputs": [
    {
     "name": "stdout",
     "output_type": "stream",
     "text": [
      "a 추가가격을 입력하세요> 1000\n",
      "b 추가가격을 입력하세요> 500\n",
      "a: 1800원, b: 1350원\n"
     ]
    }
   ],
   "source": [
    "# - price2 : (기본가격 + 추가가격) * 90%\n",
    "\n",
    "class Price2:\n",
    "    def add_price(self):\n",
    "        self.add1=int(input(\"a 추가가격을 입력하세요> \"))\n",
    "        self.add2=int(input(\"b 추가가격을 입력하세요> \"))\n",
    "        aprice=int((1000+self.add1)*0.9)\n",
    "        bprice=int((1000+self.add2)*0.9)\n",
    "        return \"a: {}원, b: {}원\".format(aprice,bprice)\n",
    "    \n",
    "price1 = Price2()\n",
    "print(price1.add_price())"
   ]
  },
  {
   "cell_type": "code",
   "execution_count": 5,
   "id": "ca62abe2",
   "metadata": {},
   "outputs": [
    {
     "name": "stdout",
     "output_type": "stream",
     "text": [
      "2000\n",
      "4000\n",
      "6000\n",
      "2700\n",
      "6300\n",
      "9900\n"
     ]
    }
   ],
   "source": [
    "class NewPrice2:\n",
    "    def __init__(self):\n",
    "        self.p = 1000\n",
    "    def sum_1(self,p):\n",
    "        self.p += p\n",
    "        return self.p\n",
    "    def sum_90(self,p):\n",
    "        self.p +=p\n",
    "        return int(self.p*0.9)\n",
    "    \n",
    "obj4 = NewPrice2()\n",
    "obj5 = NewPrice2()\n",
    "obj6 = NewPrice2()\n",
    "print(obj4.sum_1(1000))\n",
    "print(obj5.sum_1(3000))\n",
    "print(obj6.sum_1(5000))\n",
    "print(obj4.sum_90(1000))\n",
    "print(obj5.sum_90(3000))\n",
    "print(obj6.sum_90(5000))"
   ]
  },
  {
   "cell_type": "markdown",
   "id": "fe4ac7ae",
   "metadata": {},
   "source": [
    "Q3. 임의의 클래스를 작성한 후 인스턴스를 생성하고 그것의 타입을 확인하세요."
   ]
  },
  {
   "cell_type": "code",
   "execution_count": 6,
   "id": "94af9de2",
   "metadata": {},
   "outputs": [
    {
     "name": "stdout",
     "output_type": "stream",
     "text": [
      "<class '__main__.MyClass'>\n"
     ]
    }
   ],
   "source": [
    "class MyClass:\n",
    "    pass\n",
    "\n",
    "abc=MyClass()\n",
    "print(type(abc))"
   ]
  },
  {
   "cell_type": "markdown",
   "id": "73d17399",
   "metadata": {},
   "source": [
    "Q4. 4칙 연산 기능을 포함한 Cal4 클래스(생성자 이용)를 작성하고 이 클래스를 이용하여 cal1 계산기 객체를 만든 후 두개의 수  5,3에 대한 사칙연산을 수행하세요."
   ]
  },
  {
   "cell_type": "code",
   "execution_count": 7,
   "id": "efcd5bad",
   "metadata": {},
   "outputs": [
    {
     "name": "stdout",
     "output_type": "stream",
     "text": [
      "8\n",
      "15\n",
      "2\n",
      "1.67\n"
     ]
    }
   ],
   "source": [
    "# 두 개의 값 계산\n",
    "\n",
    "class Cal4_1:\n",
    "    def __init__(self,a,b):\n",
    "        self.a = a\n",
    "        self.b = b\n",
    "        \n",
    "    def sum(self):\n",
    "        return self.a+self.b\n",
    "    def mul(self):\n",
    "        return self.a*self.b\n",
    "    def sub(self):\n",
    "        return self.a-self.b\n",
    "    def div(self):\n",
    "        if self.b==0:\n",
    "            return ZeroDivisionError\n",
    "        return round(self.a/self.b,2)\n",
    "    \n",
    "cal1=Cal4_1(5,3)\n",
    "print(cal1.sum())\n",
    "print(cal1.mul())\n",
    "print(cal1.sub())\n",
    "print(cal1.div())"
   ]
  },
  {
   "cell_type": "code",
   "execution_count": 8,
   "id": "d43888e8",
   "metadata": {},
   "outputs": [
    {
     "name": "stdout",
     "output_type": "stream",
     "text": [
      "8\n",
      "15\n",
      "2\n",
      "1.67\n"
     ]
    }
   ],
   "source": [
    "# 여러 값 계산\n",
    "\n",
    "class Cal4_2:\n",
    "    def __init__(self,*args):\n",
    "        self.args=[]\n",
    "        for i in args:\n",
    "            self.args.append(i)    \n",
    "    def sum(self):\n",
    "        result = 0\n",
    "        for i in self.args:\n",
    "            result+=i\n",
    "        return result\n",
    "    def mul(self):\n",
    "        result = 1\n",
    "        for i in self.args:\n",
    "            result*=i\n",
    "        return result\n",
    "    def sub(self):\n",
    "        for i,num in enumerate(self.args):\n",
    "            if i==0:\n",
    "                result=num\n",
    "            else:\n",
    "                result-=num\n",
    "        return result\n",
    "    def div(self):\n",
    "        for i,num in enumerate(self.args):\n",
    "            if i==0:\n",
    "                result=num\n",
    "            else:\n",
    "                if num==0:\n",
    "                    return ZeroDivisionError\n",
    "                result/=num\n",
    "        return round(result,2)\n",
    "    \n",
    "cal2=Cal4_2(5,3)\n",
    "print(cal2.sum())\n",
    "print(cal2.mul())\n",
    "print(cal2.sub())\n",
    "print(cal2.div())"
   ]
  },
  {
   "cell_type": "markdown",
   "id": "3292682b",
   "metadata": {},
   "source": [
    "Q5. 4칙 연산 기능을 포함한 Cal4 클래스(set 메소드 이용)를 작성하고 이 클래스를 이용하여 cal 계산기 객체를 만든 후 두개의 수를 입력하여 사칙연산을 수행한 결과를 출력하세요."
   ]
  },
  {
   "cell_type": "code",
   "execution_count": 9,
   "id": "ceae449d",
   "metadata": {},
   "outputs": [
    {
     "name": "stdout",
     "output_type": "stream",
     "text": [
      "입력1> 5\n",
      "입력2> 3\n",
      "8\n",
      "15\n",
      "2\n",
      "1.67\n"
     ]
    }
   ],
   "source": [
    "# 두 개의 값 계산\n",
    "\n",
    "class Cal4_3:\n",
    "    a=int(input(\"입력1> \"))\n",
    "    b=int(input(\"입력2> \"))\n",
    "    def setdata(self, a, b):\n",
    "        self.a = a\n",
    "        self.b = b\n",
    "    def sum(self):\n",
    "        return self.a+self.b\n",
    "    def mul(self):\n",
    "        return self.a*self.b\n",
    "    def sub(self):\n",
    "        return self.a-self.b\n",
    "    def div(self):\n",
    "        if self.b==0:\n",
    "            return ZeroDivisionError\n",
    "        return round(self.a/self.b,2)\n",
    "    \n",
    "cal=Cal4_3()\n",
    "print(cal.sum())\n",
    "print(cal.mul())\n",
    "print(cal.sub())\n",
    "print(cal.div())"
   ]
  },
  {
   "cell_type": "code",
   "execution_count": 10,
   "id": "3c72eb9a",
   "metadata": {},
   "outputs": [
    {
     "name": "stdout",
     "output_type": "stream",
     "text": [
      "10\n",
      "30\n",
      "0\n",
      "0.83\n",
      "\n"
     ]
    }
   ],
   "source": [
    "# 여러 값 계산\n",
    "\n",
    "class Cal4_4:\n",
    "    def sum(self,*args):\n",
    "        result = 0\n",
    "        for i in args:\n",
    "            result+=i\n",
    "        return result\n",
    "    def mul(self,*args):\n",
    "        result = 1\n",
    "        for i in args:\n",
    "            result*=i\n",
    "        return result\n",
    "    def sub(self,*args):\n",
    "        for i,num in enumerate(args):\n",
    "            if i==0:\n",
    "                result=num\n",
    "            else:\n",
    "                result-=num\n",
    "        return result\n",
    "    def div(self,*args):\n",
    "        for i,num in enumerate(args):\n",
    "            if i==0:\n",
    "                result=num\n",
    "            else:\n",
    "                if num==0:\n",
    "                    return ZeroDivisionError\n",
    "                result/=num\n",
    "        return round(result,2)\n",
    "    \n",
    "cal=Cal4_4()\n",
    "print(cal.sum(5,3,2))\n",
    "print(cal.mul(5,3,2))\n",
    "print(cal.sub(5,3,2))\n",
    "print(cal.div(5,3,2))\n",
    "print()"
   ]
  },
  {
   "cell_type": "markdown",
   "id": "b2c5f4c4",
   "metadata": {},
   "source": [
    "Q6. Order 클래스를 상속받아 extraOrder 클래스를 작성하고 extraCustomer의 주문가격을 다음과 같이 산출하였다.   \n",
    "ExtraOrder 클래스를 작성하세요"
   ]
  },
  {
   "cell_type": "code",
   "execution_count": 11,
   "id": "0dc5a34f",
   "metadata": {},
   "outputs": [
    {
     "name": "stdout",
     "output_type": "stream",
     "text": [
      "1000\n"
     ]
    }
   ],
   "source": [
    "class Order: \n",
    "    def __init__(self, name): \n",
    "        self.customer = 0 \n",
    "        self.name = name \n",
    "    def order(self, price): \n",
    "        self.customer += price \n",
    "        return self.customer \n",
    "    \n",
    "class ExtraOrder(Order): \n",
    "    pass\n",
    "\n",
    "extraCustomer = ExtraOrder('kevin') \n",
    "print(extraCustomer.order(1000))"
   ]
  },
  {
   "cell_type": "markdown",
   "id": "2140dedf",
   "metadata": {},
   "source": [
    "Q7. Order 클래스를 상속받아 extraOrder 클래스에서 메소드 오버라이딩하여 출력가격에 '원'이 추가되도록 출력하세요"
   ]
  },
  {
   "cell_type": "code",
   "execution_count": 12,
   "id": "62e9216c",
   "metadata": {},
   "outputs": [
    {
     "name": "stdout",
     "output_type": "stream",
     "text": [
      "Kevin의 주문가격: 1000원\n"
     ]
    }
   ],
   "source": [
    "class extraOrder(Order):\n",
    "    def order(self, price): \n",
    "        self.customer += price \n",
    "        return (\"{}의 주문가격: {}원\" .format(self.name,self.customer))\n",
    "    \n",
    "extraCustomer = extraOrder('Kevin')\n",
    "print(extraCustomer.order(1000))"
   ]
  },
  {
   "cell_type": "markdown",
   "id": "58864f26",
   "metadata": {},
   "source": [
    "Q8. 업무미팅이 2시임을 알려주는 자동 이메일을 클래스 AutoEmail을 작성하여 아래와 같이 출력하세요.  \n",
    "안녕하세요. kevin님,   \n",
    "업무미팅은 2시입니다."
   ]
  },
  {
   "cell_type": "code",
   "execution_count": 13,
   "id": "fb2b75ef",
   "metadata": {},
   "outputs": [
    {
     "name": "stdout",
     "output_type": "stream",
     "text": [
      "안녕하세요. Kevin님,\n",
      "업무미팅은 2시입니다.\n"
     ]
    }
   ],
   "source": [
    "class AutoEmail:\n",
    "    def meeting_time(self,name,time):\n",
    "        self.name=name\n",
    "        meetingtime=time\n",
    "        return \"안녕하세요. {}님,\\n업무미팅은 {}시입니다.\".format(self.name,meetingtime)\n",
    "\n",
    "mail = AutoEmail()\n",
    "print(mail.meeting_time('Kevin',2))"
   ]
  },
  {
   "cell_type": "code",
   "execution_count": 14,
   "id": "9c7c8035",
   "metadata": {},
   "outputs": [
    {
     "name": "stdout",
     "output_type": "stream",
     "text": [
      "안녕하세요. Kevin님,\n",
      "업무미팅은 2시입니다.\n",
      "안녕하세요. 권준기님,\n",
      "업무미팅은 4시입니다.\n"
     ]
    }
   ],
   "source": [
    "class AutoEmail1:\n",
    "    def __init__(self,name,time):\n",
    "        self.name=name\n",
    "        self.time=time\n",
    "    def massage(self):\n",
    "        return \"안녕하세요. {}님,\\n업무미팅은 {}시입니다.\".format(self.name,self.time)\n",
    "\n",
    "케빈 = AutoEmail1('Kevin',2)\n",
    "권준기 = AutoEmail1('권준기',4)\n",
    "print(케빈.massage())\n",
    "print(권준기.massage())"
   ]
  },
  {
   "cell_type": "markdown",
   "id": "f3042665",
   "metadata": {},
   "source": [
    "#### 날짜/시간 과제"
   ]
  },
  {
   "cell_type": "markdown",
   "id": "7b994268",
   "metadata": {},
   "source": [
    "Time 함수  \n",
    "- time.time() : 1970년 1월 1일 0시 0분 0초를 기준으로 지난 시간을 초 단위로 돌려줌.  \n",
    "(ex) 1624888798.546892  \n",
    "- time.localtime() : time.time()이 돌려준 실수 값을 사용해서 연도,월,일,시,분,초의 형태로 바꾸어 줌.  \n",
    "(ex) time.struct_time(tm_year=2021, tm_mon=6, tm_mday=28, tm_hour=23, tm_min=0, tm_sec=10, tm_wday=0, tm_yday=179, tm_isdst=0)  \n",
    "- time.asctime() : time.localtime()에서 반환된 튜플 형태의 값을 날짜와 시간을 알아보기 쉬운 형태로 돌려줌. (ex) Mon Jun 28 23:00:22 2021  \n",
    "- time.ctime() : time.asctime(time.localtime(time.time()))과 결과가 같으나, 간편하게 표시할 수 있음. 단, 현재 시간만을 돌려줌.  \n",
    "(ex) Mon Jun 28 23:02:13 2021  \n",
    "- time.strftime('출력할 형식 포맷 코드', time.localtime(time.time())) : 여러가지 포맷 코드를 사용하여 시간에 관계된 것을 세밀하게 표현할 수 있음. (점프투 파이썬 p.254 참고)  "
   ]
  },
  {
   "cell_type": "markdown",
   "id": "9092c6bc",
   "metadata": {},
   "source": [
    "Q1. 1609160537.371015을 \"Sat Jun 26 08:35:03 2021\" 포멧으로 출력하세요."
   ]
  },
  {
   "cell_type": "code",
   "execution_count": 15,
   "id": "49c78cd3",
   "metadata": {},
   "outputs": [
    {
     "data": {
      "text/plain": [
       "'Mon Dec 28 22:02:17 2020'"
      ]
     },
     "execution_count": 15,
     "metadata": {},
     "output_type": "execute_result"
    }
   ],
   "source": [
    "import time\n",
    "t = 1609160537.371015\n",
    "time.ctime(t)"
   ]
  },
  {
   "cell_type": "markdown",
   "id": "1d525bfb",
   "metadata": {},
   "source": [
    "Q2. 현재 날짜와 시간을 \"Sat Jun 26 08:35:03 2021\" 포멧으로 출력하세요."
   ]
  },
  {
   "cell_type": "code",
   "execution_count": 16,
   "id": "8d47528b",
   "metadata": {},
   "outputs": [
    {
     "data": {
      "text/plain": [
       "'Wed Dec 29 17:44:23 2021'"
      ]
     },
     "execution_count": 16,
     "metadata": {},
     "output_type": "execute_result"
    }
   ],
   "source": [
    "import time\n",
    "time.ctime(time.time())"
   ]
  },
  {
   "cell_type": "markdown",
   "id": "8a2f0ee5",
   "metadata": {},
   "source": [
    "Q3. 현재 시간을 년-월-일 시:분:초로 출력하세요."
   ]
  },
  {
   "cell_type": "code",
   "execution_count": 17,
   "id": "c90379f6",
   "metadata": {},
   "outputs": [
    {
     "data": {
      "text/plain": [
       "'2021-12-29 17:44:23'"
      ]
     },
     "execution_count": 17,
     "metadata": {},
     "output_type": "execute_result"
    }
   ],
   "source": [
    "import time\n",
    "t = time.time()\n",
    "# time.strftime('%Y-%m-%d %H:%M:%S',time.localtime(t))\n",
    "time.strftime('%Y-%m-%d %X',time.localtime(t))"
   ]
  },
  {
   "cell_type": "markdown",
   "id": "0849a642",
   "metadata": {},
   "source": [
    "Q4. 올해 경과된 날짜수 계산하세요"
   ]
  },
  {
   "cell_type": "code",
   "execution_count": 18,
   "id": "6fc14458",
   "metadata": {},
   "outputs": [
    {
     "data": {
      "text/plain": [
       "'363'"
      ]
     },
     "execution_count": 18,
     "metadata": {},
     "output_type": "execute_result"
    }
   ],
   "source": [
    "import time\n",
    "t = time.time()\n",
    "time.strftime('%j',time.localtime(t))"
   ]
  },
  {
   "cell_type": "markdown",
   "id": "50eb9dca",
   "metadata": {},
   "source": [
    "Q5. 현재 요일을 \"2021-6-26 오늘은 토요일입니다.\"와 같은 형식으로 출력하세요."
   ]
  },
  {
   "cell_type": "code",
   "execution_count": 19,
   "id": "d7ac9aa7",
   "metadata": {},
   "outputs": [
    {
     "name": "stdout",
     "output_type": "stream",
     "text": [
      "2021-12-29 오늘은 수요일입니다.\n"
     ]
    }
   ],
   "source": [
    "import time\n",
    "\n",
    "days=['일요일','월요일','화요일','수요일','목요일','금요일','토요일']\n",
    "day = int(time.strftime('%w', time.localtime(time.time())))\n",
    "\n",
    "print(time.strftime('%Y-%m-%d', time.localtime(time.time())),'오늘은 {}입니다.'.format(days[day]))\n",
    "\n",
    "### time 이용해서 요일 불러오면 0:일요일 ~ 6:토요일"
   ]
  },
  {
   "cell_type": "code",
   "execution_count": 20,
   "id": "d26c51a5",
   "metadata": {},
   "outputs": [
    {
     "name": "stdout",
     "output_type": "stream",
     "text": [
      "2021-12-29 오늘은 수요일입니다.\n"
     ]
    }
   ],
   "source": [
    "import datetime\n",
    "\n",
    "now=datetime.datetime.now()\n",
    "days=['월요일','화요일','수요일','목요일','금요일','토요일','일요일']\n",
    "day = now.weekday()\n",
    "\n",
    "print('{}-{}-{} 오늘은 {}입니다.'.format(now.year,now.month,now.day,days[day]))\n",
    "\n",
    "### datetime 이용해서 요일 불러오면 0:월요일 ~ 6:일요일"
   ]
  },
  {
   "cell_type": "markdown",
   "id": "1f1cd99e",
   "metadata": {},
   "source": [
    "Q6. 1000 밀리초(ms) = 1초  \n",
    "1에서 백만까지 더하는데 걸리는 프로그램 실행 시간을 밀리초(ms) 단위로 구하세요."
   ]
  },
  {
   "cell_type": "code",
   "execution_count": 21,
   "id": "f7201274",
   "metadata": {},
   "outputs": [
    {
     "name": "stdout",
     "output_type": "stream",
     "text": [
      "CPU times: user 49.7 ms, sys: 772 µs, total: 50.5 ms\n",
      "Wall time: 49.9 ms\n"
     ]
    }
   ],
   "source": [
    "def cal5():\n",
    "    result = 0\n",
    "    for i in range(1,1000001):\n",
    "        result+=i\n",
    "    return result\n",
    "\n",
    "%time a=cal5()"
   ]
  },
  {
   "cell_type": "code",
   "execution_count": 22,
   "id": "bff70f44",
   "metadata": {},
   "outputs": [
    {
     "name": "stdout",
     "output_type": "stream",
     "text": [
      "84.410500밀리초 걸렸습니다.\n"
     ]
    }
   ],
   "source": [
    "import timeit\n",
    "\n",
    "start_time = timeit.default_timer()\n",
    "\n",
    "sum=0\n",
    "for i in range(1,1000001):\n",
    "    sum+=i\n",
    "\n",
    "turminate_time = timeit.default_timer()\n",
    "working_time = (turminate_time-start_time)*1000    \n",
    "\n",
    "print(\"%f밀리초 걸렸습니다.\"%(working_time))"
   ]
  }
 ],
 "metadata": {
  "kernelspec": {
   "display_name": "Python 3 (ipykernel)",
   "language": "python",
   "name": "python3"
  },
  "language_info": {
   "codemirror_mode": {
    "name": "ipython",
    "version": 3
   },
   "file_extension": ".py",
   "mimetype": "text/x-python",
   "name": "python",
   "nbconvert_exporter": "python",
   "pygments_lexer": "ipython3",
   "version": "3.8.8"
  }
 },
 "nbformat": 4,
 "nbformat_minor": 5
}
