{
 "cells": [
  {
   "cell_type": "markdown",
   "id": "4d762849",
   "metadata": {
    "id": "4d762849"
   },
   "source": [
    "# 과제_0713"
   ]
  },
  {
   "cell_type": "markdown",
   "id": "f8704c46",
   "metadata": {
    "id": "9ff887f8"
   },
   "source": [
    "Q. \"https://www.dataq.or.kr/www/sub/a_07.do\" 사이트에서 필요한 정보를 가져와서 출력  \n",
    "urllib + bs4 조합으로 다음을 수행하세요."
   ]
  },
  {
   "cell_type": "code",
   "execution_count": null,
   "id": "ee5e3ce8",
   "metadata": {
    "id": "ee5e3ce8",
    "outputId": "28d1ba6d-7b8d-4e99-bdb7-33bffd16d2ef",
    "scrolled": false
   },
   "outputs": [
    {
     "name": "stdout",
     "output_type": "stream",
     "text": [
      "<관련 근거>\n",
      " \n",
      "국가기술자격법 및 동법 시행령\n",
      "\n",
      "--------------------------------------------------------------------------------\n",
      "<빅데이터분석기사 정의>\n",
      " \n",
      "빅데이터 이해를 기반으로 빅데이터 분석 기획, 빅데이터 수집·저장·처리, 빅데이터 분석 및 시각화를 수행하는 실무자를 말한다.\n",
      "\n",
      "--------------------------------------------------------------------------------\n",
      "<빅데이터분석기사의 필요성>\n",
      " \n",
      "전 세계적으로 빅데이터가 미래성장동력으로 인식돼, 각국 정부에서는 관련 기업투자를 끌어내는 등 국가·기업의 주요 전략분야로 부상하고 있다.\n",
      " 국가와 기업의 경쟁력 확보를 위해 빅데이터 분석 전문가의 수요는 증가하고 있으나, 수요 대비 공급 부족으로 인력 확보에 어려움이 높은 실정이다. \n",
      "이에 정부차원에서 빅데이터 분석 전문가 양성과 함께 체계적으로 역량을 검증할 수 있는 국가기술자격 수요가 높은 편이다.\n",
      "\n",
      "--------------------------------------------------------------------------------\n",
      "<빅데이터분석기사의 직무>\n",
      " \n",
      "대용량의 데이터 집합으로부터 유용한 정보를 찾고 결과를 예측하기 위해 목적에 따라 분석기술과 방법론을 기반으로 정형/비정형 대용량 데이터를 구축, 탐색, 분석하고 시각화를 수행하는 업무를 수행한다.\n",
      "\n",
      "--------------------------------------------------------------------------------\n"
     ]
    }
   ],
   "source": [
    "from urllib import request as req\n",
    "from bs4 import BeautifulSoup\n",
    "\n",
    "url = 'https://dataq.or.kr/www/sub/a_07.do'\n",
    "res = req.urlopen(url)\n",
    "bs = BeautifulSoup(res, 'html.parser')\n",
    "bs\n",
    "\n",
    "제목 = bs.find_all('h4',attrs = {'class':'text-header'})\n",
    "내용 = bs.find_all('div',attrs = {'class':'text-body'})\n",
    "제목_내용 = list(zip(제목,내용))\n",
    "\n",
    "\n",
    "for i in range(0,4):\n",
    "    print(f'<{제목_내용[i][0].text}>\\n',제목_내용[i][1].text)\n",
    "    print('-'*80)"
   ]
  },
  {
   "cell_type": "code",
   "execution_count": null,
   "id": "8bf32dce",
   "metadata": {
    "id": "8bf32dce",
    "outputId": "599ebdcf-a49e-4ef0-ce9c-de3893bcef25"
   },
   "outputs": [
    {
     "name": "stdout",
     "output_type": "stream",
     "text": [
      "\n",
      "국가기술자격\n",
      "\n",
      "\n",
      "관련 근거\n",
      "\n",
      "국가기술자격법 및 동법 시행령\n",
      "\n",
      "\n",
      "\n",
      "빅데이터분석기사 정의\n",
      "\n",
      "빅데이터 이해를 기반으로 빅데이터 분석 기획, 빅데이터 수집·저장·처리, 빅데이터 분석 및 시각화를 수행하는 실무자를 말한다.\n",
      "\n",
      "\n",
      "\n",
      "빅데이터분석기사의 필요성\n",
      "\n",
      "전 세계적으로 빅데이터가 미래성장동력으로 인식돼, 각국 정부에서는 관련 기업투자를 끌어내는 등 국가·기업의 주요 전략분야로 부상하고 있다.\n",
      " 국가와 기업의 경쟁력 확보를 위해 빅데이터 분석 전문가의 수요는 증가하고 있으나, 수요 대비 공급 부족으로 인력 확보에 어려움이 높은 실정이다. \n",
      "이에 정부차원에서 빅데이터 분석 전문가 양성과 함께 체계적으로 역량을 검증할 수 있는 국가기술자격 수요가 높은 편이다.\n",
      "\n",
      "\n",
      "\n",
      "빅데이터분석기사의 직무\n",
      "\n",
      "대용량의 데이터 집합으로부터 유용한 정보를 찾고 결과를 예측하기 위해 목적에 따라 분석기술과 방법론을 기반으로 정형/비정형 대용량 데이터를 구축, 탐색, 분석하고 시각화를 수행하는 업무를 수행한다.\n",
      "\n",
      "\n",
      "\n",
      "\n"
     ]
    }
   ],
   "source": [
    "from urllib import request as req\n",
    "from bs4 import BeautifulSoup\n",
    "\n",
    "url = 'https://dataq.or.kr/www/sub/a_07.do'\n",
    "res = req.urlopen(url)\n",
    "bs = BeautifulSoup(res, 'html.parser')\n",
    "출력 = bs.select('#tab1')\n",
    "for i in 출력:\n",
    "    print(i.text)"
   ]
  },
  {
   "cell_type": "markdown",
   "id": "8bc23a61",
   "metadata": {},
   "source": [
    "Q. 한빛출판네트워크 로그인 후 공지사항 가져와서 출력하기  \n",
    "(support 아래 공지사항 가져오기,자바스크립트 사용)\n"
   ]
  },
  {
   "cell_type": "code",
   "execution_count": null,
   "id": "e1f661bb",
   "metadata": {
    "id": "e1f661bb",
    "outputId": "35f71b4e-a041-4be5-efb8-cd0fa8dea722"
   },
   "outputs": [
    {
     "name": "stdout",
     "output_type": "stream",
     "text": [
      "<공지사항>\n",
      "\n",
      "1 . 코로나19 확산 방지를 위한 재택 근무 안내(7월 12...\n",
      "2 . 택배사 파업으로 인한 배송 지연 안내\n",
      "3 . 한빛출판네트워크 저작물에 대한 온라인 매체 이용 규...\n",
      "4 . 설 연휴로 인한 배송 안내(2월 5일 오전 12시 택배마감...\n"
     ]
    }
   ],
   "source": [
    "from selenium import webdriver\n",
    "import time\n",
    "url = \"https://www.hanbit.co.kr/\"\n",
    "driver = webdriver.Chrome('C:/tool/chromedriver.exe')\n",
    "driver.get(url)\n",
    "\n",
    "time.sleep(3)\n",
    "element = driver.find_element_by_class_name('login')\n",
    "element.click()\n",
    "\n",
    "id =\"아이디\"\n",
    "pw = '비밀번호'\n",
    "driver.execute_script(\"document.getElementsByName('m_id')[0].value=\\'\"+id+\"\\'\")\n",
    "driver.execute_script(\"document.getElementsByName('m_passwd')[0].value=\\'\"+pw+\"\\'\")\n",
    "\n",
    "time.sleep(3)\n",
    "element = driver.find_element_by_class_name('btn_login')\n",
    "element.click()\n",
    "\n",
    "time.sleep(3)\n",
    "element = driver.find_element_by_xpath('//*[@id=\"gnb\"]/ul/li[4]/a')\n",
    "element.click()\n",
    "\n",
    "time.sleep(5)\n",
    "elems = driver.find_elements_by_css_selector('#container > div.support_wrap > div.notice > ul > li > a')\n",
    "print(\"<공지사항>\\n\")\n",
    "for i,e in enumerate(elems):\n",
    "    print(i+1, \".\",e.text)\n",
    "    \n",
    "driver.close()"
   ]
  },
  {
   "cell_type": "markdown",
   "id": "22b95b25",
   "metadata": {},
   "source": [
    "Q. 네이버 로그인 후 메일 목록 5 ~ 10개 가져오기(execute_script 사용)\n"
   ]
  },
  {
   "cell_type": "code",
   "execution_count": null,
   "id": "6a896bc7",
   "metadata": {
    "id": "6a896bc7",
    "outputId": "fdedcf5b-8501-4cc4-d5c8-eebdc04d1b93"
   },
   "outputs": [
    {
     "name": "stdout",
     "output_type": "stream",
     "text": [
      "<받은메일함>\n",
      "\n",
      "1 . 똑!소리나는 네이버 메일 가입을 환영합니다.\n",
      "2 . 네이버 회원가입을 환영합니다.\n"
     ]
    }
   ],
   "source": [
    "from selenium import webdriver\n",
    "\n",
    "url = ('http://www.naver.com')\n",
    "driver = webdriver.Chrome(\"C:/tool/chromedriver\")\n",
    "# driver.get('https://nid.naver.com/nidlogin.login')\n",
    "driver.get(url)\n",
    "\n",
    "# 로그인 하는 곳으로 이동\n",
    "element = driver.find_element_by_class_name('link_login')\n",
    "element.click()\n",
    "\n",
    "# 로그인\n",
    "id =\"아이디\"\n",
    "pw = '비밀번호'\n",
    "driver.execute_script(\"document.getElementsByName('id')[0].value=\\'\"+id+\"\\'\")\n",
    "driver.execute_script(\"document.getElementsByName('pw')[0].value=\\'\"+pw+\"\\'\")\n",
    "element = driver.find_element_by_id('log.login')\n",
    "element.click()\n",
    "\n",
    "# 메일함\n",
    "element = driver.find_element_by_partial_link_text('메일')\n",
    "element.click()\n",
    "\n",
    "# 메일제목 가져오기\n",
    "elems = driver.find_elements_by_xpath('//*[@id=\"list_for_view\"]/ol/li/div/div/a/span/strong')\n",
    "print(\"<받은메일함>\\n\")\n",
    "for i,e in enumerate(elems):\n",
    "    print(i+1,\".\", e.text)\n",
    "\n",
    "# 끄기\n",
    "driver.close()"
   ]
  },
  {
   "cell_type": "markdown",
   "id": "42233aaa",
   "metadata": {},
   "source": [
    "Q. 할인된 가격이 적용되는 영화만 출력(할인전 가격, 할인 후 가격, 링크) + headless 적용해서 하기"
   ]
  },
  {
   "cell_type": "code",
   "execution_count": null,
   "id": "9b65a99c",
   "metadata": {
    "id": "9b65a99c",
    "outputId": "e6b3ebe0-8823-4e55-f8ac-93b96bdc8746",
    "scrolled": true
   },
   "outputs": [
    {
     "name": "stdout",
     "output_type": "stream",
     "text": [
      "스크롤 완료\n",
      "\n",
      "< 할인 영화 목록 >\n",
      "\n",
      "1.\n",
      "제목 : 스파이더맨: 파 프롬 홈 (자막판)\n",
      "할인 전 금액 : ₩1,800\n",
      "할인 후 금액 : ₩900\n",
      "링크 : https://play.google.com/store/movies/details/%EC%8A%A4%ED%8C%8C%EC%9D%B4%EB%8D%94%EB%A7%A8_%ED%8C%8C_%ED%94%84%EB%A1%AC_%ED%99%88_%EC%9E%90%EB%A7%89%ED%8C%90?id=zsehQ83TtjI\n",
      "================================================================================\n",
      "2.\n",
      "제목 : 마크맨\n",
      "할인 전 금액 : ₩7,000\n",
      "할인 후 금액 : ₩5,000\n",
      "링크 : https://play.google.com/store/movies/details/%EB%A7%88%ED%81%AC%EB%A7%A8?id=4IfZtOlXxuA.P\n",
      "================================================================================\n",
      "3.\n",
      "제목 : 내가 죽기를 바라는 자들\n",
      "할인 전 금액 : ₩14,900\n",
      "할인 후 금액 : ₩9,900\n",
      "링크 : https://play.google.com/store/movies/details/%EB%82%B4%EA%B0%80_%EC%A3%BD%EA%B8%B0%EB%A5%BC_%EB%B0%94%EB%9D%BC%EB%8A%94_%EC%9E%90%EB%93%A4?id=Urp3ar5o70g.P\n",
      "================================================================================\n",
      "4.\n",
      "제목 : 삼국지: 무신 조자룡\n",
      "할인 전 금액 : ₩10,000\n",
      "할인 후 금액 : ₩5,000\n",
      "링크 : https://play.google.com/store/movies/details/%EC%82%BC%EA%B5%AD%EC%A7%80_%EB%AC%B4%EC%8B%A0_%EC%A1%B0%EC%9E%90%EB%A3%A1?id=BliyeZrAeRc.P\n",
      "================================================================================\n",
      "5.\n",
      "제목 : 라이더스 오브 저스티스\n",
      "할인 전 금액 : ₩10,000\n",
      "할인 후 금액 : ₩7,000\n",
      "링크 : https://play.google.com/store/movies/details/%EB%9D%BC%EC%9D%B4%EB%8D%94%EC%8A%A4_%EC%98%A4%EB%B8%8C_%EC%A0%80%EC%8A%A4%ED%8B%B0%EC%8A%A4?id=Kq5hvBpcYA8.P\n",
      "================================================================================\n",
      "6.\n",
      "제목 : 워 위드 그랜파\n",
      "할인 전 금액 : ₩5,000\n",
      "할인 후 금액 : ₩2,500\n",
      "링크 : https://play.google.com/store/movies/details/%EC%9B%8C_%EC%9C%84%EB%93%9C_%EA%B7%B8%EB%9E%9C%ED%8C%8C?id=Yv2LXpPWoXo.P\n",
      "================================================================================\n",
      "7.\n",
      "제목 : 더 스파이\n",
      "할인 전 금액 : ₩10,000\n",
      "할인 후 금액 : ₩4,500\n",
      "링크 : https://play.google.com/store/movies/details/%EB%8D%94_%EC%8A%A4%ED%8C%8C%EC%9D%B4?id=rD0h6sSPMNA.P\n",
      "================================================================================\n",
      "8.\n",
      "제목 : 해리포터 시리즈 완결 패키지\n",
      "할인 전 금액 : ₩36,000\n",
      "할인 후 금액 : ₩18,900\n",
      "링크 : https://play.google.com/store/movies/details/%ED%95%B4%EB%A6%AC%ED%8F%AC%ED%84%B0_%EC%8B%9C%EB%A6%AC%EC%A6%88_%EC%99%84%EA%B2%B0_%ED%8C%A8%ED%82%A4%EC%A7%80?id=DsVgRu5dDdY\n",
      "================================================================================\n",
      "9.\n",
      "제목 : 어니스트 씨프\n",
      "할인 전 금액 : ₩4,500\n",
      "할인 후 금액 : ₩2,500\n",
      "링크 : https://play.google.com/store/movies/details/%EC%96%B4%EB%8B%88%EC%8A%A4%ED%8A%B8_%EC%94%A8%ED%94%84?id=Yu_uZoDZHHE.P\n",
      "================================================================================\n",
      "10.\n",
      "제목 : 파이프라인\n",
      "할인 전 금액 : ₩11,000\n",
      "할인 후 금액 : ₩7,700\n",
      "링크 : https://play.google.com/store/movies/details/%ED%8C%8C%EC%9D%B4%ED%94%84%EB%9D%BC%EC%9D%B8?id=viEV8kLPYAg.P\n",
      "================================================================================\n",
      "11.\n",
      "제목 : 2067\n",
      "할인 전 금액 : ₩10,000\n",
      "할인 후 금액 : ₩7,000\n",
      "링크 : https://play.google.com/store/movies/details/2067?id=qu9XTqubBzw.P\n",
      "================================================================================\n"
     ]
    }
   ],
   "source": [
    "from selenium import webdriver\n",
    "from bs4 import BeautifulSoup\n",
    "import time\n",
    "\n",
    "# headless 옵션 넣기\n",
    "# options = webdriver.ChromeOptions()\n",
    "# options.headless = True\n",
    "# options.add_argument('widndow-size = 1920x1080') \n",
    "\n",
    "\n",
    "driver = webdriver.Chrome('C:/tool/chromedriver.exe') #, options = options\n",
    "url = 'http://play.google.com/store/movies/top'\n",
    "driver.get(url)\n",
    "\n",
    "# 시간 초 텀 설정\n",
    "interval = 2\n",
    "\n",
    "# 현재 문서 높이 가져와서 저장\n",
    "prev_height = driver.execute_script('return document.body.scrollHeight') # 높이\n",
    "\n",
    "# 반복 수행\n",
    "while True:\n",
    "    # 아래로 스크롤!\n",
    "    driver.execute_script('window.scrollTo(0,document.body.scrollHeight)')\n",
    "    # 페이지 로딩 대기\n",
    "    time.sleep(interval)\n",
    "    # 현재 높이 저장\n",
    "    curr_height = driver.execute_script('return document.body.scrollHeight')\n",
    "    if curr_height == prev_height:\n",
    "        break\n",
    "    prev_height = curr_height\n",
    "print('스크롤 완료\\n')\n",
    "\n",
    "\n",
    "# 파싱\n",
    "bs = BeautifulSoup(driver.page_source,'html.parser')\n",
    "\n",
    "# 영화목록 정리\n",
    "movies = bs.find_all('div',attrs={\"class\":\"vU6FJ p63iDd\"})\n",
    "\n",
    "print('< 할인 영화 목록 >\\n')\n",
    "num = 1\n",
    "for movie in movies:\n",
    "    \n",
    "    price = movie.find('span', attrs = {'class':\"SUZt4c djCuy\"}) # 할인 전 금액\n",
    "    if not price:\n",
    "        continue # 할인 전 금액 없으면(=할인 안하면) 패스\n",
    "    name = movie.find('div', attrs = {'class':'WsMG1c nnK0zc'}) # 영화제목\n",
    "    disc = movie.find('span', attrs = {'class':'VfPpfd ZdBevf i5DZme'}) # 할인된 금액\n",
    "    link = movie.find('a', attrs = {'class':'JC71ub'}) # 링크\n",
    "    print(f\"{num}.\\n제목 : {name.text}\\n할인 전 금액 : {price.text}\\n할인 후 금액 : {disc.text}\\n링크 : https://play.google.com{link['href']}\")\n",
    "    print('='*80)\n",
    "    num+=1\n",
    "    \n",
    "# driver.close()"
   ]
  }
 ],
 "metadata": {
  "colab": {
   "name": "과제_0713.ipynb",
   "provenance": []
  },
  "kernelspec": {
   "display_name": "Python 3 (ipykernel)",
   "language": "python",
   "name": "python3"
  },
  "language_info": {
   "codemirror_mode": {
    "name": "ipython",
    "version": 3
   },
   "file_extension": ".py",
   "mimetype": "text/x-python",
   "name": "python",
   "nbconvert_exporter": "python",
   "pygments_lexer": "ipython3",
   "version": "3.8.8"
  }
 },
 "nbformat": 4,
 "nbformat_minor": 5
}
