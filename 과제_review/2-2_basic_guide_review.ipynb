{
 "cells": [
  {
   "cell_type": "markdown",
   "id": "cb5b281d",
   "metadata": {},
   "source": [
    "# 과제_0623"
   ]
  },
  {
   "cell_type": "markdown",
   "id": "73437653",
   "metadata": {},
   "source": [
    "Q. 함수 이용하여 프로그램 만들기"
   ]
  },
  {
   "cell_type": "code",
   "execution_count": 3,
   "id": "2043706b",
   "metadata": {},
   "outputs": [
    {
     "name": "stdout",
     "output_type": "stream",
     "text": [
      "현재 서울의 미세먼지 농도는 39ug/m3로 보통 상태 입니다.\n"
     ]
    }
   ],
   "source": [
    "def air_quality():\n",
    "    import requests\n",
    "    from bs4 import BeautifulSoup\n",
    "\n",
    "    url = 'https://search.naver.com/search.naver?sm=tab_hty.top&where=nexearch&query=%EB%AF%B8%EC%84%B8%EB%A8%BC%EC%A7%80%EB%86%8D%EB%8F%84&oquery=%EB%AF%B8%EC%84%B8%EB%A8%BC%EC%A7%80%EB%86%8D%EB%8F%84&tqi=hNThDsprvh8ssMVtJE4ssssstLl-013528'\n",
    "    req = requests.get(url)\n",
    "    html = req.text\n",
    "    soup = BeautifulSoup(html, 'html.parser')\n",
    "    PM = int(soup.find(class_='value').text)\n",
    "    \n",
    "    if 0 <= PM <= 30:\n",
    "        condition= \"좋음\"\n",
    "    elif 30 < PM <= 80:\n",
    "        condition = '보통'\n",
    "    elif 80 < PM <= 150:\n",
    "        condition = '나쁨'\n",
    "    elif 150 < PM:\n",
    "        condition = '매우나쁨'\n",
    "    \n",
    "    print('현재 서울의 미세먼지 농도는 {}ug/m3로 {} 상태 입니다.'.format(PM,condition))\n",
    "\n",
    "air_quality()"
   ]
  },
  {
   "cell_type": "markdown",
   "id": "cdc85070",
   "metadata": {},
   "source": [
    "Q. 1 ~ 20 사이의 정수에서 3의 배수만 출력하세요."
   ]
  },
  {
   "cell_type": "code",
   "execution_count": 4,
   "id": "303ab7c8",
   "metadata": {},
   "outputs": [
    {
     "name": "stdout",
     "output_type": "stream",
     "text": [
      "3\n",
      "6\n",
      "9\n",
      "12\n",
      "15\n",
      "18\n"
     ]
    }
   ],
   "source": [
    "for i in range(1,21):\n",
    "    if i%3==0:\n",
    "        print(i)"
   ]
  },
  {
   "cell_type": "markdown",
   "id": "45597a73",
   "metadata": {},
   "source": [
    "Q. 1 ~ 100 범위의 정수에서 95보다 큰 정수만 출력하세요."
   ]
  },
  {
   "cell_type": "code",
   "execution_count": 5,
   "id": "ca14d13a",
   "metadata": {},
   "outputs": [
    {
     "name": "stdout",
     "output_type": "stream",
     "text": [
      "96\n",
      "97\n",
      "98\n",
      "99\n",
      "100\n"
     ]
    }
   ],
   "source": [
    "for i in range(1,101):\n",
    "    if 95 < i:\n",
    "        print(i)"
   ]
  },
  {
   "cell_type": "markdown",
   "id": "67d30cc8",
   "metadata": {},
   "source": [
    "Q. [5,0,3,3,7,9,3,5,2,4]에서 7, 9만 출력하세요."
   ]
  },
  {
   "cell_type": "code",
   "execution_count": 6,
   "id": "7a6918af",
   "metadata": {},
   "outputs": [
    {
     "name": "stdout",
     "output_type": "stream",
     "text": [
      "7\n",
      "9\n"
     ]
    }
   ],
   "source": [
    "list1 = [5,0,3,3,7,9,3,5,2,4]\n",
    "\n",
    "for i in list1:\n",
    "    if 7 <= i:\n",
    "        print(i)"
   ]
  },
  {
   "cell_type": "markdown",
   "id": "6c6c7cb3",
   "metadata": {},
   "source": [
    "Q. [5,0,3,3,7,9,3,5,2,4]에서 0, 9만 출력하세요."
   ]
  },
  {
   "cell_type": "code",
   "execution_count": 7,
   "id": "e29dfa6d",
   "metadata": {},
   "outputs": [
    {
     "name": "stdout",
     "output_type": "stream",
     "text": [
      "0\n",
      "9\n"
     ]
    }
   ],
   "source": [
    "li1 = [5,0,3,3,7,9,3,5,2,4]\n",
    "\n",
    "for i in li1:\n",
    "    if (i==0) | (i==9):\n",
    "        print(i)"
   ]
  },
  {
   "cell_type": "markdown",
   "id": "f3caa769",
   "metadata": {},
   "source": [
    "Q. num에서 10, 11, 12만 출력하세요."
   ]
  },
  {
   "cell_type": "code",
   "execution_count": 8,
   "id": "0602279a",
   "metadata": {},
   "outputs": [
    {
     "data": {
      "text/plain": [
       "[0, 1, 2, 3, 4, 5, 6, 7, 8, 9, 10, 11, 12, 13, 14, 15, 16, 17, 18, 19]"
      ]
     },
     "execution_count": 8,
     "metadata": {},
     "output_type": "execute_result"
    }
   ],
   "source": [
    "import numpy as np\n",
    "num = np.arange(20).tolist()\n",
    "num"
   ]
  },
  {
   "cell_type": "code",
   "execution_count": 9,
   "id": "482e0abb",
   "metadata": {},
   "outputs": [
    {
     "name": "stdout",
     "output_type": "stream",
     "text": [
      "10\n",
      "11\n",
      "12\n"
     ]
    }
   ],
   "source": [
    "for i in num:\n",
    "    if 10 <= i <= 12:\n",
    "        print(i)"
   ]
  },
  {
   "cell_type": "markdown",
   "id": "8061dcca",
   "metadata": {},
   "source": [
    "Q. while문을 사용해 1부터 1000까지의 정수 중 3과 5의 공배수의 합을 구해보세요."
   ]
  },
  {
   "cell_type": "code",
   "execution_count": 10,
   "id": "68e44a30",
   "metadata": {},
   "outputs": [
    {
     "name": "stdout",
     "output_type": "stream",
     "text": [
      "33165\n"
     ]
    }
   ],
   "source": [
    "x = 1\n",
    "sum = 0\n",
    "\n",
    "while x <= 1000:\n",
    "    if (x%3==0) & (x%5==0):\n",
    "        sum += x\n",
    "    x += 1\n",
    "print(sum)"
   ]
  },
  {
   "cell_type": "markdown",
   "id": "ebaec4c6",
   "metadata": {},
   "source": [
    "Q. 1 ~ 1000 사이의 정수 중 5과 7의 공배수의 합을 구하세요."
   ]
  },
  {
   "cell_type": "code",
   "execution_count": 11,
   "id": "1aafa893",
   "metadata": {},
   "outputs": [
    {
     "name": "stdout",
     "output_type": "stream",
     "text": [
      "14210\n"
     ]
    }
   ],
   "source": [
    "x = 1\n",
    "sum = 0\n",
    "while x <= 1000:\n",
    "    if (x%5==0) & (x%7==0):\n",
    "        sum += x\n",
    "    x += 1\n",
    "print(sum)"
   ]
  },
  {
   "cell_type": "markdown",
   "id": "5356a4c2",
   "metadata": {},
   "source": [
    "Q. 1 ~ 100 사이의 정수 중 3과 4의 공배수를 리스트로 구하세요."
   ]
  },
  {
   "cell_type": "code",
   "execution_count": 12,
   "id": "a440dda9",
   "metadata": {},
   "outputs": [
    {
     "name": "stdout",
     "output_type": "stream",
     "text": [
      "[12, 24, 36, 48, 60, 72, 84, 96]\n"
     ]
    }
   ],
   "source": [
    "li = []\n",
    "\n",
    "for i in range(1,101):\n",
    "    if (i%3==0) & (i%4==0):\n",
    "        li.append(i)\n",
    "print(li)"
   ]
  },
  {
   "cell_type": "markdown",
   "id": "77bbeffb",
   "metadata": {},
   "source": [
    "Q. 3 ~ 7 사이의 정수의 곱을 구하세요."
   ]
  },
  {
   "cell_type": "code",
   "execution_count": 13,
   "id": "ba4d9572",
   "metadata": {},
   "outputs": [
    {
     "name": "stdout",
     "output_type": "stream",
     "text": [
      "2520\n"
     ]
    }
   ],
   "source": [
    "num = 1\n",
    "\n",
    "for i in range(3,8):\n",
    "    num *= i\n",
    "print(num)"
   ]
  },
  {
   "cell_type": "markdown",
   "id": "11153c6e",
   "metadata": {},
   "source": [
    "Q. 2, 3을 더한 후 5를 곱하는 계산 값을 람다함수를 이용하여 구하세요."
   ]
  },
  {
   "cell_type": "code",
   "execution_count": 14,
   "id": "9b3f46ed",
   "metadata": {},
   "outputs": [
    {
     "data": {
      "text/plain": [
       "25"
      ]
     },
     "execution_count": 14,
     "metadata": {},
     "output_type": "execute_result"
    }
   ],
   "source": [
    "x = lambda a,b,c: (a+b)*c\n",
    "\n",
    "x(2,3,5)"
   ]
  },
  {
   "cell_type": "markdown",
   "id": "4e072aeb",
   "metadata": {},
   "source": [
    "Q. 2와 5를 더한 후 3으로 나눈 나머지 값을 사용자 함수를 이용하여 구하세요."
   ]
  },
  {
   "cell_type": "code",
   "execution_count": 15,
   "id": "2e05ad1b",
   "metadata": {},
   "outputs": [
    {
     "data": {
      "text/plain": [
       "1"
      ]
     },
     "execution_count": 15,
     "metadata": {},
     "output_type": "execute_result"
    }
   ],
   "source": [
    "def cal(a,b,c):\n",
    "    return (a+b)%3\n",
    "\n",
    "cal(2,5,3)"
   ]
  },
  {
   "cell_type": "markdown",
   "id": "b4a079e0",
   "metadata": {},
   "source": [
    "Q. 함수를 사용하여 공백 없이 출력하기"
   ]
  },
  {
   "cell_type": "code",
   "execution_count": 16,
   "id": "f2debc40",
   "metadata": {},
   "outputs": [
    {
     "name": "stdout",
     "output_type": "stream",
     "text": [
      "\n",
      "                            It is true\n",
      "'Python is fit for data analysis'\n",
      "\n"
     ]
    }
   ],
   "source": [
    "input_a =\"\"\"\n",
    "                            It is true\n",
    "'Python is fit for data analysis'\n",
    "\"\"\"\n",
    "print(input_a)"
   ]
  },
  {
   "cell_type": "code",
   "execution_count": 17,
   "id": "afd61167",
   "metadata": {},
   "outputs": [
    {
     "name": "stdout",
     "output_type": "stream",
     "text": [
      "It is true\n",
      "'Python is fit for data analysis'\n"
     ]
    }
   ],
   "source": [
    "print(input_a.strip())"
   ]
  },
  {
   "cell_type": "markdown",
   "id": "d47a7c66",
   "metadata": {},
   "source": [
    "Q. \"10/20/30/40/50\"을 '/'를 기준으로 구분하여 아래와 같이 출력하세요.  \n",
    "['10','20','30','40','50']"
   ]
  },
  {
   "cell_type": "code",
   "execution_count": 18,
   "id": "6479c30e",
   "metadata": {},
   "outputs": [
    {
     "data": {
      "text/plain": [
       "['10', '20', '30', '40', '50']"
      ]
     },
     "execution_count": 18,
     "metadata": {},
     "output_type": "execute_result"
    }
   ],
   "source": [
    "a = \"10/20/30/40/50\"\n",
    "a.split('/')"
   ]
  },
  {
   "cell_type": "markdown",
   "id": "e5647efb",
   "metadata": {},
   "source": [
    "Q. 현재의 날씨와 시간을 다음과 같이 포맷으로 표현하세요  \n",
    "2021년 6월 23일 09시 01분 01초"
   ]
  },
  {
   "cell_type": "code",
   "execution_count": 19,
   "id": "80d84486",
   "metadata": {},
   "outputs": [
    {
     "name": "stdout",
     "output_type": "stream",
     "text": [
      "2021년 12월 24일 19시 42분 45초\n"
     ]
    }
   ],
   "source": [
    "import time\n",
    "\n",
    "print(time.strftime('%Y년 %m월 %d일 %H시 %M분 %S초'))"
   ]
  },
  {
   "cell_type": "markdown",
   "id": "42c01939",
   "metadata": {},
   "source": [
    "Q. 짝수와 짝수를 입력하면 곱한 값을 출력하고, 홀수와 홀수를 입력하면 덧셈 값을 출력하고, \n",
    "그 외는 다시 입력하라는 메시지를 출력하세요."
   ]
  },
  {
   "cell_type": "code",
   "execution_count": 22,
   "id": "7463a1b1",
   "metadata": {},
   "outputs": [
    {
     "name": "stdout",
     "output_type": "stream",
     "text": [
      "숫자1 입력 : 3\n",
      "숫자2 입력 : 5\n",
      "8\n"
     ]
    }
   ],
   "source": [
    "num1 = int(input('숫자1 입력 : '))\n",
    "num2 = int(input('숫자2 입력 : '))\n",
    "\n",
    "if (num1%2==0) & (num2%2==0):\n",
    "    print(num1*num2)\n",
    "elif (num1%2==1) & (num2%2==1):\n",
    "    print(num1+num2)\n",
    "else:\n",
    "    print('다시 입력')"
   ]
  },
  {
   "cell_type": "markdown",
   "id": "92520b38",
   "metadata": {},
   "source": [
    "Q. 1부터 100까지 아래와 같이 2개의 수를 곱해서 가장 큰 수를 구하세요.  \n",
    "1\\*99, 2\\*98, ... , 99\\*1"
   ]
  },
  {
   "cell_type": "code",
   "execution_count": 21,
   "id": "b47bc1d3",
   "metadata": {},
   "outputs": [
    {
     "name": "stdout",
     "output_type": "stream",
     "text": [
      "2500\n"
     ]
    }
   ],
   "source": [
    "x = 1\n",
    "y = 99\n",
    "best_num = 0\n",
    "\n",
    "while x <= 99:\n",
    "    num = x*y\n",
    "    if best_num < num:\n",
    "        best_num = num\n",
    "    x+=1\n",
    "    y-=1\n",
    "\n",
    "print(best_num)"
   ]
  },
  {
   "cell_type": "markdown",
   "id": "2fcd51db",
   "metadata": {},
   "source": [
    "Q. [  ]을 채워서 아래의 출력과 같이 출력하세요.  "
   ]
  },
  {
   "cell_type": "code",
   "execution_count": 72,
   "id": "98be0a2b",
   "metadata": {},
   "outputs": [],
   "source": [
    "numbers = [1,2,3,4,5,6,7,8,9]  \n",
    "output = [[],[],[]]\n",
    "\n",
    "# for number in numbers:  \n",
    "#     output[ ].append(number)  \n",
    "# print(output)  \n",
    "  \n",
    "# 출력 : [1,4,7],[2,5,8],[3,6,9]"
   ]
  },
  {
   "cell_type": "code",
   "execution_count": 73,
   "id": "fd6fb5c9",
   "metadata": {},
   "outputs": [
    {
     "name": "stdout",
     "output_type": "stream",
     "text": [
      "[[1, 4, 7], [2, 5, 8], [3, 6, 9]]\n"
     ]
    }
   ],
   "source": [
    "for number in numbers:\n",
    "    if number%3==1:\n",
    "        output[0].append(number)\n",
    "    elif number%3==2:\n",
    "        output[1].append(number)\n",
    "    elif number%3==0:\n",
    "        output[2].append(number)\n",
    "print(output)"
   ]
  },
  {
   "cell_type": "markdown",
   "id": "90545a9e",
   "metadata": {},
   "source": [
    "#### Q.커피 자판기 프로그램\n",
    "- 시나리오 : 자판기 커피 재고 5잔, 커피 1잔 가격 300원, 재고 범위내에서 300원 이상 돈을 넣으면 거스름돈과 커피를 주고  \n",
    "그렇지 않으면 반환하며 재고가 소진되면 안내멘트 출력\n",
    "- 각 Case별 멘트 출력은 상황에 맞게 창작\n",
    "- while, if ~ elif ~ else 제어문을 사용하여 작성"
   ]
  },
  {
   "cell_type": "code",
   "execution_count": 23,
   "id": "4eea1e47",
   "metadata": {},
   "outputs": [
    {
     "name": "stdout",
     "output_type": "stream",
     "text": [
      "돈을 넣어주세요.300\n",
      "커피를 받으세요.\n",
      "\n",
      "돈을 넣어주세요.200\n",
      "100원 부족합니다. 돈을 반환합니다.\n",
      "\n",
      "돈을 넣어주세요.400\n",
      "거스름돈 100원과 커피를 받으세요.\n",
      "\n",
      "돈을 넣어주세요.ㄱㄴㄷ\n",
      "다시 입력하세요.\n",
      "\n",
      "돈을 넣어주세요.300\n",
      "커피를 받으세요.\n",
      "\n",
      "돈을 넣어주세요.300\n",
      "커피를 받으세요.\n",
      "\n",
      "돈을 넣어주세요.300\n",
      "커피를 받으세요.\n",
      "\n",
      "재고가 모두 소진되었습니다.😃\n"
     ]
    }
   ],
   "source": [
    "coffee = 5\n",
    "\n",
    "while coffee:\n",
    "    try:\n",
    "        money = int(input('돈을 넣어주세요.'))\n",
    "    except:\n",
    "        print('다시 입력하세요.\\n')\n",
    "        continue\n",
    "\n",
    "        \n",
    "    if money < 300:\n",
    "        print('{}원 부족합니다. 돈을 반환합니다.\\n'.format(300-money))\n",
    "        continue\n",
    "    elif money == 300:\n",
    "        print('커피를 받으세요.\\n')\n",
    "    else:\n",
    "        change = money-300\n",
    "        print('거스름돈 {}원과 커피를 받으세요.\\n'.format(change))\n",
    "    \n",
    "    coffee -= 1\n",
    "    \n",
    "    if coffee < 1:\n",
    "        print('재고가 모두 소진되었습니다.😃')"
   ]
  }
 ],
 "metadata": {
  "kernelspec": {
   "display_name": "Python 3 (ipykernel)",
   "language": "python",
   "name": "python3"
  },
  "language_info": {
   "codemirror_mode": {
    "name": "ipython",
    "version": 3
   },
   "file_extension": ".py",
   "mimetype": "text/x-python",
   "name": "python",
   "nbconvert_exporter": "python",
   "pygments_lexer": "ipython3",
   "version": "3.8.8"
  }
 },
 "nbformat": 4,
 "nbformat_minor": 5
}
