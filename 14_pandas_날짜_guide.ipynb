{
 "cells": [
  {
   "cell_type": "markdown",
   "id": "a2067f7f",
   "metadata": {},
   "source": [
    "# 7/20"
   ]
  },
  {
   "cell_type": "markdown",
   "id": "286e2d9a",
   "metadata": {},
   "source": [
    "__python__"
   ]
  },
  {
   "cell_type": "code",
   "execution_count": 1,
   "id": "de570806",
   "metadata": {},
   "outputs": [
    {
     "name": "stdout",
     "output_type": "stream",
     "text": [
      "1641748758.814023 <class 'float'>\n",
      "1641748758.814229 <class 'str'>\n"
     ]
    }
   ],
   "source": [
    "# timestamp -> str\n",
    "import time\n",
    "print(time.time(),type(time.time()))\n",
    "\n",
    "timestamp = time.time()\n",
    "s = str(timestamp)\n",
    "print(s,type(s))"
   ]
  },
  {
   "cell_type": "code",
   "execution_count": 3,
   "id": "a888679b",
   "metadata": {},
   "outputs": [
    {
     "name": "stdout",
     "output_type": "stream",
     "text": [
      "2022-01-10 02:20:05.072433 <class 'datetime.datetime'>\n",
      "2022-01-10 02:20:05 <class 'str'>\n"
     ]
    }
   ],
   "source": [
    "# datetime -> str\n",
    "from datetime import datetime\n",
    "s = datetime.now()\n",
    "print(s, type(s))\n",
    "\n",
    "s1 = datetime.now().strftime('%Y-%m-%d %H:%M:%S') ### string_for_time\n",
    "print(s1, type(s1))"
   ]
  },
  {
   "cell_type": "code",
   "execution_count": 4,
   "id": "fdb4d7ac",
   "metadata": {},
   "outputs": [
    {
     "name": "stdout",
     "output_type": "stream",
     "text": [
      "2021-07-20 11:13:58 <class 'datetime.datetime'>\n"
     ]
    }
   ],
   "source": [
    "# str -> datetime\n",
    "from datetime import datetime\n",
    "s = '2021-07-20 11:13:58'\n",
    "d = datetime.strptime(s,'%Y-%m-%d %H:%M:%S') ### 문자를 time으로 parsing한다는 의미\n",
    "print(d, type(d))"
   ]
  },
  {
   "cell_type": "code",
   "execution_count": 5,
   "id": "c7e51085",
   "metadata": {},
   "outputs": [
    {
     "name": "stdout",
     "output_type": "stream",
     "text": [
      "2021-07-20 00:00:00 <class 'datetime.datetime'>\n"
     ]
    }
   ],
   "source": [
    "s = '2021/7/20'\n",
    "d = datetime.strptime(s,'%Y/%m/%d')\n",
    "print(d,type(d))"
   ]
  },
  {
   "cell_type": "code",
   "execution_count": 6,
   "id": "fcd7a66f",
   "metadata": {},
   "outputs": [
    {
     "data": {
      "text/plain": [
       "time.struct_time(tm_year=2021, tm_mon=7, tm_mday=20, tm_hour=0, tm_min=0, tm_sec=0, tm_wday=1, tm_yday=201, tm_isdst=-1)"
      ]
     },
     "execution_count": 6,
     "metadata": {},
     "output_type": "execute_result"
    }
   ],
   "source": [
    "d.timetuple()"
   ]
  },
  {
   "cell_type": "code",
   "execution_count": 7,
   "id": "22911be9",
   "metadata": {},
   "outputs": [
    {
     "name": "stdout",
     "output_type": "stream",
     "text": [
      "1626747238.0 <class 'float'>\n"
     ]
    }
   ],
   "source": [
    "# str -> timestamp\n",
    "s = '2021-07-20 11:13:58'\n",
    "timestamp = time.mktime(datetime.strptime(s,'%Y-%m-%d %H:%M:%S').timetuple())\n",
    "print(timestamp, type(timestamp))"
   ]
  },
  {
   "cell_type": "code",
   "execution_count": 8,
   "id": "bc4f8226",
   "metadata": {},
   "outputs": [
    {
     "name": "stdout",
     "output_type": "stream",
     "text": [
      "1641748849.0 <class 'float'>\n"
     ]
    }
   ],
   "source": [
    "# datetime -> timestamp\n",
    "s = '2021-07-20 11:13:58'\n",
    "timestamp = time.mktime(datetime.today().timetuple())\n",
    "print(timestamp, type(timestamp))"
   ]
  },
  {
   "cell_type": "code",
   "execution_count": 9,
   "id": "51213534",
   "metadata": {
    "scrolled": true
   },
   "outputs": [
    {
     "name": "stdout",
     "output_type": "stream",
     "text": [
      "1641748855.4452312\n",
      "2022-01-10 02:20:55.445231 <class 'datetime.datetime'>\n"
     ]
    }
   ],
   "source": [
    "# timestamp -> datetime\n",
    "t = time.time()\n",
    "print(t)\n",
    "d = datetime.fromtimestamp(t)\n",
    "print(d, type(d))"
   ]
  },
  {
   "cell_type": "code",
   "execution_count": 10,
   "id": "4bffca29",
   "metadata": {},
   "outputs": [
    {
     "data": {
      "text/plain": [
       "datetime.datetime(2022, 1, 10, 2, 20, 56, 860540)"
      ]
     },
     "execution_count": 10,
     "metadata": {},
     "output_type": "execute_result"
    }
   ],
   "source": [
    "datetime.fromtimestamp(time.time())"
   ]
  },
  {
   "cell_type": "code",
   "execution_count": 11,
   "id": "f8b1514b",
   "metadata": {},
   "outputs": [
    {
     "name": "stdout",
     "output_type": "stream",
     "text": [
      "2022-01-10 02:21:00.111034\n"
     ]
    }
   ],
   "source": [
    "print(datetime.fromtimestamp(time.time()))"
   ]
  },
  {
   "cell_type": "code",
   "execution_count": 12,
   "id": "7ac138e4",
   "metadata": {},
   "outputs": [
    {
     "name": "stdout",
     "output_type": "stream",
     "text": [
      "-365 days, 0:00:00\n"
     ]
    },
    {
     "data": {
      "text/plain": [
       "datetime.datetime(2021, 1, 10, 2, 21, 4, 723948)"
      ]
     },
     "execution_count": 12,
     "metadata": {},
     "output_type": "execute_result"
    }
   ],
   "source": [
    "# 1년전 datetime 값\n",
    "from datetime import timedelta\n",
    "import time\n",
    "\n",
    "datetime_now = datetime.now()\n",
    "delta_datetime = timedelta(days =- 365)\n",
    "print(delta_datetime)\n",
    "datetime_now + delta_datetime"
   ]
  },
  {
   "cell_type": "code",
   "execution_count": 13,
   "id": "dbbdf5a2",
   "metadata": {},
   "outputs": [
    {
     "data": {
      "text/plain": [
       "datetime.timedelta(days=30)"
      ]
     },
     "execution_count": 13,
     "metadata": {},
     "output_type": "execute_result"
    }
   ],
   "source": [
    "# 두 날짜간의 일수 구하기\n",
    "sinse_timestamp = datetime.strptime('20180301', '%Y%m%d')\n",
    "until_timestamp = datetime.strptime('20180331', '%Y%m%d')\n",
    "result = until_timestamp - sinse_timestamp\n",
    "result"
   ]
  },
  {
   "cell_type": "code",
   "execution_count": 18,
   "id": "75344203",
   "metadata": {},
   "outputs": [
    {
     "data": {
      "text/plain": [
       "'TUE'"
      ]
     },
     "execution_count": 18,
     "metadata": {},
     "output_type": "execute_result"
    }
   ],
   "source": [
    "# 특정일 구하기\n",
    "import datetime\n",
    "def get_yoil(y,m,d):\n",
    "    days = ['MON','TUE','WED','THU','FRI','SAT','SUN']\n",
    "    return days[datetime.date(y,m,d).weekday()] # datetime.date(y,m,d).weekday() 하면 숫자로 요일이 나옴.\n",
    "\n",
    "get_yoil(2021,7,20)"
   ]
  },
  {
   "cell_type": "markdown",
   "id": "4724eece",
   "metadata": {},
   "source": [
    "__pandas__"
   ]
  },
  {
   "cell_type": "code",
   "execution_count": 22,
   "id": "e84935f5",
   "metadata": {
    "scrolled": true
   },
   "outputs": [
    {
     "data": {
      "text/plain": [
       "Timestamp('2021-07-20 03:22:04.682666240')"
      ]
     },
     "execution_count": 22,
     "metadata": {},
     "output_type": "execute_result"
    }
   ],
   "source": [
    "# 판다스 to_datetime\n",
    "import pandas as pd\n",
    "pd.to_datetime(1626751324.6826663,unit='s') ### time.time 안에 넣음 ### 결과값을 pandas의 timestamp라고 부름\n",
    "\n",
    "### unit='s' 안넣으면 1970-01-01 나옴.."
   ]
  },
  {
   "cell_type": "code",
   "execution_count": 23,
   "id": "a4d1bd7a",
   "metadata": {},
   "outputs": [
    {
     "data": {
      "text/plain": [
       "1641748970.74536"
      ]
     },
     "execution_count": 23,
     "metadata": {},
     "output_type": "execute_result"
    }
   ],
   "source": [
    "time.time()"
   ]
  },
  {
   "cell_type": "code",
   "execution_count": 24,
   "id": "633da6a2",
   "metadata": {
    "scrolled": true
   },
   "outputs": [
    {
     "data": {
      "text/plain": [
       "Timestamp('1970-01-01 00:00:01.641748971')"
      ]
     },
     "execution_count": 24,
     "metadata": {},
     "output_type": "execute_result"
    }
   ],
   "source": [
    "pd.to_datetime(time.time())"
   ]
  },
  {
   "cell_type": "code",
   "execution_count": 25,
   "id": "2147ec86",
   "metadata": {
    "scrolled": true
   },
   "outputs": [
    {
     "name": "stdout",
     "output_type": "stream",
     "text": [
      "2021-07-20 11:25:31+09:00 <class 'pandas._libs.tslibs.timestamps.Timestamp'>\n"
     ]
    }
   ],
   "source": [
    "import pandas as pd\n",
    "date = pd.Timestamp(1626747931.0,unit='s',tz='Asia/Seoul') ### tz = timezone\n",
    "print(date,type(date))"
   ]
  },
  {
   "cell_type": "code",
   "execution_count": 26,
   "id": "85223525",
   "metadata": {
    "scrolled": true
   },
   "outputs": [
    {
     "data": {
      "text/plain": [
       "['Asia/Aden',\n",
       " 'Asia/Almaty',\n",
       " 'Asia/Amman',\n",
       " 'Asia/Anadyr',\n",
       " 'Asia/Aqtau',\n",
       " 'Asia/Aqtobe',\n",
       " 'Asia/Ashgabat',\n",
       " 'Asia/Atyrau',\n",
       " 'Asia/Baghdad',\n",
       " 'Asia/Bahrain',\n",
       " 'Asia/Baku',\n",
       " 'Asia/Bangkok',\n",
       " 'Asia/Barnaul',\n",
       " 'Asia/Beirut',\n",
       " 'Asia/Bishkek',\n",
       " 'Asia/Brunei',\n",
       " 'Asia/Chita',\n",
       " 'Asia/Choibalsan',\n",
       " 'Asia/Colombo',\n",
       " 'Asia/Damascus',\n",
       " 'Asia/Dhaka',\n",
       " 'Asia/Dili',\n",
       " 'Asia/Dubai',\n",
       " 'Asia/Dushanbe',\n",
       " 'Asia/Famagusta',\n",
       " 'Asia/Gaza',\n",
       " 'Asia/Hebron',\n",
       " 'Asia/Ho_Chi_Minh',\n",
       " 'Asia/Hong_Kong',\n",
       " 'Asia/Hovd',\n",
       " 'Asia/Irkutsk',\n",
       " 'Asia/Jakarta',\n",
       " 'Asia/Jayapura',\n",
       " 'Asia/Jerusalem',\n",
       " 'Asia/Kabul',\n",
       " 'Asia/Kamchatka',\n",
       " 'Asia/Karachi',\n",
       " 'Asia/Kathmandu',\n",
       " 'Asia/Khandyga',\n",
       " 'Asia/Kolkata',\n",
       " 'Asia/Krasnoyarsk',\n",
       " 'Asia/Kuala_Lumpur',\n",
       " 'Asia/Kuching',\n",
       " 'Asia/Kuwait',\n",
       " 'Asia/Macau',\n",
       " 'Asia/Magadan',\n",
       " 'Asia/Makassar',\n",
       " 'Asia/Manila',\n",
       " 'Asia/Muscat',\n",
       " 'Asia/Nicosia',\n",
       " 'Asia/Novokuznetsk',\n",
       " 'Asia/Novosibirsk',\n",
       " 'Asia/Omsk',\n",
       " 'Asia/Oral',\n",
       " 'Asia/Phnom_Penh',\n",
       " 'Asia/Pontianak',\n",
       " 'Asia/Pyongyang',\n",
       " 'Asia/Qatar',\n",
       " 'Asia/Qostanay',\n",
       " 'Asia/Qyzylorda',\n",
       " 'Asia/Riyadh',\n",
       " 'Asia/Sakhalin',\n",
       " 'Asia/Samarkand',\n",
       " 'Asia/Seoul',\n",
       " 'Asia/Shanghai',\n",
       " 'Asia/Singapore',\n",
       " 'Asia/Srednekolymsk',\n",
       " 'Asia/Taipei',\n",
       " 'Asia/Tashkent',\n",
       " 'Asia/Tbilisi',\n",
       " 'Asia/Tehran',\n",
       " 'Asia/Thimphu',\n",
       " 'Asia/Tokyo',\n",
       " 'Asia/Tomsk',\n",
       " 'Asia/Ulaanbaatar',\n",
       " 'Asia/Urumqi',\n",
       " 'Asia/Ust-Nera',\n",
       " 'Asia/Vientiane',\n",
       " 'Asia/Vladivostok',\n",
       " 'Asia/Yakutsk',\n",
       " 'Asia/Yangon',\n",
       " 'Asia/Yekaterinburg',\n",
       " 'Asia/Yerevan']"
      ]
     },
     "execution_count": 26,
     "metadata": {},
     "output_type": "execute_result"
    }
   ],
   "source": [
    "### 참고 - tz(time zone) 확인(Asia 지역)\n",
    "# time zone information\n",
    "import pytz\n",
    "# regular expression in Python\n",
    "import re\n",
    "# regular expression for pattern containing 'Asia' texts\n",
    "pattern = re.compile(r'^Asia')\n",
    "# list comprehension for selecting 'Asia****' time zones\n",
    "tz_asia = [x for x in pytz.common_timezones if pattern.match(x)]\n",
    "tz_asia"
   ]
  },
  {
   "cell_type": "code",
   "execution_count": 27,
   "id": "100439ac",
   "metadata": {
    "scrolled": true
   },
   "outputs": [
    {
     "data": {
      "text/html": [
       "<div>\n",
       "<style scoped>\n",
       "    .dataframe tbody tr th:only-of-type {\n",
       "        vertical-align: middle;\n",
       "    }\n",
       "\n",
       "    .dataframe tbody tr th {\n",
       "        vertical-align: top;\n",
       "    }\n",
       "\n",
       "    .dataframe thead th {\n",
       "        text-align: right;\n",
       "    }\n",
       "</style>\n",
       "<table border=\"1\" class=\"dataframe\">\n",
       "  <thead>\n",
       "    <tr style=\"text-align: right;\">\n",
       "      <th></th>\n",
       "      <th>Date</th>\n",
       "      <th>Close</th>\n",
       "      <th>Start</th>\n",
       "      <th>High</th>\n",
       "      <th>Low</th>\n",
       "      <th>Volume</th>\n",
       "    </tr>\n",
       "  </thead>\n",
       "  <tbody>\n",
       "    <tr>\n",
       "      <th>0</th>\n",
       "      <td>2018-07-02</td>\n",
       "      <td>10100</td>\n",
       "      <td>10850</td>\n",
       "      <td>10900</td>\n",
       "      <td>10000</td>\n",
       "      <td>137977</td>\n",
       "    </tr>\n",
       "    <tr>\n",
       "      <th>1</th>\n",
       "      <td>2018-06-29</td>\n",
       "      <td>10700</td>\n",
       "      <td>10550</td>\n",
       "      <td>10900</td>\n",
       "      <td>9990</td>\n",
       "      <td>170253</td>\n",
       "    </tr>\n",
       "    <tr>\n",
       "      <th>2</th>\n",
       "      <td>2018-06-28</td>\n",
       "      <td>10400</td>\n",
       "      <td>10900</td>\n",
       "      <td>10950</td>\n",
       "      <td>10150</td>\n",
       "      <td>155769</td>\n",
       "    </tr>\n",
       "    <tr>\n",
       "      <th>3</th>\n",
       "      <td>2018-06-27</td>\n",
       "      <td>10900</td>\n",
       "      <td>10800</td>\n",
       "      <td>11050</td>\n",
       "      <td>10500</td>\n",
       "      <td>133548</td>\n",
       "    </tr>\n",
       "    <tr>\n",
       "      <th>4</th>\n",
       "      <td>2018-06-26</td>\n",
       "      <td>10800</td>\n",
       "      <td>10900</td>\n",
       "      <td>11000</td>\n",
       "      <td>10700</td>\n",
       "      <td>63039</td>\n",
       "    </tr>\n",
       "  </tbody>\n",
       "</table>\n",
       "</div>"
      ],
      "text/plain": [
       "         Date  Close  Start   High    Low  Volume\n",
       "0  2018-07-02  10100  10850  10900  10000  137977\n",
       "1  2018-06-29  10700  10550  10900   9990  170253\n",
       "2  2018-06-28  10400  10900  10950  10150  155769\n",
       "3  2018-06-27  10900  10800  11050  10500  133548\n",
       "4  2018-06-26  10800  10900  11000  10700   63039"
      ]
     },
     "execution_count": 27,
     "metadata": {},
     "output_type": "execute_result"
    }
   ],
   "source": [
    "df = pd.read_csv('stock-data.csv')\n",
    "df.head()"
   ]
  },
  {
   "cell_type": "code",
   "execution_count": 28,
   "id": "fbf948f8",
   "metadata": {},
   "outputs": [
    {
     "name": "stdout",
     "output_type": "stream",
     "text": [
      "<class 'pandas.core.frame.DataFrame'>\n",
      "RangeIndex: 20 entries, 0 to 19\n",
      "Data columns (total 6 columns):\n",
      " #   Column  Non-Null Count  Dtype \n",
      "---  ------  --------------  ----- \n",
      " 0   Date    20 non-null     object\n",
      " 1   Close   20 non-null     int64 \n",
      " 2   Start   20 non-null     int64 \n",
      " 3   High    20 non-null     int64 \n",
      " 4   Low     20 non-null     int64 \n",
      " 5   Volume  20 non-null     int64 \n",
      "dtypes: int64(5), object(1)\n",
      "memory usage: 1.1+ KB\n"
     ]
    }
   ],
   "source": [
    "df.info()"
   ]
  },
  {
   "cell_type": "code",
   "execution_count": 29,
   "id": "04618679",
   "metadata": {},
   "outputs": [
    {
     "data": {
      "text/plain": [
       "0     2018-07-02\n",
       "1     2018-06-29\n",
       "2     2018-06-28\n",
       "3     2018-06-27\n",
       "4     2018-06-26\n",
       "5     2018-06-25\n",
       "6     2018-06-22\n",
       "7     2018-06-21\n",
       "8     2018-06-20\n",
       "9     2018-06-19\n",
       "10    2018-06-18\n",
       "11    2018-06-15\n",
       "12    2018-06-14\n",
       "13    2018-06-12\n",
       "14    2018-06-11\n",
       "15    2018-06-08\n",
       "16    2018-06-07\n",
       "17    2018-06-05\n",
       "18    2018-06-04\n",
       "19    2018-06-01\n",
       "Name: Date, dtype: object"
      ]
     },
     "execution_count": 29,
     "metadata": {},
     "output_type": "execute_result"
    }
   ],
   "source": [
    "df['Date']"
   ]
  },
  {
   "cell_type": "code",
   "execution_count": 30,
   "id": "d32665c4",
   "metadata": {},
   "outputs": [
    {
     "name": "stdout",
     "output_type": "stream",
     "text": [
      "<class 'pandas.core.frame.DataFrame'>\n",
      "RangeIndex: 20 entries, 0 to 19\n",
      "Data columns (total 7 columns):\n",
      " #   Column    Non-Null Count  Dtype         \n",
      "---  ------    --------------  -----         \n",
      " 0   Date      20 non-null     object        \n",
      " 1   Close     20 non-null     int64         \n",
      " 2   Start     20 non-null     int64         \n",
      " 3   High      20 non-null     int64         \n",
      " 4   Low       20 non-null     int64         \n",
      " 5   Volume    20 non-null     int64         \n",
      " 6   New_Date  20 non-null     datetime64[ns]\n",
      "dtypes: datetime64[ns](1), int64(5), object(1)\n",
      "memory usage: 1.2+ KB\n"
     ]
    }
   ],
   "source": [
    "df['New_Date'] = pd.to_datetime(df['Date']) ### str 인 Date 컬럼 -> datetime으로 만든 New_Date 컬럼 추가\n",
    "df.info()"
   ]
  },
  {
   "cell_type": "code",
   "execution_count": 31,
   "id": "f0f4ee2a",
   "metadata": {
    "scrolled": true
   },
   "outputs": [
    {
     "data": {
      "text/html": [
       "<div>\n",
       "<style scoped>\n",
       "    .dataframe tbody tr th:only-of-type {\n",
       "        vertical-align: middle;\n",
       "    }\n",
       "\n",
       "    .dataframe tbody tr th {\n",
       "        vertical-align: top;\n",
       "    }\n",
       "\n",
       "    .dataframe thead th {\n",
       "        text-align: right;\n",
       "    }\n",
       "</style>\n",
       "<table border=\"1\" class=\"dataframe\">\n",
       "  <thead>\n",
       "    <tr style=\"text-align: right;\">\n",
       "      <th></th>\n",
       "      <th>Close</th>\n",
       "      <th>Start</th>\n",
       "      <th>High</th>\n",
       "      <th>Low</th>\n",
       "      <th>Volume</th>\n",
       "      <th>New_Date</th>\n",
       "      <th>year</th>\n",
       "      <th>month</th>\n",
       "      <th>day</th>\n",
       "    </tr>\n",
       "  </thead>\n",
       "  <tbody>\n",
       "    <tr>\n",
       "      <th>0</th>\n",
       "      <td>10100</td>\n",
       "      <td>10850</td>\n",
       "      <td>10900</td>\n",
       "      <td>10000</td>\n",
       "      <td>137977</td>\n",
       "      <td>2018-07-02</td>\n",
       "      <td>2018</td>\n",
       "      <td>7</td>\n",
       "      <td>2</td>\n",
       "    </tr>\n",
       "    <tr>\n",
       "      <th>1</th>\n",
       "      <td>10700</td>\n",
       "      <td>10550</td>\n",
       "      <td>10900</td>\n",
       "      <td>9990</td>\n",
       "      <td>170253</td>\n",
       "      <td>2018-06-29</td>\n",
       "      <td>2018</td>\n",
       "      <td>6</td>\n",
       "      <td>29</td>\n",
       "    </tr>\n",
       "    <tr>\n",
       "      <th>2</th>\n",
       "      <td>10400</td>\n",
       "      <td>10900</td>\n",
       "      <td>10950</td>\n",
       "      <td>10150</td>\n",
       "      <td>155769</td>\n",
       "      <td>2018-06-28</td>\n",
       "      <td>2018</td>\n",
       "      <td>6</td>\n",
       "      <td>28</td>\n",
       "    </tr>\n",
       "    <tr>\n",
       "      <th>3</th>\n",
       "      <td>10900</td>\n",
       "      <td>10800</td>\n",
       "      <td>11050</td>\n",
       "      <td>10500</td>\n",
       "      <td>133548</td>\n",
       "      <td>2018-06-27</td>\n",
       "      <td>2018</td>\n",
       "      <td>6</td>\n",
       "      <td>27</td>\n",
       "    </tr>\n",
       "    <tr>\n",
       "      <th>4</th>\n",
       "      <td>10800</td>\n",
       "      <td>10900</td>\n",
       "      <td>11000</td>\n",
       "      <td>10700</td>\n",
       "      <td>63039</td>\n",
       "      <td>2018-06-26</td>\n",
       "      <td>2018</td>\n",
       "      <td>6</td>\n",
       "      <td>26</td>\n",
       "    </tr>\n",
       "  </tbody>\n",
       "</table>\n",
       "</div>"
      ],
      "text/plain": [
       "   Close  Start   High    Low  Volume   New_Date  year  month  day\n",
       "0  10100  10850  10900  10000  137977 2018-07-02  2018      7    2\n",
       "1  10700  10550  10900   9990  170253 2018-06-29  2018      6   29\n",
       "2  10400  10900  10950  10150  155769 2018-06-28  2018      6   28\n",
       "3  10900  10800  11050  10500  133548 2018-06-27  2018      6   27\n",
       "4  10800  10900  11000  10700   63039 2018-06-26  2018      6   26"
      ]
     },
     "execution_count": 31,
     "metadata": {},
     "output_type": "execute_result"
    }
   ],
   "source": [
    "df.drop('Date',axis=1,inplace=True) ### New_Date 있으니까 버리기\n",
    "df['year'] = df['New_Date'].dt.year\n",
    "df['month'] = df['New_Date'].dt.month\n",
    "df['day'] = df['New_Date'].dt.day\n",
    "df.head()"
   ]
  },
  {
   "cell_type": "code",
   "execution_count": 32,
   "id": "0d5c8cd5",
   "metadata": {},
   "outputs": [
    {
     "data": {
      "text/html": [
       "<div>\n",
       "<style scoped>\n",
       "    .dataframe tbody tr th:only-of-type {\n",
       "        vertical-align: middle;\n",
       "    }\n",
       "\n",
       "    .dataframe tbody tr th {\n",
       "        vertical-align: top;\n",
       "    }\n",
       "\n",
       "    .dataframe thead th {\n",
       "        text-align: right;\n",
       "    }\n",
       "</style>\n",
       "<table border=\"1\" class=\"dataframe\">\n",
       "  <thead>\n",
       "    <tr style=\"text-align: right;\">\n",
       "      <th></th>\n",
       "      <th>Close</th>\n",
       "      <th>Start</th>\n",
       "      <th>High</th>\n",
       "      <th>Low</th>\n",
       "      <th>Volume</th>\n",
       "      <th>year</th>\n",
       "      <th>month</th>\n",
       "      <th>day</th>\n",
       "    </tr>\n",
       "    <tr>\n",
       "      <th>New_Date</th>\n",
       "      <th></th>\n",
       "      <th></th>\n",
       "      <th></th>\n",
       "      <th></th>\n",
       "      <th></th>\n",
       "      <th></th>\n",
       "      <th></th>\n",
       "      <th></th>\n",
       "    </tr>\n",
       "  </thead>\n",
       "  <tbody>\n",
       "    <tr>\n",
       "      <th>2018-07-02</th>\n",
       "      <td>10100</td>\n",
       "      <td>10850</td>\n",
       "      <td>10900</td>\n",
       "      <td>10000</td>\n",
       "      <td>137977</td>\n",
       "      <td>2018</td>\n",
       "      <td>7</td>\n",
       "      <td>2</td>\n",
       "    </tr>\n",
       "    <tr>\n",
       "      <th>2018-06-29</th>\n",
       "      <td>10700</td>\n",
       "      <td>10550</td>\n",
       "      <td>10900</td>\n",
       "      <td>9990</td>\n",
       "      <td>170253</td>\n",
       "      <td>2018</td>\n",
       "      <td>6</td>\n",
       "      <td>29</td>\n",
       "    </tr>\n",
       "    <tr>\n",
       "      <th>2018-06-28</th>\n",
       "      <td>10400</td>\n",
       "      <td>10900</td>\n",
       "      <td>10950</td>\n",
       "      <td>10150</td>\n",
       "      <td>155769</td>\n",
       "      <td>2018</td>\n",
       "      <td>6</td>\n",
       "      <td>28</td>\n",
       "    </tr>\n",
       "    <tr>\n",
       "      <th>2018-06-27</th>\n",
       "      <td>10900</td>\n",
       "      <td>10800</td>\n",
       "      <td>11050</td>\n",
       "      <td>10500</td>\n",
       "      <td>133548</td>\n",
       "      <td>2018</td>\n",
       "      <td>6</td>\n",
       "      <td>27</td>\n",
       "    </tr>\n",
       "    <tr>\n",
       "      <th>2018-06-26</th>\n",
       "      <td>10800</td>\n",
       "      <td>10900</td>\n",
       "      <td>11000</td>\n",
       "      <td>10700</td>\n",
       "      <td>63039</td>\n",
       "      <td>2018</td>\n",
       "      <td>6</td>\n",
       "      <td>26</td>\n",
       "    </tr>\n",
       "  </tbody>\n",
       "</table>\n",
       "</div>"
      ],
      "text/plain": [
       "            Close  Start   High    Low  Volume  year  month  day\n",
       "New_Date                                                        \n",
       "2018-07-02  10100  10850  10900  10000  137977  2018      7    2\n",
       "2018-06-29  10700  10550  10900   9990  170253  2018      6   29\n",
       "2018-06-28  10400  10900  10950  10150  155769  2018      6   28\n",
       "2018-06-27  10900  10800  11050  10500  133548  2018      6   27\n",
       "2018-06-26  10800  10900  11000  10700   63039  2018      6   26"
      ]
     },
     "execution_count": 32,
     "metadata": {},
     "output_type": "execute_result"
    }
   ],
   "source": [
    "df.set_index('New_Date',inplace=True)\n",
    "df.head()"
   ]
  },
  {
   "cell_type": "code",
   "execution_count": 33,
   "id": "9fb06eb8",
   "metadata": {},
   "outputs": [
    {
     "data": {
      "text/plain": [
       "DatetimeIndex(['2018-07-02', '2018-06-29', '2018-06-28', '2018-06-27',\n",
       "               '2018-06-26', '2018-06-25', '2018-06-22', '2018-06-21',\n",
       "               '2018-06-20', '2018-06-19', '2018-06-18', '2018-06-15',\n",
       "               '2018-06-14', '2018-06-12', '2018-06-11', '2018-06-08',\n",
       "               '2018-06-07', '2018-06-05', '2018-06-04', '2018-06-01'],\n",
       "              dtype='datetime64[ns]', name='New_Date', freq=None)"
      ]
     },
     "execution_count": 33,
     "metadata": {},
     "output_type": "execute_result"
    }
   ],
   "source": [
    "df.index"
   ]
  },
  {
   "cell_type": "code",
   "execution_count": 35,
   "id": "fb0c0e87",
   "metadata": {},
   "outputs": [
    {
     "data": {
      "text/html": [
       "<div>\n",
       "<style scoped>\n",
       "    .dataframe tbody tr th:only-of-type {\n",
       "        vertical-align: middle;\n",
       "    }\n",
       "\n",
       "    .dataframe tbody tr th {\n",
       "        vertical-align: top;\n",
       "    }\n",
       "\n",
       "    .dataframe thead th {\n",
       "        text-align: right;\n",
       "    }\n",
       "</style>\n",
       "<table border=\"1\" class=\"dataframe\">\n",
       "  <thead>\n",
       "    <tr style=\"text-align: right;\">\n",
       "      <th></th>\n",
       "      <th>Close</th>\n",
       "      <th>Start</th>\n",
       "      <th>High</th>\n",
       "      <th>Low</th>\n",
       "      <th>Volume</th>\n",
       "      <th>year</th>\n",
       "      <th>month</th>\n",
       "      <th>day</th>\n",
       "    </tr>\n",
       "    <tr>\n",
       "      <th>New_Date</th>\n",
       "      <th></th>\n",
       "      <th></th>\n",
       "      <th></th>\n",
       "      <th></th>\n",
       "      <th></th>\n",
       "      <th></th>\n",
       "      <th></th>\n",
       "      <th></th>\n",
       "    </tr>\n",
       "  </thead>\n",
       "  <tbody>\n",
       "    <tr>\n",
       "      <th>2018-06-29</th>\n",
       "      <td>10700</td>\n",
       "      <td>10550</td>\n",
       "      <td>10900</td>\n",
       "      <td>9990</td>\n",
       "      <td>170253</td>\n",
       "      <td>2018</td>\n",
       "      <td>6</td>\n",
       "      <td>29</td>\n",
       "    </tr>\n",
       "    <tr>\n",
       "      <th>2018-06-28</th>\n",
       "      <td>10400</td>\n",
       "      <td>10900</td>\n",
       "      <td>10950</td>\n",
       "      <td>10150</td>\n",
       "      <td>155769</td>\n",
       "      <td>2018</td>\n",
       "      <td>6</td>\n",
       "      <td>28</td>\n",
       "    </tr>\n",
       "    <tr>\n",
       "      <th>2018-06-27</th>\n",
       "      <td>10900</td>\n",
       "      <td>10800</td>\n",
       "      <td>11050</td>\n",
       "      <td>10500</td>\n",
       "      <td>133548</td>\n",
       "      <td>2018</td>\n",
       "      <td>6</td>\n",
       "      <td>27</td>\n",
       "    </tr>\n",
       "  </tbody>\n",
       "</table>\n",
       "</div>"
      ],
      "text/plain": [
       "            Close  Start   High    Low  Volume  year  month  day\n",
       "New_Date                                                        \n",
       "2018-06-29  10700  10550  10900   9990  170253  2018      6   29\n",
       "2018-06-28  10400  10900  10950  10150  155769  2018      6   28\n",
       "2018-06-27  10900  10800  11050  10500  133548  2018      6   27"
      ]
     },
     "execution_count": 35,
     "metadata": {},
     "output_type": "execute_result"
    }
   ],
   "source": [
    "df_ymd_range = df['2018-06-26':'2018-06-29'] ### 날짜순 슬라이싱이 아닌 df 인덱스의 슬라이싱!\n",
    "df_ymd_range"
   ]
  },
  {
   "cell_type": "code",
   "execution_count": 36,
   "id": "7b1942db",
   "metadata": {},
   "outputs": [
    {
     "data": {
      "text/html": [
       "<div>\n",
       "<style scoped>\n",
       "    .dataframe tbody tr th:only-of-type {\n",
       "        vertical-align: middle;\n",
       "    }\n",
       "\n",
       "    .dataframe tbody tr th {\n",
       "        vertical-align: top;\n",
       "    }\n",
       "\n",
       "    .dataframe thead th {\n",
       "        text-align: right;\n",
       "    }\n",
       "</style>\n",
       "<table border=\"1\" class=\"dataframe\">\n",
       "  <thead>\n",
       "    <tr style=\"text-align: right;\">\n",
       "      <th></th>\n",
       "      <th>Close</th>\n",
       "      <th>Start</th>\n",
       "      <th>High</th>\n",
       "      <th>Low</th>\n",
       "      <th>Volume</th>\n",
       "      <th>year</th>\n",
       "      <th>month</th>\n",
       "      <th>day</th>\n",
       "    </tr>\n",
       "    <tr>\n",
       "      <th>New_Date</th>\n",
       "      <th></th>\n",
       "      <th></th>\n",
       "      <th></th>\n",
       "      <th></th>\n",
       "      <th></th>\n",
       "      <th></th>\n",
       "      <th></th>\n",
       "      <th></th>\n",
       "    </tr>\n",
       "  </thead>\n",
       "  <tbody>\n",
       "    <tr>\n",
       "      <th>2018-07-02</th>\n",
       "      <td>10100</td>\n",
       "      <td>10850</td>\n",
       "      <td>10900</td>\n",
       "      <td>10000</td>\n",
       "      <td>137977</td>\n",
       "      <td>2018</td>\n",
       "      <td>7</td>\n",
       "      <td>2</td>\n",
       "    </tr>\n",
       "  </tbody>\n",
       "</table>\n",
       "</div>"
      ],
      "text/plain": [
       "            Close  Start   High    Low  Volume  year  month  day\n",
       "New_Date                                                        \n",
       "2018-07-02  10100  10850  10900  10000  137977  2018      7    2"
      ]
     },
     "execution_count": 36,
     "metadata": {},
     "output_type": "execute_result"
    }
   ],
   "source": [
    "df_ym = df.loc['2018-07']\n",
    "df_ym"
   ]
  },
  {
   "cell_type": "code",
   "execution_count": 37,
   "id": "f47e112d",
   "metadata": {
    "scrolled": true
   },
   "outputs": [
    {
     "data": {
      "text/plain": [
       "2011-01-02    1.349013\n",
       "2011-01-02    0.183756\n",
       "2011-01-07   -0.201122\n",
       "2011-01-08    1.861460\n",
       "2011-01-10    0.600513\n",
       "2011-01-12    1.286857\n",
       "dtype: float64"
      ]
     },
     "execution_count": 37,
     "metadata": {},
     "output_type": "execute_result"
    }
   ],
   "source": [
    "# Time Series Basics\n",
    "\n",
    "import numpy as np\n",
    "import pandas as pd\n",
    "from datetime import datetime\n",
    "dates = [datetime(2011,1,2),datetime(2011,1,2),\n",
    "        datetime(2011,1,7),datetime(2011,1,8),\n",
    "        datetime(2011,1,10),datetime(2011,1,12)] \n",
    "ts = pd.Series(np.random.randn(6), index=dates) ### randn 은 표준정규분포에서 샘플링한 난수 반환\n",
    "ts"
   ]
  },
  {
   "cell_type": "code",
   "execution_count": 38,
   "id": "37a590f1",
   "metadata": {
    "scrolled": true
   },
   "outputs": [
    {
     "data": {
      "text/plain": [
       "DatetimeIndex(['2011-01-02', '2011-01-02', '2011-01-07', '2011-01-08',\n",
       "               '2011-01-10', '2011-01-12'],\n",
       "              dtype='datetime64[ns]', freq=None)"
      ]
     },
     "execution_count": 38,
     "metadata": {},
     "output_type": "execute_result"
    }
   ],
   "source": [
    "ts.index"
   ]
  },
  {
   "cell_type": "code",
   "execution_count": 39,
   "id": "98020e37",
   "metadata": {},
   "outputs": [
    {
     "data": {
      "text/plain": [
       "2011-01-02    1.349013\n",
       "2011-01-07   -0.201122\n",
       "2011-01-10    0.600513\n",
       "dtype: float64"
      ]
     },
     "execution_count": 39,
     "metadata": {},
     "output_type": "execute_result"
    }
   ],
   "source": [
    "ts[::2]"
   ]
  },
  {
   "cell_type": "code",
   "execution_count": 40,
   "id": "66884a38",
   "metadata": {},
   "outputs": [
    {
     "data": {
      "text/plain": [
       "2011-01-02    2.698026\n",
       "2011-01-02    1.532769\n",
       "2011-01-07   -0.402245\n",
       "2011-01-08         NaN\n",
       "2011-01-10    1.201025\n",
       "2011-01-12         NaN\n",
       "dtype: float64"
      ]
     },
     "execution_count": 40,
     "metadata": {},
     "output_type": "execute_result"
    }
   ],
   "source": [
    "ts + ts[::2] ### ts[::2]에 없는 인덱스(2011-01-08,2011-01-12)는 NaN이 되고, \n",
    "### ts와 ts[::2] 인덱스 같은 것 끼리 더해짐\n",
    "### 2011-01-02처럼 같은 인덱스 여러개 있는 경우, 동일하게 다 더해짐!"
   ]
  },
  {
   "cell_type": "code",
   "execution_count": 41,
   "id": "422918cc",
   "metadata": {},
   "outputs": [
    {
     "data": {
      "text/plain": [
       "Timestamp('2011-01-02 00:00:00')"
      ]
     },
     "execution_count": 41,
     "metadata": {},
     "output_type": "execute_result"
    }
   ],
   "source": [
    "ts.index[0]"
   ]
  },
  {
   "cell_type": "code",
   "execution_count": 42,
   "id": "c6cb26a8",
   "metadata": {},
   "outputs": [
    {
     "data": {
      "text/plain": [
       "Timestamp('2011-01-07 00:00:00')"
      ]
     },
     "execution_count": 42,
     "metadata": {},
     "output_type": "execute_result"
    }
   ],
   "source": [
    "ts.index[2]"
   ]
  },
  {
   "cell_type": "code",
   "execution_count": 43,
   "id": "653bfa18",
   "metadata": {},
   "outputs": [
    {
     "data": {
      "text/plain": [
       "-0.20112247542389494"
      ]
     },
     "execution_count": 43,
     "metadata": {},
     "output_type": "execute_result"
    }
   ],
   "source": [
    "# Indexing, Selection, Subsetting\n",
    "stamp = ts.index[2]\n",
    "ts[stamp]"
   ]
  },
  {
   "cell_type": "code",
   "execution_count": 44,
   "id": "a9abd102",
   "metadata": {},
   "outputs": [
    {
     "name": "stdout",
     "output_type": "stream",
     "text": [
      "0.6005126078435029\n"
     ]
    },
    {
     "data": {
      "text/plain": [
       "0.6005126078435029"
      ]
     },
     "execution_count": 44,
     "metadata": {},
     "output_type": "execute_result"
    }
   ],
   "source": [
    "# 2011-01-10    1.089753\n",
    "print(ts['1/10/2011']) ### 표현이 달라도 알아서 인식함\n",
    "ts['20110110']"
   ]
  },
  {
   "cell_type": "code",
   "execution_count": 45,
   "id": "a9b995d3",
   "metadata": {},
   "outputs": [
    {
     "name": "stdout",
     "output_type": "stream",
     "text": [
      "2000-01-01   -0.443243\n",
      "2000-01-02   -1.837069\n",
      "2000-01-03    0.968654\n",
      "2000-01-04   -0.539764\n",
      "2000-01-05   -1.881831\n",
      "                ...   \n",
      "2002-09-22   -0.582800\n",
      "2002-09-23   -0.349628\n",
      "2002-09-24    0.040350\n",
      "2002-09-25    0.076248\n",
      "2002-09-26    0.541007\n",
      "Freq: D, Length: 1000, dtype: float64 \n",
      "\n"
     ]
    }
   ],
   "source": [
    "longer_ts = pd.Series(np.random.randn(1000),\n",
    "                     index = pd.date_range('1/1/2000', periods = 1000)) ### range 2000.1.1부터 하루씩 1000일\n",
    "print(longer_ts,'\\n')"
   ]
  },
  {
   "cell_type": "code",
   "execution_count": 47,
   "id": "f5cd4623",
   "metadata": {},
   "outputs": [
    {
     "data": {
      "text/plain": [
       "2001-01-01   -0.388502\n",
       "2001-01-02   -0.168791\n",
       "2001-01-03    0.708837\n",
       "2001-01-04    0.511791\n",
       "2001-01-05   -1.070712\n",
       "                ...   \n",
       "2001-12-27    0.247256\n",
       "2001-12-28   -0.442872\n",
       "2001-12-29    0.474542\n",
       "2001-12-30    0.400551\n",
       "2001-12-31   -0.412641\n",
       "Freq: D, Length: 365, dtype: float64"
      ]
     },
     "execution_count": 47,
     "metadata": {},
     "output_type": "execute_result"
    }
   ],
   "source": [
    "longer_ts['2001'] ### 인덱스 다 입력 안해도 2001년도만 뽑아줌"
   ]
  },
  {
   "cell_type": "code",
   "execution_count": 48,
   "id": "1124a129",
   "metadata": {},
   "outputs": [
    {
     "data": {
      "text/plain": [
       "2001-05-01    1.999364\n",
       "2001-05-02   -0.676287\n",
       "2001-05-03   -1.530256\n",
       "2001-05-04   -1.375676\n",
       "2001-05-05    0.275084\n",
       "2001-05-06    0.184868\n",
       "2001-05-07   -1.620718\n",
       "2001-05-08   -1.011855\n",
       "2001-05-09   -0.876020\n",
       "2001-05-10   -0.997979\n",
       "2001-05-11    1.107001\n",
       "2001-05-12   -0.428649\n",
       "2001-05-13   -0.804766\n",
       "2001-05-14    0.409463\n",
       "2001-05-15    1.315120\n",
       "2001-05-16    0.548704\n",
       "2001-05-17   -0.531163\n",
       "2001-05-18    1.330929\n",
       "2001-05-19   -0.672634\n",
       "2001-05-20   -1.215581\n",
       "2001-05-21    1.232940\n",
       "2001-05-22    0.630511\n",
       "2001-05-23    0.913805\n",
       "2001-05-24    1.526718\n",
       "2001-05-25   -0.719459\n",
       "2001-05-26   -0.267135\n",
       "2001-05-27    0.617971\n",
       "2001-05-28   -0.903266\n",
       "2001-05-29   -0.524697\n",
       "2001-05-30   -1.529386\n",
       "2001-05-31    0.448432\n",
       "Freq: D, dtype: float64"
      ]
     },
     "execution_count": 48,
     "metadata": {},
     "output_type": "execute_result"
    }
   ],
   "source": [
    "longer_ts['2001/05'] ### 년도/월까지 뽑rl"
   ]
  },
  {
   "cell_type": "code",
   "execution_count": 49,
   "id": "dc26de59",
   "metadata": {
    "scrolled": true
   },
   "outputs": [
    {
     "data": {
      "text/plain": [
       "2011-01-07   -0.201122\n",
       "2011-01-08    1.861460\n",
       "2011-01-10    0.600513\n",
       "2011-01-12    1.286857\n",
       "dtype: float64"
      ]
     },
     "execution_count": 49,
     "metadata": {},
     "output_type": "execute_result"
    }
   ],
   "source": [
    "ts[datetime(2011,1,7):]"
   ]
  },
  {
   "cell_type": "code",
   "execution_count": 50,
   "id": "cd4282e4",
   "metadata": {},
   "outputs": [
    {
     "name": "stdout",
     "output_type": "stream",
     "text": [
      "2011-01-07   -0.201122\n",
      "2011-01-08    1.861460\n",
      "2011-01-10    0.600513\n",
      "dtype: float64\n"
     ]
    }
   ],
   "source": [
    "# truncate ### 자르기\n",
    "print(ts.truncate(before='2011-01-07',after='2011-01-10')) ### before=x, after=y -> x 전. y 후 자름(x,y는 안자름)"
   ]
  },
  {
   "cell_type": "code",
   "execution_count": 51,
   "id": "5f136514",
   "metadata": {},
   "outputs": [
    {
     "name": "stdout",
     "output_type": "stream",
     "text": [
      "2011-01-02    1.349013\n",
      "2011-01-02    0.183756\n",
      "2011-01-07   -0.201122\n",
      "2011-01-08    1.861460\n",
      "dtype: float64\n"
     ]
    }
   ],
   "source": [
    "print(ts.truncate(after='1/9/2011')) ### after=y -> y 이후로 자름"
   ]
  },
  {
   "cell_type": "code",
   "execution_count": 52,
   "id": "9266d7c2",
   "metadata": {},
   "outputs": [
    {
     "data": {
      "text/plain": [
       "DatetimeIndex(['2020-10-07', '2020-10-08', '2020-10-09', '2020-10-10',\n",
       "               '2020-10-11', '2020-10-12', '2020-10-13', '2020-10-14',\n",
       "               '2020-10-15', '2020-10-16', '2020-10-17', '2020-10-18',\n",
       "               '2020-10-19', '2020-10-20'],\n",
       "              dtype='datetime64[ns]', freq='D')"
      ]
     },
     "execution_count": 52,
     "metadata": {},
     "output_type": "execute_result"
    }
   ],
   "source": [
    "pd.date_range('2020-10-7','2020-10-20')"
   ]
  },
  {
   "cell_type": "code",
   "execution_count": 53,
   "id": "ab7c13aa",
   "metadata": {},
   "outputs": [
    {
     "data": {
      "text/plain": [
       "DatetimeIndex(['2022-01-10 02:26:02.653295', '2022-01-11 02:26:02.653295',\n",
       "               '2022-01-12 02:26:02.653295', '2022-01-13 02:26:02.653295',\n",
       "               '2022-01-14 02:26:02.653295', '2022-01-15 02:26:02.653295',\n",
       "               '2022-01-16 02:26:02.653295', '2022-01-17 02:26:02.653295',\n",
       "               '2022-01-18 02:26:02.653295', '2022-01-19 02:26:02.653295',\n",
       "               '2022-01-20 02:26:02.653295', '2022-01-21 02:26:02.653295',\n",
       "               '2022-01-22 02:26:02.653295', '2022-01-23 02:26:02.653295'],\n",
       "              dtype='datetime64[ns]', freq='D')"
      ]
     },
     "execution_count": 53,
     "metadata": {},
     "output_type": "execute_result"
    }
   ],
   "source": [
    "from datetime import datetime\n",
    "from datetime import timedelta\n",
    "\n",
    "now = datetime.now()\n",
    "in_two_weeks = now + timedelta(weeks=2) ### now + 2주\n",
    "pd.date_range(datetime.now(),in_two_weeks) ### 범위를 오늘부터 2주뒤까지"
   ]
  },
  {
   "cell_type": "code",
   "execution_count": 54,
   "id": "cebbef91",
   "metadata": {},
   "outputs": [
    {
     "data": {
      "text/plain": [
       "DatetimeIndex(['2020-10-01 00:00:00', '2020-10-05 18:00:00',\n",
       "               '2020-10-10 12:00:00', '2020-10-15 06:00:00',\n",
       "               '2020-10-20 00:00:00'],\n",
       "              dtype='datetime64[ns]', freq=None)"
      ]
     },
     "execution_count": 54,
     "metadata": {},
     "output_type": "execute_result"
    }
   ],
   "source": [
    "# periods 매개변수는 date_range 함수에 전달된 시작날짜와 종료날짜를\n",
    "# periods 매개변수에 전달된 기준의 수만큼 동일하게 나누어 출력\n",
    "pd.date_range(start='2020-10-01',end='2020-10-20',periods=5)\n",
    "### 시간까지 포함해서 입력한 수 만큼 동일한 간격으로 나눔"
   ]
  },
  {
   "cell_type": "code",
   "execution_count": 55,
   "id": "d6bc33d9",
   "metadata": {},
   "outputs": [
    {
     "data": {
      "text/plain": [
       "DatetimeIndex(['2012-05-02', '2012-05-03', '2012-05-04', '2012-05-05',\n",
       "               '2012-05-06'],\n",
       "              dtype='datetime64[ns]', freq='D')"
      ]
     },
     "execution_count": 55,
     "metadata": {},
     "output_type": "execute_result"
    }
   ],
   "source": [
    "pd.date_range('2012-05-02 12:56:31', periods = 5, normalize=True) ### normalize=True 하면 날짜만 나옴\n",
    "### range에 넣은 날 부터 periods 수의 날 만큼까지"
   ]
  },
  {
   "cell_type": "markdown",
   "id": "24c29bb1",
   "metadata": {},
   "source": [
    "freq 매개변수에 사용되는 Frequncy strings\n",
    "- A >> calendar year end frequency\n",
    "- B\t>> business day frequency\n",
    "- C\t>> custom business day frequency\n",
    "- D\t>> calendar day frequency\n",
    "- W\t>> weekly frequency\n",
    "- M\t>> month end frequency\n",
    "- SM >> semi-month end frequency (15th and end of month)\n",
    "- BM >> business month end frequency\n",
    "- CBM >> custom business month end frequency\n",
    "- MS >> month start frequency\n",
    "- SMS >> semi-month start frequency (1st and 15th)\n",
    "- BMS >> business month start frequency\n",
    "- CBMS >> custom business month start frequency\n",
    "- Q >> quarter end frequency\n"
   ]
  },
  {
   "cell_type": "code",
   "execution_count": 56,
   "id": "da60cba6",
   "metadata": {
    "scrolled": false
   },
   "outputs": [
    {
     "name": "stdout",
     "output_type": "stream",
     "text": [
      "DatetimeIndex(['2000-01-05', '2000-01-12', '2000-01-19', '2000-01-26',\n",
      "               '2000-02-02', '2000-02-09', '2000-02-16', '2000-02-23',\n",
      "               '2000-03-01', '2000-03-08', '2000-03-15', '2000-03-22',\n",
      "               '2000-03-29', '2000-04-05', '2000-04-12', '2000-04-19',\n",
      "               '2000-04-26', '2000-05-03', '2000-05-10', '2000-05-17',\n",
      "               '2000-05-24', '2000-05-31', '2000-06-07', '2000-06-14',\n",
      "               '2000-06-21', '2000-06-28', '2000-07-05', '2000-07-12',\n",
      "               '2000-07-19', '2000-07-26', '2000-08-02', '2000-08-09',\n",
      "               '2000-08-16', '2000-08-23', '2000-08-30', '2000-09-06',\n",
      "               '2000-09-13', '2000-09-20', '2000-09-27', '2000-10-04',\n",
      "               '2000-10-11', '2000-10-18', '2000-10-25', '2000-11-01',\n",
      "               '2000-11-08', '2000-11-15', '2000-11-22', '2000-11-29',\n",
      "               '2000-12-06', '2000-12-13', '2000-12-20', '2000-12-27',\n",
      "               '2001-01-03', '2001-01-10', '2001-01-17', '2001-01-24',\n",
      "               '2001-01-31', '2001-02-07', '2001-02-14', '2001-02-21',\n",
      "               '2001-02-28', '2001-03-07', '2001-03-14', '2001-03-21',\n",
      "               '2001-03-28', '2001-04-04', '2001-04-11', '2001-04-18',\n",
      "               '2001-04-25', '2001-05-02', '2001-05-09', '2001-05-16',\n",
      "               '2001-05-23', '2001-05-30', '2001-06-06', '2001-06-13',\n",
      "               '2001-06-20', '2001-06-27', '2001-07-04', '2001-07-11',\n",
      "               '2001-07-18', '2001-07-25', '2001-08-01', '2001-08-08',\n",
      "               '2001-08-15', '2001-08-22', '2001-08-29', '2001-09-05',\n",
      "               '2001-09-12', '2001-09-19', '2001-09-26', '2001-10-03',\n",
      "               '2001-10-10', '2001-10-17', '2001-10-24', '2001-10-31',\n",
      "               '2001-11-07', '2001-11-14', '2001-11-21', '2001-11-28'],\n",
      "              dtype='datetime64[ns]', freq='W-WED')\n"
     ]
    }
   ],
   "source": [
    "import numpy as np\n",
    "dates = pd.date_range('1/1/2000', periods=100, freq='W-WED') ### 매주 수요일 간격으로 설정\n",
    "print(dates)"
   ]
  },
  {
   "cell_type": "code",
   "execution_count": 57,
   "id": "971004b9",
   "metadata": {},
   "outputs": [
    {
     "name": "stdout",
     "output_type": "stream",
     "text": [
      "            Colorado     Texas  New York      Ohio\n",
      "2000-01-05  1.593388  0.234168 -0.873761 -0.425124\n",
      "2000-01-12 -1.251838  0.624370  0.463589  0.912833\n",
      "2000-01-19 -0.156623 -0.560308 -1.692450  1.021123\n",
      "2000-01-26  2.089746  1.880892 -0.139069  1.485219\n",
      "2000-02-02  1.028679  2.053176 -0.522903  1.192613\n",
      "...              ...       ...       ...       ...\n",
      "2001-10-31 -1.329808 -1.383778  0.159931  1.737335\n",
      "2001-11-07 -0.917415  0.512790  0.353080 -0.488053\n",
      "2001-11-14  0.418068  0.799674 -0.487090  0.376039\n",
      "2001-11-21 -0.319277  0.988083  0.339607  0.121116\n",
      "2001-11-28 -0.084787 -0.371821  0.258158 -1.606321\n",
      "\n",
      "[100 rows x 4 columns] \n",
      "\n"
     ]
    },
    {
     "data": {
      "text/html": [
       "<div>\n",
       "<style scoped>\n",
       "    .dataframe tbody tr th:only-of-type {\n",
       "        vertical-align: middle;\n",
       "    }\n",
       "\n",
       "    .dataframe tbody tr th {\n",
       "        vertical-align: top;\n",
       "    }\n",
       "\n",
       "    .dataframe thead th {\n",
       "        text-align: right;\n",
       "    }\n",
       "</style>\n",
       "<table border=\"1\" class=\"dataframe\">\n",
       "  <thead>\n",
       "    <tr style=\"text-align: right;\">\n",
       "      <th></th>\n",
       "      <th>Colorado</th>\n",
       "      <th>Texas</th>\n",
       "      <th>New York</th>\n",
       "      <th>Ohio</th>\n",
       "    </tr>\n",
       "  </thead>\n",
       "  <tbody>\n",
       "    <tr>\n",
       "      <th>2001-06-06</th>\n",
       "      <td>0.896163</td>\n",
       "      <td>-1.235763</td>\n",
       "      <td>2.649754</td>\n",
       "      <td>0.080164</td>\n",
       "    </tr>\n",
       "    <tr>\n",
       "      <th>2001-06-13</th>\n",
       "      <td>2.625813</td>\n",
       "      <td>-1.174960</td>\n",
       "      <td>-0.327806</td>\n",
       "      <td>-1.115465</td>\n",
       "    </tr>\n",
       "    <tr>\n",
       "      <th>2001-06-20</th>\n",
       "      <td>0.004679</td>\n",
       "      <td>-0.941806</td>\n",
       "      <td>-2.735752</td>\n",
       "      <td>-0.261407</td>\n",
       "    </tr>\n",
       "    <tr>\n",
       "      <th>2001-06-27</th>\n",
       "      <td>1.235746</td>\n",
       "      <td>0.299654</td>\n",
       "      <td>-1.780422</td>\n",
       "      <td>0.520302</td>\n",
       "    </tr>\n",
       "  </tbody>\n",
       "</table>\n",
       "</div>"
      ],
      "text/plain": [
       "            Colorado     Texas  New York      Ohio\n",
       "2001-06-06  0.896163 -1.235763  2.649754  0.080164\n",
       "2001-06-13  2.625813 -1.174960 -0.327806 -1.115465\n",
       "2001-06-20  0.004679 -0.941806 -2.735752 -0.261407\n",
       "2001-06-27  1.235746  0.299654 -1.780422  0.520302"
      ]
     },
     "execution_count": 57,
     "metadata": {},
     "output_type": "execute_result"
    }
   ],
   "source": [
    "long_df = pd.DataFrame(np.random.randn(100,4),\n",
    "                      index = dates,\n",
    "                      columns = ['Colorado','Texas','New York','Ohio'])\n",
    "print(long_df,'\\n')\n",
    "long_df.loc['2001-06'] ### 2001-06만 보기"
   ]
  },
  {
   "cell_type": "code",
   "execution_count": 58,
   "id": "4be5baad",
   "metadata": {
    "scrolled": false
   },
   "outputs": [
    {
     "data": {
      "text/plain": [
       "2000-01-01    0\n",
       "2000-01-02    1\n",
       "2000-01-02    2\n",
       "2000-01-02    3\n",
       "2000-01-03    4\n",
       "dtype: int64"
      ]
     },
     "execution_count": 58,
     "metadata": {},
     "output_type": "execute_result"
    }
   ],
   "source": [
    "dates = pd.DatetimeIndex(['1/1/2000','1/2/2000','1/2/2000','1/2/2000',\n",
    "                         '1/3/2000'])\n",
    "dup_ts = pd.Series(np.arange(5),index=dates)\n",
    "dup_ts"
   ]
  },
  {
   "cell_type": "code",
   "execution_count": 59,
   "id": "bbc43c0c",
   "metadata": {},
   "outputs": [
    {
     "data": {
      "text/plain": [
       "pandas.core.indexes.datetimes.DatetimeIndex"
      ]
     },
     "execution_count": 59,
     "metadata": {},
     "output_type": "execute_result"
    }
   ],
   "source": [
    "type(dates)"
   ]
  },
  {
   "cell_type": "code",
   "execution_count": 60,
   "id": "35b3f9f9",
   "metadata": {},
   "outputs": [
    {
     "data": {
      "text/plain": [
       "False"
      ]
     },
     "execution_count": 60,
     "metadata": {},
     "output_type": "execute_result"
    }
   ],
   "source": [
    "dup_ts.index.is_unique ### 같은 날짜 3개 있는게 있으므로 False"
   ]
  },
  {
   "cell_type": "code",
   "execution_count": 61,
   "id": "77e2e1ed",
   "metadata": {},
   "outputs": [
    {
     "data": {
      "text/plain": [
       "4"
      ]
     },
     "execution_count": 61,
     "metadata": {},
     "output_type": "execute_result"
    }
   ],
   "source": [
    "dup_ts['1/3/2000'] # not duplicated의 경우 스칼라 값 ### value"
   ]
  },
  {
   "cell_type": "code",
   "execution_count": 62,
   "id": "f3c20ac2",
   "metadata": {},
   "outputs": [
    {
     "data": {
      "text/plain": [
       "2000-01-02    1\n",
       "2000-01-02    2\n",
       "2000-01-02    3\n",
       "dtype: int64"
      ]
     },
     "execution_count": 62,
     "metadata": {},
     "output_type": "execute_result"
    }
   ],
   "source": [
    "dup_ts['1/2/2000'] # duplicated의 경우 슬라이스 출력 ### values"
   ]
  },
  {
   "cell_type": "code",
   "execution_count": 63,
   "id": "53ce2750",
   "metadata": {},
   "outputs": [
    {
     "name": "stdout",
     "output_type": "stream",
     "text": [
      "2000-01-01    0.0\n",
      "2000-01-02    2.0\n",
      "2000-01-03    4.0\n",
      "dtype: float64\n"
     ]
    },
    {
     "data": {
      "text/plain": [
       "2000-01-01    1\n",
       "2000-01-02    3\n",
       "2000-01-03    1\n",
       "dtype: int64"
      ]
     },
     "execution_count": 63,
     "metadata": {},
     "output_type": "execute_result"
    }
   ],
   "source": [
    "grouped = dup_ts.groupby(level=0)\n",
    "print(grouped.mean())\n",
    "grouped.count()"
   ]
  },
  {
   "cell_type": "code",
   "execution_count": 64,
   "id": "bae11c1f",
   "metadata": {},
   "outputs": [
    {
     "data": {
      "text/plain": [
       "DatetimeIndex(['2000-01-01 00:00:00', '2000-01-01 04:00:00',\n",
       "               '2000-01-01 08:00:00', '2000-01-01 12:00:00',\n",
       "               '2000-01-01 16:00:00', '2000-01-01 20:00:00',\n",
       "               '2000-01-02 00:00:00', '2000-01-02 04:00:00',\n",
       "               '2000-01-02 08:00:00', '2000-01-02 12:00:00',\n",
       "               '2000-01-02 16:00:00', '2000-01-02 20:00:00',\n",
       "               '2000-01-03 00:00:00', '2000-01-03 04:00:00',\n",
       "               '2000-01-03 08:00:00', '2000-01-03 12:00:00',\n",
       "               '2000-01-03 16:00:00', '2000-01-03 20:00:00'],\n",
       "              dtype='datetime64[ns]', freq='4H')"
      ]
     },
     "execution_count": 64,
     "metadata": {},
     "output_type": "execute_result"
    }
   ],
   "source": [
    "pd.date_range('2000-01-01','2000-01-03 23:59',freq='4h')\n",
    "### 시작일에 시간 안 주면 00:00:00"
   ]
  },
  {
   "cell_type": "code",
   "execution_count": 65,
   "id": "28d56852",
   "metadata": {},
   "outputs": [
    {
     "data": {
      "text/plain": [
       "<150 * Minutes>"
      ]
     },
     "execution_count": 65,
     "metadata": {},
     "output_type": "execute_result"
    }
   ],
   "source": [
    "from pandas.tseries.offsets import Hour, Minute\n",
    "Hour(2) + Minute(30) ### min으로 환산되서 나옴!"
   ]
  },
  {
   "cell_type": "code",
   "execution_count": 66,
   "id": "59e8d497",
   "metadata": {},
   "outputs": [
    {
     "data": {
      "text/plain": [
       "DatetimeIndex(['2000-01-01 00:00:00', '2000-01-01 01:30:00',\n",
       "               '2000-01-01 03:00:00', '2000-01-01 04:30:00',\n",
       "               '2000-01-01 06:00:00', '2000-01-01 07:30:00',\n",
       "               '2000-01-01 09:00:00', '2000-01-01 10:30:00',\n",
       "               '2000-01-01 12:00:00', '2000-01-01 13:30:00'],\n",
       "              dtype='datetime64[ns]', freq='90T')"
      ]
     },
     "execution_count": 66,
     "metadata": {},
     "output_type": "execute_result"
    }
   ],
   "source": [
    "pd.date_range('2000-01-01',periods=10,freq='1h30min')"
   ]
  },
  {
   "cell_type": "code",
   "execution_count": 67,
   "id": "989f30b4",
   "metadata": {},
   "outputs": [
    {
     "data": {
      "text/plain": [
       "[Timestamp('2000-01-21 00:00:00', freq='WOM-3FRI'),\n",
       " Timestamp('2000-02-18 00:00:00', freq='WOM-3FRI'),\n",
       " Timestamp('2000-03-17 00:00:00', freq='WOM-3FRI'),\n",
       " Timestamp('2000-04-21 00:00:00', freq='WOM-3FRI'),\n",
       " Timestamp('2000-05-19 00:00:00', freq='WOM-3FRI'),\n",
       " Timestamp('2000-06-16 00:00:00', freq='WOM-3FRI'),\n",
       " Timestamp('2000-07-21 00:00:00', freq='WOM-3FRI'),\n",
       " Timestamp('2000-08-18 00:00:00', freq='WOM-3FRI'),\n",
       " Timestamp('2000-09-15 00:00:00', freq='WOM-3FRI'),\n",
       " Timestamp('2000-10-20 00:00:00', freq='WOM-3FRI'),\n",
       " Timestamp('2000-11-17 00:00:00', freq='WOM-3FRI'),\n",
       " Timestamp('2000-12-15 00:00:00', freq='WOM-3FRI'),\n",
       " Timestamp('2001-01-19 00:00:00', freq='WOM-3FRI'),\n",
       " Timestamp('2001-02-16 00:00:00', freq='WOM-3FRI'),\n",
       " Timestamp('2001-03-16 00:00:00', freq='WOM-3FRI'),\n",
       " Timestamp('2001-04-20 00:00:00', freq='WOM-3FRI'),\n",
       " Timestamp('2001-05-18 00:00:00', freq='WOM-3FRI'),\n",
       " Timestamp('2001-06-15 00:00:00', freq='WOM-3FRI'),\n",
       " Timestamp('2001-07-20 00:00:00', freq='WOM-3FRI'),\n",
       " Timestamp('2001-08-17 00:00:00', freq='WOM-3FRI'),\n",
       " Timestamp('2001-09-21 00:00:00', freq='WOM-3FRI'),\n",
       " Timestamp('2001-10-19 00:00:00', freq='WOM-3FRI'),\n",
       " Timestamp('2001-11-16 00:00:00', freq='WOM-3FRI'),\n",
       " Timestamp('2001-12-21 00:00:00', freq='WOM-3FRI'),\n",
       " Timestamp('2002-01-18 00:00:00', freq='WOM-3FRI'),\n",
       " Timestamp('2002-02-15 00:00:00', freq='WOM-3FRI'),\n",
       " Timestamp('2002-03-15 00:00:00', freq='WOM-3FRI'),\n",
       " Timestamp('2002-04-19 00:00:00', freq='WOM-3FRI'),\n",
       " Timestamp('2002-05-17 00:00:00', freq='WOM-3FRI'),\n",
       " Timestamp('2002-06-21 00:00:00', freq='WOM-3FRI'),\n",
       " Timestamp('2002-07-19 00:00:00', freq='WOM-3FRI'),\n",
       " Timestamp('2002-08-16 00:00:00', freq='WOM-3FRI'),\n",
       " Timestamp('2002-09-20 00:00:00', freq='WOM-3FRI'),\n",
       " Timestamp('2002-10-18 00:00:00', freq='WOM-3FRI'),\n",
       " Timestamp('2002-11-15 00:00:00', freq='WOM-3FRI'),\n",
       " Timestamp('2002-12-20 00:00:00', freq='WOM-3FRI'),\n",
       " Timestamp('2003-01-17 00:00:00', freq='WOM-3FRI'),\n",
       " Timestamp('2003-02-21 00:00:00', freq='WOM-3FRI'),\n",
       " Timestamp('2003-03-21 00:00:00', freq='WOM-3FRI'),\n",
       " Timestamp('2003-04-18 00:00:00', freq='WOM-3FRI'),\n",
       " Timestamp('2003-05-16 00:00:00', freq='WOM-3FRI'),\n",
       " Timestamp('2003-06-20 00:00:00', freq='WOM-3FRI'),\n",
       " Timestamp('2003-07-18 00:00:00', freq='WOM-3FRI'),\n",
       " Timestamp('2003-08-15 00:00:00', freq='WOM-3FRI'),\n",
       " Timestamp('2003-09-19 00:00:00', freq='WOM-3FRI'),\n",
       " Timestamp('2003-10-17 00:00:00', freq='WOM-3FRI'),\n",
       " Timestamp('2003-11-21 00:00:00', freq='WOM-3FRI'),\n",
       " Timestamp('2003-12-19 00:00:00', freq='WOM-3FRI'),\n",
       " Timestamp('2004-01-16 00:00:00', freq='WOM-3FRI'),\n",
       " Timestamp('2004-02-20 00:00:00', freq='WOM-3FRI'),\n",
       " Timestamp('2004-03-19 00:00:00', freq='WOM-3FRI'),\n",
       " Timestamp('2004-04-16 00:00:00', freq='WOM-3FRI'),\n",
       " Timestamp('2004-05-21 00:00:00', freq='WOM-3FRI'),\n",
       " Timestamp('2004-06-18 00:00:00', freq='WOM-3FRI'),\n",
       " Timestamp('2004-07-16 00:00:00', freq='WOM-3FRI'),\n",
       " Timestamp('2004-08-20 00:00:00', freq='WOM-3FRI'),\n",
       " Timestamp('2004-09-17 00:00:00', freq='WOM-3FRI'),\n",
       " Timestamp('2004-10-15 00:00:00', freq='WOM-3FRI'),\n",
       " Timestamp('2004-11-19 00:00:00', freq='WOM-3FRI'),\n",
       " Timestamp('2004-12-17 00:00:00', freq='WOM-3FRI'),\n",
       " Timestamp('2005-01-21 00:00:00', freq='WOM-3FRI'),\n",
       " Timestamp('2005-02-18 00:00:00', freq='WOM-3FRI'),\n",
       " Timestamp('2005-03-18 00:00:00', freq='WOM-3FRI'),\n",
       " Timestamp('2005-04-15 00:00:00', freq='WOM-3FRI'),\n",
       " Timestamp('2005-05-20 00:00:00', freq='WOM-3FRI'),\n",
       " Timestamp('2005-06-17 00:00:00', freq='WOM-3FRI'),\n",
       " Timestamp('2005-07-15 00:00:00', freq='WOM-3FRI'),\n",
       " Timestamp('2005-08-19 00:00:00', freq='WOM-3FRI'),\n",
       " Timestamp('2005-09-16 00:00:00', freq='WOM-3FRI'),\n",
       " Timestamp('2005-10-21 00:00:00', freq='WOM-3FRI'),\n",
       " Timestamp('2005-11-18 00:00:00', freq='WOM-3FRI'),\n",
       " Timestamp('2005-12-16 00:00:00', freq='WOM-3FRI'),\n",
       " Timestamp('2006-01-20 00:00:00', freq='WOM-3FRI'),\n",
       " Timestamp('2006-02-17 00:00:00', freq='WOM-3FRI'),\n",
       " Timestamp('2006-03-17 00:00:00', freq='WOM-3FRI'),\n",
       " Timestamp('2006-04-21 00:00:00', freq='WOM-3FRI'),\n",
       " Timestamp('2006-05-19 00:00:00', freq='WOM-3FRI'),\n",
       " Timestamp('2006-06-16 00:00:00', freq='WOM-3FRI'),\n",
       " Timestamp('2006-07-21 00:00:00', freq='WOM-3FRI'),\n",
       " Timestamp('2006-08-18 00:00:00', freq='WOM-3FRI'),\n",
       " Timestamp('2006-09-15 00:00:00', freq='WOM-3FRI'),\n",
       " Timestamp('2006-10-20 00:00:00', freq='WOM-3FRI'),\n",
       " Timestamp('2006-11-17 00:00:00', freq='WOM-3FRI'),\n",
       " Timestamp('2006-12-15 00:00:00', freq='WOM-3FRI'),\n",
       " Timestamp('2007-01-19 00:00:00', freq='WOM-3FRI'),\n",
       " Timestamp('2007-02-16 00:00:00', freq='WOM-3FRI'),\n",
       " Timestamp('2007-03-16 00:00:00', freq='WOM-3FRI'),\n",
       " Timestamp('2007-04-20 00:00:00', freq='WOM-3FRI'),\n",
       " Timestamp('2007-05-18 00:00:00', freq='WOM-3FRI'),\n",
       " Timestamp('2007-06-15 00:00:00', freq='WOM-3FRI'),\n",
       " Timestamp('2007-07-20 00:00:00', freq='WOM-3FRI'),\n",
       " Timestamp('2007-08-17 00:00:00', freq='WOM-3FRI'),\n",
       " Timestamp('2007-09-21 00:00:00', freq='WOM-3FRI'),\n",
       " Timestamp('2007-10-19 00:00:00', freq='WOM-3FRI'),\n",
       " Timestamp('2007-11-16 00:00:00', freq='WOM-3FRI'),\n",
       " Timestamp('2007-12-21 00:00:00', freq='WOM-3FRI'),\n",
       " Timestamp('2008-01-18 00:00:00', freq='WOM-3FRI'),\n",
       " Timestamp('2008-02-15 00:00:00', freq='WOM-3FRI'),\n",
       " Timestamp('2008-03-21 00:00:00', freq='WOM-3FRI'),\n",
       " Timestamp('2008-04-18 00:00:00', freq='WOM-3FRI'),\n",
       " Timestamp('2008-05-16 00:00:00', freq='WOM-3FRI'),\n",
       " Timestamp('2008-06-20 00:00:00', freq='WOM-3FRI'),\n",
       " Timestamp('2008-07-18 00:00:00', freq='WOM-3FRI'),\n",
       " Timestamp('2008-08-15 00:00:00', freq='WOM-3FRI'),\n",
       " Timestamp('2008-09-19 00:00:00', freq='WOM-3FRI'),\n",
       " Timestamp('2008-10-17 00:00:00', freq='WOM-3FRI'),\n",
       " Timestamp('2008-11-21 00:00:00', freq='WOM-3FRI'),\n",
       " Timestamp('2008-12-19 00:00:00', freq='WOM-3FRI'),\n",
       " Timestamp('2009-01-16 00:00:00', freq='WOM-3FRI'),\n",
       " Timestamp('2009-02-20 00:00:00', freq='WOM-3FRI'),\n",
       " Timestamp('2009-03-20 00:00:00', freq='WOM-3FRI'),\n",
       " Timestamp('2009-04-17 00:00:00', freq='WOM-3FRI'),\n",
       " Timestamp('2009-05-15 00:00:00', freq='WOM-3FRI'),\n",
       " Timestamp('2009-06-19 00:00:00', freq='WOM-3FRI'),\n",
       " Timestamp('2009-07-17 00:00:00', freq='WOM-3FRI'),\n",
       " Timestamp('2009-08-21 00:00:00', freq='WOM-3FRI'),\n",
       " Timestamp('2009-09-18 00:00:00', freq='WOM-3FRI'),\n",
       " Timestamp('2009-10-16 00:00:00', freq='WOM-3FRI'),\n",
       " Timestamp('2009-11-20 00:00:00', freq='WOM-3FRI'),\n",
       " Timestamp('2009-12-18 00:00:00', freq='WOM-3FRI'),\n",
       " Timestamp('2010-01-15 00:00:00', freq='WOM-3FRI'),\n",
       " Timestamp('2010-02-19 00:00:00', freq='WOM-3FRI'),\n",
       " Timestamp('2010-03-19 00:00:00', freq='WOM-3FRI'),\n",
       " Timestamp('2010-04-16 00:00:00', freq='WOM-3FRI'),\n",
       " Timestamp('2010-05-21 00:00:00', freq='WOM-3FRI'),\n",
       " Timestamp('2010-06-18 00:00:00', freq='WOM-3FRI'),\n",
       " Timestamp('2010-07-16 00:00:00', freq='WOM-3FRI'),\n",
       " Timestamp('2010-08-20 00:00:00', freq='WOM-3FRI'),\n",
       " Timestamp('2010-09-17 00:00:00', freq='WOM-3FRI'),\n",
       " Timestamp('2010-10-15 00:00:00', freq='WOM-3FRI'),\n",
       " Timestamp('2010-11-19 00:00:00', freq='WOM-3FRI'),\n",
       " Timestamp('2010-12-17 00:00:00', freq='WOM-3FRI'),\n",
       " Timestamp('2011-01-21 00:00:00', freq='WOM-3FRI'),\n",
       " Timestamp('2011-02-18 00:00:00', freq='WOM-3FRI'),\n",
       " Timestamp('2011-03-18 00:00:00', freq='WOM-3FRI'),\n",
       " Timestamp('2011-04-15 00:00:00', freq='WOM-3FRI'),\n",
       " Timestamp('2011-05-20 00:00:00', freq='WOM-3FRI'),\n",
       " Timestamp('2011-06-17 00:00:00', freq='WOM-3FRI'),\n",
       " Timestamp('2011-07-15 00:00:00', freq='WOM-3FRI'),\n",
       " Timestamp('2011-08-19 00:00:00', freq='WOM-3FRI'),\n",
       " Timestamp('2011-09-16 00:00:00', freq='WOM-3FRI'),\n",
       " Timestamp('2011-10-21 00:00:00', freq='WOM-3FRI'),\n",
       " Timestamp('2011-11-18 00:00:00', freq='WOM-3FRI'),\n",
       " Timestamp('2011-12-16 00:00:00', freq='WOM-3FRI'),\n",
       " Timestamp('2012-01-20 00:00:00', freq='WOM-3FRI'),\n",
       " Timestamp('2012-02-17 00:00:00', freq='WOM-3FRI'),\n",
       " Timestamp('2012-03-16 00:00:00', freq='WOM-3FRI'),\n",
       " Timestamp('2012-04-20 00:00:00', freq='WOM-3FRI'),\n",
       " Timestamp('2012-05-18 00:00:00', freq='WOM-3FRI'),\n",
       " Timestamp('2012-06-15 00:00:00', freq='WOM-3FRI'),\n",
       " Timestamp('2012-07-20 00:00:00', freq='WOM-3FRI'),\n",
       " Timestamp('2012-08-17 00:00:00', freq='WOM-3FRI')]"
      ]
     },
     "execution_count": 67,
     "metadata": {},
     "output_type": "execute_result"
    }
   ],
   "source": [
    "rng = pd.date_range('2000-01-01','2012-09-01',freq='WOM-3FRI') ### WOM(week of month)\n",
    "rng\n",
    "list(rng)"
   ]
  },
  {
   "cell_type": "code",
   "execution_count": 68,
   "id": "8a76e3d4",
   "metadata": {},
   "outputs": [
    {
     "data": {
      "text/plain": [
       "datetime.datetime(2021, 7, 20, 0, 0)"
      ]
     },
     "execution_count": 68,
     "metadata": {},
     "output_type": "execute_result"
    }
   ],
   "source": [
    "datetime(2021,7,20)"
   ]
  },
  {
   "cell_type": "code",
   "execution_count": 69,
   "id": "3c26f6d9",
   "metadata": {},
   "outputs": [
    {
     "data": {
      "text/plain": [
       "Timestamp('2011-11-20 00:00:00')"
      ]
     },
     "execution_count": 69,
     "metadata": {},
     "output_type": "execute_result"
    }
   ],
   "source": [
    "from pandas.tseries.offsets import Day, MonthEnd\n",
    "now = datetime(2011, 11, 17)\n",
    "now + 3 * Day() ### 3일 더해주기!"
   ]
  },
  {
   "cell_type": "code",
   "execution_count": 70,
   "id": "f993b910",
   "metadata": {},
   "outputs": [
    {
     "name": "stdout",
     "output_type": "stream",
     "text": [
      "2011-11-30 00:00:00\n"
     ]
    },
    {
     "data": {
      "text/plain": [
       "Timestamp('2011-10-31 00:00:00')"
      ]
     },
     "execution_count": 70,
     "metadata": {},
     "output_type": "execute_result"
    }
   ],
   "source": [
    "offset = MonthEnd() ### 달의 마지막 날\n",
    "print(offset.rollforward(now)) ### 해당 달의 마지막 날\n",
    "offset.rollback(now) ### 전 달의 마지막 날"
   ]
  },
  {
   "cell_type": "markdown",
   "id": "cc318436",
   "metadata": {},
   "source": [
    "# 7/21"
   ]
  },
  {
   "cell_type": "code",
   "execution_count": 71,
   "id": "389cafba",
   "metadata": {},
   "outputs": [
    {
     "data": {
      "text/plain": [
       "Period('2007', 'A-DEC')"
      ]
     },
     "execution_count": 71,
     "metadata": {},
     "output_type": "execute_result"
    }
   ],
   "source": [
    "# Periods and Period Arithmetic\n",
    "import pandas as pd\n",
    "\n",
    "p = pd.Period(2007, freq = 'A-DEC') # A-DEC 연말기준\n",
    "p"
   ]
  },
  {
   "cell_type": "code",
   "execution_count": 72,
   "id": "fd666091",
   "metadata": {},
   "outputs": [
    {
     "name": "stdout",
     "output_type": "stream",
     "text": [
      "2012\n"
     ]
    }
   ],
   "source": [
    "print(p+5)"
   ]
  },
  {
   "cell_type": "code",
   "execution_count": 73,
   "id": "c56ca5be",
   "metadata": {},
   "outputs": [
    {
     "data": {
      "text/plain": [
       "Period('2005', 'A-DEC')"
      ]
     },
     "execution_count": 73,
     "metadata": {},
     "output_type": "execute_result"
    }
   ],
   "source": [
    "p-2"
   ]
  },
  {
   "cell_type": "code",
   "execution_count": 74,
   "id": "a5f6233d",
   "metadata": {},
   "outputs": [
    {
     "name": "stdout",
     "output_type": "stream",
     "text": [
      "2000-01    1.322002\n",
      "2000-02    0.796507\n",
      "2000-03    1.474678\n",
      "Freq: M, dtype: float64 \n",
      "\n"
     ]
    },
    {
     "data": {
      "text/plain": [
       "2000-01-31 23:59:59.999999999    1.322002\n",
       "2000-02-29 23:59:59.999999999    0.796507\n",
       "2000-03-31 23:59:59.999999999    1.474678\n",
       "dtype: float64"
      ]
     },
     "execution_count": 74,
     "metadata": {},
     "output_type": "execute_result"
    }
   ],
   "source": [
    "# 기간을 타임스탬프로 변환\n",
    "import numpy as np\n",
    "rng = pd.period_range('2000-01-01',periods=3, freq='M')\n",
    "ts = pd.Series(np.random.randn(3),index=rng)\n",
    "print(ts,'\\n')\n",
    "ts.to_timestamp(how='end') # 마지막을 기준으로 timestamp로 바꿈"
   ]
  },
  {
   "cell_type": "code",
   "execution_count": 75,
   "id": "bb0f5f0a",
   "metadata": {},
   "outputs": [
    {
     "data": {
      "text/plain": [
       "2001-01-01 00:00:00     0\n",
       "2001-01-01 00:01:00     1\n",
       "2001-01-01 00:02:00     2\n",
       "2001-01-01 00:03:00     3\n",
       "2001-01-01 00:04:00     4\n",
       "2001-01-01 00:05:00     5\n",
       "2001-01-01 00:06:00     6\n",
       "2001-01-01 00:07:00     7\n",
       "2001-01-01 00:08:00     8\n",
       "2001-01-01 00:09:00     9\n",
       "2001-01-01 00:10:00    10\n",
       "2001-01-01 00:11:00    11\n",
       "Freq: T, dtype: int64"
      ]
     },
     "execution_count": 75,
     "metadata": {},
     "output_type": "execute_result"
    }
   ],
   "source": [
    "# Downsampling\n",
    "rng = pd.date_range('2001-01-01',periods=12, freq='T') # T : 분 단위 ### 5T하면 5분 단위\n",
    "ts = pd.Series(np.arange(12), index=rng)\n",
    "ts"
   ]
  },
  {
   "cell_type": "code",
   "execution_count": 76,
   "id": "e8bbe9a6",
   "metadata": {},
   "outputs": [
    {
     "data": {
      "text/plain": [
       "2000-12-31 23:55:00     0\n",
       "2001-01-01 00:00:00    15\n",
       "2001-01-01 00:05:00    40\n",
       "2001-01-01 00:10:00    11\n",
       "Freq: 5T, dtype: int64"
      ]
     },
     "execution_count": 76,
     "metadata": {},
     "output_type": "execute_result"
    }
   ],
   "source": [
    "ts.resample('5min',closed='right').sum() # closed='right' 를 설정해주면 기준이 바뀜\n",
    "### 2000-12-31 23:55:00 ~ 5분은 없으니 0\n",
    "### 2001-01-01 00:00:00 ~ 2001-01-01 00:05:00 다 더해서 15\n",
    "### 2001-01-01 00:00:06 ~ 2001-01-01 00:10:00  다 더해서 40"
   ]
  },
  {
   "cell_type": "code",
   "execution_count": 77,
   "id": "0e4649d0",
   "metadata": {},
   "outputs": [
    {
     "data": {
      "text/plain": [
       "2001-01-01 00:00:00    10\n",
       "2001-01-01 00:05:00    35\n",
       "2001-01-01 00:10:00    21\n",
       "Freq: 5T, dtype: int64"
      ]
     },
     "execution_count": 77,
     "metadata": {},
     "output_type": "execute_result"
    }
   ],
   "source": [
    "ts.resample('5min').sum()"
   ]
  },
  {
   "cell_type": "code",
   "execution_count": 78,
   "id": "865ee9eb",
   "metadata": {},
   "outputs": [
    {
     "data": {
      "text/html": [
       "<div>\n",
       "<style scoped>\n",
       "    .dataframe tbody tr th:only-of-type {\n",
       "        vertical-align: middle;\n",
       "    }\n",
       "\n",
       "    .dataframe tbody tr th {\n",
       "        vertical-align: top;\n",
       "    }\n",
       "\n",
       "    .dataframe thead th {\n",
       "        text-align: right;\n",
       "    }\n",
       "</style>\n",
       "<table border=\"1\" class=\"dataframe\">\n",
       "  <thead>\n",
       "    <tr style=\"text-align: right;\">\n",
       "      <th></th>\n",
       "      <th>open</th>\n",
       "      <th>high</th>\n",
       "      <th>low</th>\n",
       "      <th>close</th>\n",
       "    </tr>\n",
       "  </thead>\n",
       "  <tbody>\n",
       "    <tr>\n",
       "      <th>2001-01-01 00:00:00</th>\n",
       "      <td>0</td>\n",
       "      <td>4</td>\n",
       "      <td>0</td>\n",
       "      <td>4</td>\n",
       "    </tr>\n",
       "    <tr>\n",
       "      <th>2001-01-01 00:05:00</th>\n",
       "      <td>5</td>\n",
       "      <td>9</td>\n",
       "      <td>5</td>\n",
       "      <td>9</td>\n",
       "    </tr>\n",
       "    <tr>\n",
       "      <th>2001-01-01 00:10:00</th>\n",
       "      <td>10</td>\n",
       "      <td>11</td>\n",
       "      <td>10</td>\n",
       "      <td>11</td>\n",
       "    </tr>\n",
       "  </tbody>\n",
       "</table>\n",
       "</div>"
      ],
      "text/plain": [
       "                     open  high  low  close\n",
       "2001-01-01 00:00:00     0     4    0      4\n",
       "2001-01-01 00:05:00     5     9    5      9\n",
       "2001-01-01 00:10:00    10    11   10     11"
      ]
     },
     "execution_count": 78,
     "metadata": {},
     "output_type": "execute_result"
    }
   ],
   "source": [
    "ts.resample('5min').ohlc()"
   ]
  },
  {
   "cell_type": "code",
   "execution_count": 79,
   "id": "436e0606",
   "metadata": {},
   "outputs": [
    {
     "data": {
      "text/html": [
       "<div>\n",
       "<style scoped>\n",
       "    .dataframe tbody tr th:only-of-type {\n",
       "        vertical-align: middle;\n",
       "    }\n",
       "\n",
       "    .dataframe tbody tr th {\n",
       "        vertical-align: top;\n",
       "    }\n",
       "\n",
       "    .dataframe thead th {\n",
       "        text-align: right;\n",
       "    }\n",
       "</style>\n",
       "<table border=\"1\" class=\"dataframe\">\n",
       "  <thead>\n",
       "    <tr style=\"text-align: right;\">\n",
       "      <th></th>\n",
       "      <th>Colorado</th>\n",
       "      <th>Texas</th>\n",
       "      <th>New York</th>\n",
       "      <th>Ohio</th>\n",
       "    </tr>\n",
       "  </thead>\n",
       "  <tbody>\n",
       "    <tr>\n",
       "      <th>2000-01-05</th>\n",
       "      <td>-1.043670</td>\n",
       "      <td>0.893190</td>\n",
       "      <td>0.556636</td>\n",
       "      <td>1.263584</td>\n",
       "    </tr>\n",
       "    <tr>\n",
       "      <th>2000-01-12</th>\n",
       "      <td>3.407826</td>\n",
       "      <td>0.442196</td>\n",
       "      <td>1.219923</td>\n",
       "      <td>0.553873</td>\n",
       "    </tr>\n",
       "  </tbody>\n",
       "</table>\n",
       "</div>"
      ],
      "text/plain": [
       "            Colorado     Texas  New York      Ohio\n",
       "2000-01-05 -1.043670  0.893190  0.556636  1.263584\n",
       "2000-01-12  3.407826  0.442196  1.219923  0.553873"
      ]
     },
     "execution_count": 79,
     "metadata": {},
     "output_type": "execute_result"
    }
   ],
   "source": [
    "frame = pd.DataFrame(np.random.randn(2,4),\n",
    "                    index=pd.date_range('1/1/2000',periods=2,\n",
    "                                       freq='W-WED'),\n",
    "                    columns=['Colorado','Texas','New York','Ohio'])\n",
    "frame"
   ]
  },
  {
   "cell_type": "code",
   "execution_count": 80,
   "id": "6967fc48",
   "metadata": {},
   "outputs": [
    {
     "data": {
      "text/html": [
       "<div>\n",
       "<style scoped>\n",
       "    .dataframe tbody tr th:only-of-type {\n",
       "        vertical-align: middle;\n",
       "    }\n",
       "\n",
       "    .dataframe tbody tr th {\n",
       "        vertical-align: top;\n",
       "    }\n",
       "\n",
       "    .dataframe thead th {\n",
       "        text-align: right;\n",
       "    }\n",
       "</style>\n",
       "<table border=\"1\" class=\"dataframe\">\n",
       "  <thead>\n",
       "    <tr style=\"text-align: right;\">\n",
       "      <th></th>\n",
       "      <th>Colorado</th>\n",
       "      <th>Texas</th>\n",
       "      <th>New York</th>\n",
       "      <th>Ohio</th>\n",
       "    </tr>\n",
       "  </thead>\n",
       "  <tbody>\n",
       "    <tr>\n",
       "      <th>2000-01-05</th>\n",
       "      <td>-1.043670</td>\n",
       "      <td>0.893190</td>\n",
       "      <td>0.556636</td>\n",
       "      <td>1.263584</td>\n",
       "    </tr>\n",
       "    <tr>\n",
       "      <th>2000-01-06</th>\n",
       "      <td>NaN</td>\n",
       "      <td>NaN</td>\n",
       "      <td>NaN</td>\n",
       "      <td>NaN</td>\n",
       "    </tr>\n",
       "    <tr>\n",
       "      <th>2000-01-07</th>\n",
       "      <td>NaN</td>\n",
       "      <td>NaN</td>\n",
       "      <td>NaN</td>\n",
       "      <td>NaN</td>\n",
       "    </tr>\n",
       "    <tr>\n",
       "      <th>2000-01-08</th>\n",
       "      <td>NaN</td>\n",
       "      <td>NaN</td>\n",
       "      <td>NaN</td>\n",
       "      <td>NaN</td>\n",
       "    </tr>\n",
       "    <tr>\n",
       "      <th>2000-01-09</th>\n",
       "      <td>NaN</td>\n",
       "      <td>NaN</td>\n",
       "      <td>NaN</td>\n",
       "      <td>NaN</td>\n",
       "    </tr>\n",
       "    <tr>\n",
       "      <th>2000-01-10</th>\n",
       "      <td>NaN</td>\n",
       "      <td>NaN</td>\n",
       "      <td>NaN</td>\n",
       "      <td>NaN</td>\n",
       "    </tr>\n",
       "    <tr>\n",
       "      <th>2000-01-11</th>\n",
       "      <td>NaN</td>\n",
       "      <td>NaN</td>\n",
       "      <td>NaN</td>\n",
       "      <td>NaN</td>\n",
       "    </tr>\n",
       "    <tr>\n",
       "      <th>2000-01-12</th>\n",
       "      <td>3.407826</td>\n",
       "      <td>0.442196</td>\n",
       "      <td>1.219923</td>\n",
       "      <td>0.553873</td>\n",
       "    </tr>\n",
       "  </tbody>\n",
       "</table>\n",
       "</div>"
      ],
      "text/plain": [
       "            Colorado     Texas  New York      Ohio\n",
       "2000-01-05 -1.043670  0.893190  0.556636  1.263584\n",
       "2000-01-06       NaN       NaN       NaN       NaN\n",
       "2000-01-07       NaN       NaN       NaN       NaN\n",
       "2000-01-08       NaN       NaN       NaN       NaN\n",
       "2000-01-09       NaN       NaN       NaN       NaN\n",
       "2000-01-10       NaN       NaN       NaN       NaN\n",
       "2000-01-11       NaN       NaN       NaN       NaN\n",
       "2000-01-12  3.407826  0.442196  1.219923  0.553873"
      ]
     },
     "execution_count": 80,
     "metadata": {},
     "output_type": "execute_result"
    }
   ],
   "source": [
    "df_daily = frame.resample('D').asfreq() # frame 은 데이터 2개 있음. 없는 곳은 NaN으로 나옴\n",
    "df_daily"
   ]
  },
  {
   "cell_type": "code",
   "execution_count": 81,
   "id": "a411ca89",
   "metadata": {},
   "outputs": [
    {
     "data": {
      "text/html": [
       "<div>\n",
       "<style scoped>\n",
       "    .dataframe tbody tr th:only-of-type {\n",
       "        vertical-align: middle;\n",
       "    }\n",
       "\n",
       "    .dataframe tbody tr th {\n",
       "        vertical-align: top;\n",
       "    }\n",
       "\n",
       "    .dataframe thead th {\n",
       "        text-align: right;\n",
       "    }\n",
       "</style>\n",
       "<table border=\"1\" class=\"dataframe\">\n",
       "  <thead>\n",
       "    <tr style=\"text-align: right;\">\n",
       "      <th></th>\n",
       "      <th>Colorado</th>\n",
       "      <th>Texas</th>\n",
       "      <th>New York</th>\n",
       "      <th>Ohio</th>\n",
       "    </tr>\n",
       "  </thead>\n",
       "  <tbody>\n",
       "    <tr>\n",
       "      <th>2000-01-05</th>\n",
       "      <td>-1.043670</td>\n",
       "      <td>0.893190</td>\n",
       "      <td>0.556636</td>\n",
       "      <td>1.263584</td>\n",
       "    </tr>\n",
       "    <tr>\n",
       "      <th>2000-01-06</th>\n",
       "      <td>-1.043670</td>\n",
       "      <td>0.893190</td>\n",
       "      <td>0.556636</td>\n",
       "      <td>1.263584</td>\n",
       "    </tr>\n",
       "    <tr>\n",
       "      <th>2000-01-07</th>\n",
       "      <td>-1.043670</td>\n",
       "      <td>0.893190</td>\n",
       "      <td>0.556636</td>\n",
       "      <td>1.263584</td>\n",
       "    </tr>\n",
       "    <tr>\n",
       "      <th>2000-01-08</th>\n",
       "      <td>-1.043670</td>\n",
       "      <td>0.893190</td>\n",
       "      <td>0.556636</td>\n",
       "      <td>1.263584</td>\n",
       "    </tr>\n",
       "    <tr>\n",
       "      <th>2000-01-09</th>\n",
       "      <td>-1.043670</td>\n",
       "      <td>0.893190</td>\n",
       "      <td>0.556636</td>\n",
       "      <td>1.263584</td>\n",
       "    </tr>\n",
       "    <tr>\n",
       "      <th>2000-01-10</th>\n",
       "      <td>-1.043670</td>\n",
       "      <td>0.893190</td>\n",
       "      <td>0.556636</td>\n",
       "      <td>1.263584</td>\n",
       "    </tr>\n",
       "    <tr>\n",
       "      <th>2000-01-11</th>\n",
       "      <td>-1.043670</td>\n",
       "      <td>0.893190</td>\n",
       "      <td>0.556636</td>\n",
       "      <td>1.263584</td>\n",
       "    </tr>\n",
       "    <tr>\n",
       "      <th>2000-01-12</th>\n",
       "      <td>3.407826</td>\n",
       "      <td>0.442196</td>\n",
       "      <td>1.219923</td>\n",
       "      <td>0.553873</td>\n",
       "    </tr>\n",
       "  </tbody>\n",
       "</table>\n",
       "</div>"
      ],
      "text/plain": [
       "            Colorado     Texas  New York      Ohio\n",
       "2000-01-05 -1.043670  0.893190  0.556636  1.263584\n",
       "2000-01-06 -1.043670  0.893190  0.556636  1.263584\n",
       "2000-01-07 -1.043670  0.893190  0.556636  1.263584\n",
       "2000-01-08 -1.043670  0.893190  0.556636  1.263584\n",
       "2000-01-09 -1.043670  0.893190  0.556636  1.263584\n",
       "2000-01-10 -1.043670  0.893190  0.556636  1.263584\n",
       "2000-01-11 -1.043670  0.893190  0.556636  1.263584\n",
       "2000-01-12  3.407826  0.442196  1.219923  0.553873"
      ]
     },
     "execution_count": 81,
     "metadata": {},
     "output_type": "execute_result"
    }
   ],
   "source": [
    "frame.resample('D').ffill() # NaN을 앞에 있는 값으로 채움"
   ]
  },
  {
   "cell_type": "code",
   "execution_count": 82,
   "id": "3cfee875",
   "metadata": {},
   "outputs": [
    {
     "data": {
      "text/html": [
       "<div>\n",
       "<style scoped>\n",
       "    .dataframe tbody tr th:only-of-type {\n",
       "        vertical-align: middle;\n",
       "    }\n",
       "\n",
       "    .dataframe tbody tr th {\n",
       "        vertical-align: top;\n",
       "    }\n",
       "\n",
       "    .dataframe thead th {\n",
       "        text-align: right;\n",
       "    }\n",
       "</style>\n",
       "<table border=\"1\" class=\"dataframe\">\n",
       "  <thead>\n",
       "    <tr style=\"text-align: right;\">\n",
       "      <th></th>\n",
       "      <th>Colorado</th>\n",
       "      <th>Texas</th>\n",
       "      <th>New York</th>\n",
       "      <th>Ohio</th>\n",
       "    </tr>\n",
       "  </thead>\n",
       "  <tbody>\n",
       "    <tr>\n",
       "      <th>2000-01-05</th>\n",
       "      <td>-1.043670</td>\n",
       "      <td>0.893190</td>\n",
       "      <td>0.556636</td>\n",
       "      <td>1.263584</td>\n",
       "    </tr>\n",
       "    <tr>\n",
       "      <th>2000-01-06</th>\n",
       "      <td>-1.043670</td>\n",
       "      <td>0.893190</td>\n",
       "      <td>0.556636</td>\n",
       "      <td>1.263584</td>\n",
       "    </tr>\n",
       "    <tr>\n",
       "      <th>2000-01-07</th>\n",
       "      <td>-1.043670</td>\n",
       "      <td>0.893190</td>\n",
       "      <td>0.556636</td>\n",
       "      <td>1.263584</td>\n",
       "    </tr>\n",
       "    <tr>\n",
       "      <th>2000-01-08</th>\n",
       "      <td>NaN</td>\n",
       "      <td>NaN</td>\n",
       "      <td>NaN</td>\n",
       "      <td>NaN</td>\n",
       "    </tr>\n",
       "    <tr>\n",
       "      <th>2000-01-09</th>\n",
       "      <td>NaN</td>\n",
       "      <td>NaN</td>\n",
       "      <td>NaN</td>\n",
       "      <td>NaN</td>\n",
       "    </tr>\n",
       "    <tr>\n",
       "      <th>2000-01-10</th>\n",
       "      <td>NaN</td>\n",
       "      <td>NaN</td>\n",
       "      <td>NaN</td>\n",
       "      <td>NaN</td>\n",
       "    </tr>\n",
       "    <tr>\n",
       "      <th>2000-01-11</th>\n",
       "      <td>NaN</td>\n",
       "      <td>NaN</td>\n",
       "      <td>NaN</td>\n",
       "      <td>NaN</td>\n",
       "    </tr>\n",
       "    <tr>\n",
       "      <th>2000-01-12</th>\n",
       "      <td>3.407826</td>\n",
       "      <td>0.442196</td>\n",
       "      <td>1.219923</td>\n",
       "      <td>0.553873</td>\n",
       "    </tr>\n",
       "  </tbody>\n",
       "</table>\n",
       "</div>"
      ],
      "text/plain": [
       "            Colorado     Texas  New York      Ohio\n",
       "2000-01-05 -1.043670  0.893190  0.556636  1.263584\n",
       "2000-01-06 -1.043670  0.893190  0.556636  1.263584\n",
       "2000-01-07 -1.043670  0.893190  0.556636  1.263584\n",
       "2000-01-08       NaN       NaN       NaN       NaN\n",
       "2000-01-09       NaN       NaN       NaN       NaN\n",
       "2000-01-10       NaN       NaN       NaN       NaN\n",
       "2000-01-11       NaN       NaN       NaN       NaN\n",
       "2000-01-12  3.407826  0.442196  1.219923  0.553873"
      ]
     },
     "execution_count": 82,
     "metadata": {},
     "output_type": "execute_result"
    }
   ],
   "source": [
    "frame.resample('D').ffill(limit=2) # 앞에 두개만 제한해서 채우기"
   ]
  }
 ],
 "metadata": {
  "kernelspec": {
   "display_name": "Python 3 (ipykernel)",
   "language": "python",
   "name": "python3"
  },
  "language_info": {
   "codemirror_mode": {
    "name": "ipython",
    "version": 3
   },
   "file_extension": ".py",
   "mimetype": "text/x-python",
   "name": "python",
   "nbconvert_exporter": "python",
   "pygments_lexer": "ipython3",
   "version": "3.8.8"
  }
 },
 "nbformat": 4,
 "nbformat_minor": 5
}
